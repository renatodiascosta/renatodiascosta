{
  "nbformat": 4,
  "nbformat_minor": 0,
  "metadata": {
    "colab": {
      "provenance": [],
      "collapsed_sections": [
        "iy71In5H_0yQ",
        "iac3YZ1G8mMV",
        "A02hsan39B41",
        "VPBnobYEtwZu",
        "QB4bNVQ-Lj2z",
        "2EB8mvK5t4R2",
        "bvVvzyK-MVT0",
        "6NOQaWFpJ_gb",
        "5PJjecKLPo6K",
        "68IKJluuPsLs",
        "90vQSGlWRUEw",
        "eYlAUPM7SC_B",
        "7pHwXMYPTNlB",
        "CSMHk4TzUBbV",
        "4o0aS6scWhdj",
        "oxKxIQ29-Itp",
        "dxSRmCDb-tnJ",
        "Q4lieumu_mZY",
        "q_yd91lGFVC9",
        "URqirN_KLboO",
        "l34zeJgTnAUB",
        "jpN4tXE9oiUm",
        "z8l19eEFZ_UM",
        "pBCPstDqgPPW",
        "xsn0W2ZxC_vC",
        "ZFPVr1HrXVsw"
      ],
      "mount_file_id": "1LHK952nWR9kvfgPuGf7yys73liqQHEut",
      "authorship_tag": "ABX9TyPfd6oLCfbxLGTlCaO9x8Fb",
      "include_colab_link": true
    },
    "kernelspec": {
      "name": "python3",
      "display_name": "Python 3"
    },
    "language_info": {
      "name": "python"
    }
  },
  "cells": [
    {
      "cell_type": "markdown",
      "metadata": {
        "id": "view-in-github",
        "colab_type": "text"
      },
      "source": [
        "<a href=\"https://colab.research.google.com/github/renatodiascosta/renatodiascosta/blob/main/Equipment_failure.ipynb\" target=\"_parent\"><img src=\"https://colab.research.google.com/assets/colab-badge.svg\" alt=\"Open In Colab\"/></a>"
      ]
    },
    {
      "cell_type": "markdown",
      "source": [
        "__TECHNICAL TEST FOR A JUNIOR DATA SCIENTIST APPLICATION AT SHAPE__\n",
        "\n",
        "__APPLICANT: RENATO DIAS COSTA__"
      ],
      "metadata": {
        "id": "lvILiViukcK0"
      }
    },
    {
      "cell_type": "markdown",
      "source": [
        "#Introduction"
      ],
      "metadata": {
        "id": "l3BBXu5H_t6F"
      }
    },
    {
      "cell_type": "markdown",
      "source": [
        "In this technical test, our assignment is to predict equipment failure in an FPSO based on the equipment's setup configuration and on physical parameters measured by sensors (temperature, pressure, vibration and frequency)."
      ],
      "metadata": {
        "id": "_HMp53RSJ9iL"
      }
    },
    {
      "cell_type": "markdown",
      "source": [
        "- The set configuration is represented by two variables, namely ```Preset_1``` and ```Preset_2```.\n",
        "- These two variables will be called **_setup variables_**.\n",
        "- The sensor parameters are registered in six variables, namely ```Temperature```, ```Pressure```, ```VibrationX```, ```VibrationY```, ```VibrationZ``` and ```Frequency```.\n",
        "- These six variables will be called **_root cause variables_**."
      ],
      "metadata": {
        "id": "rRhDrPwjL0nn"
      }
    },
    {
      "cell_type": "markdown",
      "source": [
        "We need to answer 5 questions:\n",
        "* __Question 1:__ Calculate how many times the equipment has failed.\n",
        "\n",
        "* __Question 2:__ Categorize equipment failures by setup configurations (```Preset_1``` and ```Preset_2```).\n",
        "\n",
        "* __Question 3:__ Categorize equipment failures by their nature/root cause according to parameter readings (```Temperature```, ```Pressure``` etc.).\n",
        "\n",
        "* __Question 4:__ Create a model using the technique you think is most appropriate and measure its performance.\n",
        "\n",
        "* __Question 5:__ Analyze variable importance.\n"
      ],
      "metadata": {
        "id": "v_pxljS1Nezz"
      }
    },
    {
      "cell_type": "markdown",
      "source": [
        "Before addressing the questions, we start by making the necessary **library imports**, **loading the data** and **exploring the data**.\n",
        "\n",
        "After answering the questions, we write a **final analysis** to summarize what we have observed and concluded, and close the assignment with some final remarks."
      ],
      "metadata": {
        "id": "hrnk5A0KO4Oq"
      }
    },
    {
      "cell_type": "markdown",
      "source": [
        "#Library imports"
      ],
      "metadata": {
        "id": "iy71In5H_0yQ"
      }
    },
    {
      "cell_type": "code",
      "source": [
        "!pip install plotly --upgrade"
      ],
      "metadata": {
        "colab": {
          "base_uri": "https://localhost:8080/"
        },
        "id": "D26rOZGRBwIy",
        "outputId": "a8a59553-c205-4a71-a82e-7040623ebb31"
      },
      "execution_count": null,
      "outputs": [
        {
          "output_type": "stream",
          "name": "stdout",
          "text": [
            "Looking in indexes: https://pypi.org/simple, https://us-python.pkg.dev/colab-wheels/public/simple/\n",
            "Requirement already satisfied: plotly in /usr/local/lib/python3.8/dist-packages (5.13.1)\n",
            "Requirement already satisfied: tenacity>=6.2.0 in /usr/local/lib/python3.8/dist-packages (from plotly) (8.2.2)\n"
          ]
        }
      ]
    },
    {
      "cell_type": "code",
      "execution_count": null,
      "metadata": {
        "id": "q4x6bAh3qiR3"
      },
      "outputs": [],
      "source": [
        "import pandas as pd\n",
        "import numpy as np\n",
        "import seaborn as sns\n",
        "import matplotlib.pyplot as plt \n",
        "import plotly.express as px\n",
        "\n",
        "from sklearn.preprocessing import StandardScaler\n",
        "from sklearn.naive_bayes import GaussianNB\n",
        "from sklearn.model_selection import train_test_split\n",
        "\n",
        "from sklearn.tree import DecisionTreeClassifier\n",
        "from sklearn.neighbors import KNeighborsClassifier\n",
        "from sklearn.linear_model import LogisticRegression\n",
        "from sklearn.svm import SVC\n",
        "\n",
        "from sklearn.metrics import accuracy_score, classification_report, confusion_matrix\n"
      ]
    },
    {
      "cell_type": "markdown",
      "source": [
        "#Loading Data"
      ],
      "metadata": {
        "id": "iac3YZ1G8mMV"
      }
    },
    {
      "cell_type": "markdown",
      "source": [
        "We load the .xlsx file provided by the recruiter:"
      ],
      "metadata": {
        "id": "p71f4UfRlJBr"
      }
    },
    {
      "cell_type": "code",
      "source": [
        "df = pd.read_excel('/content/drive/MyDrive/Colab Notebooks/Technical test Shape/O_G_Equipment_Data.xlsx')"
      ],
      "metadata": {
        "id": "SxyVBcNWzh-e"
      },
      "execution_count": null,
      "outputs": []
    },
    {
      "cell_type": "code",
      "source": [
        "df"
      ],
      "metadata": {
        "colab": {
          "base_uri": "https://localhost:8080/"
        },
        "id": "fQJk2l90zs_g",
        "outputId": "7a4854c7-0a0c-47db-ccd7-c6e8e56ed117"
      },
      "execution_count": null,
      "outputs": [
        {
          "output_type": "execute_result",
          "data": {
            "text/plain": [
              "     Cycle  Preset_1  Preset_2  Temperature    Pressure  VibrationX  \\\n",
              "0        1         3         6    44.235186   47.657254   46.441769   \n",
              "1        2         2         4    60.807234   63.172076   62.005951   \n",
              "2        3         2         1    79.027536   83.032190   82.642110   \n",
              "3        4         2         3    79.716242  100.508634  122.362321   \n",
              "4        5         2         5    39.989054   51.764833   42.514302   \n",
              "..     ...       ...       ...          ...         ...         ...   \n",
              "795    796         2         6    50.469522   98.235421  151.585252   \n",
              "796    797         1         4    49.985270  160.433640  110.953010   \n",
              "797    798         1         4    79.777294  110.535405   61.334995   \n",
              "798    799         2         8    79.360314  159.985443   61.762879   \n",
              "799    800         3         1    80.854011  110.543701  121.032227   \n",
              "\n",
              "     VibrationY  VibrationZ   Frequency   Fail  \n",
              "0     64.820327   66.454520   44.483250  False  \n",
              "1     80.714431   81.246405   60.228715  False  \n",
              "2     98.254386   98.785196   80.993479  False  \n",
              "3    121.363429  118.652538   80.315567  False  \n",
              "4     61.037910   50.716469   64.245166  False  \n",
              "..          ...         ...         ...    ...  \n",
              "795   99.341380  148.838481   49.841400   True  \n",
              "796  160.777175  109.917566  110.919290   True  \n",
              "797  149.577811  129.463843   70.853353   True  \n",
              "798  169.773831  130.213426   80.113540   True  \n",
              "799  131.719473   90.331155   71.261717   True  \n",
              "\n",
              "[800 rows x 10 columns]"
            ],
            "text/html": [
              "\n",
              "  <div id=\"df-e69d28fb-7543-4353-9b5e-d1a2b827e26c\">\n",
              "    <div class=\"colab-df-container\">\n",
              "      <div>\n",
              "<style scoped>\n",
              "    .dataframe tbody tr th:only-of-type {\n",
              "        vertical-align: middle;\n",
              "    }\n",
              "\n",
              "    .dataframe tbody tr th {\n",
              "        vertical-align: top;\n",
              "    }\n",
              "\n",
              "    .dataframe thead th {\n",
              "        text-align: right;\n",
              "    }\n",
              "</style>\n",
              "<table border=\"1\" class=\"dataframe\">\n",
              "  <thead>\n",
              "    <tr style=\"text-align: right;\">\n",
              "      <th></th>\n",
              "      <th>Cycle</th>\n",
              "      <th>Preset_1</th>\n",
              "      <th>Preset_2</th>\n",
              "      <th>Temperature</th>\n",
              "      <th>Pressure</th>\n",
              "      <th>VibrationX</th>\n",
              "      <th>VibrationY</th>\n",
              "      <th>VibrationZ</th>\n",
              "      <th>Frequency</th>\n",
              "      <th>Fail</th>\n",
              "    </tr>\n",
              "  </thead>\n",
              "  <tbody>\n",
              "    <tr>\n",
              "      <th>0</th>\n",
              "      <td>1</td>\n",
              "      <td>3</td>\n",
              "      <td>6</td>\n",
              "      <td>44.235186</td>\n",
              "      <td>47.657254</td>\n",
              "      <td>46.441769</td>\n",
              "      <td>64.820327</td>\n",
              "      <td>66.454520</td>\n",
              "      <td>44.483250</td>\n",
              "      <td>False</td>\n",
              "    </tr>\n",
              "    <tr>\n",
              "      <th>1</th>\n",
              "      <td>2</td>\n",
              "      <td>2</td>\n",
              "      <td>4</td>\n",
              "      <td>60.807234</td>\n",
              "      <td>63.172076</td>\n",
              "      <td>62.005951</td>\n",
              "      <td>80.714431</td>\n",
              "      <td>81.246405</td>\n",
              "      <td>60.228715</td>\n",
              "      <td>False</td>\n",
              "    </tr>\n",
              "    <tr>\n",
              "      <th>2</th>\n",
              "      <td>3</td>\n",
              "      <td>2</td>\n",
              "      <td>1</td>\n",
              "      <td>79.027536</td>\n",
              "      <td>83.032190</td>\n",
              "      <td>82.642110</td>\n",
              "      <td>98.254386</td>\n",
              "      <td>98.785196</td>\n",
              "      <td>80.993479</td>\n",
              "      <td>False</td>\n",
              "    </tr>\n",
              "    <tr>\n",
              "      <th>3</th>\n",
              "      <td>4</td>\n",
              "      <td>2</td>\n",
              "      <td>3</td>\n",
              "      <td>79.716242</td>\n",
              "      <td>100.508634</td>\n",
              "      <td>122.362321</td>\n",
              "      <td>121.363429</td>\n",
              "      <td>118.652538</td>\n",
              "      <td>80.315567</td>\n",
              "      <td>False</td>\n",
              "    </tr>\n",
              "    <tr>\n",
              "      <th>4</th>\n",
              "      <td>5</td>\n",
              "      <td>2</td>\n",
              "      <td>5</td>\n",
              "      <td>39.989054</td>\n",
              "      <td>51.764833</td>\n",
              "      <td>42.514302</td>\n",
              "      <td>61.037910</td>\n",
              "      <td>50.716469</td>\n",
              "      <td>64.245166</td>\n",
              "      <td>False</td>\n",
              "    </tr>\n",
              "    <tr>\n",
              "      <th>...</th>\n",
              "      <td>...</td>\n",
              "      <td>...</td>\n",
              "      <td>...</td>\n",
              "      <td>...</td>\n",
              "      <td>...</td>\n",
              "      <td>...</td>\n",
              "      <td>...</td>\n",
              "      <td>...</td>\n",
              "      <td>...</td>\n",
              "      <td>...</td>\n",
              "    </tr>\n",
              "    <tr>\n",
              "      <th>795</th>\n",
              "      <td>796</td>\n",
              "      <td>2</td>\n",
              "      <td>6</td>\n",
              "      <td>50.469522</td>\n",
              "      <td>98.235421</td>\n",
              "      <td>151.585252</td>\n",
              "      <td>99.341380</td>\n",
              "      <td>148.838481</td>\n",
              "      <td>49.841400</td>\n",
              "      <td>True</td>\n",
              "    </tr>\n",
              "    <tr>\n",
              "      <th>796</th>\n",
              "      <td>797</td>\n",
              "      <td>1</td>\n",
              "      <td>4</td>\n",
              "      <td>49.985270</td>\n",
              "      <td>160.433640</td>\n",
              "      <td>110.953010</td>\n",
              "      <td>160.777175</td>\n",
              "      <td>109.917566</td>\n",
              "      <td>110.919290</td>\n",
              "      <td>True</td>\n",
              "    </tr>\n",
              "    <tr>\n",
              "      <th>797</th>\n",
              "      <td>798</td>\n",
              "      <td>1</td>\n",
              "      <td>4</td>\n",
              "      <td>79.777294</td>\n",
              "      <td>110.535405</td>\n",
              "      <td>61.334995</td>\n",
              "      <td>149.577811</td>\n",
              "      <td>129.463843</td>\n",
              "      <td>70.853353</td>\n",
              "      <td>True</td>\n",
              "    </tr>\n",
              "    <tr>\n",
              "      <th>798</th>\n",
              "      <td>799</td>\n",
              "      <td>2</td>\n",
              "      <td>8</td>\n",
              "      <td>79.360314</td>\n",
              "      <td>159.985443</td>\n",
              "      <td>61.762879</td>\n",
              "      <td>169.773831</td>\n",
              "      <td>130.213426</td>\n",
              "      <td>80.113540</td>\n",
              "      <td>True</td>\n",
              "    </tr>\n",
              "    <tr>\n",
              "      <th>799</th>\n",
              "      <td>800</td>\n",
              "      <td>3</td>\n",
              "      <td>1</td>\n",
              "      <td>80.854011</td>\n",
              "      <td>110.543701</td>\n",
              "      <td>121.032227</td>\n",
              "      <td>131.719473</td>\n",
              "      <td>90.331155</td>\n",
              "      <td>71.261717</td>\n",
              "      <td>True</td>\n",
              "    </tr>\n",
              "  </tbody>\n",
              "</table>\n",
              "<p>800 rows × 10 columns</p>\n",
              "</div>\n",
              "      <button class=\"colab-df-convert\" onclick=\"convertToInteractive('df-e69d28fb-7543-4353-9b5e-d1a2b827e26c')\"\n",
              "              title=\"Convert this dataframe to an interactive table.\"\n",
              "              style=\"display:none;\">\n",
              "        \n",
              "  <svg xmlns=\"http://www.w3.org/2000/svg\" height=\"24px\"viewBox=\"0 0 24 24\"\n",
              "       width=\"24px\">\n",
              "    <path d=\"M0 0h24v24H0V0z\" fill=\"none\"/>\n",
              "    <path d=\"M18.56 5.44l.94 2.06.94-2.06 2.06-.94-2.06-.94-.94-2.06-.94 2.06-2.06.94zm-11 1L8.5 8.5l.94-2.06 2.06-.94-2.06-.94L8.5 2.5l-.94 2.06-2.06.94zm10 10l.94 2.06.94-2.06 2.06-.94-2.06-.94-.94-2.06-.94 2.06-2.06.94z\"/><path d=\"M17.41 7.96l-1.37-1.37c-.4-.4-.92-.59-1.43-.59-.52 0-1.04.2-1.43.59L10.3 9.45l-7.72 7.72c-.78.78-.78 2.05 0 2.83L4 21.41c.39.39.9.59 1.41.59.51 0 1.02-.2 1.41-.59l7.78-7.78 2.81-2.81c.8-.78.8-2.07 0-2.86zM5.41 20L4 18.59l7.72-7.72 1.47 1.35L5.41 20z\"/>\n",
              "  </svg>\n",
              "      </button>\n",
              "      \n",
              "  <style>\n",
              "    .colab-df-container {\n",
              "      display:flex;\n",
              "      flex-wrap:wrap;\n",
              "      gap: 12px;\n",
              "    }\n",
              "\n",
              "    .colab-df-convert {\n",
              "      background-color: #E8F0FE;\n",
              "      border: none;\n",
              "      border-radius: 50%;\n",
              "      cursor: pointer;\n",
              "      display: none;\n",
              "      fill: #1967D2;\n",
              "      height: 32px;\n",
              "      padding: 0 0 0 0;\n",
              "      width: 32px;\n",
              "    }\n",
              "\n",
              "    .colab-df-convert:hover {\n",
              "      background-color: #E2EBFA;\n",
              "      box-shadow: 0px 1px 2px rgba(60, 64, 67, 0.3), 0px 1px 3px 1px rgba(60, 64, 67, 0.15);\n",
              "      fill: #174EA6;\n",
              "    }\n",
              "\n",
              "    [theme=dark] .colab-df-convert {\n",
              "      background-color: #3B4455;\n",
              "      fill: #D2E3FC;\n",
              "    }\n",
              "\n",
              "    [theme=dark] .colab-df-convert:hover {\n",
              "      background-color: #434B5C;\n",
              "      box-shadow: 0px 1px 3px 1px rgba(0, 0, 0, 0.15);\n",
              "      filter: drop-shadow(0px 1px 2px rgba(0, 0, 0, 0.3));\n",
              "      fill: #FFFFFF;\n",
              "    }\n",
              "  </style>\n",
              "\n",
              "      <script>\n",
              "        const buttonEl =\n",
              "          document.querySelector('#df-e69d28fb-7543-4353-9b5e-d1a2b827e26c button.colab-df-convert');\n",
              "        buttonEl.style.display =\n",
              "          google.colab.kernel.accessAllowed ? 'block' : 'none';\n",
              "\n",
              "        async function convertToInteractive(key) {\n",
              "          const element = document.querySelector('#df-e69d28fb-7543-4353-9b5e-d1a2b827e26c');\n",
              "          const dataTable =\n",
              "            await google.colab.kernel.invokeFunction('convertToInteractive',\n",
              "                                                     [key], {});\n",
              "          if (!dataTable) return;\n",
              "\n",
              "          const docLinkHtml = 'Like what you see? Visit the ' +\n",
              "            '<a target=\"_blank\" href=https://colab.research.google.com/notebooks/data_table.ipynb>data table notebook</a>'\n",
              "            + ' to learn more about interactive tables.';\n",
              "          element.innerHTML = '';\n",
              "          dataTable['output_type'] = 'display_data';\n",
              "          await google.colab.output.renderOutput(dataTable, element);\n",
              "          const docLink = document.createElement('div');\n",
              "          docLink.innerHTML = docLinkHtml;\n",
              "          element.appendChild(docLink);\n",
              "        }\n",
              "      </script>\n",
              "    </div>\n",
              "  </div>\n",
              "  "
            ]
          },
          "metadata": {},
          "execution_count": 4
        }
      ]
    },
    {
      "cell_type": "markdown",
      "source": [
        "#Data Exploration"
      ],
      "metadata": {
        "id": "I1huB2PG8q3O"
      }
    },
    {
      "cell_type": "markdown",
      "source": [
        "##Basic information on the dataset"
      ],
      "metadata": {
        "id": "R-Rk49bMKpkb"
      }
    },
    {
      "cell_type": "markdown",
      "source": [
        "We begin by counting rows and columns and getting basic statistical information on numerical variables (range, mean, standard deviation etc.)"
      ],
      "metadata": {
        "id": "IbvCEfkVBOhn"
      }
    },
    {
      "cell_type": "code",
      "source": [
        "df.shape # Number of rows and columns, respectively."
      ],
      "metadata": {
        "colab": {
          "base_uri": "https://localhost:8080/"
        },
        "id": "9Z3Gmd1q4LBI",
        "outputId": "1e601b03-9a8d-42a6-eb75-4b98bb113ff0"
      },
      "execution_count": null,
      "outputs": [
        {
          "output_type": "execute_result",
          "data": {
            "text/plain": [
              "(800, 10)"
            ]
          },
          "metadata": {},
          "execution_count": 5
        }
      ]
    },
    {
      "cell_type": "code",
      "source": [
        "df.describe() # Statistical data on numerical variables in the dataframe."
      ],
      "metadata": {
        "colab": {
          "base_uri": "https://localhost:8080/"
        },
        "id": "w3WEVBlxuYIY",
        "outputId": "211b58b5-7406-4880-dc83-25c45e75ccc9"
      },
      "execution_count": null,
      "outputs": [
        {
          "output_type": "execute_result",
          "data": {
            "text/plain": [
              "          Cycle    Preset_1    Preset_2  Temperature    Pressure  VibrationX  \\\n",
              "count  800.0000  800.000000  800.000000   800.000000  800.000000  800.000000   \n",
              "mean   400.5000    1.988750    4.551250    69.263494   78.997945   73.860275   \n",
              "std    231.0844    0.805875    2.293239    25.536252   32.501834   31.229631   \n",
              "min      1.0000    1.000000    1.000000     2.089354    3.480279    3.846343   \n",
              "25%    200.7500    1.000000    3.000000    51.040134   55.508564   50.752461   \n",
              "50%    400.5000    2.000000    5.000000    65.906716   75.014848   69.394953   \n",
              "75%    600.2500    3.000000    7.000000    80.527220   99.302530   90.195059   \n",
              "max    800.0000    3.000000    8.000000   255.607829  189.995681  230.861142   \n",
              "\n",
              "       VibrationY  VibrationZ   Frequency  \n",
              "count  800.000000  800.000000  800.000000  \n",
              "mean    72.786878   71.866211   68.223449  \n",
              "std     32.739745   27.844616   29.138702  \n",
              "min     10.057744   18.784169    4.380101  \n",
              "25%     48.523982   50.787638   45.861762  \n",
              "50%     65.504770   69.319237   65.664252  \n",
              "75%     94.075572   88.891205   90.097457  \n",
              "max    193.569947  230.951134  178.090303  "
            ],
            "text/html": [
              "\n",
              "  <div id=\"df-7f3419c9-b2ac-4fdb-ae1c-c62b9928de84\">\n",
              "    <div class=\"colab-df-container\">\n",
              "      <div>\n",
              "<style scoped>\n",
              "    .dataframe tbody tr th:only-of-type {\n",
              "        vertical-align: middle;\n",
              "    }\n",
              "\n",
              "    .dataframe tbody tr th {\n",
              "        vertical-align: top;\n",
              "    }\n",
              "\n",
              "    .dataframe thead th {\n",
              "        text-align: right;\n",
              "    }\n",
              "</style>\n",
              "<table border=\"1\" class=\"dataframe\">\n",
              "  <thead>\n",
              "    <tr style=\"text-align: right;\">\n",
              "      <th></th>\n",
              "      <th>Cycle</th>\n",
              "      <th>Preset_1</th>\n",
              "      <th>Preset_2</th>\n",
              "      <th>Temperature</th>\n",
              "      <th>Pressure</th>\n",
              "      <th>VibrationX</th>\n",
              "      <th>VibrationY</th>\n",
              "      <th>VibrationZ</th>\n",
              "      <th>Frequency</th>\n",
              "    </tr>\n",
              "  </thead>\n",
              "  <tbody>\n",
              "    <tr>\n",
              "      <th>count</th>\n",
              "      <td>800.0000</td>\n",
              "      <td>800.000000</td>\n",
              "      <td>800.000000</td>\n",
              "      <td>800.000000</td>\n",
              "      <td>800.000000</td>\n",
              "      <td>800.000000</td>\n",
              "      <td>800.000000</td>\n",
              "      <td>800.000000</td>\n",
              "      <td>800.000000</td>\n",
              "    </tr>\n",
              "    <tr>\n",
              "      <th>mean</th>\n",
              "      <td>400.5000</td>\n",
              "      <td>1.988750</td>\n",
              "      <td>4.551250</td>\n",
              "      <td>69.263494</td>\n",
              "      <td>78.997945</td>\n",
              "      <td>73.860275</td>\n",
              "      <td>72.786878</td>\n",
              "      <td>71.866211</td>\n",
              "      <td>68.223449</td>\n",
              "    </tr>\n",
              "    <tr>\n",
              "      <th>std</th>\n",
              "      <td>231.0844</td>\n",
              "      <td>0.805875</td>\n",
              "      <td>2.293239</td>\n",
              "      <td>25.536252</td>\n",
              "      <td>32.501834</td>\n",
              "      <td>31.229631</td>\n",
              "      <td>32.739745</td>\n",
              "      <td>27.844616</td>\n",
              "      <td>29.138702</td>\n",
              "    </tr>\n",
              "    <tr>\n",
              "      <th>min</th>\n",
              "      <td>1.0000</td>\n",
              "      <td>1.000000</td>\n",
              "      <td>1.000000</td>\n",
              "      <td>2.089354</td>\n",
              "      <td>3.480279</td>\n",
              "      <td>3.846343</td>\n",
              "      <td>10.057744</td>\n",
              "      <td>18.784169</td>\n",
              "      <td>4.380101</td>\n",
              "    </tr>\n",
              "    <tr>\n",
              "      <th>25%</th>\n",
              "      <td>200.7500</td>\n",
              "      <td>1.000000</td>\n",
              "      <td>3.000000</td>\n",
              "      <td>51.040134</td>\n",
              "      <td>55.508564</td>\n",
              "      <td>50.752461</td>\n",
              "      <td>48.523982</td>\n",
              "      <td>50.787638</td>\n",
              "      <td>45.861762</td>\n",
              "    </tr>\n",
              "    <tr>\n",
              "      <th>50%</th>\n",
              "      <td>400.5000</td>\n",
              "      <td>2.000000</td>\n",
              "      <td>5.000000</td>\n",
              "      <td>65.906716</td>\n",
              "      <td>75.014848</td>\n",
              "      <td>69.394953</td>\n",
              "      <td>65.504770</td>\n",
              "      <td>69.319237</td>\n",
              "      <td>65.664252</td>\n",
              "    </tr>\n",
              "    <tr>\n",
              "      <th>75%</th>\n",
              "      <td>600.2500</td>\n",
              "      <td>3.000000</td>\n",
              "      <td>7.000000</td>\n",
              "      <td>80.527220</td>\n",
              "      <td>99.302530</td>\n",
              "      <td>90.195059</td>\n",
              "      <td>94.075572</td>\n",
              "      <td>88.891205</td>\n",
              "      <td>90.097457</td>\n",
              "    </tr>\n",
              "    <tr>\n",
              "      <th>max</th>\n",
              "      <td>800.0000</td>\n",
              "      <td>3.000000</td>\n",
              "      <td>8.000000</td>\n",
              "      <td>255.607829</td>\n",
              "      <td>189.995681</td>\n",
              "      <td>230.861142</td>\n",
              "      <td>193.569947</td>\n",
              "      <td>230.951134</td>\n",
              "      <td>178.090303</td>\n",
              "    </tr>\n",
              "  </tbody>\n",
              "</table>\n",
              "</div>\n",
              "      <button class=\"colab-df-convert\" onclick=\"convertToInteractive('df-7f3419c9-b2ac-4fdb-ae1c-c62b9928de84')\"\n",
              "              title=\"Convert this dataframe to an interactive table.\"\n",
              "              style=\"display:none;\">\n",
              "        \n",
              "  <svg xmlns=\"http://www.w3.org/2000/svg\" height=\"24px\"viewBox=\"0 0 24 24\"\n",
              "       width=\"24px\">\n",
              "    <path d=\"M0 0h24v24H0V0z\" fill=\"none\"/>\n",
              "    <path d=\"M18.56 5.44l.94 2.06.94-2.06 2.06-.94-2.06-.94-.94-2.06-.94 2.06-2.06.94zm-11 1L8.5 8.5l.94-2.06 2.06-.94-2.06-.94L8.5 2.5l-.94 2.06-2.06.94zm10 10l.94 2.06.94-2.06 2.06-.94-2.06-.94-.94-2.06-.94 2.06-2.06.94z\"/><path d=\"M17.41 7.96l-1.37-1.37c-.4-.4-.92-.59-1.43-.59-.52 0-1.04.2-1.43.59L10.3 9.45l-7.72 7.72c-.78.78-.78 2.05 0 2.83L4 21.41c.39.39.9.59 1.41.59.51 0 1.02-.2 1.41-.59l7.78-7.78 2.81-2.81c.8-.78.8-2.07 0-2.86zM5.41 20L4 18.59l7.72-7.72 1.47 1.35L5.41 20z\"/>\n",
              "  </svg>\n",
              "      </button>\n",
              "      \n",
              "  <style>\n",
              "    .colab-df-container {\n",
              "      display:flex;\n",
              "      flex-wrap:wrap;\n",
              "      gap: 12px;\n",
              "    }\n",
              "\n",
              "    .colab-df-convert {\n",
              "      background-color: #E8F0FE;\n",
              "      border: none;\n",
              "      border-radius: 50%;\n",
              "      cursor: pointer;\n",
              "      display: none;\n",
              "      fill: #1967D2;\n",
              "      height: 32px;\n",
              "      padding: 0 0 0 0;\n",
              "      width: 32px;\n",
              "    }\n",
              "\n",
              "    .colab-df-convert:hover {\n",
              "      background-color: #E2EBFA;\n",
              "      box-shadow: 0px 1px 2px rgba(60, 64, 67, 0.3), 0px 1px 3px 1px rgba(60, 64, 67, 0.15);\n",
              "      fill: #174EA6;\n",
              "    }\n",
              "\n",
              "    [theme=dark] .colab-df-convert {\n",
              "      background-color: #3B4455;\n",
              "      fill: #D2E3FC;\n",
              "    }\n",
              "\n",
              "    [theme=dark] .colab-df-convert:hover {\n",
              "      background-color: #434B5C;\n",
              "      box-shadow: 0px 1px 3px 1px rgba(0, 0, 0, 0.15);\n",
              "      filter: drop-shadow(0px 1px 2px rgba(0, 0, 0, 0.3));\n",
              "      fill: #FFFFFF;\n",
              "    }\n",
              "  </style>\n",
              "\n",
              "      <script>\n",
              "        const buttonEl =\n",
              "          document.querySelector('#df-7f3419c9-b2ac-4fdb-ae1c-c62b9928de84 button.colab-df-convert');\n",
              "        buttonEl.style.display =\n",
              "          google.colab.kernel.accessAllowed ? 'block' : 'none';\n",
              "\n",
              "        async function convertToInteractive(key) {\n",
              "          const element = document.querySelector('#df-7f3419c9-b2ac-4fdb-ae1c-c62b9928de84');\n",
              "          const dataTable =\n",
              "            await google.colab.kernel.invokeFunction('convertToInteractive',\n",
              "                                                     [key], {});\n",
              "          if (!dataTable) return;\n",
              "\n",
              "          const docLinkHtml = 'Like what you see? Visit the ' +\n",
              "            '<a target=\"_blank\" href=https://colab.research.google.com/notebooks/data_table.ipynb>data table notebook</a>'\n",
              "            + ' to learn more about interactive tables.';\n",
              "          element.innerHTML = '';\n",
              "          dataTable['output_type'] = 'display_data';\n",
              "          await google.colab.output.renderOutput(dataTable, element);\n",
              "          const docLink = document.createElement('div');\n",
              "          docLink.innerHTML = docLinkHtml;\n",
              "          element.appendChild(docLink);\n",
              "        }\n",
              "      </script>\n",
              "    </div>\n",
              "  </div>\n",
              "  "
            ]
          },
          "metadata": {},
          "execution_count": 6
        }
      ]
    },
    {
      "cell_type": "markdown",
      "source": [
        "__Remark:__ ```Temperature``` and ```Frequency``` have a small standard deviations compared to its respective means. In other words, both have relatively little variation in this dataset."
      ],
      "metadata": {
        "id": "u-cPISMlCRrT"
      }
    },
    {
      "cell_type": "markdown",
      "source": [
        "##Histograms for preset variables and failure occurence"
      ],
      "metadata": {
        "id": "Q35xD9qkIgF1"
      }
    },
    {
      "cell_type": "markdown",
      "source": [
        "- We count how many times specific values occur for each of the variables ```Preset_1``` (ranging from 1 to 3), ```Preset_2``` (ranging from 1 to 8) and ```Fail``` (true or false). \n",
        "\n",
        "- We plot histograms to help visualize this counting."
      ],
      "metadata": {
        "id": "doQIH3PrFQjt"
      }
    },
    {
      "cell_type": "code",
      "source": [
        "sns.countplot(x = df['Preset_1']) # Histogram for Preset_1"
      ],
      "metadata": {
        "colab": {
          "base_uri": "https://localhost:8080/"
        },
        "id": "EE3DDmZo-DBq",
        "outputId": "4d229f18-73b8-44c8-f398-42a49315fbb6"
      },
      "execution_count": null,
      "outputs": [
        {
          "output_type": "execute_result",
          "data": {
            "text/plain": [
              "<AxesSubplot:xlabel='Preset_1', ylabel='count'>"
            ]
          },
          "metadata": {},
          "execution_count": 7
        },
        {
          "output_type": "display_data",
          "data": {
            "text/plain": [
              "<Figure size 432x288 with 1 Axes>"
            ],
            "image/png": "[encoded data removed]"
          },
          "metadata": {
            "needs_background": "light"
          }
        }
      ]
    },
    {
      "cell_type": "code",
      "source": [
        "sns.countplot(x = df['Preset_2']) # Histogram for Preset_2"
      ],
      "metadata": {
        "colab": {
          "base_uri": "https://localhost:8080/"
        },
        "id": "sswCqWLZ-I0v",
        "outputId": "d39c1f5d-d940-49fd-dc13-48068ddf52dc"
      },
      "execution_count": null,
      "outputs": [
        {
          "output_type": "execute_result",
          "data": {
            "text/plain": [
              "<AxesSubplot:xlabel='Preset_2', ylabel='count'>"
            ]
          },
          "metadata": {},
          "execution_count": 8
        },
        {
          "output_type": "display_data",
          "data": {
            "text/plain": [
              "<Figure size 432x288 with 1 Axes>"
            ],
            "image/png": "[encoded data removed]"
          },
          "metadata": {
            "needs_background": "light"
          }
        }
      ]
    },
    {
      "cell_type": "markdown",
      "source": [
        "__Remark:__ ```Preset_1``` and ```Preset_2``` are proportionally distributed; we may say that the dataset is balanced with respect to these two variables."
      ],
      "metadata": {
        "id": "vNpF4w3X-LvM"
      }
    },
    {
      "cell_type": "code",
      "source": [
        "sns.countplot(x = df['Fail']) # Histogram for Fail"
      ],
      "metadata": {
        "colab": {
          "base_uri": "https://localhost:8080/"
        },
        "id": "jg2AXYnnGcVz",
        "outputId": "e626add9-442b-4df4-be83-4dea67608da6"
      },
      "execution_count": null,
      "outputs": [
        {
          "output_type": "execute_result",
          "data": {
            "text/plain": [
              "<AxesSubplot:xlabel='Fail', ylabel='count'>"
            ]
          },
          "metadata": {},
          "execution_count": 9
        },
        {
          "output_type": "display_data",
          "data": {
            "text/plain": [
              "<Figure size 432x288 with 1 Axes>"
            ],
            "image/png": "[encoded data removed]"
          },
          "metadata": {
            "needs_background": "light"
          }
        }
      ]
    },
    {
      "cell_type": "markdown",
      "source": [
        "__Remark:__ The number of failures is considerably smaller than that of sucesses (more details in the answer to Question 1)."
      ],
      "metadata": {
        "id": "Tj74qIfWGjkE"
      }
    },
    {
      "cell_type": "markdown",
      "source": [
        "##Distribution of failures through the cycles"
      ],
      "metadata": {
        "id": "72OU7_UW-6eo"
      }
    },
    {
      "cell_type": "markdown",
      "source": [
        "We also investigate how failures behave along the cycles:"
      ],
      "metadata": {
        "id": "tOWNFwoY-q1Y"
      }
    },
    {
      "cell_type": "code",
      "source": [
        "grafico=px.scatter(df, x='Cycle', y='Fail') # Failures in function of cycles\n",
        "grafico.show()"
      ],
      "metadata": {
        "colab": {
          "base_uri": "https://localhost:8080/"
        },
        "id": "A7LA000nICG6",
        "outputId": "1e1ec46f-e58c-4eea-e16d-317ce1e885d7"
      },
      "execution_count": null,
      "outputs": [
        {
          "output_type": "display_data",
          "data": {
            "text/html": [
              "<html>\n",
              "<head><meta charset=\"utf-8\" /></head>\n",
              "<body>\n",
              "    <div>            <script src=\"https://cdnjs.cloudflare.com/ajax/libs/mathjax/2.7.5/MathJax.js?config=TeX-AMS-MML_SVG\"></script><script type=\"text/javascript\">if (window.MathJax && window.MathJax.Hub && window.MathJax.Hub.Config) {window.MathJax.Hub.Config({SVG: {font: \"STIX-Web\"}});}</script>                <script type=\"text/javascript\">window.PlotlyConfig = {MathJaxConfig: 'local'};</script>\n",
              "        <script src=\"https://cdn.plot.ly/plotly-2.18.2.min.js\"></script>                <div id=\"f35793eb-91b3-43f3-b284-15e46525f040\" class=\"plotly-graph-div\" style=\"height:525px; width:100%;\"></div>            <script type=\"text/javascript\">                                    window.PLOTLYENV=window.PLOTLYENV || {};                                    if (document.getElementById(\"f35793eb-91b3-43f3-b284-15e46525f040\")) {                    Plotly.newPlot(                        \"f35793eb-91b3-43f3-b284-15e46525f040\",                        [{\"hovertemplate\":\"Cycle=%{x}<br>Fail=%{y}<extra></extra>\",\"legendgroup\":\"\",\"marker\":{\"color\":\"#636efa\",\"symbol\":\"circle\"},\"mode\":\"markers\",\"name\":\"\",\"orientation\":\"h\",\"showlegend\":false,\"x\":[1,2,3,4,5,6,7,8,9,10,11,12,13,14,15,16,17,18,19,20,21,22,23,24,25,26,27,28,29,30,31,32,33,34,35,36,37,38,39,40,41,42,43,44,45,46,47,48,49,50,51,52,53,54,55,56,57,58,59,60,61,62,63,64,65,66,67,68,69,70,71,72,73,74,75,76,77,78,79,80,81,82,83,84,85,86,87,88,89,90,91,92,93,94,95,96,97,98,99,100,101,102,103,104,105,106,107,108,109,110,111,112,113,114,115,116,117,118,119,120,121,122,123,124,125,126,127,128,129,130,131,132,133,134,135,136,137,138,139,140,141,142,143,144,145,146,147,148,149,150,151,152,153,154,155,156,157,158,159,160,161,162,163,164,165,166,167,168,169,170,171,172,173,174,175,176,177,178,179,180,181,182,183,184,185,186,187,188,189,190,191,192,193,194,195,196,197,198,199,200,201,202,203,204,205,206,207,208,209,210,211,212,213,214,215,216,217,218,219,220,221,222,223,224,225,226,227,228,229,230,231,232,233,234,235,236,237,238,239,240,241,242,243,244,245,246,247,248,249,250,251,252,253,254,255,256,257,258,259,260,261,262,263,264,265,266,267,268,269,270,271,272,273,274,275,276,277,278,279,280,281,282,283,284,285,286,287,288,289,290,291,292,293,294,295,296,297,298,299,300,301,302,303,304,305,306,307,308,309,310,311,312,313,314,315,316,317,318,319,320,321,322,323,324,325,326,327,328,329,330,331,332,333,334,335,336,337,338,339,340,341,342,343,344,345,346,347,348,349,350,351,352,353,354,355,356,357,358,359,360,361,362,363,364,365,366,367,368,369,370,371,372,373,374,375,376,377,378,379,380,381,382,383,384,385,386,387,388,389,390,391,392,393,394,395,396,397,398,399,400,401,402,403,404,405,406,407,408,409,410,411,412,413,414,415,416,417,418,419,420,421,422,423,424,425,426,427,428,429,430,431,432,433,434,435,436,437,438,439,440,441,442,443,444,445,446,447,448,449,450,451,452,453,454,455,456,457,458,459,460,461,462,463,464,465,466,467,468,469,470,471,472,473,474,475,476,477,478,479,480,481,482,483,484,485,486,487,488,489,490,491,492,493,494,495,496,497,498,499,500,501,502,503,504,505,506,507,508,509,510,511,512,513,514,515,516,517,518,519,520,521,522,523,524,525,526,527,528,529,530,531,532,533,534,535,536,537,538,539,540,541,542,543,544,545,546,547,548,549,550,551,552,553,554,555,556,557,558,559,560,561,562,563,564,565,566,567,568,569,570,571,572,573,574,575,576,577,578,579,580,581,582,583,584,585,586,587,588,589,590,591,592,593,594,595,596,597,598,599,600,601,602,603,604,605,606,607,608,609,610,611,612,613,614,615,616,617,618,619,620,621,622,623,624,625,626,627,628,629,630,631,632,633,634,635,636,637,638,639,640,641,642,643,644,645,646,647,648,649,650,651,652,653,654,655,656,657,658,659,660,661,662,663,664,665,666,667,668,669,670,671,672,673,674,675,676,677,678,679,680,681,682,683,684,685,686,687,688,689,690,691,692,693,694,695,696,697,698,699,700,701,702,703,704,705,706,707,708,709,710,711,712,713,714,715,716,717,718,719,720,721,722,723,724,725,726,727,728,729,730,731,732,733,734,735,736,737,738,739,740,741,742,743,744,745,746,747,748,749,750,751,752,753,754,755,756,757,758,759,760,761,762,763,764,765,766,767,768,769,770,771,772,773,774,775,776,777,778,779,780,781,782,783,784,785,786,787,788,789,790,791,792,793,794,795,796,797,798,799,800],\"xaxis\":\"x\",\"y\":[false,false,false,false,false,false,false,false,false,false,false,false,true,false,false,false,false,false,false,false,false,false,false,false,false,false,false,false,false,false,false,false,false,false,false,false,false,false,false,false,false,false,false,false,false,false,false,false,false,false,false,false,false,false,false,false,false,false,false,false,false,false,false,false,false,false,false,false,false,false,false,false,false,false,false,false,false,false,false,false,false,false,false,false,false,false,false,false,false,false,false,false,false,false,false,false,false,false,false,false,false,false,false,false,false,false,false,false,false,false,false,false,false,false,false,false,false,false,false,false,false,false,false,false,false,false,false,false,false,false,false,false,false,false,false,false,false,false,false,false,false,false,false,false,false,false,false,false,false,false,false,false,false,false,false,false,true,true,true,false,false,false,true,true,true,false,false,false,false,false,false,false,false,false,false,false,false,false,false,false,false,false,false,false,false,false,false,false,false,false,false,false,false,false,false,false,false,false,false,false,false,false,false,false,false,false,false,false,false,false,false,false,false,false,false,false,false,false,false,false,false,false,false,false,false,false,false,false,false,false,false,false,false,false,false,false,false,false,false,false,false,false,false,false,false,false,false,false,false,false,false,false,false,false,false,false,false,false,false,false,false,false,true,true,true,false,false,false,false,true,true,false,false,false,false,false,false,false,false,false,false,false,false,false,false,false,false,false,false,false,false,false,false,false,false,false,false,false,false,false,false,false,false,false,false,false,false,false,false,false,false,false,false,false,false,false,false,false,false,false,false,false,false,false,false,false,false,false,false,false,false,false,false,false,false,false,false,false,false,false,false,false,false,false,false,false,false,false,false,false,false,false,false,false,false,false,false,false,false,false,false,false,false,false,false,false,false,false,false,false,false,false,false,false,false,false,false,false,false,false,false,false,false,false,false,false,false,false,false,false,false,false,false,false,false,false,false,false,false,false,false,false,false,false,false,false,false,false,false,false,false,false,false,false,true,true,true,true,true,true,true,true,true,true,true,true,true,true,true,true,true,true,false,false,false,false,false,false,false,false,false,false,false,false,false,false,false,false,false,false,false,false,false,false,false,false,false,false,false,false,false,false,false,false,false,false,false,false,false,false,false,false,false,false,false,false,false,false,false,false,false,false,false,false,false,false,false,false,false,false,false,false,false,false,false,false,false,false,false,false,false,false,false,false,false,false,false,false,false,false,false,false,false,false,false,false,false,false,false,false,false,false,false,false,false,false,false,false,false,false,false,false,false,false,false,false,false,true,true,true,true,true,true,true,true,true,false,false,false,true,true,true,true,true,false,false,false,false,false,false,false,false,false,false,false,false,false,false,false,false,false,false,false,false,false,false,false,false,false,false,false,false,false,false,false,false,false,false,false,false,false,false,false,false,false,false,false,false,false,false,false,false,false,false,false,false,false,false,false,false,false,false,false,false,false,false,false,false,false,false,false,false,false,false,false,false,false,false,false,false,false,false,false,false,false,false,false,false,false,false,false,false,false,false,false,false,false,false,false,false,false,false,false,false,false,false,false,false,false,false,false,false,false,false,false,false,false,false,false,false,false,false,false,false,false,false,false,false,false,false,false,false,false,false,false,false,false,false,false,false,false,false,false,false,false,false,false,false,false,true,true,true,true,true,true,true,true,true,true,true,true,true,true,false,false,false,false,false,false,false,false,false,false,false,false,false,false,false,false,false,false,false,false,false,false,false,false,false,false,false,false,false,false,false,false,false,false,false,false,false,false,false,false,false,false,false,false,false,false,false,false,false,false,false,false,false,false,false,false,false,false,false,false,false,false,false,false,false,false,false,false,false,false,false,false,false,false,false,false,false,false,false,true,true,true,true,true,true,true,true],\"yaxis\":\"y\",\"type\":\"scatter\"}],                        {\"template\":{\"data\":{\"histogram2dcontour\":[{\"type\":\"histogram2dcontour\",\"colorbar\":{\"outlinewidth\":0,\"ticks\":\"\"},\"colorscale\":[[0.0,\"#0d0887\"],[0.1111111111111111,\"#46039f\"],[0.2222222222222222,\"#7201a8\"],[0.3333333333333333,\"#9c179e\"],[0.4444444444444444,\"#bd3786\"],[0.5555555555555556,\"#d8576b\"],[0.6666666666666666,\"#ed7953\"],[0.7777777777777778,\"#fb9f3a\"],[0.8888888888888888,\"#fdca26\"],[1.0,\"#f0f921\"]]}],\"choropleth\":[{\"type\":\"choropleth\",\"colorbar\":{\"outlinewidth\":0,\"ticks\":\"\"}}],\"histogram2d\":[{\"type\":\"histogram2d\",\"colorbar\":{\"outlinewidth\":0,\"ticks\":\"\"},\"colorscale\":[[0.0,\"#0d0887\"],[0.1111111111111111,\"#46039f\"],[0.2222222222222222,\"#7201a8\"],[0.3333333333333333,\"#9c179e\"],[0.4444444444444444,\"#bd3786\"],[0.5555555555555556,\"#d8576b\"],[0.6666666666666666,\"#ed7953\"],[0.7777777777777778,\"#fb9f3a\"],[0.8888888888888888,\"#fdca26\"],[1.0,\"#f0f921\"]]}],\"heatmap\":[{\"type\":\"heatmap\",\"colorbar\":{\"outlinewidth\":0,\"ticks\":\"\"},\"colorscale\":[[0.0,\"#0d0887\"],[0.1111111111111111,\"#46039f\"],[0.2222222222222222,\"#7201a8\"],[0.3333333333333333,\"#9c179e\"],[0.4444444444444444,\"#bd3786\"],[0.5555555555555556,\"#d8576b\"],[0.6666666666666666,\"#ed7953\"],[0.7777777777777778,\"#fb9f3a\"],[0.8888888888888888,\"#fdca26\"],[1.0,\"#f0f921\"]]}],\"heatmapgl\":[{\"type\":\"heatmapgl\",\"colorbar\":{\"outlinewidth\":0,\"ticks\":\"\"},\"colorscale\":[[0.0,\"#0d0887\"],[0.1111111111111111,\"#46039f\"],[0.2222222222222222,\"#7201a8\"],[0.3333333333333333,\"#9c179e\"],[0.4444444444444444,\"#bd3786\"],[0.5555555555555556,\"#d8576b\"],[0.6666666666666666,\"#ed7953\"],[0.7777777777777778,\"#fb9f3a\"],[0.8888888888888888,\"#fdca26\"],[1.0,\"#f0f921\"]]}],\"contourcarpet\":[{\"type\":\"contourcarpet\",\"colorbar\":{\"outlinewidth\":0,\"ticks\":\"\"}}],\"contour\":[{\"type\":\"contour\",\"colorbar\":{\"outlinewidth\":0,\"ticks\":\"\"},\"colorscale\":[[0.0,\"#0d0887\"],[0.1111111111111111,\"#46039f\"],[0.2222222222222222,\"#7201a8\"],[0.3333333333333333,\"#9c179e\"],[0.4444444444444444,\"#bd3786\"],[0.5555555555555556,\"#d8576b\"],[0.6666666666666666,\"#ed7953\"],[0.7777777777777778,\"#fb9f3a\"],[0.8888888888888888,\"#fdca26\"],[1.0,\"#f0f921\"]]}],\"surface\":[{\"type\":\"surface\",\"colorbar\":{\"outlinewidth\":0,\"ticks\":\"\"},\"colorscale\":[[0.0,\"#0d0887\"],[0.1111111111111111,\"#46039f\"],[0.2222222222222222,\"#7201a8\"],[0.3333333333333333,\"#9c179e\"],[0.4444444444444444,\"#bd3786\"],[0.5555555555555556,\"#d8576b\"],[0.6666666666666666,\"#ed7953\"],[0.7777777777777778,\"#fb9f3a\"],[0.8888888888888888,\"#fdca26\"],[1.0,\"#f0f921\"]]}],\"mesh3d\":[{\"type\":\"mesh3d\",\"colorbar\":{\"outlinewidth\":0,\"ticks\":\"\"}}],\"scatter\":[{\"fillpattern\":{\"fillmode\":\"overlay\",\"size\":10,\"solidity\":0.2},\"type\":\"scatter\"}],\"parcoords\":[{\"type\":\"parcoords\",\"line\":{\"colorbar\":{\"outlinewidth\":0,\"ticks\":\"\"}}}],\"scatterpolargl\":[{\"type\":\"scatterpolargl\",\"marker\":{\"colorbar\":{\"outlinewidth\":0,\"ticks\":\"\"}}}],\"bar\":[{\"error_x\":{\"color\":\"#2a3f5f\"},\"error_y\":{\"color\":\"#2a3f5f\"},\"marker\":{\"line\":{\"color\":\"#E5ECF6\",\"width\":0.5},\"pattern\":{\"fillmode\":\"overlay\",\"size\":10,\"solidity\":0.2}},\"type\":\"bar\"}],\"scattergeo\":[{\"type\":\"scattergeo\",\"marker\":{\"colorbar\":{\"outlinewidth\":0,\"ticks\":\"\"}}}],\"scatterpolar\":[{\"type\":\"scatterpolar\",\"marker\":{\"colorbar\":{\"outlinewidth\":0,\"ticks\":\"\"}}}],\"histogram\":[{\"marker\":{\"pattern\":{\"fillmode\":\"overlay\",\"size\":10,\"solidity\":0.2}},\"type\":\"histogram\"}],\"scattergl\":[{\"type\":\"scattergl\",\"marker\":{\"colorbar\":{\"outlinewidth\":0,\"ticks\":\"\"}}}],\"scatter3d\":[{\"type\":\"scatter3d\",\"line\":{\"colorbar\":{\"outlinewidth\":0,\"ticks\":\"\"}},\"marker\":{\"colorbar\":{\"outlinewidth\":0,\"ticks\":\"\"}}}],\"scattermapbox\":[{\"type\":\"scattermapbox\",\"marker\":{\"colorbar\":{\"outlinewidth\":0,\"ticks\":\"\"}}}],\"scatterternary\":[{\"type\":\"scatterternary\",\"marker\":{\"colorbar\":{\"outlinewidth\":0,\"ticks\":\"\"}}}],\"scattercarpet\":[{\"type\":\"scattercarpet\",\"marker\":{\"colorbar\":{\"outlinewidth\":0,\"ticks\":\"\"}}}],\"carpet\":[{\"aaxis\":{\"endlinecolor\":\"#2a3f5f\",\"gridcolor\":\"white\",\"linecolor\":\"white\",\"minorgridcolor\":\"white\",\"startlinecolor\":\"#2a3f5f\"},\"baxis\":{\"endlinecolor\":\"#2a3f5f\",\"gridcolor\":\"white\",\"linecolor\":\"white\",\"minorgridcolor\":\"white\",\"startlinecolor\":\"#2a3f5f\"},\"type\":\"carpet\"}],\"table\":[{\"cells\":{\"fill\":{\"color\":\"#EBF0F8\"},\"line\":{\"color\":\"white\"}},\"header\":{\"fill\":{\"color\":\"#C8D4E3\"},\"line\":{\"color\":\"white\"}},\"type\":\"table\"}],\"barpolar\":[{\"marker\":{\"line\":{\"color\":\"#E5ECF6\",\"width\":0.5},\"pattern\":{\"fillmode\":\"overlay\",\"size\":10,\"solidity\":0.2}},\"type\":\"barpolar\"}],\"pie\":[{\"automargin\":true,\"type\":\"pie\"}]},\"layout\":{\"autotypenumbers\":\"strict\",\"colorway\":[\"#636efa\",\"#EF553B\",\"#00cc96\",\"#ab63fa\",\"#FFA15A\",\"#19d3f3\",\"#FF6692\",\"#B6E880\",\"#FF97FF\",\"#FECB52\"],\"font\":{\"color\":\"#2a3f5f\"},\"hovermode\":\"closest\",\"hoverlabel\":{\"align\":\"left\"},\"paper_bgcolor\":\"white\",\"plot_bgcolor\":\"#E5ECF6\",\"polar\":{\"bgcolor\":\"#E5ECF6\",\"angularaxis\":{\"gridcolor\":\"white\",\"linecolor\":\"white\",\"ticks\":\"\"},\"radialaxis\":{\"gridcolor\":\"white\",\"linecolor\":\"white\",\"ticks\":\"\"}},\"ternary\":{\"bgcolor\":\"#E5ECF6\",\"aaxis\":{\"gridcolor\":\"white\",\"linecolor\":\"white\",\"ticks\":\"\"},\"baxis\":{\"gridcolor\":\"white\",\"linecolor\":\"white\",\"ticks\":\"\"},\"caxis\":{\"gridcolor\":\"white\",\"linecolor\":\"white\",\"ticks\":\"\"}},\"coloraxis\":{\"colorbar\":{\"outlinewidth\":0,\"ticks\":\"\"}},\"colorscale\":{\"sequential\":[[0.0,\"#0d0887\"],[0.1111111111111111,\"#46039f\"],[0.2222222222222222,\"#7201a8\"],[0.3333333333333333,\"#9c179e\"],[0.4444444444444444,\"#bd3786\"],[0.5555555555555556,\"#d8576b\"],[0.6666666666666666,\"#ed7953\"],[0.7777777777777778,\"#fb9f3a\"],[0.8888888888888888,\"#fdca26\"],[1.0,\"#f0f921\"]],\"sequentialminus\":[[0.0,\"#0d0887\"],[0.1111111111111111,\"#46039f\"],[0.2222222222222222,\"#7201a8\"],[0.3333333333333333,\"#9c179e\"],[0.4444444444444444,\"#bd3786\"],[0.5555555555555556,\"#d8576b\"],[0.6666666666666666,\"#ed7953\"],[0.7777777777777778,\"#fb9f3a\"],[0.8888888888888888,\"#fdca26\"],[1.0,\"#f0f921\"]],\"diverging\":[[0,\"#8e0152\"],[0.1,\"#c51b7d\"],[0.2,\"#de77ae\"],[0.3,\"#f1b6da\"],[0.4,\"#fde0ef\"],[0.5,\"#f7f7f7\"],[0.6,\"#e6f5d0\"],[0.7,\"#b8e186\"],[0.8,\"#7fbc41\"],[0.9,\"#4d9221\"],[1,\"#276419\"]]},\"xaxis\":{\"gridcolor\":\"white\",\"linecolor\":\"white\",\"ticks\":\"\",\"title\":{\"standoff\":15},\"zerolinecolor\":\"white\",\"automargin\":true,\"zerolinewidth\":2},\"yaxis\":{\"gridcolor\":\"white\",\"linecolor\":\"white\",\"ticks\":\"\",\"title\":{\"standoff\":15},\"zerolinecolor\":\"white\",\"automargin\":true,\"zerolinewidth\":2},\"scene\":{\"xaxis\":{\"backgroundcolor\":\"#E5ECF6\",\"gridcolor\":\"white\",\"linecolor\":\"white\",\"showbackground\":true,\"ticks\":\"\",\"zerolinecolor\":\"white\",\"gridwidth\":2},\"yaxis\":{\"backgroundcolor\":\"#E5ECF6\",\"gridcolor\":\"white\",\"linecolor\":\"white\",\"showbackground\":true,\"ticks\":\"\",\"zerolinecolor\":\"white\",\"gridwidth\":2},\"zaxis\":{\"backgroundcolor\":\"#E5ECF6\",\"gridcolor\":\"white\",\"linecolor\":\"white\",\"showbackground\":true,\"ticks\":\"\",\"zerolinecolor\":\"white\",\"gridwidth\":2}},\"shapedefaults\":{\"line\":{\"color\":\"#2a3f5f\"}},\"annotationdefaults\":{\"arrowcolor\":\"#2a3f5f\",\"arrowhead\":0,\"arrowwidth\":1},\"geo\":{\"bgcolor\":\"white\",\"landcolor\":\"#E5ECF6\",\"subunitcolor\":\"white\",\"showland\":true,\"showlakes\":true,\"lakecolor\":\"white\"},\"title\":{\"x\":0.05},\"mapbox\":{\"style\":\"light\"}}},\"xaxis\":{\"anchor\":\"y\",\"domain\":[0.0,1.0],\"title\":{\"text\":\"Cycle\"}},\"yaxis\":{\"anchor\":\"x\",\"domain\":[0.0,1.0],\"title\":{\"text\":\"Fail\"}},\"legend\":{\"tracegroupgap\":0},\"margin\":{\"t\":60}},                        {\"responsive\": true}                    ).then(function(){\n",
              "                            \n",
              "var gd = document.getElementById('f35793eb-91b3-43f3-b284-15e46525f040');\n",
              "var x = new MutationObserver(function (mutations, observer) {{\n",
              "        var display = window.getComputedStyle(gd).display;\n",
              "        if (!display || display === 'none') {{\n",
              "            console.log([gd, 'removed!']);\n",
              "            Plotly.purge(gd);\n",
              "            observer.disconnect();\n",
              "        }}\n",
              "}});\n",
              "\n",
              "// Listen for the removal of the full notebook cells\n",
              "var notebookContainer = gd.closest('#notebook-container');\n",
              "if (notebookContainer) {{\n",
              "    x.observe(notebookContainer, {childList: true});\n",
              "}}\n",
              "\n",
              "// Listen for the clearing of the current output cell\n",
              "var outputEl = gd.closest('.output');\n",
              "if (outputEl) {{\n",
              "    x.observe(outputEl, {childList: true});\n",
              "}}\n",
              "\n",
              "                        })                };                            </script>        </div>\n",
              "</body>\n",
              "</html>"
            ]
          },
          "metadata": {}
        }
      ]
    },
    {
      "cell_type": "markdown",
      "source": [
        "__Remark:__ Failures _tend_ to occur in isolated sequences of consecutive cycles."
      ],
      "metadata": {
        "id": "HM1jSgHTJzag"
      }
    },
    {
      "cell_type": "markdown",
      "source": [
        "##Effect of isolated root cause variables on failure"
      ],
      "metadata": {
        "id": "Ecs_drDxIoMT"
      }
    },
    {
      "cell_type": "markdown",
      "source": [
        "We explore how failure behaves in function of each root cause variable (```Temperature```, ```Pressure```, ```VibrationX```, ```VibrationY```, ```VibrationZ```, ```Frequency```). We make a remark for each scatter graph."
      ],
      "metadata": {
        "id": "Cwi1eSBv_syR"
      }
    },
    {
      "cell_type": "code",
      "source": [
        "graph = px.scatter_matrix(df, dimensions=['Temperature', 'Fail'])\n",
        "graph.show()"
      ],
      "metadata": {
        "colab": {
          "base_uri": "https://localhost:8080/"
        },
        "id": "oCXaI2kaDYVk",
        "outputId": "bd4f93e2-9e37-4e86-8da1-e25093b2ad03"
      },
      "execution_count": null,
      "outputs": [
        {
          "output_type": "display_data",
          "data": {
            "text/html": [
              "<html>\n",
              "<head><meta charset=\"utf-8\" /></head>\n",
              "<body>\n",
              "    <div>            <script src=\"https://cdnjs.cloudflare.com/ajax/libs/mathjax/2.7.5/MathJax.js?config=TeX-AMS-MML_SVG\"></script><script type=\"text/javascript\">if (window.MathJax && window.MathJax.Hub && window.MathJax.Hub.Config) {window.MathJax.Hub.Config({SVG: {font: \"STIX-Web\"}});}</script>                <script type=\"text/javascript\">window.PlotlyConfig = {MathJaxConfig: 'local'};</script>\n",
              "        <script src=\"https://cdn.plot.ly/plotly-2.18.2.min.js\"></script>                <div id=\"615ccaa4-3ae4-47fa-8ce4-d340ab747abb\" class=\"plotly-graph-div\" style=\"height:525px; width:100%;\"></div>            <script type=\"text/javascript\">                                    window.PLOTLYENV=window.PLOTLYENV || {};                                    if (document.getElementById(\"615ccaa4-3ae4-47fa-8ce4-d340ab747abb\")) {                    Plotly.newPlot(                        \"615ccaa4-3ae4-47fa-8ce4-d340ab747abb\",                        [{\"dimensions\":[{\"axis\":{\"matches\":true},\"label\":\"Temperature\",\"values\":[44.23518586415284,60.807234448796294,79.02753565280922,79.71624156697328,39.98905447038245,58.33608516610776,77.93777730868518,78.56350579645732,77.48621811181675,42.61915864954467,59.501364304919484,80.66249668018938,79.80650931072849,46.01219123516164,48.69096459034,59.20124984330761,39.187095909349004,44.07871748928103,65.35206551815605,65.38699108649853,39.77468772001118,62.80160619043731,81.83700891622891,83.21390848177116,29.906236088762473,54.688073252346655,39.530741261397175,65.8854362481166,34.29444408428433,58.79160316949757,35.49864688284704,61.97709261558516,49.72011922165315,76.75927233454397,54.59092637063649,70.4434574012617,89.91856905388258,45.463431774100755,61.473079064735494,81.30499214726294,70.86979416438925,95.33139485370191,37.171731344297235,73.55064283275956,116.30107567431064,139.17148913734437,38.96347703784512,75.0513766670084,45.31359248501403,60.06181706568592,74.98379209041049,34.79796774391001,61.292131936545495,59.56036308290774,67.59232420882887,9.32215408725349,34.46699609481962,38.994979891936964,64.14253318228393,50.46928448275356,78.64481261042818,38.61064466091389,63.608710061356526,54.58179855420685,90.35099997808109,39.72335242934332,64.58698512271295,91.86532174997701,25.14758360493675,40.72488088300982,54.08179209629801,54.214398911752895,67.82328948408673,80.43099607257962,89.6119415208847,50.80048494067988,65.45194590602941,79.0359842327654,41.038496452869765,77.55772696793223,39.91316603648522,54.18543497453208,80.71512881473694,49.7877301220086,64.9488093399678,89.98747890662526,94.31277465618913,96.46629730323046,25.34853579658119,50.06144187795485,52.4662626467654,37.812795229949884,59.73234363728386,66.10272331345608,90.23758991846198,79.38072988336586,103.73807544198402,28.41473455584699,48.83639834478539,30.692633192450934,45.63191588358501,62.199014404705856,59.583936847698766,35.440296259789214,60.550804992117165,85.84927906383497,28.63124683190494,54.22280720897519,39.85478733456605,59.733078723407935,58.297702191693865,96.87077437169383,52.26936167679041,59.25832464708962,49.382290815582486,50.49450953910213,90.96187228937804,39.98089422511669,65.34112965698594,80.07372589167502,107.2445697869614,249.20767079527454,65.97599004189621,105.65519042323646,105.37839137013516,30.268736306595482,55.20342720748676,45.812419890392036,78.35237317303122,30.218278910255563,60.405578652057486,40.869857721687296,70.68090161974501,65.41785276820485,65.68742479609047,65.58327757177321,63.93823249959385,64.70580023867629,75.95370730931971,21.065325005428363,94.1529335717054,96.03256285064454,131.83318677380885,47.08475341194113,52.19252858530998,129.2784494533508,64.9624084073947,64.44548157089787,66.26221343246768,35.64804107238264,69.98954407269957,30.303910949475956,58.4601240761518,79.78488600435655,79.58370711719938,159.5474016028274,91.69533217576718,88.91611396171326,88.76876606626762,40.86145538846186,59.56627870788001,92.50158132460827,105.96944393009522,105.69533074809365,105.27519140905913,101.79122496232328,42.67939244277565,60.3861629125456,80.0636532730966,38.78408928945213,58.58270662415204,78.40959980291478,50.87521466051384,64.42421767071485,84.49185368402995,32.92580356224118,84.54422608363063,60.7144658464358,100.3365977369475,39.84983801457673,54.169131459462236,41.72927057285359,70.04373680347616,83.40578842848694,75.117684443397,126.65924366486138,23.06066330588126,50.82204589833069,90.00693228338757,35.60014582252155,54.35284112885762,40.65267598370862,64.42916699332451,56.53451836498516,70.3666212459962,91.56839041826962,89.75620964773573,75.8312834600714,70.23880141852388,100.42804488469382,68.5020209707356,89.38647317672823,35.93214540346512,54.77936694801515,76.47279442569078,54.77706579247201,29.877470598040663,75.51873692919686,65.6016826618464,54.63376475535603,93.99147149588858,65.69483896488606,95.39650513778113,60.9119304519074,96.13089991723537,60.58969028860576,48.39996767609095,190.24451360633802,70.08273502208884,51.37847426435046,75.08358026479254,97.6164713836835,63.74271175886587,74.90307680454107,76.15744700654231,61.66306151591226,90.6585944046283,65.0440208102433,69.9788845902039,69.94366906627089,20.458556454135206,80.50260601644112,80.12422112775714,55.93053716821123,61.08041723922304,88.800189330233,38.62627685965852,50.47946910817035,49.52829939869989,98.4194333263305,54.738744442372564,34.905516594106835,76.55101795851411,43.82253485092403,65.10555574327752,65.45245511785934,45.25860276849801,75.35598583397363,74.33211229275565,75.22169204756975,90.13836103263834,89.39779439861894,85.22135320154173,72.59046450878729,55.51774408592654,33.679525538092705,51.51106642437681,44.70729950744914,44.322821324523126,46.59995726569294,93.55298799603953,255.60782945325062,90.2956972465105,115.27860347725064,100.98660960920714,48.953067003976315,70.5914132926097,101.42559340325488,99.49215810640581,106.46851589955372,106.58891305955923,100.9926108680354,39.07486336462915,49.975825492973996,69.44175518941518,69.97204182837476,45.840382733059194,59.79618942425624,80.33906634671145,80.04658660842568,51.95217507516877,69.52415917179572,100.31059135664661,97.92268366255618,34.125337654652974,68.6915111691819,37.36837149597227,76.34469142258968,44.564503937574,50.49873181805349,61.08327642503949,49.73212598672826,59.1251247589932,40.270813547415315,61.11574240107131,77.73502630395028,40.87918229455774,69.66042131589863,90.06633039876647,41.04323281669441,59.50594711085916,39.70559971264562,62.280110026366174,27.112959609102784,38.41021424624103,69.81441124126606,67.27904738149384,39.5997622332455,70.86887362010508,60.03570341037565,60.832266932639556,59.22883983467088,80.30633498852099,149.87315713526385,28.661309134726174,60.59098475256595,2.0893541220108958,63.66767366999658,82.84356139213013,103.6479735471882,70.91606626846843,141.85719693976853,50.56332888635246,30.817280621247473,50.717083214225525,69.7595060857053,51.82959776634582,49.18925864758781,50.09653277989713,49.99167388065558,49.56981544632193,57.99245913023497,70.65469743370596,68.54118842643686,29.6844754245858,59.55624178615645,60.6329334007621,38.856597856158814,71.02677480680101,70.2428305176582,60.30698752904483,59.946920842512476,64.45917769451229,65.73622866524198,49.115223668834766,70.21319119866587,99.12070282427293,44.710810596377314,70.42600646951034,69.00188330300836,129.83776333326279,170.07618722646305,60.34309493583945,68.24104498091363,69.22125291580109,69.26693671072641,58.27429293397704,79.59465095801647,58.898436168079975,45.20988850032444,48.62885891097885,78.36512795263354,49.15480121917591,71.31838647155054,44.807051334282804,74.02254054367877,75.87820454095693,74.23584694370214,73.65044401562677,69.85353061127861,69.85619344460484,48.94806901566007,111.29848368798108,42.07822118258625,63.28242056686719,40.38319409861178,61.471750479197055,65.92799665251849,86.25552158150656,44.59441743535322,75.11164063567665,19.854392700903333,95.65363835300522,68.7943742024094,60.716847808975714,46.21106741851933,62.952626298376,63.37215158818204,18.881840310117223,40.47846468826659,99.69682692363693,67.0710436414295,64.6547339648612,64.7614830790988,94.97887228197487,49.25533310869355,79.79274382380511,81.597015634088,71.20978932770498,88.62302522642027,111.05989974303071,36.065842033266925,56.088741373538895,57.055254023286956,98.90390659866995,41.09317645021174,45.53095189062219,65.8148505429494,95.83546627617291,96.23840097724576,40.99127450160669,57.767380099222784,78.35642418683103,80.47347248636301,78.86206506334335,76.86742573557414,80.35690295951929,81.54626119598615,79.53801492030868,79.54634745123303,80.31669932401455,98.12305821599573,100.20707679578729,99.96207184991687,99.66692229671897,104.01682248063068,106.7484086190843,100.42957819206958,52.00552935510903,48.091962074157216,48.171370506707376,50.96245818086632,56.253541204450826,75.39078435711453,92.36819721416242,44.66020160161544,63.34830056805975,77.10513968683775,52.8118448542902,65.87692688597254,84.0435405070006,39.707212003652224,54.54245303868242,86.04721637539046,58.00099654444929,77.56372379238239,35.82646672034902,75.92697582217521,44.73222156970693,61.11544425210626,79.98368039154713,40.18405211263057,61.98118280264817,66.60929209337554,96.19836339378837,29.994909480749318,60.944317932153254,42.21057028082098,59.60831181712428,59.606536836778396,60.630068697082926,67.36956280518388,30.602235712052448,70.73254270402661,59.21257367718587,54.538858420078235,86.62073911969841,47.04272017406195,69.54728611226747,75.96391959173002,111.63676816016239,74.8318100194927,89.73572297991565,149.4424039520758,55.424444310199725,63.889772369741614,65.56112969068192,58.286150639663404,99.58531590933478,49.897502726009044,71.53046084148427,46.70176798522183,63.69067051876135,102.9294153277131,59.304671302502165,67.45221742535239,50.58438580786157,18.78965005635806,101.47304896115601,77.2053319292703,49.3551137261266,57.19369227343468,68.0997116798057,109.53453127249159,108.42354756599448,133.5766864108568,38.71817329151708,71.16449008470198,72.72183569733559,67.78497733181486,107.29994069411119,40.744218131332666,70.2271260153243,48.86101193996453,80.61898862232196,74.49896926976406,47.061702406661624,66.48234486391551,45.137287827799824,57.301713611814826,91.0153037796769,89.19573940362301,72.22137674232334,69.78252540328073,107.77349551508092,113.81602628945292,101.66984373462043,74.41885355768167,73.42874517115335,84.88390052423635,84.78851029011491,66.18513051097969,65.06422449215809,74.48161692802884,110.79909616737152,81.53605520626375,69.5523184054288,69.35140472387957,61.559511674923414,44.61762721028175,70.38999919326933,48.89166351137901,49.97998957979792,50.758539420979616,49.68358451048783,51.89422602052068,51.06602610946833,74.81693017152993,80.38846591518376,74.74255825960897,100.51742967396096,90.66247807950404,90.96052971779342,110.07141847638859,150.88030839016233,150.64105922697598,119.3465379870655,78.7494692486565,101.70007871354181,71.3373118677906,99.20916010355303,99.00249008667848,119.62566058847212,98.97963251325876,44.9261089007987,59.08063082349986,75.73297200144388,65.86771971060121,89.78289201224788,109.18324919707028,55.029439849737244,75.39606167736848,93.23877046782316,46.56497254653719,60.01402885321424,44.91400537599302,64.24262623479237,86.75081281131003,41.576800494309204,64.51110606139497,50.03071112812709,74.66267420767235,49.409562042887465,75.06796850940172,49.25241374897594,74.70219471926315,76.98761761782829,115.00847065627998,50.4286707139762,61.59305523420961,79.69951702484587,45.15388249675698,74.54265431253044,57.104600370157044,69.1750877561897,85.57589277440812,55.754640663018236,67.74482830856357,60.941629637361615,110.49708218250316,102.73921954645802,101.77845028066717,74.61976930655476,84.23963398015192,103.76641517488243,51.621906785081435,74.82920180861883,105.12051480566072,120.34784573656714,75.42662259345487,43.112714267631496,55.85139238586926,75.10765861479193,29.054665545915523,39.99006278303535,60.644916509657634,41.45619387015449,59.356270226602135,45.81051053241254,70.86067523709828,68.89489295689135,49.569359396620406,57.8927439579746,96.1795037491998,68.63108538636811,105.41196143367459,106.0799866387324,74.5601826487372,50.17564388939704,70.99332377771339,48.8831449589777,64.37936729434789,72.41796077210753,36.48710364611869,57.9405802965194,53.09256297652241,73.45136059439389,54.37125296062339,74.0688757379967,50.85997387609266,80.60106044894243,39.85644381571035,60.92244659324554,55.70163045649483,76.22609259839369,44.08954936324477,60.16070788427734,70.31858002709777,45.65126576970493,66.24093153101542,109.62364000088162,62.05586985815673,75.05197953988322,35.50711719958331,52.62057544637457,70.2696776098694,60.758941796453975,79.17988973310051,54.30625418588489,49.24291841663918,72.09359831647251,67.59038817478356,114.13592365654398,54.41630704195204,99.50503982900113,166.36145494922516,51.96201395187382,68.91028070853278,43.75497202674221,74.36686861652652,40.350646734599316,61.29288038395018,60.3668491996952,33.19897432673558,65.96788963065558,85.2957039390478,55.97647381282387,75.90609846786442,48.68969865242651,60.143317217309885,60.66634476605596,46.32855788036043,65.06583800506826,75.74674604482703,55.215611691691905,95.88024769298266,70.59391327209626,49.657513059986925,79.29167646305596,107.95963210649568,45.88823825742955,65.37586590340919,75.72711728291856,61.177132865665115,88.16643381933848,43.16391975317627,65.6021982128728,94.5678967439189,70.31028973584472,98.87076251408995,69.20348535444347,107.69100048140326,84.86525852892282,57.36733197318844,51.70710070941259,73.11782888684766,91.2214326040112,53.68857433666422,84.08176892773618,89.9806876300147,91.14422700127221,90.89739857145294,77.9351544827183,80.4017281574664,78.08290421261863,80.13468579380584,98.40215360154214,100.01490526707593,89.50262202552553,88.7488023295845,123.95909609035986,122.91004444621741,125.03660025607076,92.84269845583874,90.05781481546508,99.50925628888145,99.62252209555164,70.28103900938981,55.12857392627525,62.02331484103382,89.98816061447376,39.690017805800935,58.10869688735572,75.16506719045933,42.79464693759659,53.00448653155817,70.70183705656835,37.70568914834374,84.30674645845153,45.08758740758707,62.54002255809439,78.22149101362619,37.48500831219161,45.73672650235609,80.900547534255,63.028737951636685,85.41616224850266,43.7962405755443,53.222894927425585,75.72034628801481,67.6741894824195,124.92908405762341,67.13089422550394,94.55224452123558,76.05838868261384,63.10776994403737,73.5050288920446,75.33825464351025,44.3900813136173,59.57510378219994,58.876761703374065,60.57954270999361,80.01381810369763,102.42428173406073,62.72304429644981,81.99233810721911,52.505157569427354,87.38234687079422,42.03848562151602,71.46069052847501,51.230462773427504,64.8682702006838,49.87142127532469,69.80899125921921,44.529940032579056,62.36029240462489,58.465553059187116,82.55996646688277,76.79761122900715,122.6822026145902,94.78889085719658,78.20222455467294,65.42636081309152,48.852912447043884,44.833887005595116,68.55836613635516,90.45948742442589,56.661723817314424,44.21109028775257,84.31979153433515,49.29654394884162,44.69133819514135,52.98108946918864,58.444335490725635,65.5826495934252,53.98805971050071,74.84273991222699,82.94291281965026,53.550957978154415,95.54501295135294,39.90991822637703,84.9907520332647,127.67075383613128,127.24174612946032,107.45287497895468,50.469522157216424,49.98527049277187,79.777294179225,79.36031359295342,80.85401087067098]},{\"axis\":{\"matches\":true},\"label\":\"Fail\",\"values\":[false,false,false,false,false,false,false,false,false,false,false,false,true,false,false,false,false,false,false,false,false,false,false,false,false,false,false,false,false,false,false,false,false,false,false,false,false,false,false,false,false,false,false,false,false,false,false,false,false,false,false,false,false,false,false,false,false,false,false,false,false,false,false,false,false,false,false,false,false,false,false,false,false,false,false,false,false,false,false,false,false,false,false,false,false,false,false,false,false,false,false,false,false,false,false,false,false,false,false,false,false,false,false,false,false,false,false,false,false,false,false,false,false,false,false,false,false,false,false,false,false,false,false,false,false,false,false,false,false,false,false,false,false,false,false,false,false,false,false,false,false,false,false,false,false,false,false,false,false,false,false,false,false,false,false,false,true,true,true,false,false,false,true,true,true,false,false,false,false,false,false,false,false,false,false,false,false,false,false,false,false,false,false,false,false,false,false,false,false,false,false,false,false,false,false,false,false,false,false,false,false,false,false,false,false,false,false,false,false,false,false,false,false,false,false,false,false,false,false,false,false,false,false,false,false,false,false,false,false,false,false,false,false,false,false,false,false,false,false,false,false,false,false,false,false,false,false,false,false,false,false,false,false,false,false,false,false,false,false,false,false,false,true,true,true,false,false,false,false,true,true,false,false,false,false,false,false,false,false,false,false,false,false,false,false,false,false,false,false,false,false,false,false,false,false,false,false,false,false,false,false,false,false,false,false,false,false,false,false,false,false,false,false,false,false,false,false,false,false,false,false,false,false,false,false,false,false,false,false,false,false,false,false,false,false,false,false,false,false,false,false,false,false,false,false,false,false,false,false,false,false,false,false,false,false,false,false,false,false,false,false,false,false,false,false,false,false,false,false,false,false,false,false,false,false,false,false,false,false,false,false,false,false,false,false,false,false,false,false,false,false,false,false,false,false,false,false,false,false,false,false,false,false,false,false,false,false,false,false,false,false,false,false,false,true,true,true,true,true,true,true,true,true,true,true,true,true,true,true,true,true,true,false,false,false,false,false,false,false,false,false,false,false,false,false,false,false,false,false,false,false,false,false,false,false,false,false,false,false,false,false,false,false,false,false,false,false,false,false,false,false,false,false,false,false,false,false,false,false,false,false,false,false,false,false,false,false,false,false,false,false,false,false,false,false,false,false,false,false,false,false,false,false,false,false,false,false,false,false,false,false,false,false,false,false,false,false,false,false,false,false,false,false,false,false,false,false,false,false,false,false,false,false,false,false,false,false,true,true,true,true,true,true,true,true,true,false,false,false,true,true,true,true,true,false,false,false,false,false,false,false,false,false,false,false,false,false,false,false,false,false,false,false,false,false,false,false,false,false,false,false,false,false,false,false,false,false,false,false,false,false,false,false,false,false,false,false,false,false,false,false,false,false,false,false,false,false,false,false,false,false,false,false,false,false,false,false,false,false,false,false,false,false,false,false,false,false,false,false,false,false,false,false,false,false,false,false,false,false,false,false,false,false,false,false,false,false,false,false,false,false,false,false,false,false,false,false,false,false,false,false,false,false,false,false,false,false,false,false,false,false,false,false,false,false,false,false,false,false,false,false,false,false,false,false,false,false,false,false,false,false,false,false,false,false,false,false,false,false,true,true,true,true,true,true,true,true,true,true,true,true,true,true,false,false,false,false,false,false,false,false,false,false,false,false,false,false,false,false,false,false,false,false,false,false,false,false,false,false,false,false,false,false,false,false,false,false,false,false,false,false,false,false,false,false,false,false,false,false,false,false,false,false,false,false,false,false,false,false,false,false,false,false,false,false,false,false,false,false,false,false,false,false,false,false,false,false,false,false,false,false,false,true,true,true,true,true,true,true,true]}],\"hovertemplate\":\"%{xaxis.title.text}=%{x}<br>%{yaxis.title.text}=%{y}<extra></extra>\",\"legendgroup\":\"\",\"marker\":{\"color\":\"#636efa\",\"symbol\":\"circle\"},\"name\":\"\",\"showlegend\":false,\"type\":\"splom\"}],                        {\"template\":{\"data\":{\"histogram2dcontour\":[{\"type\":\"histogram2dcontour\",\"colorbar\":{\"outlinewidth\":0,\"ticks\":\"\"},\"colorscale\":[[0.0,\"#0d0887\"],[0.1111111111111111,\"#46039f\"],[0.2222222222222222,\"#7201a8\"],[0.3333333333333333,\"#9c179e\"],[0.4444444444444444,\"#bd3786\"],[0.5555555555555556,\"#d8576b\"],[0.6666666666666666,\"#ed7953\"],[0.7777777777777778,\"#fb9f3a\"],[0.8888888888888888,\"#fdca26\"],[1.0,\"#f0f921\"]]}],\"choropleth\":[{\"type\":\"choropleth\",\"colorbar\":{\"outlinewidth\":0,\"ticks\":\"\"}}],\"histogram2d\":[{\"type\":\"histogram2d\",\"colorbar\":{\"outlinewidth\":0,\"ticks\":\"\"},\"colorscale\":[[0.0,\"#0d0887\"],[0.1111111111111111,\"#46039f\"],[0.2222222222222222,\"#7201a8\"],[0.3333333333333333,\"#9c179e\"],[0.4444444444444444,\"#bd3786\"],[0.5555555555555556,\"#d8576b\"],[0.6666666666666666,\"#ed7953\"],[0.7777777777777778,\"#fb9f3a\"],[0.8888888888888888,\"#fdca26\"],[1.0,\"#f0f921\"]]}],\"heatmap\":[{\"type\":\"heatmap\",\"colorbar\":{\"outlinewidth\":0,\"ticks\":\"\"},\"colorscale\":[[0.0,\"#0d0887\"],[0.1111111111111111,\"#46039f\"],[0.2222222222222222,\"#7201a8\"],[0.3333333333333333,\"#9c179e\"],[0.4444444444444444,\"#bd3786\"],[0.5555555555555556,\"#d8576b\"],[0.6666666666666666,\"#ed7953\"],[0.7777777777777778,\"#fb9f3a\"],[0.8888888888888888,\"#fdca26\"],[1.0,\"#f0f921\"]]}],\"heatmapgl\":[{\"type\":\"heatmapgl\",\"colorbar\":{\"outlinewidth\":0,\"ticks\":\"\"},\"colorscale\":[[0.0,\"#0d0887\"],[0.1111111111111111,\"#46039f\"],[0.2222222222222222,\"#7201a8\"],[0.3333333333333333,\"#9c179e\"],[0.4444444444444444,\"#bd3786\"],[0.5555555555555556,\"#d8576b\"],[0.6666666666666666,\"#ed7953\"],[0.7777777777777778,\"#fb9f3a\"],[0.8888888888888888,\"#fdca26\"],[1.0,\"#f0f921\"]]}],\"contourcarpet\":[{\"type\":\"contourcarpet\",\"colorbar\":{\"outlinewidth\":0,\"ticks\":\"\"}}],\"contour\":[{\"type\":\"contour\",\"colorbar\":{\"outlinewidth\":0,\"ticks\":\"\"},\"colorscale\":[[0.0,\"#0d0887\"],[0.1111111111111111,\"#46039f\"],[0.2222222222222222,\"#7201a8\"],[0.3333333333333333,\"#9c179e\"],[0.4444444444444444,\"#bd3786\"],[0.5555555555555556,\"#d8576b\"],[0.6666666666666666,\"#ed7953\"],[0.7777777777777778,\"#fb9f3a\"],[0.8888888888888888,\"#fdca26\"],[1.0,\"#f0f921\"]]}],\"surface\":[{\"type\":\"surface\",\"colorbar\":{\"outlinewidth\":0,\"ticks\":\"\"},\"colorscale\":[[0.0,\"#0d0887\"],[0.1111111111111111,\"#46039f\"],[0.2222222222222222,\"#7201a8\"],[0.3333333333333333,\"#9c179e\"],[0.4444444444444444,\"#bd3786\"],[0.5555555555555556,\"#d8576b\"],[0.6666666666666666,\"#ed7953\"],[0.7777777777777778,\"#fb9f3a\"],[0.8888888888888888,\"#fdca26\"],[1.0,\"#f0f921\"]]}],\"mesh3d\":[{\"type\":\"mesh3d\",\"colorbar\":{\"outlinewidth\":0,\"ticks\":\"\"}}],\"scatter\":[{\"fillpattern\":{\"fillmode\":\"overlay\",\"size\":10,\"solidity\":0.2},\"type\":\"scatter\"}],\"parcoords\":[{\"type\":\"parcoords\",\"line\":{\"colorbar\":{\"outlinewidth\":0,\"ticks\":\"\"}}}],\"scatterpolargl\":[{\"type\":\"scatterpolargl\",\"marker\":{\"colorbar\":{\"outlinewidth\":0,\"ticks\":\"\"}}}],\"bar\":[{\"error_x\":{\"color\":\"#2a3f5f\"},\"error_y\":{\"color\":\"#2a3f5f\"},\"marker\":{\"line\":{\"color\":\"#E5ECF6\",\"width\":0.5},\"pattern\":{\"fillmode\":\"overlay\",\"size\":10,\"solidity\":0.2}},\"type\":\"bar\"}],\"scattergeo\":[{\"type\":\"scattergeo\",\"marker\":{\"colorbar\":{\"outlinewidth\":0,\"ticks\":\"\"}}}],\"scatterpolar\":[{\"type\":\"scatterpolar\",\"marker\":{\"colorbar\":{\"outlinewidth\":0,\"ticks\":\"\"}}}],\"histogram\":[{\"marker\":{\"pattern\":{\"fillmode\":\"overlay\",\"size\":10,\"solidity\":0.2}},\"type\":\"histogram\"}],\"scattergl\":[{\"type\":\"scattergl\",\"marker\":{\"colorbar\":{\"outlinewidth\":0,\"ticks\":\"\"}}}],\"scatter3d\":[{\"type\":\"scatter3d\",\"line\":{\"colorbar\":{\"outlinewidth\":0,\"ticks\":\"\"}},\"marker\":{\"colorbar\":{\"outlinewidth\":0,\"ticks\":\"\"}}}],\"scattermapbox\":[{\"type\":\"scattermapbox\",\"marker\":{\"colorbar\":{\"outlinewidth\":0,\"ticks\":\"\"}}}],\"scatterternary\":[{\"type\":\"scatterternary\",\"marker\":{\"colorbar\":{\"outlinewidth\":0,\"ticks\":\"\"}}}],\"scattercarpet\":[{\"type\":\"scattercarpet\",\"marker\":{\"colorbar\":{\"outlinewidth\":0,\"ticks\":\"\"}}}],\"carpet\":[{\"aaxis\":{\"endlinecolor\":\"#2a3f5f\",\"gridcolor\":\"white\",\"linecolor\":\"white\",\"minorgridcolor\":\"white\",\"startlinecolor\":\"#2a3f5f\"},\"baxis\":{\"endlinecolor\":\"#2a3f5f\",\"gridcolor\":\"white\",\"linecolor\":\"white\",\"minorgridcolor\":\"white\",\"startlinecolor\":\"#2a3f5f\"},\"type\":\"carpet\"}],\"table\":[{\"cells\":{\"fill\":{\"color\":\"#EBF0F8\"},\"line\":{\"color\":\"white\"}},\"header\":{\"fill\":{\"color\":\"#C8D4E3\"},\"line\":{\"color\":\"white\"}},\"type\":\"table\"}],\"barpolar\":[{\"marker\":{\"line\":{\"color\":\"#E5ECF6\",\"width\":0.5},\"pattern\":{\"fillmode\":\"overlay\",\"size\":10,\"solidity\":0.2}},\"type\":\"barpolar\"}],\"pie\":[{\"automargin\":true,\"type\":\"pie\"}]},\"layout\":{\"autotypenumbers\":\"strict\",\"colorway\":[\"#636efa\",\"#EF553B\",\"#00cc96\",\"#ab63fa\",\"#FFA15A\",\"#19d3f3\",\"#FF6692\",\"#B6E880\",\"#FF97FF\",\"#FECB52\"],\"font\":{\"color\":\"#2a3f5f\"},\"hovermode\":\"closest\",\"hoverlabel\":{\"align\":\"left\"},\"paper_bgcolor\":\"white\",\"plot_bgcolor\":\"#E5ECF6\",\"polar\":{\"bgcolor\":\"#E5ECF6\",\"angularaxis\":{\"gridcolor\":\"white\",\"linecolor\":\"white\",\"ticks\":\"\"},\"radialaxis\":{\"gridcolor\":\"white\",\"linecolor\":\"white\",\"ticks\":\"\"}},\"ternary\":{\"bgcolor\":\"#E5ECF6\",\"aaxis\":{\"gridcolor\":\"white\",\"linecolor\":\"white\",\"ticks\":\"\"},\"baxis\":{\"gridcolor\":\"white\",\"linecolor\":\"white\",\"ticks\":\"\"},\"caxis\":{\"gridcolor\":\"white\",\"linecolor\":\"white\",\"ticks\":\"\"}},\"coloraxis\":{\"colorbar\":{\"outlinewidth\":0,\"ticks\":\"\"}},\"colorscale\":{\"sequential\":[[0.0,\"#0d0887\"],[0.1111111111111111,\"#46039f\"],[0.2222222222222222,\"#7201a8\"],[0.3333333333333333,\"#9c179e\"],[0.4444444444444444,\"#bd3786\"],[0.5555555555555556,\"#d8576b\"],[0.6666666666666666,\"#ed7953\"],[0.7777777777777778,\"#fb9f3a\"],[0.8888888888888888,\"#fdca26\"],[1.0,\"#f0f921\"]],\"sequentialminus\":[[0.0,\"#0d0887\"],[0.1111111111111111,\"#46039f\"],[0.2222222222222222,\"#7201a8\"],[0.3333333333333333,\"#9c179e\"],[0.4444444444444444,\"#bd3786\"],[0.5555555555555556,\"#d8576b\"],[0.6666666666666666,\"#ed7953\"],[0.7777777777777778,\"#fb9f3a\"],[0.8888888888888888,\"#fdca26\"],[1.0,\"#f0f921\"]],\"diverging\":[[0,\"#8e0152\"],[0.1,\"#c51b7d\"],[0.2,\"#de77ae\"],[0.3,\"#f1b6da\"],[0.4,\"#fde0ef\"],[0.5,\"#f7f7f7\"],[0.6,\"#e6f5d0\"],[0.7,\"#b8e186\"],[0.8,\"#7fbc41\"],[0.9,\"#4d9221\"],[1,\"#276419\"]]},\"xaxis\":{\"gridcolor\":\"white\",\"linecolor\":\"white\",\"ticks\":\"\",\"title\":{\"standoff\":15},\"zerolinecolor\":\"white\",\"automargin\":true,\"zerolinewidth\":2},\"yaxis\":{\"gridcolor\":\"white\",\"linecolor\":\"white\",\"ticks\":\"\",\"title\":{\"standoff\":15},\"zerolinecolor\":\"white\",\"automargin\":true,\"zerolinewidth\":2},\"scene\":{\"xaxis\":{\"backgroundcolor\":\"#E5ECF6\",\"gridcolor\":\"white\",\"linecolor\":\"white\",\"showbackground\":true,\"ticks\":\"\",\"zerolinecolor\":\"white\",\"gridwidth\":2},\"yaxis\":{\"backgroundcolor\":\"#E5ECF6\",\"gridcolor\":\"white\",\"linecolor\":\"white\",\"showbackground\":true,\"ticks\":\"\",\"zerolinecolor\":\"white\",\"gridwidth\":2},\"zaxis\":{\"backgroundcolor\":\"#E5ECF6\",\"gridcolor\":\"white\",\"linecolor\":\"white\",\"showbackground\":true,\"ticks\":\"\",\"zerolinecolor\":\"white\",\"gridwidth\":2}},\"shapedefaults\":{\"line\":{\"color\":\"#2a3f5f\"}},\"annotationdefaults\":{\"arrowcolor\":\"#2a3f5f\",\"arrowhead\":0,\"arrowwidth\":1},\"geo\":{\"bgcolor\":\"white\",\"landcolor\":\"#E5ECF6\",\"subunitcolor\":\"white\",\"showland\":true,\"showlakes\":true,\"lakecolor\":\"white\"},\"title\":{\"x\":0.05},\"mapbox\":{\"style\":\"light\"}}},\"legend\":{\"tracegroupgap\":0},\"margin\":{\"t\":60},\"dragmode\":\"select\"},                        {\"responsive\": true}                    ).then(function(){\n",
              "                            \n",
              "var gd = document.getElementById('615ccaa4-3ae4-47fa-8ce4-d340ab747abb');\n",
              "var x = new MutationObserver(function (mutations, observer) {{\n",
              "        var display = window.getComputedStyle(gd).display;\n",
              "        if (!display || display === 'none') {{\n",
              "            console.log([gd, 'removed!']);\n",
              "            Plotly.purge(gd);\n",
              "            observer.disconnect();\n",
              "        }}\n",
              "}});\n",
              "\n",
              "// Listen for the removal of the full notebook cells\n",
              "var notebookContainer = gd.closest('#notebook-container');\n",
              "if (notebookContainer) {{\n",
              "    x.observe(notebookContainer, {childList: true});\n",
              "}}\n",
              "\n",
              "// Listen for the clearing of the current output cell\n",
              "var outputEl = gd.closest('.output');\n",
              "if (outputEl) {{\n",
              "    x.observe(outputEl, {childList: true});\n",
              "}}\n",
              "\n",
              "                        })                };                            </script>        </div>\n",
              "</body>\n",
              "</html>"
            ]
          },
          "metadata": {}
        }
      ]
    },
    {
      "cell_type": "markdown",
      "source": [
        "__Remark:__ When failure occurs, ```Temperature``` falls into some interval around $100$."
      ],
      "metadata": {
        "id": "jd2Hk8RJAZI8"
      }
    },
    {
      "cell_type": "code",
      "source": [
        "graph = px.scatter_matrix(df, dimensions=['Pressure', 'Fail'])\n",
        "graph.show()"
      ],
      "metadata": {
        "colab": {
          "base_uri": "https://localhost:8080/"
        },
        "id": "4DCdiYw52i5u",
        "outputId": "ed1e9c18-2fcc-4a59-b038-5434c2674d2b"
      },
      "execution_count": null,
      "outputs": [
        {
          "output_type": "display_data",
          "data": {
            "text/html": [
              "<html>\n",
              "<head><meta charset=\"utf-8\" /></head>\n",
              "<body>\n",
              "    <div>            <script src=\"https://cdnjs.cloudflare.com/ajax/libs/mathjax/2.7.5/MathJax.js?config=TeX-AMS-MML_SVG\"></script><script type=\"text/javascript\">if (window.MathJax && window.MathJax.Hub && window.MathJax.Hub.Config) {window.MathJax.Hub.Config({SVG: {font: \"STIX-Web\"}});}</script>                <script type=\"text/javascript\">window.PlotlyConfig = {MathJaxConfig: 'local'};</script>\n",
              "        <script src=\"https://cdn.plot.ly/plotly-2.18.2.min.js\"></script>                <div id=\"d606a4f3-3a37-4f28-8108-ba1cb41c68c6\" class=\"plotly-graph-div\" style=\"height:525px; width:100%;\"></div>            <script type=\"text/javascript\">                                    window.PLOTLYENV=window.PLOTLYENV || {};                                    if (document.getElementById(\"d606a4f3-3a37-4f28-8108-ba1cb41c68c6\")) {                    Plotly.newPlot(                        \"d606a4f3-3a37-4f28-8108-ba1cb41c68c6\",                        [{\"dimensions\":[{\"axis\":{\"matches\":true},\"label\":\"Pressure\",\"values\":[47.65725354833926,63.17207576842222,83.03218967065293,100.5086344886615,51.76483343470046,64.42635318181952,83.14665660672175,130.08991151469624,104.46295542840215,48.343335790415,64.46925943011358,84.27346407882217,103.12973763998725,30.755213637334048,19.913004886585867,43.38527647920722,34.08334697921782,25.834223889278217,90.90118279473288,150.50277476215126,44.4507432785952,59.84864062353956,80.08540633296776,80.38020582163414,57.04797219231815,79.63755682329023,59.29434876735278,92.57198374391159,58.694897039353954,85.806435418418,56.192587900862634,91.20696184785865,74.76187526763654,101.11106441403412,45.52451707652022,62.541420313247066,92.27863011866705,58.536835535067105,71.48937929485032,100.7960353077329,46.08262938555351,70.93029666506288,41.25289568149666,74.37486614060049,45.07428602621276,69.651889772787,44.09060698773882,78.86459496151497,50.3155043157625,66.17386814834371,81.1267785029456,71.0122861310028,95.96472040191539,56.45843712275707,62.555413533965904,56.021212787503345,80.61344996601076,45.97137140663383,68.67872168676465,52.81441538261421,83.37250599357849,80.13115292126864,104.930427739358,68.83916875791436,111.09951747357611,51.1928445010787,64.4375035241238,95.22925946649484,20.76438447683003,35.06649896330479,50.76154696285035,49.374602708877156,79.87733184883558,99.38467174922076,129.75118205760037,74.31879837757481,89.63819239243598,104.91538277198457,38.153466657906534,68.37164368403444,79.92898731290059,95.64694926694222,120.5630388578349,84.41072649024647,98.60870649338392,66.30741847251352,74.71417185631553,75.06898407740086,34.96650863100557,60.969463244537806,64.40621338641976,84.84591838189124,111.03374321422552,42.686528847201515,68.30544629245036,79.33806566002092,104.99721658460665,65.97896838907276,95.88202007056535,34.915600643305524,51.521379162261596,65.59705355429041,64.38925477443411,45.41658001327298,48.47556896291112,72.48939976112308,104.88814092139539,130.87426424215545,31.042555254420048,50.16105593988797,39.65433798084067,93.97915527596534,50.81499291324146,80.34062037664934,121.8675856499534,105.16849475395209,53.625703928167944,66.80037263629612,89.33992150531338,84.09108135363725,129.6612768240961,3.480278691595548,56.555277486799,93.94680981049223,125.11410518288754,40.10455145751085,64.91518450264681,67.56986815087015,91.94119640337433,44.948296902486966,74.57183131961578,46.549081154110965,109.04091549691283,50.230886511216205,82.52883048890543,95.12005792920148,124.7488999532261,154.9182901666767,100.53009054824764,10.435622828469794,125.29388206363924,154.19371869262594,84.6312098286168,49.43128621330009,53.350744440514106,65.06996747563906,64.99975175675954,129.4465507790809,60.19200866899459,38.37026963065748,61.27107557471811,80.49846078193218,114.98684252924612,105.11791048613956,135.13511548066745,110.2717594085718,85.34579567373025,88.23188710760736,99.22869129141966,63.67059316980519,83.77755348818098,135.28115639223222,110.69460992752485,189.9956810944594,148.7004430730596,99.75319634638004,49.45337639496256,61.818300491775105,82.18382294997782,52.56524131962805,63.43380981018521,83.58610850548062,64.66671700137155,79.78641678477979,105.4366089241445,44.52095958324023,75.73912583869149,28.893708694000704,49.69807060383041,21.447121807375627,35.89818259232174,60.37631053832766,90.53808538282559,89.52525007837023,39.89141157608568,56.59080331944897,39.668089841220855,23.571117550623075,31.115255965532192,19.411614224494617,40.79692876844776,49.198969072864834,75.17814901980206,40.46996016464608,55.53633456526118,75.51312905326384,97.28797227827279,78.71520449731177,22.68453683387179,49.42443153233997,100.95118451335264,74.3898886168537,35.291928925367586,45.90389979277644,54.62369865910196,69.91050265051847,32.53852853895298,75.7093443241013,66.71250853557234,45.205933691408184,84.10856031874177,63.346868916812696,63.93289921641388,84.48307476444981,76.04583347292309,60.059811292175404,73.22806359157124,33.43554205125557,79.44289630471992,65.27184698597483,89.90403660462474,69.78612222482909,77.9545901740409,84.92932652337312,125.41478381893256,79.97474756559275,121.24922255145898,94.54438664624823,130.2758551630053,149.26735006649474,10.478632475696001,125.32550308915984,185.40640059067692,95.34086427954122,80.66223223779127,127.74490694017427,39.021010129345434,48.838909916153696,50.22818969038286,100.16682002513427,55.91038557006622,65.76559102974636,102.7795944131559,55.88457258794592,39.57660972281054,80.69113539943679,58.565090474964386,91.1367205905546,90.79188142066073,95.16252461159536,60.351794201518906,120.6988028827039,79.80627271123767,94.80071510520284,20.090105330054495,33.441984006615186,96.34464361298633,29.59216711498631,64.1336144651866,76.57109682429507,80.19978459908944,9.45531386856472,86.34937377114623,114.22950497627204,75.27754413659034,65.5356467898747,85.38369550064665,133.489832635077,163.84013442947094,89.15148613752618,129.41638452532928,99.52061201857401,44.324061433964985,64.37695972636864,84.52957338673677,112.16036299562795,59.51260208098017,85.96665432635223,119.32999900605517,160.47403817449631,70.79036162346294,84.95672285421244,109.32322864293421,151.57702184856993,53.14717194242009,90.42970984735132,28.441736918614573,70.65806088521876,44.3868711559263,36.16701468148362,68.97388739033998,34.485768097321696,50.551951721109944,29.923616907612455,49.3997438857715,70.41425411389567,39.91678377703965,68.88864691958621,98.40844643617163,55.42525235649614,84.77734329505063,28.61910586812588,50.755255567515555,25.610374591319726,33.23605626824348,65.39655461639995,84.36713553511062,31.974610847706213,59.981589234525494,38.78826776375647,129.22979879157577,60.16566300833647,80.35291857287592,159.97865194422567,43.74148292111655,89.1428517720212,91.84700845622842,50.73393455203528,71.41085721105648,91.76013424538607,61.207298229919026,119.03156088037943,17.599080500040923,45.91187962507686,44.1731782984549,63.5174507867582,74.04932159385338,86.05100301378269,85.30829340756802,104.58007280538867,68.27896180431128,90.33071937492113,109.70242411971174,140.2959972930397,38.45854299447797,60.079816646089476,100.17760321394726,44.98278923095907,73.28727288551443,74.19343643011322,48.743019277392655,40.23268581575029,72.83717985238029,48.21356821270974,60.28131907905539,42.914390947266284,74.09763007886271,89.03476075068592,121.04556230940216,139.66076586366086,68.73213043785965,90.99672409527214,61.30146666225774,99.46409848533992,120.22236058482417,84.207680312934,24.31099410651509,45.5765949183658,60.73764176930747,99.2751490738049,70.71880406319261,101.38299709228743,86.15384013076923,115.71758903208007,39.83511574685395,70.53131361956333,111.43886371790134,114.0517204592438,100.64318542531402,55.21665328885225,93.8182911431778,48.774378542566225,77.51719734414058,79.43369681995685,119.41704065178142,39.204889355245406,70.89999576290866,40.165392534795394,80.17015198030289,94.76978256604767,125.99836940356609,15.429162367716216,59.73883494371656,70.10891949907145,90.51940366309798,73.96300034320163,113.93252588944466,162.79181886070717,40.14367769296444,70.0350024331573,68.29277585906844,49.62069692298606,128.70100055924573,150.65618030115454,24.78842437484233,50.31748998325139,79.99537387104674,121.7763294291129,39.105744283268294,59.46476378534794,80.74924763552862,65.32653708212334,102.75973129167319,84.71852828114135,90.49986584363707,29.144016213267076,74.81168915778399,94.96125887969345,135.22682555908895,146.7312228207226,54.809959516282454,73.64736883437635,135.3724391795162,145.61892545536816,101.45456253987476,50.8220022131057,73.1189218347363,80.41301959798076,99.51244592550553,91.12747540601447,131.70656470796658,100.91353289054017,147.42249254006916,149.36420186234906,179.64443695962976,151.9666663076587,179.39317002863282,100.56474451891543,148.17104120139558,179.81886732633814,69.9234137372466,94.16425956344116,66.70371431585446,88.5554677633993,110.09155631282782,58.778036840871174,79.69797215077546,103.23312339856048,52.462056948480196,64.99553034242925,86.01691517510866,54.27380801628189,75.34979451782753,121.26491709260297,45.34553554156322,85.40094356697189,25.149674579713817,83.81946368553541,66.85120120947107,84.17500228070523,120.0445487328322,31.230697673035838,70.14763615172404,127.29129032314138,165.1597407505673,43.38811609922132,50.73291587088232,27.762544590377082,58.562415698521214,79.98949424324023,68.9990809597849,95.60722754369846,30.271654036054482,80.24629144819592,46.7697336732596,65.49145565293472,104.44173311344882,36.06766162367431,60.19424243462106,46.30803180132184,83.17666128791097,100.49584969737039,50.59293358050853,80.65532952029295,65.02822539804286,75.33709725052955,136.59285206839715,60.32221605852506,124.56481096352813,56.419541293589674,80.67307658538533,28.207467410130192,63.13127041973127,94.03547121844625,23.08853942563172,87.73648528154351,78.95316556125549,24.116924565155816,3.7296802345008975,64.73637582417703,92.87416595535926,69.66790969513843,90.26789514250693,130.13889471552804,170.87687452509948,83.34332492663076,71.81103677049151,110.14226064470937,145.30671321029484,71.57433145060813,113.76326215370867,50.843048304351505,90.17679175279052,61.628371106083634,106.95866096084849,100.11102148522328,47.862463433041434,69.68043869045829,18.256625095431637,60.30305321020071,90.49710040135439,133.14090787048565,119.76303684404934,68.94433564214317,85.09571960132399,140.39929639565813,99.64732049818237,122.86460268387668,94.56181638683726,50.29672233405672,76.22806637287037,110.15285300049811,58.63507141620612,95.50643340731244,130.30945867063113,79.59383523665248,126.00384998456288,163.90990097324695,54.608816135351795,100.08920190228683,80.43194973982135,50.96932007614213,64.85513956261855,65.47980558612552,64.53029647421857,63.67421823529397,64.9567579546674,73.48768431620607,106.69407157136676,124.20673571540475,120.63294324487399,121.94926355174485,90.1837521168585,160.03588816306913,101.03709930148631,119.991511722209,68.17102105142804,79.98686601506782,99.77588588870918,91.66551550023404,100.39637947576075,103.13701058823582,120.93593140491498,99.58418895700127,45.12838480198576,60.468110014607966,74.68873023892449,62.089807195003104,93.32865380116013,121.43484331851555,55.9628953474752,74.50982734186621,99.96140139718409,55.750491298865086,86.66888931150984,61.00939706625654,78.9953767844759,107.62580447403009,49.15073783990634,87.3237391885511,52.56430869524951,96.89722069602335,51.002304295856476,96.60145333335484,53.21615084528934,95.66720662918847,24.84844140604514,55.5378042976055,55.23096008392243,75.75056535827528,115.000648966563,60.37716270229064,101.10781942574881,74.52775113684,102.83335537025565,135.99600010678108,44.5777601265888,56.737417938787274,86.33721592574237,134.22211484570985,59.73014027495485,58.93218011469398,79.38529285671557,105.40510323597535,140.92416761096075,49.91182923146201,65.41133077190841,96.00507784224445,100.49852364000597,126.83469383500073,50.42690832889034,62.782626618207665,102.81045106394268,44.725804148626665,56.86408832983947,98.51476355452989,26.683458156689035,65.93519220825091,34.84835698031985,59.3558875662921,93.00826117995804,72.2178587280687,83.12758117347552,117.02255870456318,90.12099410643577,140.47117341240175,30.531584115640047,86.48467058743763,64.67413355183635,96.4168233063512,75.00045695582561,91.34632353390445,58.521972271507174,29.201434276466088,50.348632113153066,77.98916063121328,107.4646099248398,111.37744456502205,139.8156676031071,48.395728549681905,93.30755501514825,65.32793713393977,104.23816681828914,49.977234499738366,95.63196184368627,28.183491118731585,44.476704540046704,55.083011098053184,28.815787203261088,39.37259701050671,65.9008199763044,42.443417535244556,85.48530223367048,48.56164633850479,63.64307528839952,93.98970511442991,58.342294921473936,100.86013357003166,75.02923810070273,74.53774155967267,133.9713934390455,54.405823388502355,85.98254662360144,41.559388983203625,58.949615134221546,74.67336775214841,45.520623695263076,74.62912419192395,50.89999310713138,92.88343131408618,55.23409042040029,80.11413530992095,99.04163080498114,54.9462914043555,85.18472835248583,114.84057805296786,55.79317773594142,74.22669941774825,32.15765631747692,40.71618294616003,56.17256297348967,86.16006417353913,115.90264642002954,146.68839732163437,70.58367525478705,111.13895458693042,50.59077399070891,39.84949277870875,68.9622899926184,64.95052843198408,85.50610262220113,124.49421945682579,121.43672739025462,74.0498640167789,124.76691735203882,84.02895471155107,124.97314848023647,111.70692483128151,83.75636922911065,121.77681708616691,56.20103098308857,64.18531569990006,98.18976055808551,109.62529244240613,63.792322238686786,85.79611534394458,103.95284409410827,86.6445317048534,61.200782635408785,89.44836122044637,129.45607135997628,89.78047924366955,115.25029201583732,98.42640423268126,114.2006652162059,104.43767089999778,119.2079191704574,149.63226850532268,124.22396032520689,145.2697121162813,129.96093966388156,168.48829982557803,119.17981631088645,71.64734657199716,71.15921734859936,75.36889338230009,128.9746953432608,119.84504351081243,59.78401048393801,76.8537135199032,106.05700511964244,45.61418493023223,59.86831136775293,69.96479109048937,56.54723267558612,63.816147173705204,95.45667402270426,35.74234312501034,56.789745355033695,49.426403557565,72.0114453139543,79.19799545452997,34.66422367520822,21.92864082322861,51.75019460875693,51.120611030402664,68.71845230512663,38.521729251934595,44.65540507108973,63.91364343591134,66.44921496268636,99.81350465478413,82.34367584990565,122.3363330139184,79.66993767505758,47.01531850246641,46.40654703067426,48.61884837870329,79.61684985695125,111.72817126964152,151.57693192912168,49.815251938684376,53.959384310588696,71.72844396284275,47.828638256702995,80.19371849303008,54.10168777106734,92.1527772830146,51.30664259765641,104.91216730339731,59.299223256026046,73.70246790260559,54.343456517927144,73.7039398172183,38.468657114996255,54.366614008272954,90.6917542221404,118.80931274326322,60.5164297583565,76.01505292976483,66.09391778593806,92.89761494660789,58.36655651647322,49.65773701694946,48.42302268246612,75.2176149938819,98.6870821656828,80.62950394355613,68.88937496048175,110.13321473793687,66.05114350735482,66.85733263638241,64.39491562448906,67.07334497102498,90.29380167134858,84.7712835102109,96.45442457175083,99.21065712852653,69.75684148918803,116.4442615494374,29.797830871648124,70.50720090824711,131.5158980593572,130.86658106157037,101.61777522867236,98.23542136806225,160.4336395368107,110.5354053172884,159.98544308595498,110.54370111985585]},{\"axis\":{\"matches\":true},\"label\":\"Fail\",\"values\":[false,false,false,false,false,false,false,false,false,false,false,false,true,false,false,false,false,false,false,false,false,false,false,false,false,false,false,false,false,false,false,false,false,false,false,false,false,false,false,false,false,false,false,false,false,false,false,false,false,false,false,false,false,false,false,false,false,false,false,false,false,false,false,false,false,false,false,false,false,false,false,false,false,false,false,false,false,false,false,false,false,false,false,false,false,false,false,false,false,false,false,false,false,false,false,false,false,false,false,false,false,false,false,false,false,false,false,false,false,false,false,false,false,false,false,false,false,false,false,false,false,false,false,false,false,false,false,false,false,false,false,false,false,false,false,false,false,false,false,false,false,false,false,false,false,false,false,false,false,false,false,false,false,false,false,false,true,true,true,false,false,false,true,true,true,false,false,false,false,false,false,false,false,false,false,false,false,false,false,false,false,false,false,false,false,false,false,false,false,false,false,false,false,false,false,false,false,false,false,false,false,false,false,false,false,false,false,false,false,false,false,false,false,false,false,false,false,false,false,false,false,false,false,false,false,false,false,false,false,false,false,false,false,false,false,false,false,false,false,false,false,false,false,false,false,false,false,false,false,false,false,false,false,false,false,false,false,false,false,false,false,false,true,true,true,false,false,false,false,true,true,false,false,false,false,false,false,false,false,false,false,false,false,false,false,false,false,false,false,false,false,false,false,false,false,false,false,false,false,false,false,false,false,false,false,false,false,false,false,false,false,false,false,false,false,false,false,false,false,false,false,false,false,false,false,false,false,false,false,false,false,false,false,false,false,false,false,false,false,false,false,false,false,false,false,false,false,false,false,false,false,false,false,false,false,false,false,false,false,false,false,false,false,false,false,false,false,false,false,false,false,false,false,false,false,false,false,false,false,false,false,false,false,false,false,false,false,false,false,false,false,false,false,false,false,false,false,false,false,false,false,false,false,false,false,false,false,false,false,false,false,false,false,false,true,true,true,true,true,true,true,true,true,true,true,true,true,true,true,true,true,true,false,false,false,false,false,false,false,false,false,false,false,false,false,false,false,false,false,false,false,false,false,false,false,false,false,false,false,false,false,false,false,false,false,false,false,false,false,false,false,false,false,false,false,false,false,false,false,false,false,false,false,false,false,false,false,false,false,false,false,false,false,false,false,false,false,false,false,false,false,false,false,false,false,false,false,false,false,false,false,false,false,false,false,false,false,false,false,false,false,false,false,false,false,false,false,false,false,false,false,false,false,false,false,false,false,true,true,true,true,true,true,true,true,true,false,false,false,true,true,true,true,true,false,false,false,false,false,false,false,false,false,false,false,false,false,false,false,false,false,false,false,false,false,false,false,false,false,false,false,false,false,false,false,false,false,false,false,false,false,false,false,false,false,false,false,false,false,false,false,false,false,false,false,false,false,false,false,false,false,false,false,false,false,false,false,false,false,false,false,false,false,false,false,false,false,false,false,false,false,false,false,false,false,false,false,false,false,false,false,false,false,false,false,false,false,false,false,false,false,false,false,false,false,false,false,false,false,false,false,false,false,false,false,false,false,false,false,false,false,false,false,false,false,false,false,false,false,false,false,false,false,false,false,false,false,false,false,false,false,false,false,false,false,false,false,false,false,true,true,true,true,true,true,true,true,true,true,true,true,true,true,false,false,false,false,false,false,false,false,false,false,false,false,false,false,false,false,false,false,false,false,false,false,false,false,false,false,false,false,false,false,false,false,false,false,false,false,false,false,false,false,false,false,false,false,false,false,false,false,false,false,false,false,false,false,false,false,false,false,false,false,false,false,false,false,false,false,false,false,false,false,false,false,false,false,false,false,false,false,false,true,true,true,true,true,true,true,true]}],\"hovertemplate\":\"%{xaxis.title.text}=%{x}<br>%{yaxis.title.text}=%{y}<extra></extra>\",\"legendgroup\":\"\",\"marker\":{\"color\":\"#636efa\",\"symbol\":\"circle\"},\"name\":\"\",\"showlegend\":false,\"type\":\"splom\"}],                        {\"template\":{\"data\":{\"histogram2dcontour\":[{\"type\":\"histogram2dcontour\",\"colorbar\":{\"outlinewidth\":0,\"ticks\":\"\"},\"colorscale\":[[0.0,\"#0d0887\"],[0.1111111111111111,\"#46039f\"],[0.2222222222222222,\"#7201a8\"],[0.3333333333333333,\"#9c179e\"],[0.4444444444444444,\"#bd3786\"],[0.5555555555555556,\"#d8576b\"],[0.6666666666666666,\"#ed7953\"],[0.7777777777777778,\"#fb9f3a\"],[0.8888888888888888,\"#fdca26\"],[1.0,\"#f0f921\"]]}],\"choropleth\":[{\"type\":\"choropleth\",\"colorbar\":{\"outlinewidth\":0,\"ticks\":\"\"}}],\"histogram2d\":[{\"type\":\"histogram2d\",\"colorbar\":{\"outlinewidth\":0,\"ticks\":\"\"},\"colorscale\":[[0.0,\"#0d0887\"],[0.1111111111111111,\"#46039f\"],[0.2222222222222222,\"#7201a8\"],[0.3333333333333333,\"#9c179e\"],[0.4444444444444444,\"#bd3786\"],[0.5555555555555556,\"#d8576b\"],[0.6666666666666666,\"#ed7953\"],[0.7777777777777778,\"#fb9f3a\"],[0.8888888888888888,\"#fdca26\"],[1.0,\"#f0f921\"]]}],\"heatmap\":[{\"type\":\"heatmap\",\"colorbar\":{\"outlinewidth\":0,\"ticks\":\"\"},\"colorscale\":[[0.0,\"#0d0887\"],[0.1111111111111111,\"#46039f\"],[0.2222222222222222,\"#7201a8\"],[0.3333333333333333,\"#9c179e\"],[0.4444444444444444,\"#bd3786\"],[0.5555555555555556,\"#d8576b\"],[0.6666666666666666,\"#ed7953\"],[0.7777777777777778,\"#fb9f3a\"],[0.8888888888888888,\"#fdca26\"],[1.0,\"#f0f921\"]]}],\"heatmapgl\":[{\"type\":\"heatmapgl\",\"colorbar\":{\"outlinewidth\":0,\"ticks\":\"\"},\"colorscale\":[[0.0,\"#0d0887\"],[0.1111111111111111,\"#46039f\"],[0.2222222222222222,\"#7201a8\"],[0.3333333333333333,\"#9c179e\"],[0.4444444444444444,\"#bd3786\"],[0.5555555555555556,\"#d8576b\"],[0.6666666666666666,\"#ed7953\"],[0.7777777777777778,\"#fb9f3a\"],[0.8888888888888888,\"#fdca26\"],[1.0,\"#f0f921\"]]}],\"contourcarpet\":[{\"type\":\"contourcarpet\",\"colorbar\":{\"outlinewidth\":0,\"ticks\":\"\"}}],\"contour\":[{\"type\":\"contour\",\"colorbar\":{\"outlinewidth\":0,\"ticks\":\"\"},\"colorscale\":[[0.0,\"#0d0887\"],[0.1111111111111111,\"#46039f\"],[0.2222222222222222,\"#7201a8\"],[0.3333333333333333,\"#9c179e\"],[0.4444444444444444,\"#bd3786\"],[0.5555555555555556,\"#d8576b\"],[0.6666666666666666,\"#ed7953\"],[0.7777777777777778,\"#fb9f3a\"],[0.8888888888888888,\"#fdca26\"],[1.0,\"#f0f921\"]]}],\"surface\":[{\"type\":\"surface\",\"colorbar\":{\"outlinewidth\":0,\"ticks\":\"\"},\"colorscale\":[[0.0,\"#0d0887\"],[0.1111111111111111,\"#46039f\"],[0.2222222222222222,\"#7201a8\"],[0.3333333333333333,\"#9c179e\"],[0.4444444444444444,\"#bd3786\"],[0.5555555555555556,\"#d8576b\"],[0.6666666666666666,\"#ed7953\"],[0.7777777777777778,\"#fb9f3a\"],[0.8888888888888888,\"#fdca26\"],[1.0,\"#f0f921\"]]}],\"mesh3d\":[{\"type\":\"mesh3d\",\"colorbar\":{\"outlinewidth\":0,\"ticks\":\"\"}}],\"scatter\":[{\"fillpattern\":{\"fillmode\":\"overlay\",\"size\":10,\"solidity\":0.2},\"type\":\"scatter\"}],\"parcoords\":[{\"type\":\"parcoords\",\"line\":{\"colorbar\":{\"outlinewidth\":0,\"ticks\":\"\"}}}],\"scatterpolargl\":[{\"type\":\"scatterpolargl\",\"marker\":{\"colorbar\":{\"outlinewidth\":0,\"ticks\":\"\"}}}],\"bar\":[{\"error_x\":{\"color\":\"#2a3f5f\"},\"error_y\":{\"color\":\"#2a3f5f\"},\"marker\":{\"line\":{\"color\":\"#E5ECF6\",\"width\":0.5},\"pattern\":{\"fillmode\":\"overlay\",\"size\":10,\"solidity\":0.2}},\"type\":\"bar\"}],\"scattergeo\":[{\"type\":\"scattergeo\",\"marker\":{\"colorbar\":{\"outlinewidth\":0,\"ticks\":\"\"}}}],\"scatterpolar\":[{\"type\":\"scatterpolar\",\"marker\":{\"colorbar\":{\"outlinewidth\":0,\"ticks\":\"\"}}}],\"histogram\":[{\"marker\":{\"pattern\":{\"fillmode\":\"overlay\",\"size\":10,\"solidity\":0.2}},\"type\":\"histogram\"}],\"scattergl\":[{\"type\":\"scattergl\",\"marker\":{\"colorbar\":{\"outlinewidth\":0,\"ticks\":\"\"}}}],\"scatter3d\":[{\"type\":\"scatter3d\",\"line\":{\"colorbar\":{\"outlinewidth\":0,\"ticks\":\"\"}},\"marker\":{\"colorbar\":{\"outlinewidth\":0,\"ticks\":\"\"}}}],\"scattermapbox\":[{\"type\":\"scattermapbox\",\"marker\":{\"colorbar\":{\"outlinewidth\":0,\"ticks\":\"\"}}}],\"scatterternary\":[{\"type\":\"scatterternary\",\"marker\":{\"colorbar\":{\"outlinewidth\":0,\"ticks\":\"\"}}}],\"scattercarpet\":[{\"type\":\"scattercarpet\",\"marker\":{\"colorbar\":{\"outlinewidth\":0,\"ticks\":\"\"}}}],\"carpet\":[{\"aaxis\":{\"endlinecolor\":\"#2a3f5f\",\"gridcolor\":\"white\",\"linecolor\":\"white\",\"minorgridcolor\":\"white\",\"startlinecolor\":\"#2a3f5f\"},\"baxis\":{\"endlinecolor\":\"#2a3f5f\",\"gridcolor\":\"white\",\"linecolor\":\"white\",\"minorgridcolor\":\"white\",\"startlinecolor\":\"#2a3f5f\"},\"type\":\"carpet\"}],\"table\":[{\"cells\":{\"fill\":{\"color\":\"#EBF0F8\"},\"line\":{\"color\":\"white\"}},\"header\":{\"fill\":{\"color\":\"#C8D4E3\"},\"line\":{\"color\":\"white\"}},\"type\":\"table\"}],\"barpolar\":[{\"marker\":{\"line\":{\"color\":\"#E5ECF6\",\"width\":0.5},\"pattern\":{\"fillmode\":\"overlay\",\"size\":10,\"solidity\":0.2}},\"type\":\"barpolar\"}],\"pie\":[{\"automargin\":true,\"type\":\"pie\"}]},\"layout\":{\"autotypenumbers\":\"strict\",\"colorway\":[\"#636efa\",\"#EF553B\",\"#00cc96\",\"#ab63fa\",\"#FFA15A\",\"#19d3f3\",\"#FF6692\",\"#B6E880\",\"#FF97FF\",\"#FECB52\"],\"font\":{\"color\":\"#2a3f5f\"},\"hovermode\":\"closest\",\"hoverlabel\":{\"align\":\"left\"},\"paper_bgcolor\":\"white\",\"plot_bgcolor\":\"#E5ECF6\",\"polar\":{\"bgcolor\":\"#E5ECF6\",\"angularaxis\":{\"gridcolor\":\"white\",\"linecolor\":\"white\",\"ticks\":\"\"},\"radialaxis\":{\"gridcolor\":\"white\",\"linecolor\":\"white\",\"ticks\":\"\"}},\"ternary\":{\"bgcolor\":\"#E5ECF6\",\"aaxis\":{\"gridcolor\":\"white\",\"linecolor\":\"white\",\"ticks\":\"\"},\"baxis\":{\"gridcolor\":\"white\",\"linecolor\":\"white\",\"ticks\":\"\"},\"caxis\":{\"gridcolor\":\"white\",\"linecolor\":\"white\",\"ticks\":\"\"}},\"coloraxis\":{\"colorbar\":{\"outlinewidth\":0,\"ticks\":\"\"}},\"colorscale\":{\"sequential\":[[0.0,\"#0d0887\"],[0.1111111111111111,\"#46039f\"],[0.2222222222222222,\"#7201a8\"],[0.3333333333333333,\"#9c179e\"],[0.4444444444444444,\"#bd3786\"],[0.5555555555555556,\"#d8576b\"],[0.6666666666666666,\"#ed7953\"],[0.7777777777777778,\"#fb9f3a\"],[0.8888888888888888,\"#fdca26\"],[1.0,\"#f0f921\"]],\"sequentialminus\":[[0.0,\"#0d0887\"],[0.1111111111111111,\"#46039f\"],[0.2222222222222222,\"#7201a8\"],[0.3333333333333333,\"#9c179e\"],[0.4444444444444444,\"#bd3786\"],[0.5555555555555556,\"#d8576b\"],[0.6666666666666666,\"#ed7953\"],[0.7777777777777778,\"#fb9f3a\"],[0.8888888888888888,\"#fdca26\"],[1.0,\"#f0f921\"]],\"diverging\":[[0,\"#8e0152\"],[0.1,\"#c51b7d\"],[0.2,\"#de77ae\"],[0.3,\"#f1b6da\"],[0.4,\"#fde0ef\"],[0.5,\"#f7f7f7\"],[0.6,\"#e6f5d0\"],[0.7,\"#b8e186\"],[0.8,\"#7fbc41\"],[0.9,\"#4d9221\"],[1,\"#276419\"]]},\"xaxis\":{\"gridcolor\":\"white\",\"linecolor\":\"white\",\"ticks\":\"\",\"title\":{\"standoff\":15},\"zerolinecolor\":\"white\",\"automargin\":true,\"zerolinewidth\":2},\"yaxis\":{\"gridcolor\":\"white\",\"linecolor\":\"white\",\"ticks\":\"\",\"title\":{\"standoff\":15},\"zerolinecolor\":\"white\",\"automargin\":true,\"zerolinewidth\":2},\"scene\":{\"xaxis\":{\"backgroundcolor\":\"#E5ECF6\",\"gridcolor\":\"white\",\"linecolor\":\"white\",\"showbackground\":true,\"ticks\":\"\",\"zerolinecolor\":\"white\",\"gridwidth\":2},\"yaxis\":{\"backgroundcolor\":\"#E5ECF6\",\"gridcolor\":\"white\",\"linecolor\":\"white\",\"showbackground\":true,\"ticks\":\"\",\"zerolinecolor\":\"white\",\"gridwidth\":2},\"zaxis\":{\"backgroundcolor\":\"#E5ECF6\",\"gridcolor\":\"white\",\"linecolor\":\"white\",\"showbackground\":true,\"ticks\":\"\",\"zerolinecolor\":\"white\",\"gridwidth\":2}},\"shapedefaults\":{\"line\":{\"color\":\"#2a3f5f\"}},\"annotationdefaults\":{\"arrowcolor\":\"#2a3f5f\",\"arrowhead\":0,\"arrowwidth\":1},\"geo\":{\"bgcolor\":\"white\",\"landcolor\":\"#E5ECF6\",\"subunitcolor\":\"white\",\"showland\":true,\"showlakes\":true,\"lakecolor\":\"white\"},\"title\":{\"x\":0.05},\"mapbox\":{\"style\":\"light\"}}},\"legend\":{\"tracegroupgap\":0},\"margin\":{\"t\":60},\"dragmode\":\"select\"},                        {\"responsive\": true}                    ).then(function(){\n",
              "                            \n",
              "var gd = document.getElementById('d606a4f3-3a37-4f28-8108-ba1cb41c68c6');\n",
              "var x = new MutationObserver(function (mutations, observer) {{\n",
              "        var display = window.getComputedStyle(gd).display;\n",
              "        if (!display || display === 'none') {{\n",
              "            console.log([gd, 'removed!']);\n",
              "            Plotly.purge(gd);\n",
              "            observer.disconnect();\n",
              "        }}\n",
              "}});\n",
              "\n",
              "// Listen for the removal of the full notebook cells\n",
              "var notebookContainer = gd.closest('#notebook-container');\n",
              "if (notebookContainer) {{\n",
              "    x.observe(notebookContainer, {childList: true});\n",
              "}}\n",
              "\n",
              "// Listen for the clearing of the current output cell\n",
              "var outputEl = gd.closest('.output');\n",
              "if (outputEl) {{\n",
              "    x.observe(outputEl, {childList: true});\n",
              "}}\n",
              "\n",
              "                        })                };                            </script>        </div>\n",
              "</body>\n",
              "</html>"
            ]
          },
          "metadata": {}
        }
      ]
    },
    {
      "cell_type": "markdown",
      "source": [
        "__Remark:__ When failure occurs, ```Pressure``` falls into some interval around $100$ or around $150$."
      ],
      "metadata": {
        "id": "B_AJwadtA27B"
      }
    },
    {
      "cell_type": "code",
      "source": [
        "graph = px.scatter_matrix(df, dimensions=['VibrationX', 'Fail'])\n",
        "graph.show()"
      ],
      "metadata": {
        "colab": {
          "base_uri": "https://localhost:8080/"
        },
        "id": "SBbUnCVt3CAT",
        "outputId": "1cb03030-87a7-464a-c5bb-046ce44f3c98"
      },
      "execution_count": null,
      "outputs": [
        {
          "output_type": "display_data",
          "data": {
            "text/html": [
              "<html>\n",
              "<head><meta charset=\"utf-8\" /></head>\n",
              "<body>\n",
              "    <div>            <script src=\"https://cdnjs.cloudflare.com/ajax/libs/mathjax/2.7.5/MathJax.js?config=TeX-AMS-MML_SVG\"></script><script type=\"text/javascript\">if (window.MathJax && window.MathJax.Hub && window.MathJax.Hub.Config) {window.MathJax.Hub.Config({SVG: {font: \"STIX-Web\"}});}</script>                <script type=\"text/javascript\">window.PlotlyConfig = {MathJaxConfig: 'local'};</script>\n",
              "        <script src=\"https://cdn.plot.ly/plotly-2.18.2.min.js\"></script>                <div id=\"be69bf22-be4b-4d9f-8737-430b758cb3a6\" class=\"plotly-graph-div\" style=\"height:525px; width:100%;\"></div>            <script type=\"text/javascript\">                                    window.PLOTLYENV=window.PLOTLYENV || {};                                    if (document.getElementById(\"be69bf22-be4b-4d9f-8737-430b758cb3a6\")) {                    Plotly.newPlot(                        \"be69bf22-be4b-4d9f-8737-430b758cb3a6\",                        [{\"dimensions\":[{\"axis\":{\"matches\":true},\"label\":\"VibrationX\",\"values\":[46.44176923068589,62.00595106708013,82.64210959422543,122.36232148005857,42.51430194833384,56.479226973543625,77.80058968354564,110.47987136045793,77.39038839955747,65.7891557607292,79.06783336468564,99.62877806125697,120.75310300334772,35.021092356258364,54.45533557547091,49.066485298836845,30.173297322986325,51.3481031411045,39.39668683758067,40.55361543916053,38.95898229871159,55.795654347680156,76.20311129075449,79.99717718244978,34.633811628566704,61.47269962997456,29.131192990352314,66.09296356739438,44.05977433615447,70.30677166900665,40.70287801001922,54.556849651874735,84.2925820585248,110.39023183646562,54.0750249520765,66.90623645916881,89.09011162050584,39.35014776716161,57.32756605886908,76.9230511005243,48.99931365256243,72.9182770832112,40.99869027081586,73.66521437048335,19.530348313166773,45.81026432727553,33.74114164913997,71.3993428818435,53.840754461180374,68.44557228457323,84.86821838100569,55.4254470255158,80.79220332546609,50.51654759872533,59.86906547367336,23.117043524463426,48.30688354192018,35.94209249005101,60.12650348877633,49.168410611993146,77.5200424667294,33.86388748861424,62.144137313337446,44.82591841211145,81.81556180359074,40.26739688842633,64.00831185560504,94.08243503499557,15.77019026791794,30.152633687854955,44.70697600840518,65.32937144259441,50.49640795804988,69.63992019252261,78.47624934344178,35.41058727391028,48.76556139385775,64.82885432962706,33.626874900710696,65.19861852542178,99.05908150391407,113.66115539487295,130.16919773793043,54.56265241364526,69.60471591977068,66.30232784267018,108.4304568662854,179.9289477355205,69.41803141519136,94.25683986033927,54.81077619548878,45.799726590502296,69.35703635838422,56.59623462667544,81.89464148985327,51.02962853042267,74.11705445601851,100.37410502233098,177.1229808493862,28.530084960710308,45.10543657879705,61.293818957312055,80.49984275761629,158.10170768624744,45.18681946988427,71.34246746131423,90.22789068585118,113.80219309567389,49.669512861015555,70.37975838263797,79.3384378967881,84.40467252489195,95.49444710963823,110.4952741907172,54.114909260097896,79.9415739871553,75.55621246079933,94.45304741320516,120.40295923724756,95.53277550957456,119.71680583795599,5.860703108036286,114.85434339810153,78.57468664599126,100.48557547324347,67.46309303802428,96.9009278255505,58.167260729605914,64.10424054979494,55.26839800685086,83.13484454147182,63.00154518347691,78.42628301836531,34.85834989687224,55.858340389527925,56.93397749819484,102.44364489098564,118.39587313355811,95.5590400568073,55.952880088228454,79.02691387638374,109.09131480016613,79.33702977893195,48.170130282636435,49.00042326402788,60.48135937118371,61.3180989385939,59.54071864320426,69.30275582595256,99.3310372874054,123.04853072694618,90.73753879881181,105.55448130049547,66.41590631381193,86.14788033041827,65.14768309835499,99.890670194056,85.14055002275501,89.10951404609013,45.281480611920195,64.65290948800204,93.37588880865574,89.13997150473001,102.2721912360237,69.87641481228572,98.82785070999827,65.28165620900509,79.55113530689914,101.17687362342713,42.8646087211143,57.2694470625389,77.66982883853694,62.371554732384325,78.4428101930628,98.18485193435416,35.53927523501556,63.28541547394489,31.0663163726306,50.37827586506799,30.258714542702045,50.931262346391655,40.867095242594544,69.43212089103679,80.6166210717243,38.09966778316922,57.03727227786744,15.248352901231499,28.365773551661547,16.852325232513536,65.51445599968805,83.03098457087306,45.8906504743369,70.0748122468118,39.88583220063226,54.28541328555417,84.1586746504716,103.39960102822472,94.62736608479493,51.272337460217464,80.78036033022319,115.38271597441742,73.93027229798163,41.14596823512092,48.90645662041672,67.79332883600604,54.17691407097552,30.63116315469545,53.28009965779313,46.2582424625589,45.18059146572827,83.55739414594538,59.361534648412714,110.52028155116683,41.83047594026507,79.87441914358796,59.37661968814464,47.751974690380194,56.30922006937726,64.76738560627844,88.11069665187274,140.19449829448814,69.63696470371902,103.9622109756319,202.36072785934334,229.23594578231612,49.12622141335268,74.2434394751787,74.36542030813973,100.3029008977626,139.5058386923074,230.86114188240788,75.12889805293503,115.94839603458708,56.347238147977144,48.80419173058828,76.60973572855292,38.88526878671638,119.92658646144365,40.440375644043435,79.91319172192426,82.53806990535416,36.109289329216814,72.94719633588956,44.988223333394664,69.92104064653029,140.33632149849942,30.270450706721718,48.904470523535075,89.56928415290758,93.94808874608121,61.80651152527363,121.38834867507168,90.36916949391167,63.30867399272546,37.17803236156029,33.88171698076223,95.68120490054626,12.762317377022216,38.43510802868706,37.260071967278584,105.8076570755333,9.873129417377502,75.92425728349932,85.46274157085342,114.85930591346293,49.74863760228568,70.98388740550303,111.23854918568111,151.04650543149458,129.76860652510592,90.79813994499719,100.17740472967274,34.43792862704024,44.68044514744488,61.78777726553739,75.02865026268171,39.51913493967067,61.127020497256034,69.7615550070927,80.52539835134635,50.250255338886866,70.9504558558058,90.90497168107099,110.45914211972249,36.16986612466214,69.12850618166858,40.639905088762696,59.901440295844786,35.90127037398998,56.10079960470162,50.565339366519396,54.22636884835126,70.9313402475157,31.92679334616826,51.29546065446529,68.16153095612474,51.502390961249795,41.26672129881837,58.61753134084654,29.077466415175675,58.80715381272614,30.22676783213772,100.10803014752037,24.942693383771562,34.72368631566218,64.9603896342818,64.37630821468156,33.31412700707915,61.433556870574634,58.40565125173448,79.94337964968157,59.9198384260987,79.07317787991911,99.85803078716935,90.66216720980277,44.249942057696956,44.86299422875109,21.939130782354866,43.7623164682289,64.42940474870589,29.407607642062718,61.0142135399477,38.943502163404546,135.38708565586202,45.07975267453795,62.85081289740627,73.88217045547292,127.57759389355233,86.33795998315874,126.40678376016578,100.765452650715,140.72152897947143,179.87800295280996,230.1533864703755,53.5153073404073,76.46866857028618,85.37023719212331,40.78251417641634,62.02130903019911,79.94161950498591,39.91044597093712,50.30330813048779,56.088949879171096,55.11580816627175,44.71328312656245,51.951489012505775,82.91142078448298,19.852203245182384,41.170637478096886,68.68080626619304,34.9918217924252,46.784150050093224,41.043462014135095,69.0322088916629,98.69971085183131,139.86924826884334,34.341402918248164,66.54893377217972,60.46410812193201,44.367087697961345,50.8062989961649,79.99240247646382,40.792607431939125,58.36511862118968,61.258649140516965,88.4119785981963,109.27630938465067,60.68446532126433,58.6098098315668,64.45156369490846,84.53125293482591,43.09620198064567,74.16955217856899,65.20629772544193,86.44771357732519,54.11024087006069,105.32481422866334,75.86503472379368,95.66435586108649,50.35615610534825,101.65313477718145,20.25929291469074,78.39854461731858,71.19903430514684,68.8444289720127,36.30910082123585,65.03361078329178,75.00613861792071,90.79116284751697,131.0773982312937,82.73391740588349,69.44465037708126,60.22827137404259,59.854876596001255,46.97750192735848,50.23167605012081,79.2966732593617,80.84351828683761,49.998902344654894,70.71771241293668,89.40557101409655,85.75530733521794,104.4209651492219,103.38189828618964,129.35347145160813,53.83996790236773,60.99221422779072,101.09903197868421,80.36401587159884,129.98874983584835,81.99956934262451,99.38761322232094,128.28593330582567,151.02310185837626,200.7495975550493,101.40463625587668,149.3957361120871,88.97745774325767,119.31438877041886,79.62613055631921,98.98196964583617,89.69202404026178,89.90447879463284,140.36897701788192,158.55645219914027,90.73600184221198,97.57874372628199,98.92922795423782,50.59094747173881,20.120467431992843,161.1887434307827,89.4480395834274,63.834672324647016,85.27731825904826,105.27564967238095,44.428792889495156,51.941791673629446,70.2175632532522,52.94689937619161,66.85560090354116,87.18449316423877,29.680419859272178,50.073554667847766,68.97842726537472,38.66731362961421,60.98235156716364,42.20670788698869,51.015737776151546,32.82964727916653,48.554939420368534,78.52577500865868,36.05203946878012,64.65662230688633,40.17904538127967,61.30551710538104,117.91618013084012,169.78220107269217,46.29360876813826,83.9673473858683,104.03505790313226,94.53603844349512,49.23869778435326,42.72152561347437,101.94729842259343,69.38092252272686,34.31222187553952,54.26347529651264,45.7561137869079,70.29208953040154,47.480860675920674,68.46397204093721,64.6638535262552,35.27153012676767,44.50836822466837,42.721269550938665,82.95275515873915,92.92733693690154,60.66999934462809,52.32195911295087,43.1322030670407,63.35326634032505,49.64110985927246,47.45906369443105,66.14473317147299,87.98935192116295,115.50080228091555,96.33965412014675,45.38302911729618,3.846342916315538,45.945576160013175,110.49875193962954,43.864376092521155,65.07946744151124,95.05731855625666,115.91679898748987,39.2868311619776,41.872718183983764,71.62798817706519,87.5498564925951,79.10060816103207,118.53276898551526,91.65298475389964,110.4105202333248,39.5443367610656,65.41601418039502,70.61672911206281,56.358683574608925,76.37879799252975,49.48210307435705,49.164624740327895,75.62761294244679,104.22648836860995,64.48002095268802,113.73144624202146,93.67653251182813,131.06503269454694,124.17981537128234,67.67944533245813,65.74466287533448,93.6464475369053,85.04270967444769,130.37646743836217,110.56084844754204,124.84039193720619,79.8720141364642,68.66542934177924,66.9116800765667,96.63475449129979,145.52513989642068,135.66214289137955,70.72576501695735,75.54264371523944,106.89457677617919,106.7068332523554,108.35980017590404,107.89853863656064,107.77872013723383,130.06227289010226,106.66854873081641,71.56414904297313,119.8809864235499,100.56034536995627,106.36152466573355,110.82158463029467,119.84553003206418,98.50876619611628,119.705970562984,78.97865976138304,100.85655944312319,88.50392828949772,100.6055934555781,75.25375334742407,120.81471110728528,101.1594860383673,55.0844540187011,75.43552743564324,95.1812527820064,44.30473218374417,54.02539615384902,64.8080514365749,45.402353087905325,59.513144477014265,85.67353208952552,37.875434360435115,68.3302631984222,46.020046807996536,66.15264719345161,89.34727638230876,35.97532047098643,49.36707225303065,48.62501220863871,63.247221874877646,47.63488697280941,62.50331771789948,47.16034809102096,61.99438711677171,46.54115861631517,85.92522922914789,50.25899503923399,61.922179647258034,80.2353337134751,30.94100675161894,62.80057293793084,85.1537710076198,104.69936877876188,129.93165109937257,41.34044078195649,54.11704377709188,40.67285245604663,59.32786474203123,85.48955061884561,125.5556050745178,54.23427957124567,84.1927323899344,95.98133680045183,40.42895627538452,57.01690553208712,74.18457471034414,85.0277778905773,75.4584084864869,69.40898354805766,90.1841153154376,81.5558277950137,58.816832915894295,102.00232936451654,87.47425913551942,59.35709928017004,85.10549192649736,50.04992656438265,77.6781441064353,63.753006253421965,35.52824615335932,44.23149902597695,78.66089707852592,45.328983999332124,55.24735689823496,105.56903861510403,66.84898759487251,85.9322176710771,125.33403871279218,69.635421821342,115.33452007776957,79.7672972552613,84.67952000588522,144.0748064577928,102.35551285524535,133.73564150696575,44.04182418582143,63.14033279099776,60.78697961396956,80.04700452495575,37.10924028576316,60.66916820485606,40.796901690936906,60.46906490718902,51.22194212523171,69.35577084601842,97.28728344351227,40.27592146582638,52.23082470325233,74.2724273452376,49.695369908426265,62.09786068839766,49.63219497255076,63.880567771886064,85.00510113363242,49.65614218999358,72.45473810527608,61.06843154705914,45.37192639103293,103.43314781814988,45.933276346632724,71.63552353561677,49.934603817145664,69.50203411681854,79.64604232090613,51.88807308885614,59.0163498183647,91.64814913867362,131.36223311804898,69.1883488999104,95.4569880244483,116.51479356029377,40.550566692920306,69.88840610953433,80.65759636455873,56.23350684626369,75.22603231791115,54.86325236210315,62.14313201647676,90.83147130259657,59.91529587069634,70.6456510392297,88.53328353266505,39.31258695451862,79.11858663336425,29.38902352730732,86.32951408139564,40.01957913472071,83.18961279479501,50.82286176158777,61.13668454163154,89.77483305044267,49.79225282247431,81.51358488973716,69.42972086470841,100.36765814602053,95.46318056097607,50.17627192807731,75.34492114560933,74.6861462026649,104.39393684984002,64.8951586833972,112.23284877966908,48.885116050023555,67.68076630003081,89.32644081625298,56.02431224694506,66.47452545631283,128.35786655863768,89.41660246381903,73.14317302547957,69.80936964864,79.85811675886436,71.38246511457609,69.71070254527669,101.40519311780105,120.27763695651976,89.53641381919594,89.35419466882989,91.77347727617666,98.66080330934938,91.21572672166126,89.85083601445947,92.59847998826406,76.58604227407497,88.89547513634508,94.32634690395061,66.41486103941628,94.97733617675676,122.84410800911972,39.94509725934391,58.09207185484379,71.20956374760065,39.66905802687692,54.032355114141,66.03913342450537,37.40897282576549,78.09392430571812,41.95029754686054,52.78866695937712,71.17417254342236,39.98469786559474,58.752940764088905,52.13931474821209,58.95291866841557,73.2983003068203,39.42957665022462,49.14091253499808,66.92361768266424,48.932597700501276,61.530399158204354,62.44864729806439,78.83821051411219,59.19388449315358,53.73526682052866,76.28329962048711,75.85634046903458,100.19827187297092,149.71853520730537,49.66478110943069,149.74287790898066,60.52924001661037,71.58498841405098,65.08562541316594,85.10970421091352,52.59339468522146,88.70824942100224,66.10595493375526,115.52190871098283,60.13800840497342,88.72883083740726,61.97104867577169,88.98712425861984,31.653429671197706,53.144677414552355,77.14407048582706,118.88438943417516,49.588297906571206,72.07823806105633,65.20808795363058,75.09705551976305,57.47243764287304,150.74741124959553,34.91325325331154,53.98962683704788,68.43537214751112,90.58212271460002,46.449279243269636,78.06448322579104,71.3210347822735,70.22574486838171,70.18997760656386,69.99272052836291,121.96515023039518,122.68156823104648,122.02143364511218,124.84728594896708,86.43475213596489,185.13421716677374,34.5756323751569,78.67375249777218,95.58284504504793,94.53093396207028,121.17998601180535,151.58525215113292,110.95301004944967,61.33499461946106,61.76287874553283,121.03222732952207]},{\"axis\":{\"matches\":true},\"label\":\"Fail\",\"values\":[false,false,false,false,false,false,false,false,false,false,false,false,true,false,false,false,false,false,false,false,false,false,false,false,false,false,false,false,false,false,false,false,false,false,false,false,false,false,false,false,false,false,false,false,false,false,false,false,false,false,false,false,false,false,false,false,false,false,false,false,false,false,false,false,false,false,false,false,false,false,false,false,false,false,false,false,false,false,false,false,false,false,false,false,false,false,false,false,false,false,false,false,false,false,false,false,false,false,false,false,false,false,false,false,false,false,false,false,false,false,false,false,false,false,false,false,false,false,false,false,false,false,false,false,false,false,false,false,false,false,false,false,false,false,false,false,false,false,false,false,false,false,false,false,false,false,false,false,false,false,false,false,false,false,false,false,true,true,true,false,false,false,true,true,true,false,false,false,false,false,false,false,false,false,false,false,false,false,false,false,false,false,false,false,false,false,false,false,false,false,false,false,false,false,false,false,false,false,false,false,false,false,false,false,false,false,false,false,false,false,false,false,false,false,false,false,false,false,false,false,false,false,false,false,false,false,false,false,false,false,false,false,false,false,false,false,false,false,false,false,false,false,false,false,false,false,false,false,false,false,false,false,false,false,false,false,false,false,false,false,false,false,true,true,true,false,false,false,false,true,true,false,false,false,false,false,false,false,false,false,false,false,false,false,false,false,false,false,false,false,false,false,false,false,false,false,false,false,false,false,false,false,false,false,false,false,false,false,false,false,false,false,false,false,false,false,false,false,false,false,false,false,false,false,false,false,false,false,false,false,false,false,false,false,false,false,false,false,false,false,false,false,false,false,false,false,false,false,false,false,false,false,false,false,false,false,false,false,false,false,false,false,false,false,false,false,false,false,false,false,false,false,false,false,false,false,false,false,false,false,false,false,false,false,false,false,false,false,false,false,false,false,false,false,false,false,false,false,false,false,false,false,false,false,false,false,false,false,false,false,false,false,false,false,true,true,true,true,true,true,true,true,true,true,true,true,true,true,true,true,true,true,false,false,false,false,false,false,false,false,false,false,false,false,false,false,false,false,false,false,false,false,false,false,false,false,false,false,false,false,false,false,false,false,false,false,false,false,false,false,false,false,false,false,false,false,false,false,false,false,false,false,false,false,false,false,false,false,false,false,false,false,false,false,false,false,false,false,false,false,false,false,false,false,false,false,false,false,false,false,false,false,false,false,false,false,false,false,false,false,false,false,false,false,false,false,false,false,false,false,false,false,false,false,false,false,false,true,true,true,true,true,true,true,true,true,false,false,false,true,true,true,true,true,false,false,false,false,false,false,false,false,false,false,false,false,false,false,false,false,false,false,false,false,false,false,false,false,false,false,false,false,false,false,false,false,false,false,false,false,false,false,false,false,false,false,false,false,false,false,false,false,false,false,false,false,false,false,false,false,false,false,false,false,false,false,false,false,false,false,false,false,false,false,false,false,false,false,false,false,false,false,false,false,false,false,false,false,false,false,false,false,false,false,false,false,false,false,false,false,false,false,false,false,false,false,false,false,false,false,false,false,false,false,false,false,false,false,false,false,false,false,false,false,false,false,false,false,false,false,false,false,false,false,false,false,false,false,false,false,false,false,false,false,false,false,false,false,false,true,true,true,true,true,true,true,true,true,true,true,true,true,true,false,false,false,false,false,false,false,false,false,false,false,false,false,false,false,false,false,false,false,false,false,false,false,false,false,false,false,false,false,false,false,false,false,false,false,false,false,false,false,false,false,false,false,false,false,false,false,false,false,false,false,false,false,false,false,false,false,false,false,false,false,false,false,false,false,false,false,false,false,false,false,false,false,false,false,false,false,false,false,true,true,true,true,true,true,true,true]}],\"hovertemplate\":\"%{xaxis.title.text}=%{x}<br>%{yaxis.title.text}=%{y}<extra></extra>\",\"legendgroup\":\"\",\"marker\":{\"color\":\"#636efa\",\"symbol\":\"circle\"},\"name\":\"\",\"showlegend\":false,\"type\":\"splom\"}],                        {\"template\":{\"data\":{\"histogram2dcontour\":[{\"type\":\"histogram2dcontour\",\"colorbar\":{\"outlinewidth\":0,\"ticks\":\"\"},\"colorscale\":[[0.0,\"#0d0887\"],[0.1111111111111111,\"#46039f\"],[0.2222222222222222,\"#7201a8\"],[0.3333333333333333,\"#9c179e\"],[0.4444444444444444,\"#bd3786\"],[0.5555555555555556,\"#d8576b\"],[0.6666666666666666,\"#ed7953\"],[0.7777777777777778,\"#fb9f3a\"],[0.8888888888888888,\"#fdca26\"],[1.0,\"#f0f921\"]]}],\"choropleth\":[{\"type\":\"choropleth\",\"colorbar\":{\"outlinewidth\":0,\"ticks\":\"\"}}],\"histogram2d\":[{\"type\":\"histogram2d\",\"colorbar\":{\"outlinewidth\":0,\"ticks\":\"\"},\"colorscale\":[[0.0,\"#0d0887\"],[0.1111111111111111,\"#46039f\"],[0.2222222222222222,\"#7201a8\"],[0.3333333333333333,\"#9c179e\"],[0.4444444444444444,\"#bd3786\"],[0.5555555555555556,\"#d8576b\"],[0.6666666666666666,\"#ed7953\"],[0.7777777777777778,\"#fb9f3a\"],[0.8888888888888888,\"#fdca26\"],[1.0,\"#f0f921\"]]}],\"heatmap\":[{\"type\":\"heatmap\",\"colorbar\":{\"outlinewidth\":0,\"ticks\":\"\"},\"colorscale\":[[0.0,\"#0d0887\"],[0.1111111111111111,\"#46039f\"],[0.2222222222222222,\"#7201a8\"],[0.3333333333333333,\"#9c179e\"],[0.4444444444444444,\"#bd3786\"],[0.5555555555555556,\"#d8576b\"],[0.6666666666666666,\"#ed7953\"],[0.7777777777777778,\"#fb9f3a\"],[0.8888888888888888,\"#fdca26\"],[1.0,\"#f0f921\"]]}],\"heatmapgl\":[{\"type\":\"heatmapgl\",\"colorbar\":{\"outlinewidth\":0,\"ticks\":\"\"},\"colorscale\":[[0.0,\"#0d0887\"],[0.1111111111111111,\"#46039f\"],[0.2222222222222222,\"#7201a8\"],[0.3333333333333333,\"#9c179e\"],[0.4444444444444444,\"#bd3786\"],[0.5555555555555556,\"#d8576b\"],[0.6666666666666666,\"#ed7953\"],[0.7777777777777778,\"#fb9f3a\"],[0.8888888888888888,\"#fdca26\"],[1.0,\"#f0f921\"]]}],\"contourcarpet\":[{\"type\":\"contourcarpet\",\"colorbar\":{\"outlinewidth\":0,\"ticks\":\"\"}}],\"contour\":[{\"type\":\"contour\",\"colorbar\":{\"outlinewidth\":0,\"ticks\":\"\"},\"colorscale\":[[0.0,\"#0d0887\"],[0.1111111111111111,\"#46039f\"],[0.2222222222222222,\"#7201a8\"],[0.3333333333333333,\"#9c179e\"],[0.4444444444444444,\"#bd3786\"],[0.5555555555555556,\"#d8576b\"],[0.6666666666666666,\"#ed7953\"],[0.7777777777777778,\"#fb9f3a\"],[0.8888888888888888,\"#fdca26\"],[1.0,\"#f0f921\"]]}],\"surface\":[{\"type\":\"surface\",\"colorbar\":{\"outlinewidth\":0,\"ticks\":\"\"},\"colorscale\":[[0.0,\"#0d0887\"],[0.1111111111111111,\"#46039f\"],[0.2222222222222222,\"#7201a8\"],[0.3333333333333333,\"#9c179e\"],[0.4444444444444444,\"#bd3786\"],[0.5555555555555556,\"#d8576b\"],[0.6666666666666666,\"#ed7953\"],[0.7777777777777778,\"#fb9f3a\"],[0.8888888888888888,\"#fdca26\"],[1.0,\"#f0f921\"]]}],\"mesh3d\":[{\"type\":\"mesh3d\",\"colorbar\":{\"outlinewidth\":0,\"ticks\":\"\"}}],\"scatter\":[{\"fillpattern\":{\"fillmode\":\"overlay\",\"size\":10,\"solidity\":0.2},\"type\":\"scatter\"}],\"parcoords\":[{\"type\":\"parcoords\",\"line\":{\"colorbar\":{\"outlinewidth\":0,\"ticks\":\"\"}}}],\"scatterpolargl\":[{\"type\":\"scatterpolargl\",\"marker\":{\"colorbar\":{\"outlinewidth\":0,\"ticks\":\"\"}}}],\"bar\":[{\"error_x\":{\"color\":\"#2a3f5f\"},\"error_y\":{\"color\":\"#2a3f5f\"},\"marker\":{\"line\":{\"color\":\"#E5ECF6\",\"width\":0.5},\"pattern\":{\"fillmode\":\"overlay\",\"size\":10,\"solidity\":0.2}},\"type\":\"bar\"}],\"scattergeo\":[{\"type\":\"scattergeo\",\"marker\":{\"colorbar\":{\"outlinewidth\":0,\"ticks\":\"\"}}}],\"scatterpolar\":[{\"type\":\"scatterpolar\",\"marker\":{\"colorbar\":{\"outlinewidth\":0,\"ticks\":\"\"}}}],\"histogram\":[{\"marker\":{\"pattern\":{\"fillmode\":\"overlay\",\"size\":10,\"solidity\":0.2}},\"type\":\"histogram\"}],\"scattergl\":[{\"type\":\"scattergl\",\"marker\":{\"colorbar\":{\"outlinewidth\":0,\"ticks\":\"\"}}}],\"scatter3d\":[{\"type\":\"scatter3d\",\"line\":{\"colorbar\":{\"outlinewidth\":0,\"ticks\":\"\"}},\"marker\":{\"colorbar\":{\"outlinewidth\":0,\"ticks\":\"\"}}}],\"scattermapbox\":[{\"type\":\"scattermapbox\",\"marker\":{\"colorbar\":{\"outlinewidth\":0,\"ticks\":\"\"}}}],\"scatterternary\":[{\"type\":\"scatterternary\",\"marker\":{\"colorbar\":{\"outlinewidth\":0,\"ticks\":\"\"}}}],\"scattercarpet\":[{\"type\":\"scattercarpet\",\"marker\":{\"colorbar\":{\"outlinewidth\":0,\"ticks\":\"\"}}}],\"carpet\":[{\"aaxis\":{\"endlinecolor\":\"#2a3f5f\",\"gridcolor\":\"white\",\"linecolor\":\"white\",\"minorgridcolor\":\"white\",\"startlinecolor\":\"#2a3f5f\"},\"baxis\":{\"endlinecolor\":\"#2a3f5f\",\"gridcolor\":\"white\",\"linecolor\":\"white\",\"minorgridcolor\":\"white\",\"startlinecolor\":\"#2a3f5f\"},\"type\":\"carpet\"}],\"table\":[{\"cells\":{\"fill\":{\"color\":\"#EBF0F8\"},\"line\":{\"color\":\"white\"}},\"header\":{\"fill\":{\"color\":\"#C8D4E3\"},\"line\":{\"color\":\"white\"}},\"type\":\"table\"}],\"barpolar\":[{\"marker\":{\"line\":{\"color\":\"#E5ECF6\",\"width\":0.5},\"pattern\":{\"fillmode\":\"overlay\",\"size\":10,\"solidity\":0.2}},\"type\":\"barpolar\"}],\"pie\":[{\"automargin\":true,\"type\":\"pie\"}]},\"layout\":{\"autotypenumbers\":\"strict\",\"colorway\":[\"#636efa\",\"#EF553B\",\"#00cc96\",\"#ab63fa\",\"#FFA15A\",\"#19d3f3\",\"#FF6692\",\"#B6E880\",\"#FF97FF\",\"#FECB52\"],\"font\":{\"color\":\"#2a3f5f\"},\"hovermode\":\"closest\",\"hoverlabel\":{\"align\":\"left\"},\"paper_bgcolor\":\"white\",\"plot_bgcolor\":\"#E5ECF6\",\"polar\":{\"bgcolor\":\"#E5ECF6\",\"angularaxis\":{\"gridcolor\":\"white\",\"linecolor\":\"white\",\"ticks\":\"\"},\"radialaxis\":{\"gridcolor\":\"white\",\"linecolor\":\"white\",\"ticks\":\"\"}},\"ternary\":{\"bgcolor\":\"#E5ECF6\",\"aaxis\":{\"gridcolor\":\"white\",\"linecolor\":\"white\",\"ticks\":\"\"},\"baxis\":{\"gridcolor\":\"white\",\"linecolor\":\"white\",\"ticks\":\"\"},\"caxis\":{\"gridcolor\":\"white\",\"linecolor\":\"white\",\"ticks\":\"\"}},\"coloraxis\":{\"colorbar\":{\"outlinewidth\":0,\"ticks\":\"\"}},\"colorscale\":{\"sequential\":[[0.0,\"#0d0887\"],[0.1111111111111111,\"#46039f\"],[0.2222222222222222,\"#7201a8\"],[0.3333333333333333,\"#9c179e\"],[0.4444444444444444,\"#bd3786\"],[0.5555555555555556,\"#d8576b\"],[0.6666666666666666,\"#ed7953\"],[0.7777777777777778,\"#fb9f3a\"],[0.8888888888888888,\"#fdca26\"],[1.0,\"#f0f921\"]],\"sequentialminus\":[[0.0,\"#0d0887\"],[0.1111111111111111,\"#46039f\"],[0.2222222222222222,\"#7201a8\"],[0.3333333333333333,\"#9c179e\"],[0.4444444444444444,\"#bd3786\"],[0.5555555555555556,\"#d8576b\"],[0.6666666666666666,\"#ed7953\"],[0.7777777777777778,\"#fb9f3a\"],[0.8888888888888888,\"#fdca26\"],[1.0,\"#f0f921\"]],\"diverging\":[[0,\"#8e0152\"],[0.1,\"#c51b7d\"],[0.2,\"#de77ae\"],[0.3,\"#f1b6da\"],[0.4,\"#fde0ef\"],[0.5,\"#f7f7f7\"],[0.6,\"#e6f5d0\"],[0.7,\"#b8e186\"],[0.8,\"#7fbc41\"],[0.9,\"#4d9221\"],[1,\"#276419\"]]},\"xaxis\":{\"gridcolor\":\"white\",\"linecolor\":\"white\",\"ticks\":\"\",\"title\":{\"standoff\":15},\"zerolinecolor\":\"white\",\"automargin\":true,\"zerolinewidth\":2},\"yaxis\":{\"gridcolor\":\"white\",\"linecolor\":\"white\",\"ticks\":\"\",\"title\":{\"standoff\":15},\"zerolinecolor\":\"white\",\"automargin\":true,\"zerolinewidth\":2},\"scene\":{\"xaxis\":{\"backgroundcolor\":\"#E5ECF6\",\"gridcolor\":\"white\",\"linecolor\":\"white\",\"showbackground\":true,\"ticks\":\"\",\"zerolinecolor\":\"white\",\"gridwidth\":2},\"yaxis\":{\"backgroundcolor\":\"#E5ECF6\",\"gridcolor\":\"white\",\"linecolor\":\"white\",\"showbackground\":true,\"ticks\":\"\",\"zerolinecolor\":\"white\",\"gridwidth\":2},\"zaxis\":{\"backgroundcolor\":\"#E5ECF6\",\"gridcolor\":\"white\",\"linecolor\":\"white\",\"showbackground\":true,\"ticks\":\"\",\"zerolinecolor\":\"white\",\"gridwidth\":2}},\"shapedefaults\":{\"line\":{\"color\":\"#2a3f5f\"}},\"annotationdefaults\":{\"arrowcolor\":\"#2a3f5f\",\"arrowhead\":0,\"arrowwidth\":1},\"geo\":{\"bgcolor\":\"white\",\"landcolor\":\"#E5ECF6\",\"subunitcolor\":\"white\",\"showland\":true,\"showlakes\":true,\"lakecolor\":\"white\"},\"title\":{\"x\":0.05},\"mapbox\":{\"style\":\"light\"}}},\"legend\":{\"tracegroupgap\":0},\"margin\":{\"t\":60},\"dragmode\":\"select\"},                        {\"responsive\": true}                    ).then(function(){\n",
              "                            \n",
              "var gd = document.getElementById('be69bf22-be4b-4d9f-8737-430b758cb3a6');\n",
              "var x = new MutationObserver(function (mutations, observer) {{\n",
              "        var display = window.getComputedStyle(gd).display;\n",
              "        if (!display || display === 'none') {{\n",
              "            console.log([gd, 'removed!']);\n",
              "            Plotly.purge(gd);\n",
              "            observer.disconnect();\n",
              "        }}\n",
              "}});\n",
              "\n",
              "// Listen for the removal of the full notebook cells\n",
              "var notebookContainer = gd.closest('#notebook-container');\n",
              "if (notebookContainer) {{\n",
              "    x.observe(notebookContainer, {childList: true});\n",
              "}}\n",
              "\n",
              "// Listen for the clearing of the current output cell\n",
              "var outputEl = gd.closest('.output');\n",
              "if (outputEl) {{\n",
              "    x.observe(outputEl, {childList: true});\n",
              "}}\n",
              "\n",
              "                        })                };                            </script>        </div>\n",
              "</body>\n",
              "</html>"
            ]
          },
          "metadata": {}
        }
      ]
    },
    {
      "cell_type": "markdown",
      "source": [
        "__Remark:__ When failure occurs, ```VibrationX``` falls into some interval around $100$."
      ],
      "metadata": {
        "id": "juvorpJSBG1u"
      }
    },
    {
      "cell_type": "code",
      "source": [
        "graph = px.scatter_matrix(df, dimensions=['VibrationY', 'Fail'])\n",
        "graph.show()"
      ],
      "metadata": {
        "id": "YSdmUXeD5GHb",
        "colab": {
          "base_uri": "https://localhost:8080/"
        },
        "outputId": "d15082cc-2a1e-4578-ea88-b59ec313a335"
      },
      "execution_count": null,
      "outputs": [
        {
          "output_type": "display_data",
          "data": {
            "text/html": [
              "<html>\n",
              "<head><meta charset=\"utf-8\" /></head>\n",
              "<body>\n",
              "    <div>            <script src=\"https://cdnjs.cloudflare.com/ajax/libs/mathjax/2.7.5/MathJax.js?config=TeX-AMS-MML_SVG\"></script><script type=\"text/javascript\">if (window.MathJax && window.MathJax.Hub && window.MathJax.Hub.Config) {window.MathJax.Hub.Config({SVG: {font: \"STIX-Web\"}});}</script>                <script type=\"text/javascript\">window.PlotlyConfig = {MathJaxConfig: 'local'};</script>\n",
              "        <script src=\"https://cdn.plot.ly/plotly-2.18.2.min.js\"></script>                <div id=\"8c655ce3-4eb5-481a-8612-33785f68c7b0\" class=\"plotly-graph-div\" style=\"height:525px; width:100%;\"></div>            <script type=\"text/javascript\">                                    window.PLOTLYENV=window.PLOTLYENV || {};                                    if (document.getElementById(\"8c655ce3-4eb5-481a-8612-33785f68c7b0\")) {                    Plotly.newPlot(                        \"8c655ce3-4eb5-481a-8612-33785f68c7b0\",                        [{\"dimensions\":[{\"axis\":{\"matches\":true},\"label\":\"VibrationY\",\"values\":[64.82032657891138,80.71443106372683,98.2543855725768,121.36342870189367,61.03791021641865,78.62374174260457,109.67904751098642,130.9970199768492,159.42348288274437,49.52482884061411,65.89148493590817,83.70190704204607,134.5009054811537,17.88760817566699,25.133192584263153,89.19992516000273,19.63329039883817,25.656732509678765,44.05026626644354,14.341926753322255,33.93943208496899,48.60672011080185,70.77517118657568,134.22138514687438,24.521685777630548,50.09229323735972,32.3190582229739,61.336395973568784,38.285301345175554,64.8171653472597,51.30887618797877,90.65684186214261,20.512680530076622,44.30224611977321,39.468801283992924,54.64783733972252,75.18931804136412,39.53410868314577,56.10441068807218,85.6291785731896,60.623288299095385,94.13424711909639,50.44948381107778,82.91071241507383,44.70150479255236,85.23160342265489,31.37184696337671,65.66273588587713,74.35884190383005,84.12195590283034,111.45847577163526,46.842304513141166,59.51144196864666,41.17577356822475,90.09252648021386,34.34919800363352,49.254130715957885,40.78423150441074,64.42372519189486,65.07592184201529,93.80861341108427,35.66121097647868,59.828075502494265,69.54458336766143,99.71101240118084,40.87320340981718,50.152159220205405,69.91349582286394,105.11330399469925,120.19408496808012,134.8426463754941,176.197917370096,34.65975681375511,50.959582480563014,65.26510770784918,70.80271441200252,83.45397745270155,100.7642572335883,49.72511341945439,79.21429508024741,29.704192124553476,44.702920038768475,54.10632655167563,64.82443687145096,78.94028721195191,39.52327306454806,100.40427294680477,129.62029898600773,95.37541182521545,120.86504152786708,59.811183969374035,35.24322017736299,60.46319904838627,44.44471993376594,69.42272966115412,40.35297273709257,63.93854380850557,44.34221011147682,85.1156066058783,99.42188233306902,112.97279813998146,127.71479120570783,170.02933587908126,30.022925721351427,43.4610979727314,74.3828601746776,23.970274741190835,51.13155248901352,54.52986566259497,80.26474476812427,59.6400994346587,125.27844086035907,41.72813938361791,49.352283443373615,35.087209718780464,34.00463262048301,57.899796873705036,59.577244776811575,85.13019711484563,29.412671462025003,43.57942514313154,35.245969366199205,99.65121247692595,40.57436745399953,59.61899918806687,69.45399184869056,95.11490148857723,34.6985057696296,65.97713085387475,70.50302719644641,99.35456005811508,100.80337744276692,55.578328080004056,116.00660535667551,93.38637370610786,100.29156927873292,54.35723935367731,65.20455604978287,42.04258172302799,14.547320590811573,59.675325011361814,69.87080034136216,85.10493139719888,47.17728719775254,44.48071894602289,109.85085863684019,110.69692548799875,93.28132796492706,85.77273540638367,89.98801059563866,113.84866392437426,54.58022933869409,62.905360638389524,59.46613438290065,70.12761616766709,64.98674945786021,95.32842857651715,123.71191095977696,124.93422137051915,48.9689163381549,69.69655554094365,98.14282278019488,153.5759284400573,154.9044612311166,193.56994678525223,99.41564817816133,48.072174216952874,62.03427847707668,82.32381852950955,60.443808410886405,79.89132664126679,108.07309655645713,44.93933171366437,60.49307856552133,78.9396273187853,33.93380603840277,45.80407061576525,36.751751984343755,75.75716973007027,39.8872291686495,56.281309266019406,39.65778737273199,61.91996412783398,69.40219394689558,57.28069204913648,74.86652494663672,34.20952511186854,45.09176855571086,39.41580102448619,40.395974565565915,80.21236298789137,69.9824032285338,94.0689567948213,63.504211825877114,79.73075013181905,115.37093398690017,164.43262310584987,90.03985798868362,18.00859865814156,58.5388938533834,28.757458589442003,90.47531348334903,33.60204179958701,45.58735992481358,55.69980254272169,37.823573221913925,30.195723019089396,105.39470509964703,74.51760448280241,24.933587658307342,65.00643099639055,129.52252096994758,59.06758229926617,84.86600620969702,100.10910007361039,84.80751281118494,72.07510369027308,33.34055561208544,90.3621177037762,34.9228680972559,60.37801324179208,65.40663832687531,34.99954488455673,55.3207402062682,54.27568133210975,39.62180970495366,60.26527869249419,53.13482241341661,56.11601305455479,64.43493470469635,11.233749183161645,40.817629717556706,40.24685517872395,35.090454117805216,49.18493556848743,75.03851421082086,69.06460080785702,80.08325121353322,31.58195914565451,60.01266038174563,64.91155485546248,67.03361075406212,102.74553138999298,64.50957499896373,78.23610397334132,40.202803907306254,77.97181444966604,109.99223444783993,140.56640267546757,94.73406601482328,39.35751542813988,60.777239977243354,104.24782999657421,84.93481113365507,20.457884524565284,36.73935797563838,33.50430215420079,85.1148760667545,63.462314635748506,69.27050117762911,39.60042614901044,74.81392349459934,116.34200936504364,90.98096657933368,90.5127328540833,46.439025143680624,64.88937066088025,95.7359184150447,97.169883778669,90.56320550010896,108.06365009767057,101.02204757429394,65.63893880672116,84.39317274230628,106.71096344381951,145.69690215076085,69.92853707395227,83.5779584701897,111.68313026875829,128.4817986869039,50.47671888947026,59.869127484797545,82.95517069645423,94.19249642843788,29.215143317083317,59.360122231514914,30.44900120291603,49.16631599514323,18.81444401406892,25.58189863724609,99.93294373852362,23.05971097825767,50.36222308167003,39.75567940677033,58.23052540526054,89.7576364111316,29.674960264279324,61.857723478862916,88.71228188336707,30.32797479680956,48.802403770920044,57.08885755813022,85.92062688907158,46.09988760672043,63.9011776990292,123.18749947495104,163.1468195101508,49.708046162628925,81.55865388616193,39.48675818905196,60.699956996163905,36.30165300224351,54.97388655931064,95.14787809446334,29.391324618449865,52.028203629875826,31.04931575857485,50.66482827448618,69.95687854805884,92.21678364218587,18.272366180936814,40.047356964532746,20.570129034575054,43.348112362565516,35.223533773397165,56.018003823538706,65.80357265584301,85.63637764554132,54.87049988522756,55.26019044926664,39.71041967516161,50.60371230731764,58.73349537842935,60.10142154707209,41.241527014180946,60.20872356466075,78.13944901608875,64.22433104961206,105.8420329631722,134.61751811449187,85.06778135779325,76.58769291036597,48.549771830623364,76.30318762814267,100.89402287715465,43.75728843363097,72.53888836109651,63.58134229881564,94.09541794817137,109.41471386859223,68.4880183520684,90.60031267970946,65.60290157747444,104.6520950737677,144.78774817378664,84.81482907692184,71.02386073666827,88.99991264293689,59.45426965328584,45.3436112693288,50.17622626993145,81.57935892746666,85.56538754219729,117.93859622669054,40.074211912991814,70.5421227397273,110.65264700072781,59.344885730831244,100.65568387325769,94.49187370348434,57.44789093204825,45.04908734507934,74.42655198603072,48.15496468151394,88.84065233739743,40.23082523812751,69.36967821485956,59.30749935675505,79.94694139498644,39.180727891059185,69.50973195666901,10.057744157963795,102.32146282907705,71.08065292556302,58.83768768593532,62.2020487621652,81.49887361453722,91.67280736120641,30.03690875451283,59.93811689106631,72.88732526763863,94.98682406129177,74.81158080500036,113.55837945722938,20.97692645795844,49.66447112204236,79.49985630201311,119.39105342514799,52.80272087188348,74.67546985442866,93.44592792205526,73.36576853374109,95.37609600791099,113.09122373477742,43.602477108811264,40.4105047235504,41.019405159133015,61.02716013320826,109.0702892866861,120.02986947350863,35.18407298426994,54.07809178344186,93.40227554911051,104.43673235212523,50.481820054132804,100.3278925242284,75.02784413672092,111.03159754988792,137.75490099747833,131.7291984638631,160.76352067116244,149.02793181678098,180.8705235443254,98.81556207712345,147.36381599212743,149.7394757253124,180.60416146010834,99.3551550331608,149.24639261335733,180.39456206528004,71.18936116107541,92.85332361064688,46.09427543338615,55.50606934094897,76.68361356028119,58.27336442177783,77.89176580717503,104.53621316752852,62.116611242041316,81.18645886113316,110.29197131802239,29.256422408938974,41.69971595343454,49.53818083283487,33.998702926227004,52.73488994302607,26.51670726945151,53.36624643907565,40.18524683660869,60.224514624581104,93.95070656267414,48.44661168799485,125.35490791399009,30.88734219680526,64.27804018392175,42.62311973299892,46.83474896154736,27.403628619567293,79.22580170404015,60.83168016501996,70.45689085354111,95.20757498236105,29.68169584755579,81.40848926019935,46.712711104344685,61.8196827912393,83.05072848984173,62.30589633017828,85.90543518149519,58.508674271324566,91.4445560061961,59.59266034446768,60.5321251356741,91.35312211479923,44.4357461313746,53.909298266593254,53.34440186985074,104.86364562339254,104.29632733456721,41.68967150755641,62.81787033892294,64.72673308058675,40.27089346971456,71.2849783373252,23.34831699021902,77.96965046137875,12.271347125068313,70.84520200053133,15.120165200632812,91.26906653862699,92.92256399763593,39.419248392562395,49.95319902429389,80.36511079806763,121.76157550899057,38.44321470348479,34.94552249827479,116.62396690321243,141.54507362630426,39.981098280938845,66.6582031423754,29.98368742405954,59.07119912852521,61.46592589055136,85.23225508106361,91.25515919388664,49.00617967126688,69.45483713102182,59.09026355109436,60.90363435288324,91.48740729878904,133.1730214096175,43.95892541517353,129.471764458908,80.6775840939299,56.318135933184195,110.62932684587774,95.36429743376735,124.29980613480645,121.28586662797744,115.61277985536738,62.7947869326521,130.90689360500326,44.7642376139032,70.30528383115544,135.19509185963642,64.2501339919125,63.60701810420533,76.30604672398457,66.8607295319025,77.80689700017288,95.10426540729195,104.7126856173936,105.91670344381924,105.23259701627514,104.31273840777192,105.89086522182568,75.40295947280269,104.91665436831602,124.39055375923557,150.47296456020112,150.62058077092715,130.73689177115014,79.10030120456231,100.6151599741857,119.72913948289397,75.51520997766758,79.94633762170432,100.73410990000984,135.52544035593687,100.58222355934745,120.51832536025486,120.35805912487848,99.83032823397767,44.82989823486674,59.43864865468361,74.64504372490546,44.14218771055181,71.2380849660192,99.77024459919956,64.13259622322097,83.71362176157871,107.69917814451058,32.934506659817686,59.99455815933296,24.05841326432445,34.37231693193919,45.51461605713793,49.70036400118098,88.75250633164558,52.14841745521649,97.127077819399,53.274740503470376,97.46480208235394,52.271399118741954,98.67403453942966,69.01799811463556,105.02849493447344,35.67021849732568,48.854239352447095,65.1734012498551,48.72038826820057,80.46400728076226,25.481501664545952,50.82229049372246,60.02660465061591,55.52229808027907,77.59481171096688,29.702458831211107,50.72001647500171,58.36629604049721,81.07012273466144,25.075277165705582,39.54128471355126,54.90209378241046,49.715832524354,64.3454064687045,83.88772710321213,29.55566218729784,30.021323446927127,39.80814092408284,49.793758654018404,69.57832635088239,29.286893760621595,40.128537535137404,55.71339015789166,37.91406124655072,76.91689179807683,70.35976819362392,110.55211772238337,79.94076032352974,34.86928287932184,45.74477249078313,64.64335866463347,17.484897561140173,28.531123254341015,138.8161644705923,105.78553316976272,34.054557499987,64.6534081733908,35.30089033941456,45.341479024057215,102.89990141352895,55.97012287548404,93.27578126568045,52.04463896519103,82.21169849896883,74.82128984775629,110.5455284922505,40.25974095271199,60.50118887971497,79.75027336556917,119.77151721816381,42.28087094159002,65.93935427655651,55.41581986766236,72.79295706784023,95.12588844733042,105.11380205121264,124.60021138401628,122.76856724600631,45.094147392337696,88.08304125197581,65.0331802385319,79.21196707107296,110.00919735619827,39.91503314048848,58.45037862009045,75.82792424911686,38.922964434508806,61.58142693449581,55.905863001343775,85.95158432105006,66.94400261357299,85.262031545192,40.88830988588111,59.070846824604104,97.73648330554856,23.351937725095354,54.57734149031767,43.93472166619733,69.74644726220225,69.98550213655439,45.80202554528036,74.69076638226981,102.30169180168144,84.8478987434144,123.8640660406367,64.16105364729762,93.2642264234358,147.196739968631,30.112672628809936,38.47696275780042,58.55826833681396,61.394211731258444,68.90699120528535,96.83955664192878,40.02835366804366,99.77714284880354,80.8776127045885,55.4571964525423,94.46539809681076,58.650907761151345,33.258696963403025,53.751089451253314,40.61957001967717,60.32419678794566,40.17255832731044,36.32317806848668,56.66401986870649,44.301011931891715,54.637002906289645,102.92964423796255,46.44944452765668,45.047507944447986,64.85475871948749,124.25312920509303,49.92367091506446,134.7877057196671,91.60583703316128,73.78177617118256,90.46445302180148,124.95543532353004,109.78405603240085,125.69931336188921,144.8689122621171,150.9261901172842,119.30863667570837,116.07947849351541,104.73562504320388,129.69172867852265,120.10727182946557,170.51965406285936,130.0688600572467,129.16248155710704,128.3424049680705,74.75073396272121,120.72416195169018,48.323752035378,55.510149004660335,75.00893000850547,61.77023417902654,91.28652449537148,111.72728809120429,61.66332973841769,84.05059529671742,101.47573043165006,33.98870498541227,49.58590860237257,39.764925073037475,55.05415196932191,74.29025462578433,25.82599932018282,26.388552331960554,89.2232354010771,72.67079440070762,109.38776597000411,62.24829464319039,76.10508856203471,114.54447172368529,62.86965638813363,96.01401023796134,46.998633935607835,70.67002569514551,64.16675133557496,61.91248856189876,82.25223490154195,80.9997888475171,33.74114248206322,44.83786833517867,150.18174598943202,50.70692295979717,63.52946262841764,98.23871911568591,59.356414969481676,85.87541350904915,37.20415112153329,67.96817537906438,41.25461207377739,52.883671743905325,59.94681517022445,96.37390236654028,58.21543030448691,120.48866259964704,62.6301508142042,108.52768951397935,45.12218809023495,69.58841731228148,67.49973100653476,99.56643821610425,112.29867986737338,74.47616360003904,81.91090981607701,49.58861416282801,54.375159371039175,82.7271390779012,109.96559504687593,80.78266228078171,49.12899169040525,66.03132385145294,43.30017327323291,45.134756188602225,45.00568497314056,43.9400677233728,57.958996286015136,57.030305622229,58.386355419339324,58.77766995611759,34.537846731828104,43.649275810075615,44.560621810524346,96.38263829305419,132.05389876867935,131.43723511447757,80.1823079259478,99.3413795443776,160.77717505576052,149.577810624659,169.77383124449972,131.71947326519404]},{\"axis\":{\"matches\":true},\"label\":\"Fail\",\"values\":[false,false,false,false,false,false,false,false,false,false,false,false,true,false,false,false,false,false,false,false,false,false,false,false,false,false,false,false,false,false,false,false,false,false,false,false,false,false,false,false,false,false,false,false,false,false,false,false,false,false,false,false,false,false,false,false,false,false,false,false,false,false,false,false,false,false,false,false,false,false,false,false,false,false,false,false,false,false,false,false,false,false,false,false,false,false,false,false,false,false,false,false,false,false,false,false,false,false,false,false,false,false,false,false,false,false,false,false,false,false,false,false,false,false,false,false,false,false,false,false,false,false,false,false,false,false,false,false,false,false,false,false,false,false,false,false,false,false,false,false,false,false,false,false,false,false,false,false,false,false,false,false,false,false,false,false,true,true,true,false,false,false,true,true,true,false,false,false,false,false,false,false,false,false,false,false,false,false,false,false,false,false,false,false,false,false,false,false,false,false,false,false,false,false,false,false,false,false,false,false,false,false,false,false,false,false,false,false,false,false,false,false,false,false,false,false,false,false,false,false,false,false,false,false,false,false,false,false,false,false,false,false,false,false,false,false,false,false,false,false,false,false,false,false,false,false,false,false,false,false,false,false,false,false,false,false,false,false,false,false,false,false,true,true,true,false,false,false,false,true,true,false,false,false,false,false,false,false,false,false,false,false,false,false,false,false,false,false,false,false,false,false,false,false,false,false,false,false,false,false,false,false,false,false,false,false,false,false,false,false,false,false,false,false,false,false,false,false,false,false,false,false,false,false,false,false,false,false,false,false,false,false,false,false,false,false,false,false,false,false,false,false,false,false,false,false,false,false,false,false,false,false,false,false,false,false,false,false,false,false,false,false,false,false,false,false,false,false,false,false,false,false,false,false,false,false,false,false,false,false,false,false,false,false,false,false,false,false,false,false,false,false,false,false,false,false,false,false,false,false,false,false,false,false,false,false,false,false,false,false,false,false,false,false,true,true,true,true,true,true,true,true,true,true,true,true,true,true,true,true,true,true,false,false,false,false,false,false,false,false,false,false,false,false,false,false,false,false,false,false,false,false,false,false,false,false,false,false,false,false,false,false,false,false,false,false,false,false,false,false,false,false,false,false,false,false,false,false,false,false,false,false,false,false,false,false,false,false,false,false,false,false,false,false,false,false,false,false,false,false,false,false,false,false,false,false,false,false,false,false,false,false,false,false,false,false,false,false,false,false,false,false,false,false,false,false,false,false,false,false,false,false,false,false,false,false,false,true,true,true,true,true,true,true,true,true,false,false,false,true,true,true,true,true,false,false,false,false,false,false,false,false,false,false,false,false,false,false,false,false,false,false,false,false,false,false,false,false,false,false,false,false,false,false,false,false,false,false,false,false,false,false,false,false,false,false,false,false,false,false,false,false,false,false,false,false,false,false,false,false,false,false,false,false,false,false,false,false,false,false,false,false,false,false,false,false,false,false,false,false,false,false,false,false,false,false,false,false,false,false,false,false,false,false,false,false,false,false,false,false,false,false,false,false,false,false,false,false,false,false,false,false,false,false,false,false,false,false,false,false,false,false,false,false,false,false,false,false,false,false,false,false,false,false,false,false,false,false,false,false,false,false,false,false,false,false,false,false,false,true,true,true,true,true,true,true,true,true,true,true,true,true,true,false,false,false,false,false,false,false,false,false,false,false,false,false,false,false,false,false,false,false,false,false,false,false,false,false,false,false,false,false,false,false,false,false,false,false,false,false,false,false,false,false,false,false,false,false,false,false,false,false,false,false,false,false,false,false,false,false,false,false,false,false,false,false,false,false,false,false,false,false,false,false,false,false,false,false,false,false,false,false,true,true,true,true,true,true,true,true]}],\"hovertemplate\":\"%{xaxis.title.text}=%{x}<br>%{yaxis.title.text}=%{y}<extra></extra>\",\"legendgroup\":\"\",\"marker\":{\"color\":\"#636efa\",\"symbol\":\"circle\"},\"name\":\"\",\"showlegend\":false,\"type\":\"splom\"}],                        {\"template\":{\"data\":{\"histogram2dcontour\":[{\"type\":\"histogram2dcontour\",\"colorbar\":{\"outlinewidth\":0,\"ticks\":\"\"},\"colorscale\":[[0.0,\"#0d0887\"],[0.1111111111111111,\"#46039f\"],[0.2222222222222222,\"#7201a8\"],[0.3333333333333333,\"#9c179e\"],[0.4444444444444444,\"#bd3786\"],[0.5555555555555556,\"#d8576b\"],[0.6666666666666666,\"#ed7953\"],[0.7777777777777778,\"#fb9f3a\"],[0.8888888888888888,\"#fdca26\"],[1.0,\"#f0f921\"]]}],\"choropleth\":[{\"type\":\"choropleth\",\"colorbar\":{\"outlinewidth\":0,\"ticks\":\"\"}}],\"histogram2d\":[{\"type\":\"histogram2d\",\"colorbar\":{\"outlinewidth\":0,\"ticks\":\"\"},\"colorscale\":[[0.0,\"#0d0887\"],[0.1111111111111111,\"#46039f\"],[0.2222222222222222,\"#7201a8\"],[0.3333333333333333,\"#9c179e\"],[0.4444444444444444,\"#bd3786\"],[0.5555555555555556,\"#d8576b\"],[0.6666666666666666,\"#ed7953\"],[0.7777777777777778,\"#fb9f3a\"],[0.8888888888888888,\"#fdca26\"],[1.0,\"#f0f921\"]]}],\"heatmap\":[{\"type\":\"heatmap\",\"colorbar\":{\"outlinewidth\":0,\"ticks\":\"\"},\"colorscale\":[[0.0,\"#0d0887\"],[0.1111111111111111,\"#46039f\"],[0.2222222222222222,\"#7201a8\"],[0.3333333333333333,\"#9c179e\"],[0.4444444444444444,\"#bd3786\"],[0.5555555555555556,\"#d8576b\"],[0.6666666666666666,\"#ed7953\"],[0.7777777777777778,\"#fb9f3a\"],[0.8888888888888888,\"#fdca26\"],[1.0,\"#f0f921\"]]}],\"heatmapgl\":[{\"type\":\"heatmapgl\",\"colorbar\":{\"outlinewidth\":0,\"ticks\":\"\"},\"colorscale\":[[0.0,\"#0d0887\"],[0.1111111111111111,\"#46039f\"],[0.2222222222222222,\"#7201a8\"],[0.3333333333333333,\"#9c179e\"],[0.4444444444444444,\"#bd3786\"],[0.5555555555555556,\"#d8576b\"],[0.6666666666666666,\"#ed7953\"],[0.7777777777777778,\"#fb9f3a\"],[0.8888888888888888,\"#fdca26\"],[1.0,\"#f0f921\"]]}],\"contourcarpet\":[{\"type\":\"contourcarpet\",\"colorbar\":{\"outlinewidth\":0,\"ticks\":\"\"}}],\"contour\":[{\"type\":\"contour\",\"colorbar\":{\"outlinewidth\":0,\"ticks\":\"\"},\"colorscale\":[[0.0,\"#0d0887\"],[0.1111111111111111,\"#46039f\"],[0.2222222222222222,\"#7201a8\"],[0.3333333333333333,\"#9c179e\"],[0.4444444444444444,\"#bd3786\"],[0.5555555555555556,\"#d8576b\"],[0.6666666666666666,\"#ed7953\"],[0.7777777777777778,\"#fb9f3a\"],[0.8888888888888888,\"#fdca26\"],[1.0,\"#f0f921\"]]}],\"surface\":[{\"type\":\"surface\",\"colorbar\":{\"outlinewidth\":0,\"ticks\":\"\"},\"colorscale\":[[0.0,\"#0d0887\"],[0.1111111111111111,\"#46039f\"],[0.2222222222222222,\"#7201a8\"],[0.3333333333333333,\"#9c179e\"],[0.4444444444444444,\"#bd3786\"],[0.5555555555555556,\"#d8576b\"],[0.6666666666666666,\"#ed7953\"],[0.7777777777777778,\"#fb9f3a\"],[0.8888888888888888,\"#fdca26\"],[1.0,\"#f0f921\"]]}],\"mesh3d\":[{\"type\":\"mesh3d\",\"colorbar\":{\"outlinewidth\":0,\"ticks\":\"\"}}],\"scatter\":[{\"fillpattern\":{\"fillmode\":\"overlay\",\"size\":10,\"solidity\":0.2},\"type\":\"scatter\"}],\"parcoords\":[{\"type\":\"parcoords\",\"line\":{\"colorbar\":{\"outlinewidth\":0,\"ticks\":\"\"}}}],\"scatterpolargl\":[{\"type\":\"scatterpolargl\",\"marker\":{\"colorbar\":{\"outlinewidth\":0,\"ticks\":\"\"}}}],\"bar\":[{\"error_x\":{\"color\":\"#2a3f5f\"},\"error_y\":{\"color\":\"#2a3f5f\"},\"marker\":{\"line\":{\"color\":\"#E5ECF6\",\"width\":0.5},\"pattern\":{\"fillmode\":\"overlay\",\"size\":10,\"solidity\":0.2}},\"type\":\"bar\"}],\"scattergeo\":[{\"type\":\"scattergeo\",\"marker\":{\"colorbar\":{\"outlinewidth\":0,\"ticks\":\"\"}}}],\"scatterpolar\":[{\"type\":\"scatterpolar\",\"marker\":{\"colorbar\":{\"outlinewidth\":0,\"ticks\":\"\"}}}],\"histogram\":[{\"marker\":{\"pattern\":{\"fillmode\":\"overlay\",\"size\":10,\"solidity\":0.2}},\"type\":\"histogram\"}],\"scattergl\":[{\"type\":\"scattergl\",\"marker\":{\"colorbar\":{\"outlinewidth\":0,\"ticks\":\"\"}}}],\"scatter3d\":[{\"type\":\"scatter3d\",\"line\":{\"colorbar\":{\"outlinewidth\":0,\"ticks\":\"\"}},\"marker\":{\"colorbar\":{\"outlinewidth\":0,\"ticks\":\"\"}}}],\"scattermapbox\":[{\"type\":\"scattermapbox\",\"marker\":{\"colorbar\":{\"outlinewidth\":0,\"ticks\":\"\"}}}],\"scatterternary\":[{\"type\":\"scatterternary\",\"marker\":{\"colorbar\":{\"outlinewidth\":0,\"ticks\":\"\"}}}],\"scattercarpet\":[{\"type\":\"scattercarpet\",\"marker\":{\"colorbar\":{\"outlinewidth\":0,\"ticks\":\"\"}}}],\"carpet\":[{\"aaxis\":{\"endlinecolor\":\"#2a3f5f\",\"gridcolor\":\"white\",\"linecolor\":\"white\",\"minorgridcolor\":\"white\",\"startlinecolor\":\"#2a3f5f\"},\"baxis\":{\"endlinecolor\":\"#2a3f5f\",\"gridcolor\":\"white\",\"linecolor\":\"white\",\"minorgridcolor\":\"white\",\"startlinecolor\":\"#2a3f5f\"},\"type\":\"carpet\"}],\"table\":[{\"cells\":{\"fill\":{\"color\":\"#EBF0F8\"},\"line\":{\"color\":\"white\"}},\"header\":{\"fill\":{\"color\":\"#C8D4E3\"},\"line\":{\"color\":\"white\"}},\"type\":\"table\"}],\"barpolar\":[{\"marker\":{\"line\":{\"color\":\"#E5ECF6\",\"width\":0.5},\"pattern\":{\"fillmode\":\"overlay\",\"size\":10,\"solidity\":0.2}},\"type\":\"barpolar\"}],\"pie\":[{\"automargin\":true,\"type\":\"pie\"}]},\"layout\":{\"autotypenumbers\":\"strict\",\"colorway\":[\"#636efa\",\"#EF553B\",\"#00cc96\",\"#ab63fa\",\"#FFA15A\",\"#19d3f3\",\"#FF6692\",\"#B6E880\",\"#FF97FF\",\"#FECB52\"],\"font\":{\"color\":\"#2a3f5f\"},\"hovermode\":\"closest\",\"hoverlabel\":{\"align\":\"left\"},\"paper_bgcolor\":\"white\",\"plot_bgcolor\":\"#E5ECF6\",\"polar\":{\"bgcolor\":\"#E5ECF6\",\"angularaxis\":{\"gridcolor\":\"white\",\"linecolor\":\"white\",\"ticks\":\"\"},\"radialaxis\":{\"gridcolor\":\"white\",\"linecolor\":\"white\",\"ticks\":\"\"}},\"ternary\":{\"bgcolor\":\"#E5ECF6\",\"aaxis\":{\"gridcolor\":\"white\",\"linecolor\":\"white\",\"ticks\":\"\"},\"baxis\":{\"gridcolor\":\"white\",\"linecolor\":\"white\",\"ticks\":\"\"},\"caxis\":{\"gridcolor\":\"white\",\"linecolor\":\"white\",\"ticks\":\"\"}},\"coloraxis\":{\"colorbar\":{\"outlinewidth\":0,\"ticks\":\"\"}},\"colorscale\":{\"sequential\":[[0.0,\"#0d0887\"],[0.1111111111111111,\"#46039f\"],[0.2222222222222222,\"#7201a8\"],[0.3333333333333333,\"#9c179e\"],[0.4444444444444444,\"#bd3786\"],[0.5555555555555556,\"#d8576b\"],[0.6666666666666666,\"#ed7953\"],[0.7777777777777778,\"#fb9f3a\"],[0.8888888888888888,\"#fdca26\"],[1.0,\"#f0f921\"]],\"sequentialminus\":[[0.0,\"#0d0887\"],[0.1111111111111111,\"#46039f\"],[0.2222222222222222,\"#7201a8\"],[0.3333333333333333,\"#9c179e\"],[0.4444444444444444,\"#bd3786\"],[0.5555555555555556,\"#d8576b\"],[0.6666666666666666,\"#ed7953\"],[0.7777777777777778,\"#fb9f3a\"],[0.8888888888888888,\"#fdca26\"],[1.0,\"#f0f921\"]],\"diverging\":[[0,\"#8e0152\"],[0.1,\"#c51b7d\"],[0.2,\"#de77ae\"],[0.3,\"#f1b6da\"],[0.4,\"#fde0ef\"],[0.5,\"#f7f7f7\"],[0.6,\"#e6f5d0\"],[0.7,\"#b8e186\"],[0.8,\"#7fbc41\"],[0.9,\"#4d9221\"],[1,\"#276419\"]]},\"xaxis\":{\"gridcolor\":\"white\",\"linecolor\":\"white\",\"ticks\":\"\",\"title\":{\"standoff\":15},\"zerolinecolor\":\"white\",\"automargin\":true,\"zerolinewidth\":2},\"yaxis\":{\"gridcolor\":\"white\",\"linecolor\":\"white\",\"ticks\":\"\",\"title\":{\"standoff\":15},\"zerolinecolor\":\"white\",\"automargin\":true,\"zerolinewidth\":2},\"scene\":{\"xaxis\":{\"backgroundcolor\":\"#E5ECF6\",\"gridcolor\":\"white\",\"linecolor\":\"white\",\"showbackground\":true,\"ticks\":\"\",\"zerolinecolor\":\"white\",\"gridwidth\":2},\"yaxis\":{\"backgroundcolor\":\"#E5ECF6\",\"gridcolor\":\"white\",\"linecolor\":\"white\",\"showbackground\":true,\"ticks\":\"\",\"zerolinecolor\":\"white\",\"gridwidth\":2},\"zaxis\":{\"backgroundcolor\":\"#E5ECF6\",\"gridcolor\":\"white\",\"linecolor\":\"white\",\"showbackground\":true,\"ticks\":\"\",\"zerolinecolor\":\"white\",\"gridwidth\":2}},\"shapedefaults\":{\"line\":{\"color\":\"#2a3f5f\"}},\"annotationdefaults\":{\"arrowcolor\":\"#2a3f5f\",\"arrowhead\":0,\"arrowwidth\":1},\"geo\":{\"bgcolor\":\"white\",\"landcolor\":\"#E5ECF6\",\"subunitcolor\":\"white\",\"showland\":true,\"showlakes\":true,\"lakecolor\":\"white\"},\"title\":{\"x\":0.05},\"mapbox\":{\"style\":\"light\"}}},\"legend\":{\"tracegroupgap\":0},\"margin\":{\"t\":60},\"dragmode\":\"select\"},                        {\"responsive\": true}                    ).then(function(){\n",
              "                            \n",
              "var gd = document.getElementById('8c655ce3-4eb5-481a-8612-33785f68c7b0');\n",
              "var x = new MutationObserver(function (mutations, observer) {{\n",
              "        var display = window.getComputedStyle(gd).display;\n",
              "        if (!display || display === 'none') {{\n",
              "            console.log([gd, 'removed!']);\n",
              "            Plotly.purge(gd);\n",
              "            observer.disconnect();\n",
              "        }}\n",
              "}});\n",
              "\n",
              "// Listen for the removal of the full notebook cells\n",
              "var notebookContainer = gd.closest('#notebook-container');\n",
              "if (notebookContainer) {{\n",
              "    x.observe(notebookContainer, {childList: true});\n",
              "}}\n",
              "\n",
              "// Listen for the clearing of the current output cell\n",
              "var outputEl = gd.closest('.output');\n",
              "if (outputEl) {{\n",
              "    x.observe(outputEl, {childList: true});\n",
              "}}\n",
              "\n",
              "                        })                };                            </script>        </div>\n",
              "</body>\n",
              "</html>"
            ]
          },
          "metadata": {}
        }
      ]
    },
    {
      "cell_type": "markdown",
      "source": [
        "__Remark:__ When failure occurs, ```VibrationY``` falls into some interval around $125$ (roughly)."
      ],
      "metadata": {
        "id": "WjZlWtFcFSkO"
      }
    },
    {
      "cell_type": "code",
      "source": [
        "graph = px.scatter_matrix(df, dimensions=['VibrationZ', 'Fail'])\n",
        "graph.show()"
      ],
      "metadata": {
        "id": "FH0hNrsv5M_0",
        "colab": {
          "base_uri": "https://localhost:8080/"
        },
        "outputId": "86ac86ad-295b-4b83-c5e7-199bc82a8492"
      },
      "execution_count": null,
      "outputs": [
        {
          "output_type": "display_data",
          "data": {
            "text/html": [
              "<html>\n",
              "<head><meta charset=\"utf-8\" /></head>\n",
              "<body>\n",
              "    <div>            <script src=\"https://cdnjs.cloudflare.com/ajax/libs/mathjax/2.7.5/MathJax.js?config=TeX-AMS-MML_SVG\"></script><script type=\"text/javascript\">if (window.MathJax && window.MathJax.Hub && window.MathJax.Hub.Config) {window.MathJax.Hub.Config({SVG: {font: \"STIX-Web\"}});}</script>                <script type=\"text/javascript\">window.PlotlyConfig = {MathJaxConfig: 'local'};</script>\n",
              "        <script src=\"https://cdn.plot.ly/plotly-2.18.2.min.js\"></script>                <div id=\"3ebdb9e0-8cc3-4a16-9afd-4ba15842ff62\" class=\"plotly-graph-div\" style=\"height:525px; width:100%;\"></div>            <script type=\"text/javascript\">                                    window.PLOTLYENV=window.PLOTLYENV || {};                                    if (document.getElementById(\"3ebdb9e0-8cc3-4a16-9afd-4ba15842ff62\")) {                    Plotly.newPlot(                        \"3ebdb9e0-8cc3-4a16-9afd-4ba15842ff62\",                        [{\"dimensions\":[{\"axis\":{\"matches\":true},\"label\":\"VibrationZ\",\"values\":[66.45451956495226,81.2464046543589,98.78519593981386,118.65253755569158,50.716468799909116,65.9115276260396,86.23072783994853,85.21856206935989,115.21193417840209,64.91508976597632,79.44621580920155,103.14104442290302,115.87319742582842,21.511250581717196,24.279292913259745,79.26700369041207,20.65086270404082,24.45892777534026,78.28995520317477,79.77216480827944,35.11569489754013,48.259038493480126,67.82937751161757,81.72500910514708,33.891921332058644,69.83776363336324,29.642047304881046,60.85868682425119,53.392313965276784,78.39841453046117,50.48616932750221,80.01493994582525,30.58916655198496,56.58751052458717,39.5878265986364,54.0914477795748,83.54526183361071,38.411017431446396,55.6457759003234,73.98051277812942,62.398535613040956,88.81519813775455,65.88205449999703,99.09113963726791,25.701206892052312,50.46858256144141,38.35043748251837,74.20784072348215,64.97286569216722,73.80830272511118,89.67596554984998,54.0331295287409,79.21976322944899,54.059456744784406,76.00149283276254,44.00229060831247,69.72688287234132,38.52367717410156,65.71924096879545,49.363256790009125,80.26599709886389,45.107991216444596,69.38976262200573,51.08799037445513,79.01402908309815,39.504209976173364,51.18575504508633,89.57051954745037,54.39004390624209,70.63898394555542,95.52016437458931,94.90240931605292,35.96725281143862,59.93719828533074,86.27754566253893,31.010751993800106,44.626551957245496,70.98660574377566,100.52553341105744,120.4771776863848,31.976664397924598,43.36653128387536,64.13347024364927,64.96793009275245,78.39403482330935,40.40974392093328,80.46559953226792,80.72619965472023,54.37211160796638,69.15126585662048,63.38320728260747,35.12521987943405,59.073381754366935,70.22708543479742,94.74846762674652,50.30734661278092,99.59036026025912,23.574943555849828,44.76003752331974,35.141479875922215,55.2788881275753,74.74298956724513,93.73229839323022,43.534014068123305,88.8363855104236,114.51314913137783,23.94546081895716,50.494121566442594,56.99132020310308,79.94628753652214,44.8143491116923,64.4622132296027,49.68504102990876,80.21102621230824,108.90634680039716,110.63227292177686,74.50823241941953,47.40765200474204,69.40495800274583,30.228125280732446,45.7367754941066,105.94282652078587,39.11289972988143,79.43644241330904,99.32906142200244,26.924186431052156,43.78269007148054,50.88326657777228,79.45865254345863,55.078665330689184,85.23918233030476,119.41685920053756,80.03433566490888,92.63893958435555,85.13882024040804,85.63036582913416,70.13960391119562,90.54587373584458,68.7664506437276,18.824633850561856,99.22119959966325,130.15806756045288,94.9426470889193,48.59963663905044,61.8535589303229,93.96962522668875,94.56797287442055,110.85132941059756,75.61219541531459,55.01043146828102,69.26467059205306,45.32151992570638,71.44454357932447,74.2733827213919,95.08805045645832,110.30549472651111,124.97030108273798,88.85287223434861,84.30646742473711,49.987143642003964,70.09908727091819,100.39538507081602,90.29992317116574,99.77316284233947,119.13606789094047,98.86511369643472,62.96916459597743,81.49829010183112,99.74524208408207,50.84760082274143,64.2243097029827,84.42905583668608,48.290000112427954,63.19630205719629,84.37707303484042,44.869008423102066,53.94215904977554,55.84177486862331,94.65174716576493,78.49668916312851,110.68477945931936,38.046914591631605,59.256743206050565,80.09807789525388,56.38620776857056,76.98399665684015,34.6739637210571,55.92978753722324,18.78416885774164,65.24400485506176,106.27008154721948,43.388535625354606,69.26796716401044,45.504174333996666,60.64310240359194,89.21539648852644,110.06163604644942,101.18579144660818,49.36141938389959,80.31834327798573,65.00811891672022,99.65301689120992,56.29709255058797,64.80596186701757,96.03826657448596,54.988772518808524,29.39228559612251,84.9510196137675,43.518170886655454,24.357617557296567,65.45255247656675,95.15964608182199,131.6065592279977,42.643426067974474,110.77053563987134,86.23257456186818,46.85485675067678,56.56578688695024,63.38842979498693,35.27034347304865,60.27365830037168,63.393187752696484,64.45704983995418,64.82127176297931,93.69866757379906,39.2957476811529,61.03251077878492,54.800425677701966,81.02293093202577,99.4663331382169,230.95113447414343,93.70623014230716,105.40197327240234,74.67059450572931,51.081908566443964,74.97410490249341,41.40342461210165,79.20049264951913,29.209348839054634,59.75321218832915,85.24081782482916,33.23333305156606,75.92950958689049,44.17023634852377,140.33366489441624,70.19255483639235,49.112043349103175,78.5901301155802,91.71889526189359,95.16075256820169,38.219328782733065,60.53699047879491,95.93505431379823,67.0301621616831,45.28156136804833,33.63870099907958,111.45753025077228,63.89135546455936,54.73016395329107,56.12352226704234,70.29791636308576,134.39403698869432,100.12946377436587,73.47912463237898,115.10434593148865,50.10021017924283,70.06888480741331,97.59753958041199,121.18083225592403,153.32708213754844,154.25587743818983,101.04036266443748,55.87578996090908,66.0697258626146,85.89683690745717,85.26101166461214,49.85176792936378,60.735953221821696,69.98773596460987,77.2368040164195,50.75293379981237,71.95910778861916,91.90415671005803,108.96675718245919,30.21412889946694,59.02295135019531,41.15442076792301,62.124411606983905,29.475124557676228,24.267815550167757,50.419450469672604,24.54550286704582,90.89147805001036,51.27090216642322,69.65311983639461,101.12470389936092,29.823317911245116,41.55952186532994,59.09659310970968,30.996054007292102,50.437973842785844,29.406385015792893,71.46560614470744,33.65035616284614,54.20633173911415,113.25627787273527,133.22718069090956,50.93577748367565,81.21047310939628,60.46845550105681,59.49314787207269,35.48306852582606,54.45731046233085,66.62361162217915,29.90115116654553,50.15937530936294,30.779705555680216,23.89605959479108,41.1145106706781,74.15491106266253,28.991120541550522,60.86362983373967,39.268676946584996,90.48709594176927,34.77925928281011,55.71395923084891,63.5691733289207,115.44667140295948,53.37916897786128,95.83817381267674,40.84661257182928,49.173026545217546,61.73822801584698,80.03334130038667,55.11804773166384,73.34596426322892,85.98792719463428,39.755881520147604,59.67337751543283,79.56821873865705,75.59649889924727,86.0114561115562,75.23436665067356,75.17209876320852,80.0507967535915,52.28261514276683,83.18566897025974,19.772015943749256,40.14308323585663,65.05819464677953,34.93689601762437,45.69077700204555,43.06391603338562,75.71387228515138,105.47385500634489,72.83712842806212,79.93893094999076,110.43217645087425,59.66325120283353,46.44325180746961,48.59035093069698,81.95179039819016,41.54972653891373,60.34568352353343,72.49652033089801,105.55058875048934,105.11629222310515,60.00327992872492,60.033546192133464,87.03152451312546,64.64808650439322,41.03324778445622,69.90550806521541,34.10913222110167,55.99340805580217,71.74039968418133,121.08407523690057,87.16703409278934,104.08391171933732,51.70760407870899,79.9949023540441,55.69890563340775,124.47812918467065,69.79543356206989,119.51497108363452,31.71592038714055,63.30951852528246,81.82198434170088,89.04380953008679,130.430204834892,86.86547481232407,80.97243982371681,60.94159625058381,60.28754647908361,46.71960194413623,50.547853521678356,80.74685105500963,80.74015012317555,50.133841165892285,70.11935324161855,88.65563703996462,55.537512325754975,76.4736085884125,74.57545323758934,65.33532989925587,66.22616040870756,31.404397727390762,47.37014493101149,79.23231680003492,89.75454540340381,60.362974399948634,79.82302747949127,89.27870132222482,108.04243109073504,100.0008434244677,200.2426741246194,149.76790388760938,129.16658017685464,149.18978669708517,110.21455125044493,120.57937185654222,137.8651360141335,157.08361348504278,91.7005810610777,91.49435418708883,90.3178609297325,99.02036323218411,99.04851630392483,50.7992066285109,20.52264181580262,160.23955751953267,89.8457606306464,56.863149982445385,63.49638672485308,83.92706082677857,43.21536311031086,51.28810088822223,68.52530155323659,56.31864185477732,76.94795817269781,101.30374853005263,29.056857690585094,39.88221282960222,60.15733606321493,40.126695139747845,61.684489356409294,40.239386847982075,50.262255393299185,35.31188474929101,49.310909729832886,81.90190278289722,69.95787932980336,105.43011894846668,29.723745604976937,48.572824081211216,88.36107856727132,138.8519033681826,44.77825707286823,104.90135610844277,84.82551171507124,95.09742129748655,52.3049972202313,41.18744615798765,102.90229148324806,89.82091514999026,28.95505992383207,49.58554087028974,53.0697130362687,76.7193926391079,63.40503582240492,81.8509309927284,65.67915301807314,43.817090449042766,53.69103990621322,55.76318894149268,96.39810304239987,96.08559109844401,104.32818047028371,52.783798145036414,37.36318540901702,58.71061441300212,49.460599555499186,40.37707411234869,61.49075150461277,86.38686117941839,115.88779049911943,45.061041226622656,88.62134219857799,64.27634780687238,43.487665254240994,109.32551996726761,45.60724706560663,55.561932748105924,84.97994928101544,94.18879456391755,83.59736556659843,42.20155155669278,70.93887188141936,68.92019395221564,42.417458585802024,71.33596165689644,55.37955656445205,74.90479612946972,41.081633756559405,64.84390148246437,69.19915530434702,62.63027586166043,84.419145298492,120.10608665882495,59.12797213101539,85.67668743959891,104.3312378654843,84.46350350423346,88.60899872620473,92.10635298996985,55.49991741338948,50.19548292278006,83.91150508312106,95.85581204462095,114.74995758616882,57.46584373906328,63.017151486657795,94.70307748724348,74.88505872535248,61.1150423154587,76.95584897874689,115.1408077589464,114.42886100053296,150.38937404163516,135.85148837439223,69.34126106715995,76.1618997712828,106.73162443068848,106.26246240190395,107.70641303515352,105.78819749547957,104.18356773488276,129.3918048459252,105.48631221993759,70.67778422478663,98.46529569902876,120.6538818397624,104.55720362134224,110.42249614165279,121.24093423090504,99.56555016888693,130.21457283294896,80.7000338323945,99.1503270695519,89.95518665917066,99.46375387350164,75.67506480684045,118.79605704224527,99.23056819540244,54.4199244770327,75.08766930762107,95.7697725740801,45.67614720311817,54.40111907895315,65.00381024584442,46.85347204888373,59.90303261323358,70.46882148193176,40.483705826875436,71.15135876138753,43.102538035313124,66.24728486852052,89.1049360344578,38.08214371127733,49.66760510593449,49.84005862326572,63.82626530959533,47.76022919812141,63.38699478978987,46.181773489948675,60.80878110076864,54.660571365801005,94.37956697507691,30.021048906051615,42.97004813813064,54.32122785441648,30.790096449565336,62.83210575565079,26.67144896021601,42.42963095982268,79.65159728024919,42.759116584760484,54.98225418948977,45.42829971746397,64.50353851192118,88.87026458123945,126.72565439884826,36.402768166076505,49.55428530865123,66.92584419891799,39.62249054435738,53.0397092400604,74.72740313553453,84.37854607337607,75.06115366968207,60.03776451515135,80.3465915528467,80.35347497697884,39.64660076096694,77.79375245862082,71.83705342381029,51.15667261700508,75.3235582165795,47.71174646262281,76.4726557372956,56.55598588064141,34.53106884170458,44.95829847120306,69.30826813766338,44.65812954312197,54.676279970636905,103.55369709190018,66.9787136037872,35.30133603485905,76.22190232107019,69.929679401651,114.36518403034559,79.71830424088867,64.72141445936504,102.73334471799646,46.58666969559231,64.64579482758407,45.860614640845256,64.08215091894087,62.722541540134394,82.3886800175215,39.45823392221351,61.562833632771465,42.37572202060249,59.411859054221416,63.556313831169305,84.58113100510451,109.43952879763275,48.642734403907276,59.61271327787757,85.19946717263426,50.90911867512591,62.1789655775227,60.52582482704888,74.30512769529301,94.54498869305304,48.53066510505465,69.33794551133728,59.320279710719014,43.758424603018,103.77887249663397,53.33306485121031,78.42261469550729,85.65572003295064,105.33996152100475,44.42613689064599,49.635556847659416,59.75192863391421,87.08469181362858,117.59623367183187,59.215534327256684,85.64610704320178,86.14677580113752,39.56957890554841,70.21406711292602,80.75723298930868,55.60840968151792,94.54756663736097,54.491929995876504,59.63068525641356,90.97854094761227,38.88554378365121,50.25766330020946,69.58686446752539,39.790663416141484,78.71239720012511,135.15641815653615,65.51749777903886,61.93098257823804,100.41116575168826,49.626074815736075,60.3439129581552,90.85830878148369,49.814921406708194,80.04517195017253,39.35649288337709,69.42413394945034,96.76831151319516,49.15146339051058,74.23624228355094,64.79932367310597,95.49787900444841,66.38068527445229,46.5233587466465,49.99596859395766,69.33020507857778,89.18705065525597,56.378768641901466,105.3060998786274,72.84184010033299,89.98456969143763,129.9869860394852,79.32707631014625,89.19718178448063,80.13897059662689,81.85576439503983,120.53067912566505,101.59727570694021,81.60617217391813,80.53769825506004,89.2097898945828,89.250005511232,100.12543407442901,90.30002621310683,88.25896720136505,128.97295140303348,74.79089191563142,94.8984347112393,45.42993295224936,57.66074954622871,76.45539734901472,59.87112262688273,71.42961765292429,100.95409644654143,43.87310385480951,55.50302971885386,71.46062290167194,35.812610373898146,78.05677702751954,38.34116161873831,51.33736171824201,69.16522062533183,26.089790651663264,30.059284358067465,50.5806260502999,53.093589967177,65.33200958145576,79.06708790101024,97.41732089846406,154.69077458439358,58.167020382961645,81.48704976058552,46.71483402158284,71.6782816398217,91.1784577157777,58.94927087080605,81.25900056298515,80.51520639810761,35.3121536491292,49.50117728249804,49.21027841833895,150.43721027924533,64.72455202049206,88.95402622458039,55.806167754305456,76.79243806438419,45.306936024311064,74.66663619548805,55.61353828410089,85.1303889482027,59.085268846790726,123.84687329928508,61.39839316100246,88.0263808248295,42.721364035653586,93.3201167843654,44.70478383462202,58.573388791032706,62.47884243079447,90.8659822957289,131.36378701459049,62.32007302193086,66.89298659430925,151.97504599034582,73.95248484792023,114.0247325054503,150.8068756658677,86.48463951969391,59.5817849477973,83.0586129588475,54.75546114680017,56.95783135749566,55.203971592298295,56.56687592895403,76.257946032382,75.3587075289278,73.88817275939466,74.65297327466914,35.16465933587056,46.00531601195632,41.588443644978646,79.13182192477313,97.25411523674833,97.77893032025936,96.03515918185072,148.83848100416324,109.91756646810805,129.46384345028738,130.21342597474185,90.3311548463146]},{\"axis\":{\"matches\":true},\"label\":\"Fail\",\"values\":[false,false,false,false,false,false,false,false,false,false,false,false,true,false,false,false,false,false,false,false,false,false,false,false,false,false,false,false,false,false,false,false,false,false,false,false,false,false,false,false,false,false,false,false,false,false,false,false,false,false,false,false,false,false,false,false,false,false,false,false,false,false,false,false,false,false,false,false,false,false,false,false,false,false,false,false,false,false,false,false,false,false,false,false,false,false,false,false,false,false,false,false,false,false,false,false,false,false,false,false,false,false,false,false,false,false,false,false,false,false,false,false,false,false,false,false,false,false,false,false,false,false,false,false,false,false,false,false,false,false,false,false,false,false,false,false,false,false,false,false,false,false,false,false,false,false,false,false,false,false,false,false,false,false,false,false,true,true,true,false,false,false,true,true,true,false,false,false,false,false,false,false,false,false,false,false,false,false,false,false,false,false,false,false,false,false,false,false,false,false,false,false,false,false,false,false,false,false,false,false,false,false,false,false,false,false,false,false,false,false,false,false,false,false,false,false,false,false,false,false,false,false,false,false,false,false,false,false,false,false,false,false,false,false,false,false,false,false,false,false,false,false,false,false,false,false,false,false,false,false,false,false,false,false,false,false,false,false,false,false,false,false,true,true,true,false,false,false,false,true,true,false,false,false,false,false,false,false,false,false,false,false,false,false,false,false,false,false,false,false,false,false,false,false,false,false,false,false,false,false,false,false,false,false,false,false,false,false,false,false,false,false,false,false,false,false,false,false,false,false,false,false,false,false,false,false,false,false,false,false,false,false,false,false,false,false,false,false,false,false,false,false,false,false,false,false,false,false,false,false,false,false,false,false,false,false,false,false,false,false,false,false,false,false,false,false,false,false,false,false,false,false,false,false,false,false,false,false,false,false,false,false,false,false,false,false,false,false,false,false,false,false,false,false,false,false,false,false,false,false,false,false,false,false,false,false,false,false,false,false,false,false,false,false,true,true,true,true,true,true,true,true,true,true,true,true,true,true,true,true,true,true,false,false,false,false,false,false,false,false,false,false,false,false,false,false,false,false,false,false,false,false,false,false,false,false,false,false,false,false,false,false,false,false,false,false,false,false,false,false,false,false,false,false,false,false,false,false,false,false,false,false,false,false,false,false,false,false,false,false,false,false,false,false,false,false,false,false,false,false,false,false,false,false,false,false,false,false,false,false,false,false,false,false,false,false,false,false,false,false,false,false,false,false,false,false,false,false,false,false,false,false,false,false,false,false,false,true,true,true,true,true,true,true,true,true,false,false,false,true,true,true,true,true,false,false,false,false,false,false,false,false,false,false,false,false,false,false,false,false,false,false,false,false,false,false,false,false,false,false,false,false,false,false,false,false,false,false,false,false,false,false,false,false,false,false,false,false,false,false,false,false,false,false,false,false,false,false,false,false,false,false,false,false,false,false,false,false,false,false,false,false,false,false,false,false,false,false,false,false,false,false,false,false,false,false,false,false,false,false,false,false,false,false,false,false,false,false,false,false,false,false,false,false,false,false,false,false,false,false,false,false,false,false,false,false,false,false,false,false,false,false,false,false,false,false,false,false,false,false,false,false,false,false,false,false,false,false,false,false,false,false,false,false,false,false,false,false,false,true,true,true,true,true,true,true,true,true,true,true,true,true,true,false,false,false,false,false,false,false,false,false,false,false,false,false,false,false,false,false,false,false,false,false,false,false,false,false,false,false,false,false,false,false,false,false,false,false,false,false,false,false,false,false,false,false,false,false,false,false,false,false,false,false,false,false,false,false,false,false,false,false,false,false,false,false,false,false,false,false,false,false,false,false,false,false,false,false,false,false,false,false,true,true,true,true,true,true,true,true]}],\"hovertemplate\":\"%{xaxis.title.text}=%{x}<br>%{yaxis.title.text}=%{y}<extra></extra>\",\"legendgroup\":\"\",\"marker\":{\"color\":\"#636efa\",\"symbol\":\"circle\"},\"name\":\"\",\"showlegend\":false,\"type\":\"splom\"}],                        {\"template\":{\"data\":{\"histogram2dcontour\":[{\"type\":\"histogram2dcontour\",\"colorbar\":{\"outlinewidth\":0,\"ticks\":\"\"},\"colorscale\":[[0.0,\"#0d0887\"],[0.1111111111111111,\"#46039f\"],[0.2222222222222222,\"#7201a8\"],[0.3333333333333333,\"#9c179e\"],[0.4444444444444444,\"#bd3786\"],[0.5555555555555556,\"#d8576b\"],[0.6666666666666666,\"#ed7953\"],[0.7777777777777778,\"#fb9f3a\"],[0.8888888888888888,\"#fdca26\"],[1.0,\"#f0f921\"]]}],\"choropleth\":[{\"type\":\"choropleth\",\"colorbar\":{\"outlinewidth\":0,\"ticks\":\"\"}}],\"histogram2d\":[{\"type\":\"histogram2d\",\"colorbar\":{\"outlinewidth\":0,\"ticks\":\"\"},\"colorscale\":[[0.0,\"#0d0887\"],[0.1111111111111111,\"#46039f\"],[0.2222222222222222,\"#7201a8\"],[0.3333333333333333,\"#9c179e\"],[0.4444444444444444,\"#bd3786\"],[0.5555555555555556,\"#d8576b\"],[0.6666666666666666,\"#ed7953\"],[0.7777777777777778,\"#fb9f3a\"],[0.8888888888888888,\"#fdca26\"],[1.0,\"#f0f921\"]]}],\"heatmap\":[{\"type\":\"heatmap\",\"colorbar\":{\"outlinewidth\":0,\"ticks\":\"\"},\"colorscale\":[[0.0,\"#0d0887\"],[0.1111111111111111,\"#46039f\"],[0.2222222222222222,\"#7201a8\"],[0.3333333333333333,\"#9c179e\"],[0.4444444444444444,\"#bd3786\"],[0.5555555555555556,\"#d8576b\"],[0.6666666666666666,\"#ed7953\"],[0.7777777777777778,\"#fb9f3a\"],[0.8888888888888888,\"#fdca26\"],[1.0,\"#f0f921\"]]}],\"heatmapgl\":[{\"type\":\"heatmapgl\",\"colorbar\":{\"outlinewidth\":0,\"ticks\":\"\"},\"colorscale\":[[0.0,\"#0d0887\"],[0.1111111111111111,\"#46039f\"],[0.2222222222222222,\"#7201a8\"],[0.3333333333333333,\"#9c179e\"],[0.4444444444444444,\"#bd3786\"],[0.5555555555555556,\"#d8576b\"],[0.6666666666666666,\"#ed7953\"],[0.7777777777777778,\"#fb9f3a\"],[0.8888888888888888,\"#fdca26\"],[1.0,\"#f0f921\"]]}],\"contourcarpet\":[{\"type\":\"contourcarpet\",\"colorbar\":{\"outlinewidth\":0,\"ticks\":\"\"}}],\"contour\":[{\"type\":\"contour\",\"colorbar\":{\"outlinewidth\":0,\"ticks\":\"\"},\"colorscale\":[[0.0,\"#0d0887\"],[0.1111111111111111,\"#46039f\"],[0.2222222222222222,\"#7201a8\"],[0.3333333333333333,\"#9c179e\"],[0.4444444444444444,\"#bd3786\"],[0.5555555555555556,\"#d8576b\"],[0.6666666666666666,\"#ed7953\"],[0.7777777777777778,\"#fb9f3a\"],[0.8888888888888888,\"#fdca26\"],[1.0,\"#f0f921\"]]}],\"surface\":[{\"type\":\"surface\",\"colorbar\":{\"outlinewidth\":0,\"ticks\":\"\"},\"colorscale\":[[0.0,\"#0d0887\"],[0.1111111111111111,\"#46039f\"],[0.2222222222222222,\"#7201a8\"],[0.3333333333333333,\"#9c179e\"],[0.4444444444444444,\"#bd3786\"],[0.5555555555555556,\"#d8576b\"],[0.6666666666666666,\"#ed7953\"],[0.7777777777777778,\"#fb9f3a\"],[0.8888888888888888,\"#fdca26\"],[1.0,\"#f0f921\"]]}],\"mesh3d\":[{\"type\":\"mesh3d\",\"colorbar\":{\"outlinewidth\":0,\"ticks\":\"\"}}],\"scatter\":[{\"fillpattern\":{\"fillmode\":\"overlay\",\"size\":10,\"solidity\":0.2},\"type\":\"scatter\"}],\"parcoords\":[{\"type\":\"parcoords\",\"line\":{\"colorbar\":{\"outlinewidth\":0,\"ticks\":\"\"}}}],\"scatterpolargl\":[{\"type\":\"scatterpolargl\",\"marker\":{\"colorbar\":{\"outlinewidth\":0,\"ticks\":\"\"}}}],\"bar\":[{\"error_x\":{\"color\":\"#2a3f5f\"},\"error_y\":{\"color\":\"#2a3f5f\"},\"marker\":{\"line\":{\"color\":\"#E5ECF6\",\"width\":0.5},\"pattern\":{\"fillmode\":\"overlay\",\"size\":10,\"solidity\":0.2}},\"type\":\"bar\"}],\"scattergeo\":[{\"type\":\"scattergeo\",\"marker\":{\"colorbar\":{\"outlinewidth\":0,\"ticks\":\"\"}}}],\"scatterpolar\":[{\"type\":\"scatterpolar\",\"marker\":{\"colorbar\":{\"outlinewidth\":0,\"ticks\":\"\"}}}],\"histogram\":[{\"marker\":{\"pattern\":{\"fillmode\":\"overlay\",\"size\":10,\"solidity\":0.2}},\"type\":\"histogram\"}],\"scattergl\":[{\"type\":\"scattergl\",\"marker\":{\"colorbar\":{\"outlinewidth\":0,\"ticks\":\"\"}}}],\"scatter3d\":[{\"type\":\"scatter3d\",\"line\":{\"colorbar\":{\"outlinewidth\":0,\"ticks\":\"\"}},\"marker\":{\"colorbar\":{\"outlinewidth\":0,\"ticks\":\"\"}}}],\"scattermapbox\":[{\"type\":\"scattermapbox\",\"marker\":{\"colorbar\":{\"outlinewidth\":0,\"ticks\":\"\"}}}],\"scatterternary\":[{\"type\":\"scatterternary\",\"marker\":{\"colorbar\":{\"outlinewidth\":0,\"ticks\":\"\"}}}],\"scattercarpet\":[{\"type\":\"scattercarpet\",\"marker\":{\"colorbar\":{\"outlinewidth\":0,\"ticks\":\"\"}}}],\"carpet\":[{\"aaxis\":{\"endlinecolor\":\"#2a3f5f\",\"gridcolor\":\"white\",\"linecolor\":\"white\",\"minorgridcolor\":\"white\",\"startlinecolor\":\"#2a3f5f\"},\"baxis\":{\"endlinecolor\":\"#2a3f5f\",\"gridcolor\":\"white\",\"linecolor\":\"white\",\"minorgridcolor\":\"white\",\"startlinecolor\":\"#2a3f5f\"},\"type\":\"carpet\"}],\"table\":[{\"cells\":{\"fill\":{\"color\":\"#EBF0F8\"},\"line\":{\"color\":\"white\"}},\"header\":{\"fill\":{\"color\":\"#C8D4E3\"},\"line\":{\"color\":\"white\"}},\"type\":\"table\"}],\"barpolar\":[{\"marker\":{\"line\":{\"color\":\"#E5ECF6\",\"width\":0.5},\"pattern\":{\"fillmode\":\"overlay\",\"size\":10,\"solidity\":0.2}},\"type\":\"barpolar\"}],\"pie\":[{\"automargin\":true,\"type\":\"pie\"}]},\"layout\":{\"autotypenumbers\":\"strict\",\"colorway\":[\"#636efa\",\"#EF553B\",\"#00cc96\",\"#ab63fa\",\"#FFA15A\",\"#19d3f3\",\"#FF6692\",\"#B6E880\",\"#FF97FF\",\"#FECB52\"],\"font\":{\"color\":\"#2a3f5f\"},\"hovermode\":\"closest\",\"hoverlabel\":{\"align\":\"left\"},\"paper_bgcolor\":\"white\",\"plot_bgcolor\":\"#E5ECF6\",\"polar\":{\"bgcolor\":\"#E5ECF6\",\"angularaxis\":{\"gridcolor\":\"white\",\"linecolor\":\"white\",\"ticks\":\"\"},\"radialaxis\":{\"gridcolor\":\"white\",\"linecolor\":\"white\",\"ticks\":\"\"}},\"ternary\":{\"bgcolor\":\"#E5ECF6\",\"aaxis\":{\"gridcolor\":\"white\",\"linecolor\":\"white\",\"ticks\":\"\"},\"baxis\":{\"gridcolor\":\"white\",\"linecolor\":\"white\",\"ticks\":\"\"},\"caxis\":{\"gridcolor\":\"white\",\"linecolor\":\"white\",\"ticks\":\"\"}},\"coloraxis\":{\"colorbar\":{\"outlinewidth\":0,\"ticks\":\"\"}},\"colorscale\":{\"sequential\":[[0.0,\"#0d0887\"],[0.1111111111111111,\"#46039f\"],[0.2222222222222222,\"#7201a8\"],[0.3333333333333333,\"#9c179e\"],[0.4444444444444444,\"#bd3786\"],[0.5555555555555556,\"#d8576b\"],[0.6666666666666666,\"#ed7953\"],[0.7777777777777778,\"#fb9f3a\"],[0.8888888888888888,\"#fdca26\"],[1.0,\"#f0f921\"]],\"sequentialminus\":[[0.0,\"#0d0887\"],[0.1111111111111111,\"#46039f\"],[0.2222222222222222,\"#7201a8\"],[0.3333333333333333,\"#9c179e\"],[0.4444444444444444,\"#bd3786\"],[0.5555555555555556,\"#d8576b\"],[0.6666666666666666,\"#ed7953\"],[0.7777777777777778,\"#fb9f3a\"],[0.8888888888888888,\"#fdca26\"],[1.0,\"#f0f921\"]],\"diverging\":[[0,\"#8e0152\"],[0.1,\"#c51b7d\"],[0.2,\"#de77ae\"],[0.3,\"#f1b6da\"],[0.4,\"#fde0ef\"],[0.5,\"#f7f7f7\"],[0.6,\"#e6f5d0\"],[0.7,\"#b8e186\"],[0.8,\"#7fbc41\"],[0.9,\"#4d9221\"],[1,\"#276419\"]]},\"xaxis\":{\"gridcolor\":\"white\",\"linecolor\":\"white\",\"ticks\":\"\",\"title\":{\"standoff\":15},\"zerolinecolor\":\"white\",\"automargin\":true,\"zerolinewidth\":2},\"yaxis\":{\"gridcolor\":\"white\",\"linecolor\":\"white\",\"ticks\":\"\",\"title\":{\"standoff\":15},\"zerolinecolor\":\"white\",\"automargin\":true,\"zerolinewidth\":2},\"scene\":{\"xaxis\":{\"backgroundcolor\":\"#E5ECF6\",\"gridcolor\":\"white\",\"linecolor\":\"white\",\"showbackground\":true,\"ticks\":\"\",\"zerolinecolor\":\"white\",\"gridwidth\":2},\"yaxis\":{\"backgroundcolor\":\"#E5ECF6\",\"gridcolor\":\"white\",\"linecolor\":\"white\",\"showbackground\":true,\"ticks\":\"\",\"zerolinecolor\":\"white\",\"gridwidth\":2},\"zaxis\":{\"backgroundcolor\":\"#E5ECF6\",\"gridcolor\":\"white\",\"linecolor\":\"white\",\"showbackground\":true,\"ticks\":\"\",\"zerolinecolor\":\"white\",\"gridwidth\":2}},\"shapedefaults\":{\"line\":{\"color\":\"#2a3f5f\"}},\"annotationdefaults\":{\"arrowcolor\":\"#2a3f5f\",\"arrowhead\":0,\"arrowwidth\":1},\"geo\":{\"bgcolor\":\"white\",\"landcolor\":\"#E5ECF6\",\"subunitcolor\":\"white\",\"showland\":true,\"showlakes\":true,\"lakecolor\":\"white\"},\"title\":{\"x\":0.05},\"mapbox\":{\"style\":\"light\"}}},\"legend\":{\"tracegroupgap\":0},\"margin\":{\"t\":60},\"dragmode\":\"select\"},                        {\"responsive\": true}                    ).then(function(){\n",
              "                            \n",
              "var gd = document.getElementById('3ebdb9e0-8cc3-4a16-9afd-4ba15842ff62');\n",
              "var x = new MutationObserver(function (mutations, observer) {{\n",
              "        var display = window.getComputedStyle(gd).display;\n",
              "        if (!display || display === 'none') {{\n",
              "            console.log([gd, 'removed!']);\n",
              "            Plotly.purge(gd);\n",
              "            observer.disconnect();\n",
              "        }}\n",
              "}});\n",
              "\n",
              "// Listen for the removal of the full notebook cells\n",
              "var notebookContainer = gd.closest('#notebook-container');\n",
              "if (notebookContainer) {{\n",
              "    x.observe(notebookContainer, {childList: true});\n",
              "}}\n",
              "\n",
              "// Listen for the clearing of the current output cell\n",
              "var outputEl = gd.closest('.output');\n",
              "if (outputEl) {{\n",
              "    x.observe(outputEl, {childList: true});\n",
              "}}\n",
              "\n",
              "                        })                };                            </script>        </div>\n",
              "</body>\n",
              "</html>"
            ]
          },
          "metadata": {}
        }
      ]
    },
    {
      "cell_type": "markdown",
      "source": [
        "__Remark:__ When failure occurs, ```VibrationZ``` falls into some interval around $105$ (roughly)."
      ],
      "metadata": {
        "id": "csuPggxUFttE"
      }
    },
    {
      "cell_type": "code",
      "source": [
        "graph = px.scatter_matrix(df, dimensions=['Frequency', 'Fail'])\n",
        "graph.show()"
      ],
      "metadata": {
        "id": "_2_eITuV3Lvk",
        "colab": {
          "base_uri": "https://localhost:8080/"
        },
        "outputId": "71ef0aad-3a2a-4808-e217-06b18bac2e1c"
      },
      "execution_count": null,
      "outputs": [
        {
          "output_type": "display_data",
          "data": {
            "text/html": [
              "<html>\n",
              "<head><meta charset=\"utf-8\" /></head>\n",
              "<body>\n",
              "    <div>            <script src=\"https://cdnjs.cloudflare.com/ajax/libs/mathjax/2.7.5/MathJax.js?config=TeX-AMS-MML_SVG\"></script><script type=\"text/javascript\">if (window.MathJax && window.MathJax.Hub && window.MathJax.Hub.Config) {window.MathJax.Hub.Config({SVG: {font: \"STIX-Web\"}});}</script>                <script type=\"text/javascript\">window.PlotlyConfig = {MathJaxConfig: 'local'};</script>\n",
              "        <script src=\"https://cdn.plot.ly/plotly-2.18.2.min.js\"></script>                <div id=\"35817adc-253c-4839-9fbb-de16a2ece39c\" class=\"plotly-graph-div\" style=\"height:525px; width:100%;\"></div>            <script type=\"text/javascript\">                                    window.PLOTLYENV=window.PLOTLYENV || {};                                    if (document.getElementById(\"35817adc-253c-4839-9fbb-de16a2ece39c\")) {                    Plotly.newPlot(                        \"35817adc-253c-4839-9fbb-de16a2ece39c\",                        [{\"dimensions\":[{\"axis\":{\"matches\":true},\"label\":\"Frequency\",\"values\":[44.48324980824037,60.228714793422036,80.99347914594966,80.31556651280096,64.24516587048186,78.88621402415436,99.68117932509142,98.46737547392908,98.90026835829048,41.62071465509108,60.208221366611774,77.8883696427241,76.56285600076251,44.889677484501966,31.1211386801744,70.26624252160462,48.24373885418084,33.20086201612949,75.43900771474912,145.72245483810096,56.66679772200113,70.82885413498292,101.44572965982779,121.45331002019302,72.94112724322461,97.84775678931757,69.84529070219497,99.08074274748424,54.635831827134865,81.45468534010594,90.75840129062028,111.61698001812293,39.080618948019364,66.17857682414854,40.27265348267475,55.8599633555177,75.11822912476654,49.85260911697134,66.04180542942764,84.78317720218033,34.32509218939652,62.29132299053922,63.71021497110017,99.08559669119632,20.70094346819519,45.18784430422053,54.40582421221233,91.54900808949321,29.84342866936727,40.17766308277629,49.37203796953432,24.610565464658382,29.54693108623473,44.79137899700653,88.5911123845853,95.17829535031603,120.31706398676309,92.00164303093138,115.80841588438153,54.606066578885084,84.74390635982277,70.58403774106584,94.26797318214584,59.5523650989878,95.73272363834506,89.78876458019116,88.83238398105458,69.18695262089317,89.09170459120469,104.46448237736793,120.02117411686959,150.42088847068678,36.49445359910813,45.441091189594324,54.18621754898294,39.65186383285777,54.394180990605975,71.05342926502864,71.06841795294831,98.10585991209454,19.243636760547595,36.910653901997904,43.048422528127354,91.7961418067118,104.31716796655827,12.211353174690665,29.863443308324392,30.22256088879465,44.36028183275408,67.53363975304552,59.4972979397374,75.23334784320748,100.12844347598767,45.93493546837975,69.98156857208983,24.069644467484387,47.943805737568795,40.17320931613091,70.49140977714696,78.57728423223087,94.67641448659023,109.78311785257152,130.17691013349017,70.42417575147078,41.32419046479058,66.74736026105867,52.052422365388225,74.78966320707634,100.61702045510664,139.1930111527396,38.59766798910228,56.11337191037857,33.96920295767203,44.79387647784121,87.02014842783164,75.44414640028862,29.605084404100573,35.19175306134377,62.65663544331674,24.637528341264026,38.80848043780886,49.34519643252972,59.29380943312482,89.51158085475753,98.42138835629262,59.43691105144504,85.26703068952014,62.20369210270595,68.62744219994426,85.6406030837384,113.96698695802219,90.25077258760561,105.21160609371786,93.58097266054716,104.57110553471817,93.10733833458744,84.91223554527127,107.17494355731972,109.61931501879366,78.55857574126823,81.22071700329201,80.01601152423093,60.21976959563997,47.820488783068015,55.789785202686254,62.649599306613894,129.61549593912156,64.90094986116807,40.271175959463854,34.74037432982252,53.37118942596705,54.72713055425776,79.46015956284191,129.12882505120987,148.40444113609374,28.411528412929673,84.37735479338632,100.22913120572407,88.21816201631768,49.69576712346859,68.6213218485554,80.5355749719163,131.0722438881638,129.47509382528807,141.50285514066016,101.78358496182875,44.65592162854296,58.800497515923404,80.35961268040045,66.27956481513422,80.59467937065455,100.24223498719545,42.28793640099848,56.5462860288522,78.25550058330323,20.7651169763662,90.15988929704383,48.58772464322833,70.20945707902912,55.21232431528239,85.31270977193527,29.94207069932849,39.138913977143055,129.2104744671878,67.89697883014777,65.69042102917774,59.39727239904132,14.120809531323314,15.232610426259171,18.705022330468182,39.68898341864431,70.36690083025987,95.19102780626815,36.28533809910788,45.64224205653045,54.650814280465156,46.11360118525988,48.332508265623545,40.11310103434785,50.73912647455002,28.133177398417708,69.21150153604607,51.545545700642876,80.62948633053341,109.23477821429731,85.15728194039727,30.14711165551331,28.681530400238362,93.64699631658857,15.433437185150332,33.41079215049297,109.2730361854964,64.53716772680218,92.40003829699089,28.960051941815728,86.07673827139793,47.41894558673293,33.82309253516929,86.51589901568073,14.100837991254062,41.23445067115879,44.72742896185329,85.66037126777259,30.254245340382788,28.76571895147011,29.488011377569716,44.994816316388075,84.63846152900824,65.71275938671195,75.17472699550282,4.428284101685976,85.62317418965962,74.99615978405649,115.4447481516469,41.11129448314551,56.11435300740073,18.406527858402512,30.984890015527554,50.385219918762296,49.74104876340067,32.162479394192985,64.36124646392517,44.45208275401033,74.75535489165432,68.58726953340738,71.00981721026918,65.8165495971961,94.77703038461738,115.03483635274827,86.25308405113401,40.23917524988994,48.96784796933215,60.263216039261145,87.46178239249589,73.85622246926371,34.89517069016859,73.470738060143,63.396591956927345,95.98566100764613,83.96946951894506,99.9115830221079,55.79875670542317,113.78433392924474,99.28499409699064,85.79419023362257,40.79575125258377,53.268883632697445,61.51386468447635,70.6818792152393,111.28163473442812,90.40349068878014,100.80777247429823,71.65852950347768,94.46562403257347,118.43480281161644,146.19718547819025,45.11532941787705,54.19936443702156,81.43854963559043,100.13162792265524,38.52478908191737,49.784449107268784,59.01637614654925,69.80386506163212,33.99921607470094,68.23271622878582,58.92171704323801,99.43734252115777,20.165865917378756,14.155145687943069,64.60036253423533,14.562229814765987,65.0152471217923,30.768398447458047,47.42941799257696,70.32028286401668,31.4814174197728,61.06803029495123,78.66032788952592,83.8480782803628,125.0354027460476,86.90776591056243,65.97661872468517,40.16434138647727,49.07693652010418,80.67294344407208,100.34990921783317,65.225001667878,60.08103777606404,34.32404779889827,70.25123519142005,30.612780646866195,91.29327669091198,100.70554206510333,37.74990033724078,158.81167330846696,42.007623533844075,27.648976282292566,46.355582980653914,67.69976670814413,24.86010178272774,49.826768380741306,18.73764211084371,29.30542311061073,50.121856586536204,69.48421000918754,52.02049078061394,21.571818754714535,48.79139217091282,50.79705590058426,29.401500159368485,38.734701957017684,50.781417121856975,47.48887527236638,59.3701799697032,81.92908363578067,99.97665830036757,65.64645359421154,105.37810380460118,136.02067419994006,94.38097930015691,94.55405521470261,85.12295034314378,84.68265083299396,65.77304219284584,39.51610468232487,55.12564107557417,64.82268976013218,95.5191358900999,105.2166500355023,59.78097606400926,61.00604133601717,34.61278689862249,40.128611434522696,20.8999507124882,20.473419755421297,60.79321272431981,78.52892636085554,58.62744378604334,9.983330582759345,70.45466836418827,101.51264810197296,34.483011685521866,56.373578374286204,48.24159262184654,80.18901837731445,79.27109295105309,90.44075224706764,63.97593244403504,69.44636525425517,70.47462128175822,58.53842323956,59.21811387199796,36.764799775107754,57.09588744841305,54.82685700984544,72.01507625745452,21.242452722044884,42.70449460653961,76.25419945564506,44.541118485990324,79.75621582319967,81.53361752920786,68.96850078588167,40.62383961690143,46.34120071410036,64.56860021485276,75.04326967327879,24.653844305316646,25.21320073954203,51.16555733639843,64.95214366786576,73.6046219181601,115.00220822708181,23.634772528209812,49.977536127149,81.52978134756721,100.55773937708973,26.92470549680326,46.086671907321374,65.68205048779967,32.0821853103256,51.67644738564825,52.8441311383089,54.149799427952445,95.32955350937355,50.32461919369671,50.92849336993199,101.77695247158235,121.59804550660353,29.87540187605818,50.3043234542735,71.38013578448941,111.17377864106867,50.456672680118395,50.41542683644516,48.923776984965635,110.7120877875553,109.73193010457298,110.22968381806464,108.83376666862695,88.77969394175064,90.21427636924241,89.32963104503474,90.04867261781044,95.05702225703061,111.86885670262282,99.9997344053747,149.4956912503205,150.55878995256526,90.47057986545448,178.09030265616246,31.132985017988073,35.45381163180873,54.3936258839796,59.50902527381888,80.5496308841745,106.92683660427261,41.29342779238473,50.65708292003004,59.41150600117751,58.70832828624178,80.94892370148654,99.41442872633735,29.782805096750067,70.63641276056097,24.87083652324838,64.32310354023348,46.244429950402775,60.98565527921644,71.44271238695914,54.64644319231384,90.2438635066949,57.58273707981651,58.507274950263245,30.009523756166026,29.276496222741326,37.21882313303669,36.150443022794484,36.04469110575015,35.06038812479089,65.44074287782047,70.72290980922978,41.22108871522234,95.39491620401323,85.90813965626727,114.32631609745039,35.698396686499024,85.45604668398497,32.9982038957575,38.641615350879995,113.25251204504181,70.77246209917999,80.36504122732856,84.89889583250526,105.21455019471979,134.38468569134105,103.99104749701822,70.91196770931053,85.23852958237032,110.89677757804787,45.3675491164097,75.31586079945546,82.77329594621398,25.64782692657407,32.05002706145964,10.17702937312056,59.94101077860265,29.6622644903519,89.89293946304934,36.08469711887905,41.899553353197355,82.21858715260205,102.22089259369497,92.55207485171961,4.3801007090438935,60.181670546994546,90.62505703706346,113.37015527586107,32.42295655498679,47.52562685093227,65.21243434228087,94.66747947136027,49.82353441518324,84.57115983209928,45.61873425265166,66.6429749056607,89.55576412346211,47.48722359950952,39.49202264521575,59.12522236571267,30.486124329540445,125.25463110049569,59.92290230281195,48.248056077365604,40.584771125864926,49.510766504399975,93.88748942109767,82.54552089400067,79.44931935804702,95.22490384381962,95.84234949666663,66.18462578865437,95.26595726968914,80.00859189276952,89.48015057951716,79.84568037217352,110.32648989347373,38.618666628079396,46.7224676493327,108.6189603325655,90.1948677390484,86.642436959809,85.15898595543466,85.80040074236949,87.39704451999849,85.02255419680753,96.44870170214452,79.76276731087042,115.30360422127464,89.94914083063112,101.60804183496379,74.88058318618819,99.54947140841129,90.07664589346487,89.80073918724649,85.5726505924321,79.44017479574624,100.35949145504752,125.8355853887898,100.36691286217155,126.29243503833187,120.22297652181052,99.14035803829215,62.405853109994666,83.77704174465,115.77383473549288,45.09992515029268,53.90612832480541,64.21182698632296,43.084273738355094,58.94524226253669,71.33021151264923,41.81843012755358,76.81889286491166,54.100702205153965,59.87687056384503,80.18785641029592,66.03676984062548,107.10802774463647,64.37059908304758,99.80183435456048,64.74701797024399,100.12041612015757,62.13132184664866,100.20015267622802,24.538143535451443,29.053479099418496,42.71353982161937,65.32386540136547,92.92998723062443,75.14084579747093,116.89354119008273,13.751327892232359,20.416522932914567,26.06161219939867,72.99580202971038,113.91840621862976,68.06425872405569,87.85254291633244,50.26633074980049,50.65364862908074,35.36088250998871,39.28517093066308,44.02582295484966,64.67896456116094,69.78102805186225,73.60480710572268,46.332458196969874,85.69389544089695,42.67684203863907,40.550431768559896,92.31252124708472,57.43769596349073,46.56717268201758,112.51602282019378,65.76561759328592,118.42205155955857,29.908961261472765,89.65002912757296,98.22198870061115,65.18061472570643,74.02865118375924,93.55219336491498,48.79826317663986,93.87811133713068,54.433458244254325,59.36761162196085,55.43083109547392,43.41609652384558,49.10411615704629,57.696735590840824,96.00733058485083,30.345331261309035,29.480672340473063,19.708062483725197,33.470248031041244,70.4321646873152,110.08267216590095,63.255141912573116,76.16952926615429,63.81928912276479,104.79070343485415,75.11541350983484,114.36023323530682,45.088796397314276,54.66561468530359,66.63993919462483,19.153492563338368,30.481699942366138,29.91124179069422,54.78699745508076,98.5410174348585,43.500362537297754,57.90171766557446,78.38339656583123,74.08376191560458,95.12037783846874,103.07895902836071,59.6014807251638,19.535352939552705,15.301016009007187,28.407205187798883,41.38759578851896,60.07008024081166,62.717989697956405,65.78198193035759,106.11775764938868,10.861484615233493,21.302836261565243,28.38911732080995,49.525744386468766,90.33057255444739,59.27083749305484,38.875798210216935,50.60912633543519,30.97568922961762,39.481538327637764,20.274691568395244,56.57797245128948,80.76903617219877,57.95407828489505,67.32723338438014,98.09124404453556,38.844233130763335,49.487048685312374,105.54107378920804,24.20787470000045,143.76866449426188,30.045477916505153,64.92747485594221,105.01593524622015,47.3494006971365,36.260809030367255,56.498136334674136,61.824771207395884,70.17015650472393,54.91776876982888,59.87495076885407,80.2908497409749,60.28432551045519,80.49619496147923,63.43733423707843,110.81543978922784,39.025117964272326,58.64799574033442,97.78171014402363,59.945518431571735,98.09227049255657,106.68164993287056,109.37854923112688,110.67252103062022,110.66407726189405,122.04622911181488,112.11958764021264,100.59804813088397,90.60551231185393,90.48292449324224,100.81590149794157,90.94744471655032,93.2495129008041,94.09781265919291,95.88548421712534,108.0045838417732,109.31933474063855,89.84065706502656,128.57177550975575,99.38276913592384,36.96926747415478,58.09129007998098,63.33954915533033,60.76296205650159,70.75211768639221,105.46000887111875,71.77199529085055,95.98450392428633,121.2472602579859,57.70399329193554,79.77578739554261,61.66714851945731,82.97987132359646,124.39494197172318,36.19971753032761,28.73589811801478,87.8110107276581,73.2881817849779,106.10704272310298,42.5029233709038,51.031754927113276,74.7559593191806,52.17483184014395,68.01016331226099,42.83052434848488,57.32603347733334,101.69966871066704,67.2009060892918,103.79846830533762,103.83322955535255,28.649314275608926,35.88947000496569,57.478945874847476,59.28635844522701,21.84163873937383,28.54407789895134,50.38542101170794,72.75095214598029,44.50894873592782,74.41503633362728,49.75763717415962,68.69100244494385,30.803489854586594,43.675142813187094,44.29373577445753,56.88655492393243,70.11806006078395,109.8724065650633,46.38408800850015,72.51568551463251,46.99793386089477,56.534008756325335,60.814195884828294,120.25438721447465,100.79848447803106,49.29558494229465,40.20923377477429,59.52498411598127,80.48454340961149,75.35321286670171,38.634890231855465,55.429442667047326,51.084302289356756,54.82667687238216,45.39214340046547,40.660880544448304,82.42365300485164,100.03743672472821,68.64108840870414,53.87359184638493,29.083565486298045,25.45444442270525,53.58466821131854,121.85058137469896,97.7764914218013,100.06404304189,94.12516660358362,49.841400268668416,110.9192901873536,70.85335257642042,80.11353955055468,71.26171695698957]},{\"axis\":{\"matches\":true},\"label\":\"Fail\",\"values\":[false,false,false,false,false,false,false,false,false,false,false,false,true,false,false,false,false,false,false,false,false,false,false,false,false,false,false,false,false,false,false,false,false,false,false,false,false,false,false,false,false,false,false,false,false,false,false,false,false,false,false,false,false,false,false,false,false,false,false,false,false,false,false,false,false,false,false,false,false,false,false,false,false,false,false,false,false,false,false,false,false,false,false,false,false,false,false,false,false,false,false,false,false,false,false,false,false,false,false,false,false,false,false,false,false,false,false,false,false,false,false,false,false,false,false,false,false,false,false,false,false,false,false,false,false,false,false,false,false,false,false,false,false,false,false,false,false,false,false,false,false,false,false,false,false,false,false,false,false,false,false,false,false,false,false,false,true,true,true,false,false,false,true,true,true,false,false,false,false,false,false,false,false,false,false,false,false,false,false,false,false,false,false,false,false,false,false,false,false,false,false,false,false,false,false,false,false,false,false,false,false,false,false,false,false,false,false,false,false,false,false,false,false,false,false,false,false,false,false,false,false,false,false,false,false,false,false,false,false,false,false,false,false,false,false,false,false,false,false,false,false,false,false,false,false,false,false,false,false,false,false,false,false,false,false,false,false,false,false,false,false,false,true,true,true,false,false,false,false,true,true,false,false,false,false,false,false,false,false,false,false,false,false,false,false,false,false,false,false,false,false,false,false,false,false,false,false,false,false,false,false,false,false,false,false,false,false,false,false,false,false,false,false,false,false,false,false,false,false,false,false,false,false,false,false,false,false,false,false,false,false,false,false,false,false,false,false,false,false,false,false,false,false,false,false,false,false,false,false,false,false,false,false,false,false,false,false,false,false,false,false,false,false,false,false,false,false,false,false,false,false,false,false,false,false,false,false,false,false,false,false,false,false,false,false,false,false,false,false,false,false,false,false,false,false,false,false,false,false,false,false,false,false,false,false,false,false,false,false,false,false,false,false,false,true,true,true,true,true,true,true,true,true,true,true,true,true,true,true,true,true,true,false,false,false,false,false,false,false,false,false,false,false,false,false,false,false,false,false,false,false,false,false,false,false,false,false,false,false,false,false,false,false,false,false,false,false,false,false,false,false,false,false,false,false,false,false,false,false,false,false,false,false,false,false,false,false,false,false,false,false,false,false,false,false,false,false,false,false,false,false,false,false,false,false,false,false,false,false,false,false,false,false,false,false,false,false,false,false,false,false,false,false,false,false,false,false,false,false,false,false,false,false,false,false,false,false,true,true,true,true,true,true,true,true,true,false,false,false,true,true,true,true,true,false,false,false,false,false,false,false,false,false,false,false,false,false,false,false,false,false,false,false,false,false,false,false,false,false,false,false,false,false,false,false,false,false,false,false,false,false,false,false,false,false,false,false,false,false,false,false,false,false,false,false,false,false,false,false,false,false,false,false,false,false,false,false,false,false,false,false,false,false,false,false,false,false,false,false,false,false,false,false,false,false,false,false,false,false,false,false,false,false,false,false,false,false,false,false,false,false,false,false,false,false,false,false,false,false,false,false,false,false,false,false,false,false,false,false,false,false,false,false,false,false,false,false,false,false,false,false,false,false,false,false,false,false,false,false,false,false,false,false,false,false,false,false,false,false,true,true,true,true,true,true,true,true,true,true,true,true,true,true,false,false,false,false,false,false,false,false,false,false,false,false,false,false,false,false,false,false,false,false,false,false,false,false,false,false,false,false,false,false,false,false,false,false,false,false,false,false,false,false,false,false,false,false,false,false,false,false,false,false,false,false,false,false,false,false,false,false,false,false,false,false,false,false,false,false,false,false,false,false,false,false,false,false,false,false,false,false,false,true,true,true,true,true,true,true,true]}],\"hovertemplate\":\"%{xaxis.title.text}=%{x}<br>%{yaxis.title.text}=%{y}<extra></extra>\",\"legendgroup\":\"\",\"marker\":{\"color\":\"#636efa\",\"symbol\":\"circle\"},\"name\":\"\",\"showlegend\":false,\"type\":\"splom\"}],                        {\"template\":{\"data\":{\"histogram2dcontour\":[{\"type\":\"histogram2dcontour\",\"colorbar\":{\"outlinewidth\":0,\"ticks\":\"\"},\"colorscale\":[[0.0,\"#0d0887\"],[0.1111111111111111,\"#46039f\"],[0.2222222222222222,\"#7201a8\"],[0.3333333333333333,\"#9c179e\"],[0.4444444444444444,\"#bd3786\"],[0.5555555555555556,\"#d8576b\"],[0.6666666666666666,\"#ed7953\"],[0.7777777777777778,\"#fb9f3a\"],[0.8888888888888888,\"#fdca26\"],[1.0,\"#f0f921\"]]}],\"choropleth\":[{\"type\":\"choropleth\",\"colorbar\":{\"outlinewidth\":0,\"ticks\":\"\"}}],\"histogram2d\":[{\"type\":\"histogram2d\",\"colorbar\":{\"outlinewidth\":0,\"ticks\":\"\"},\"colorscale\":[[0.0,\"#0d0887\"],[0.1111111111111111,\"#46039f\"],[0.2222222222222222,\"#7201a8\"],[0.3333333333333333,\"#9c179e\"],[0.4444444444444444,\"#bd3786\"],[0.5555555555555556,\"#d8576b\"],[0.6666666666666666,\"#ed7953\"],[0.7777777777777778,\"#fb9f3a\"],[0.8888888888888888,\"#fdca26\"],[1.0,\"#f0f921\"]]}],\"heatmap\":[{\"type\":\"heatmap\",\"colorbar\":{\"outlinewidth\":0,\"ticks\":\"\"},\"colorscale\":[[0.0,\"#0d0887\"],[0.1111111111111111,\"#46039f\"],[0.2222222222222222,\"#7201a8\"],[0.3333333333333333,\"#9c179e\"],[0.4444444444444444,\"#bd3786\"],[0.5555555555555556,\"#d8576b\"],[0.6666666666666666,\"#ed7953\"],[0.7777777777777778,\"#fb9f3a\"],[0.8888888888888888,\"#fdca26\"],[1.0,\"#f0f921\"]]}],\"heatmapgl\":[{\"type\":\"heatmapgl\",\"colorbar\":{\"outlinewidth\":0,\"ticks\":\"\"},\"colorscale\":[[0.0,\"#0d0887\"],[0.1111111111111111,\"#46039f\"],[0.2222222222222222,\"#7201a8\"],[0.3333333333333333,\"#9c179e\"],[0.4444444444444444,\"#bd3786\"],[0.5555555555555556,\"#d8576b\"],[0.6666666666666666,\"#ed7953\"],[0.7777777777777778,\"#fb9f3a\"],[0.8888888888888888,\"#fdca26\"],[1.0,\"#f0f921\"]]}],\"contourcarpet\":[{\"type\":\"contourcarpet\",\"colorbar\":{\"outlinewidth\":0,\"ticks\":\"\"}}],\"contour\":[{\"type\":\"contour\",\"colorbar\":{\"outlinewidth\":0,\"ticks\":\"\"},\"colorscale\":[[0.0,\"#0d0887\"],[0.1111111111111111,\"#46039f\"],[0.2222222222222222,\"#7201a8\"],[0.3333333333333333,\"#9c179e\"],[0.4444444444444444,\"#bd3786\"],[0.5555555555555556,\"#d8576b\"],[0.6666666666666666,\"#ed7953\"],[0.7777777777777778,\"#fb9f3a\"],[0.8888888888888888,\"#fdca26\"],[1.0,\"#f0f921\"]]}],\"surface\":[{\"type\":\"surface\",\"colorbar\":{\"outlinewidth\":0,\"ticks\":\"\"},\"colorscale\":[[0.0,\"#0d0887\"],[0.1111111111111111,\"#46039f\"],[0.2222222222222222,\"#7201a8\"],[0.3333333333333333,\"#9c179e\"],[0.4444444444444444,\"#bd3786\"],[0.5555555555555556,\"#d8576b\"],[0.6666666666666666,\"#ed7953\"],[0.7777777777777778,\"#fb9f3a\"],[0.8888888888888888,\"#fdca26\"],[1.0,\"#f0f921\"]]}],\"mesh3d\":[{\"type\":\"mesh3d\",\"colorbar\":{\"outlinewidth\":0,\"ticks\":\"\"}}],\"scatter\":[{\"fillpattern\":{\"fillmode\":\"overlay\",\"size\":10,\"solidity\":0.2},\"type\":\"scatter\"}],\"parcoords\":[{\"type\":\"parcoords\",\"line\":{\"colorbar\":{\"outlinewidth\":0,\"ticks\":\"\"}}}],\"scatterpolargl\":[{\"type\":\"scatterpolargl\",\"marker\":{\"colorbar\":{\"outlinewidth\":0,\"ticks\":\"\"}}}],\"bar\":[{\"error_x\":{\"color\":\"#2a3f5f\"},\"error_y\":{\"color\":\"#2a3f5f\"},\"marker\":{\"line\":{\"color\":\"#E5ECF6\",\"width\":0.5},\"pattern\":{\"fillmode\":\"overlay\",\"size\":10,\"solidity\":0.2}},\"type\":\"bar\"}],\"scattergeo\":[{\"type\":\"scattergeo\",\"marker\":{\"colorbar\":{\"outlinewidth\":0,\"ticks\":\"\"}}}],\"scatterpolar\":[{\"type\":\"scatterpolar\",\"marker\":{\"colorbar\":{\"outlinewidth\":0,\"ticks\":\"\"}}}],\"histogram\":[{\"marker\":{\"pattern\":{\"fillmode\":\"overlay\",\"size\":10,\"solidity\":0.2}},\"type\":\"histogram\"}],\"scattergl\":[{\"type\":\"scattergl\",\"marker\":{\"colorbar\":{\"outlinewidth\":0,\"ticks\":\"\"}}}],\"scatter3d\":[{\"type\":\"scatter3d\",\"line\":{\"colorbar\":{\"outlinewidth\":0,\"ticks\":\"\"}},\"marker\":{\"colorbar\":{\"outlinewidth\":0,\"ticks\":\"\"}}}],\"scattermapbox\":[{\"type\":\"scattermapbox\",\"marker\":{\"colorbar\":{\"outlinewidth\":0,\"ticks\":\"\"}}}],\"scatterternary\":[{\"type\":\"scatterternary\",\"marker\":{\"colorbar\":{\"outlinewidth\":0,\"ticks\":\"\"}}}],\"scattercarpet\":[{\"type\":\"scattercarpet\",\"marker\":{\"colorbar\":{\"outlinewidth\":0,\"ticks\":\"\"}}}],\"carpet\":[{\"aaxis\":{\"endlinecolor\":\"#2a3f5f\",\"gridcolor\":\"white\",\"linecolor\":\"white\",\"minorgridcolor\":\"white\",\"startlinecolor\":\"#2a3f5f\"},\"baxis\":{\"endlinecolor\":\"#2a3f5f\",\"gridcolor\":\"white\",\"linecolor\":\"white\",\"minorgridcolor\":\"white\",\"startlinecolor\":\"#2a3f5f\"},\"type\":\"carpet\"}],\"table\":[{\"cells\":{\"fill\":{\"color\":\"#EBF0F8\"},\"line\":{\"color\":\"white\"}},\"header\":{\"fill\":{\"color\":\"#C8D4E3\"},\"line\":{\"color\":\"white\"}},\"type\":\"table\"}],\"barpolar\":[{\"marker\":{\"line\":{\"color\":\"#E5ECF6\",\"width\":0.5},\"pattern\":{\"fillmode\":\"overlay\",\"size\":10,\"solidity\":0.2}},\"type\":\"barpolar\"}],\"pie\":[{\"automargin\":true,\"type\":\"pie\"}]},\"layout\":{\"autotypenumbers\":\"strict\",\"colorway\":[\"#636efa\",\"#EF553B\",\"#00cc96\",\"#ab63fa\",\"#FFA15A\",\"#19d3f3\",\"#FF6692\",\"#B6E880\",\"#FF97FF\",\"#FECB52\"],\"font\":{\"color\":\"#2a3f5f\"},\"hovermode\":\"closest\",\"hoverlabel\":{\"align\":\"left\"},\"paper_bgcolor\":\"white\",\"plot_bgcolor\":\"#E5ECF6\",\"polar\":{\"bgcolor\":\"#E5ECF6\",\"angularaxis\":{\"gridcolor\":\"white\",\"linecolor\":\"white\",\"ticks\":\"\"},\"radialaxis\":{\"gridcolor\":\"white\",\"linecolor\":\"white\",\"ticks\":\"\"}},\"ternary\":{\"bgcolor\":\"#E5ECF6\",\"aaxis\":{\"gridcolor\":\"white\",\"linecolor\":\"white\",\"ticks\":\"\"},\"baxis\":{\"gridcolor\":\"white\",\"linecolor\":\"white\",\"ticks\":\"\"},\"caxis\":{\"gridcolor\":\"white\",\"linecolor\":\"white\",\"ticks\":\"\"}},\"coloraxis\":{\"colorbar\":{\"outlinewidth\":0,\"ticks\":\"\"}},\"colorscale\":{\"sequential\":[[0.0,\"#0d0887\"],[0.1111111111111111,\"#46039f\"],[0.2222222222222222,\"#7201a8\"],[0.3333333333333333,\"#9c179e\"],[0.4444444444444444,\"#bd3786\"],[0.5555555555555556,\"#d8576b\"],[0.6666666666666666,\"#ed7953\"],[0.7777777777777778,\"#fb9f3a\"],[0.8888888888888888,\"#fdca26\"],[1.0,\"#f0f921\"]],\"sequentialminus\":[[0.0,\"#0d0887\"],[0.1111111111111111,\"#46039f\"],[0.2222222222222222,\"#7201a8\"],[0.3333333333333333,\"#9c179e\"],[0.4444444444444444,\"#bd3786\"],[0.5555555555555556,\"#d8576b\"],[0.6666666666666666,\"#ed7953\"],[0.7777777777777778,\"#fb9f3a\"],[0.8888888888888888,\"#fdca26\"],[1.0,\"#f0f921\"]],\"diverging\":[[0,\"#8e0152\"],[0.1,\"#c51b7d\"],[0.2,\"#de77ae\"],[0.3,\"#f1b6da\"],[0.4,\"#fde0ef\"],[0.5,\"#f7f7f7\"],[0.6,\"#e6f5d0\"],[0.7,\"#b8e186\"],[0.8,\"#7fbc41\"],[0.9,\"#4d9221\"],[1,\"#276419\"]]},\"xaxis\":{\"gridcolor\":\"white\",\"linecolor\":\"white\",\"ticks\":\"\",\"title\":{\"standoff\":15},\"zerolinecolor\":\"white\",\"automargin\":true,\"zerolinewidth\":2},\"yaxis\":{\"gridcolor\":\"white\",\"linecolor\":\"white\",\"ticks\":\"\",\"title\":{\"standoff\":15},\"zerolinecolor\":\"white\",\"automargin\":true,\"zerolinewidth\":2},\"scene\":{\"xaxis\":{\"backgroundcolor\":\"#E5ECF6\",\"gridcolor\":\"white\",\"linecolor\":\"white\",\"showbackground\":true,\"ticks\":\"\",\"zerolinecolor\":\"white\",\"gridwidth\":2},\"yaxis\":{\"backgroundcolor\":\"#E5ECF6\",\"gridcolor\":\"white\",\"linecolor\":\"white\",\"showbackground\":true,\"ticks\":\"\",\"zerolinecolor\":\"white\",\"gridwidth\":2},\"zaxis\":{\"backgroundcolor\":\"#E5ECF6\",\"gridcolor\":\"white\",\"linecolor\":\"white\",\"showbackground\":true,\"ticks\":\"\",\"zerolinecolor\":\"white\",\"gridwidth\":2}},\"shapedefaults\":{\"line\":{\"color\":\"#2a3f5f\"}},\"annotationdefaults\":{\"arrowcolor\":\"#2a3f5f\",\"arrowhead\":0,\"arrowwidth\":1},\"geo\":{\"bgcolor\":\"white\",\"landcolor\":\"#E5ECF6\",\"subunitcolor\":\"white\",\"showland\":true,\"showlakes\":true,\"lakecolor\":\"white\"},\"title\":{\"x\":0.05},\"mapbox\":{\"style\":\"light\"}}},\"legend\":{\"tracegroupgap\":0},\"margin\":{\"t\":60},\"dragmode\":\"select\"},                        {\"responsive\": true}                    ).then(function(){\n",
              "                            \n",
              "var gd = document.getElementById('35817adc-253c-4839-9fbb-de16a2ece39c');\n",
              "var x = new MutationObserver(function (mutations, observer) {{\n",
              "        var display = window.getComputedStyle(gd).display;\n",
              "        if (!display || display === 'none') {{\n",
              "            console.log([gd, 'removed!']);\n",
              "            Plotly.purge(gd);\n",
              "            observer.disconnect();\n",
              "        }}\n",
              "}});\n",
              "\n",
              "// Listen for the removal of the full notebook cells\n",
              "var notebookContainer = gd.closest('#notebook-container');\n",
              "if (notebookContainer) {{\n",
              "    x.observe(notebookContainer, {childList: true});\n",
              "}}\n",
              "\n",
              "// Listen for the clearing of the current output cell\n",
              "var outputEl = gd.closest('.output');\n",
              "if (outputEl) {{\n",
              "    x.observe(outputEl, {childList: true});\n",
              "}}\n",
              "\n",
              "                        })                };                            </script>        </div>\n",
              "</body>\n",
              "</html>"
            ]
          },
          "metadata": {}
        }
      ]
    },
    {
      "cell_type": "markdown",
      "source": [
        "__Remark:__ When failure occurs, ```Frequency``` falls into some interval around $100$."
      ],
      "metadata": {
        "id": "CFLKnp1NGDUF"
      }
    },
    {
      "cell_type": "markdown",
      "source": [
        "__Conclusion:__ In general, when failure occurs, every root cause variable stays roughly around some specific value."
      ],
      "metadata": {
        "id": "n5D7e6FxGJEq"
      }
    },
    {
      "cell_type": "markdown",
      "source": [
        "##Joint effect of root cause variables on failure."
      ],
      "metadata": {
        "id": "AxsMJNngITYH"
      }
    },
    {
      "cell_type": "markdown",
      "source": [
        "- We analyze how root cause variables, together, affect equipment failure.\n",
        "- The following graphs represent one root cause variable in function of another, and a read dot represents equipment failure.\n",
        "- We do not try every combinations of variables, but only a few to get a sense of the effect."
      ],
      "metadata": {
        "id": "FSIdzPe-GbMp"
      }
    },
    {
      "cell_type": "code",
      "source": [
        "graph_T_P = px.scatter(df, x='Temperature', y='Frequency', color = 'Fail', title='Joint effect of Temperature and Frequency') \n",
        "graph_T_P.show()"
      ],
      "metadata": {
        "colab": {
          "base_uri": "https://localhost:8080/"
        },
        "id": "-wNYzPk5G_i8",
        "outputId": "d3a6db60-fba2-48f8-dab2-2bb4aa18458f"
      },
      "execution_count": null,
      "outputs": [
        {
          "output_type": "display_data",
          "data": {
            "text/html": [
              "<html>\n",
              "<head><meta charset=\"utf-8\" /></head>\n",
              "<body>\n",
              "    <div>            <script src=\"https://cdnjs.cloudflare.com/ajax/libs/mathjax/2.7.5/MathJax.js?config=TeX-AMS-MML_SVG\"></script><script type=\"text/javascript\">if (window.MathJax && window.MathJax.Hub && window.MathJax.Hub.Config) {window.MathJax.Hub.Config({SVG: {font: \"STIX-Web\"}});}</script>                <script type=\"text/javascript\">window.PlotlyConfig = {MathJaxConfig: 'local'};</script>\n",
              "        <script src=\"https://cdn.plot.ly/plotly-2.18.2.min.js\"></script>                <div id=\"3d41ca16-d5a1-4ccf-b1aa-91f52858ba56\" class=\"plotly-graph-div\" style=\"height:525px; width:100%;\"></div>            <script type=\"text/javascript\">                                    window.PLOTLYENV=window.PLOTLYENV || {};                                    if (document.getElementById(\"3d41ca16-d5a1-4ccf-b1aa-91f52858ba56\")) {                    Plotly.newPlot(                        \"3d41ca16-d5a1-4ccf-b1aa-91f52858ba56\",                        [{\"hovertemplate\":\"Fail=False<br>Temperature=%{x}<br>Frequency=%{y}<extra></extra>\",\"legendgroup\":\"False\",\"marker\":{\"color\":\"#636efa\",\"symbol\":\"circle\"},\"mode\":\"markers\",\"name\":\"False\",\"orientation\":\"v\",\"showlegend\":true,\"x\":[44.23518586415284,60.807234448796294,79.02753565280922,79.71624156697328,39.98905447038245,58.33608516610776,77.93777730868518,78.56350579645732,77.48621811181675,42.61915864954467,59.501364304919484,80.66249668018938,46.01219123516164,48.69096459034,59.20124984330761,39.187095909349004,44.07871748928103,65.35206551815605,65.38699108649853,39.77468772001118,62.80160619043731,81.83700891622891,83.21390848177116,29.906236088762473,54.688073252346655,39.530741261397175,65.8854362481166,34.29444408428433,58.79160316949757,35.49864688284704,61.97709261558516,49.72011922165315,76.75927233454397,54.59092637063649,70.4434574012617,89.91856905388258,45.463431774100755,61.473079064735494,81.30499214726294,70.86979416438925,95.33139485370191,37.171731344297235,73.55064283275956,116.30107567431064,139.17148913734437,38.96347703784512,75.0513766670084,45.31359248501403,60.06181706568592,74.98379209041049,34.79796774391001,61.292131936545495,59.56036308290774,67.59232420882887,9.32215408725349,34.46699609481962,38.994979891936964,64.14253318228393,50.46928448275356,78.64481261042818,38.61064466091389,63.608710061356526,54.58179855420685,90.35099997808109,39.72335242934332,64.58698512271295,91.86532174997701,25.14758360493675,40.72488088300982,54.08179209629801,54.214398911752895,67.82328948408673,80.43099607257962,89.6119415208847,50.80048494067988,65.45194590602941,79.0359842327654,41.038496452869765,77.55772696793223,39.91316603648522,54.18543497453208,80.71512881473694,49.7877301220086,64.9488093399678,89.98747890662526,94.31277465618913,96.46629730323046,25.34853579658119,50.06144187795485,52.4662626467654,37.812795229949884,59.73234363728386,66.10272331345608,90.23758991846198,79.38072988336586,103.73807544198402,28.41473455584699,48.83639834478539,30.692633192450934,45.63191588358501,62.199014404705856,59.583936847698766,35.440296259789214,60.550804992117165,85.84927906383497,28.63124683190494,54.22280720897519,39.85478733456605,59.733078723407935,58.297702191693865,96.87077437169383,52.26936167679041,59.25832464708962,49.382290815582486,50.49450953910213,90.96187228937804,39.98089422511669,65.34112965698594,80.07372589167502,107.2445697869614,249.20767079527454,65.97599004189621,105.65519042323646,105.37839137013516,30.268736306595482,55.20342720748676,45.812419890392036,78.35237317303122,30.218278910255563,60.405578652057486,40.869857721687296,70.68090161974501,65.41785276820485,65.68742479609047,65.58327757177321,63.93823249959385,64.70580023867629,75.95370730931971,21.065325005428363,94.1529335717054,96.03256285064454,131.83318677380885,47.08475341194113,52.19252858530998,129.2784494533508,64.9624084073947,64.44548157089787,66.26221343246768,35.64804107238264,69.98954407269957,30.303910949475956,58.4601240761518,79.78488600435655,79.58370711719938,159.5474016028274,40.86145538846186,59.56627870788001,92.50158132460827,101.79122496232328,42.67939244277565,60.3861629125456,80.0636532730966,38.78408928945213,58.58270662415204,78.40959980291478,50.87521466051384,64.42421767071485,84.49185368402995,32.92580356224118,84.54422608363063,60.7144658464358,100.3365977369475,39.84983801457673,54.169131459462236,41.72927057285359,70.04373680347616,83.40578842848694,75.117684443397,126.65924366486138,23.06066330588126,50.82204589833069,90.00693228338757,35.60014582252155,54.35284112885762,40.65267598370862,64.42916699332451,56.53451836498516,70.3666212459962,91.56839041826962,89.75620964773573,75.8312834600714,70.23880141852388,100.42804488469382,68.5020209707356,89.38647317672823,35.93214540346512,54.77936694801515,76.47279442569078,54.77706579247201,29.877470598040663,75.51873692919686,65.6016826618464,54.63376475535603,93.99147149588858,65.69483896488606,95.39650513778113,60.9119304519074,96.13089991723537,60.58969028860576,48.39996767609095,190.24451360633802,70.08273502208884,51.37847426435046,75.08358026479254,97.6164713836835,63.74271175886587,74.90307680454107,76.15744700654231,61.66306151591226,90.6585944046283,65.0440208102433,69.9788845902039,69.94366906627089,20.458556454135206,80.50260601644112,80.12422112775714,55.93053716821123,61.08041723922304,88.800189330233,38.62627685965852,50.47946910817035,49.52829939869989,98.4194333263305,54.738744442372564,34.905516594106835,76.55101795851411,43.82253485092403,65.10555574327752,65.45245511785934,45.25860276849801,75.35598583397363,74.33211229275565,75.22169204756975,90.13836103263834,89.39779439861894,85.22135320154173,72.59046450878729,55.51774408592654,33.679525538092705,51.51106642437681,44.70729950744914,44.322821324523126,46.59995726569294,93.55298799603953,255.60782945325062,48.953067003976315,70.5914132926097,101.42559340325488,99.49215810640581,100.9926108680354,39.07486336462915,49.975825492973996,69.44175518941518,69.97204182837476,45.840382733059194,59.79618942425624,80.33906634671145,80.04658660842568,51.95217507516877,69.52415917179572,100.31059135664661,97.92268366255618,34.125337654652974,68.6915111691819,37.36837149597227,76.34469142258968,44.564503937574,50.49873181805349,61.08327642503949,49.73212598672826,59.1251247589932,40.270813547415315,61.11574240107131,77.73502630395028,40.87918229455774,69.66042131589863,90.06633039876647,41.04323281669441,59.50594711085916,39.70559971264562,62.280110026366174,27.112959609102784,38.41021424624103,69.81441124126606,67.27904738149384,39.5997622332455,70.86887362010508,60.03570341037565,60.832266932639556,59.22883983467088,80.30633498852099,149.87315713526385,28.661309134726174,60.59098475256595,2.0893541220108958,63.66767366999658,82.84356139213013,103.6479735471882,70.91606626846843,141.85719693976853,50.56332888635246,30.817280621247473,50.717083214225525,69.7595060857053,51.82959776634582,49.18925864758781,50.09653277989713,49.99167388065558,49.56981544632193,57.99245913023497,70.65469743370596,68.54118842643686,29.6844754245858,59.55624178615645,60.6329334007621,38.856597856158814,71.02677480680101,70.2428305176582,60.30698752904483,59.946920842512476,64.45917769451229,65.73622866524198,49.115223668834766,70.21319119866587,99.12070282427293,44.710810596377314,70.42600646951034,69.00188330300836,129.83776333326279,170.07618722646305,60.34309493583945,68.24104498091363,69.22125291580109,69.26693671072641,58.27429293397704,79.59465095801647,58.898436168079975,45.20988850032444,48.62885891097885,78.36512795263354,49.15480121917591,71.31838647155054,44.807051334282804,74.02254054367877,75.87820454095693,74.23584694370214,73.65044401562677,69.85353061127861,69.85619344460484,48.94806901566007,111.29848368798108,42.07822118258625,63.28242056686719,40.38319409861178,61.471750479197055,65.92799665251849,86.25552158150656,44.59441743535322,75.11164063567665,19.854392700903333,95.65363835300522,68.7943742024094,60.716847808975714,46.21106741851933,62.952626298376,63.37215158818204,18.881840310117223,40.47846468826659,99.69682692363693,67.0710436414295,64.6547339648612,64.7614830790988,94.97887228197487,49.25533310869355,79.79274382380511,81.597015634088,71.20978932770498,88.62302522642027,111.05989974303071,36.065842033266925,56.088741373538895,57.055254023286956,98.90390659866995,41.09317645021174,45.53095189062219,65.8148505429494,95.83546627617291,96.23840097724576,40.99127450160669,57.767380099222784,78.35642418683103,80.47347248636301,56.253541204450826,75.39078435711453,92.36819721416242,44.66020160161544,63.34830056805975,77.10513968683775,52.8118448542902,65.87692688597254,84.0435405070006,39.707212003652224,54.54245303868242,86.04721637539046,58.00099654444929,77.56372379238239,35.82646672034902,75.92697582217521,44.73222156970693,61.11544425210626,79.98368039154713,40.18405211263057,61.98118280264817,66.60929209337554,96.19836339378837,29.994909480749318,60.944317932153254,42.21057028082098,59.60831181712428,59.606536836778396,60.630068697082926,67.36956280518388,30.602235712052448,70.73254270402661,59.21257367718587,54.538858420078235,86.62073911969841,47.04272017406195,69.54728611226747,75.96391959173002,111.63676816016239,74.8318100194927,89.73572297991565,149.4424039520758,55.424444310199725,63.889772369741614,65.56112969068192,58.286150639663404,99.58531590933478,49.897502726009044,71.53046084148427,46.70176798522183,63.69067051876135,102.9294153277131,59.304671302502165,67.45221742535239,50.58438580786157,18.78965005635806,101.47304896115601,77.2053319292703,49.3551137261266,57.19369227343468,68.0997116798057,109.53453127249159,108.42354756599448,133.5766864108568,38.71817329151708,71.16449008470198,72.72183569733559,67.78497733181486,107.29994069411119,40.744218131332666,70.2271260153243,48.86101193996453,80.61898862232196,74.49896926976406,47.061702406661624,66.48234486391551,45.137287827799824,57.301713611814826,91.0153037796769,89.19573940362301,72.22137674232334,69.78252540328073,107.77349551508092,113.81602628945292,101.66984373462043,74.41885355768167,73.42874517115335,84.88390052423635,84.78851029011491,66.18513051097969,65.06422449215809,74.48161692802884,110.79909616737152,81.53605520626375,69.5523184054288,69.35140472387957,61.559511674923414,44.61762721028175,70.38999919326933,48.89166351137901,49.97998957979792,50.758539420979616,49.68358451048783,51.89422602052068,51.06602610946833,119.3465379870655,78.7494692486565,101.70007871354181,44.9261089007987,59.08063082349986,75.73297200144388,65.86771971060121,89.78289201224788,109.18324919707028,55.029439849737244,75.39606167736848,93.23877046782316,46.56497254653719,60.01402885321424,44.91400537599302,64.24262623479237,86.75081281131003,41.576800494309204,64.51110606139497,50.03071112812709,74.66267420767235,49.409562042887465,75.06796850940172,49.25241374897594,74.70219471926315,76.98761761782829,115.00847065627998,50.4286707139762,61.59305523420961,79.69951702484587,45.15388249675698,74.54265431253044,57.104600370157044,69.1750877561897,85.57589277440812,55.754640663018236,67.74482830856357,60.941629637361615,110.49708218250316,102.73921954645802,101.77845028066717,74.61976930655476,84.23963398015192,103.76641517488243,51.621906785081435,74.82920180861883,105.12051480566072,120.34784573656714,75.42662259345487,43.112714267631496,55.85139238586926,75.10765861479193,29.054665545915523,39.99006278303535,60.644916509657634,41.45619387015449,59.356270226602135,45.81051053241254,70.86067523709828,68.89489295689135,49.569359396620406,57.8927439579746,96.1795037491998,68.63108538636811,105.41196143367459,106.0799866387324,74.5601826487372,50.17564388939704,70.99332377771339,48.8831449589777,64.37936729434789,72.41796077210753,36.48710364611869,57.9405802965194,53.09256297652241,73.45136059439389,54.37125296062339,74.0688757379967,50.85997387609266,80.60106044894243,39.85644381571035,60.92244659324554,55.70163045649483,76.22609259839369,44.08954936324477,60.16070788427734,70.31858002709777,45.65126576970493,66.24093153101542,109.62364000088162,62.05586985815673,75.05197953988322,35.50711719958331,52.62057544637457,70.2696776098694,60.758941796453975,79.17988973310051,54.30625418588489,49.24291841663918,72.09359831647251,67.59038817478356,114.13592365654398,54.41630704195204,99.50503982900113,166.36145494922516,51.96201395187382,68.91028070853278,43.75497202674221,74.36686861652652,40.350646734599316,61.29288038395018,60.3668491996952,33.19897432673558,65.96788963065558,85.2957039390478,55.97647381282387,75.90609846786442,48.68969865242651,60.143317217309885,60.66634476605596,46.32855788036043,65.06583800506826,75.74674604482703,55.215611691691905,95.88024769298266,70.59391327209626,49.657513059986925,79.29167646305596,107.95963210649568,45.88823825742955,65.37586590340919,75.72711728291856,61.177132865665115,88.16643381933848,43.16391975317627,65.6021982128728,94.5678967439189,70.31028973584472,98.87076251408995,69.20348535444347,107.69100048140326,84.86525852892282,57.36733197318844,51.70710070941259,73.11782888684766,91.2214326040112,53.68857433666422,84.08176892773618,92.84269845583874,90.05781481546508,99.50925628888145,99.62252209555164,70.28103900938981,55.12857392627525,62.02331484103382,89.98816061447376,39.690017805800935,58.10869688735572,75.16506719045933,42.79464693759659,53.00448653155817,70.70183705656835,37.70568914834374,84.30674645845153,45.08758740758707,62.54002255809439,78.22149101362619,37.48500831219161,45.73672650235609,80.900547534255,63.028737951636685,85.41616224850266,43.7962405755443,53.222894927425585,75.72034628801481,67.6741894824195,124.92908405762341,67.13089422550394,94.55224452123558,76.05838868261384,63.10776994403737,73.5050288920446,75.33825464351025,44.3900813136173,59.57510378219994,58.876761703374065,60.57954270999361,80.01381810369763,102.42428173406073,62.72304429644981,81.99233810721911,52.505157569427354,87.38234687079422,42.03848562151602,71.46069052847501,51.230462773427504,64.8682702006838,49.87142127532469,69.80899125921921,44.529940032579056,62.36029240462489,58.465553059187116,82.55996646688277,76.79761122900715,122.6822026145902,94.78889085719658,78.20222455467294,65.42636081309152,48.852912447043884,44.833887005595116,68.55836613635516,90.45948742442589,56.661723817314424,44.21109028775257,84.31979153433515,49.29654394884162,44.69133819514135,52.98108946918864,58.444335490725635,65.5826495934252,53.98805971050071,74.84273991222699,82.94291281965026,53.550957978154415,95.54501295135294,39.90991822637703,84.9907520332647],\"xaxis\":\"x\",\"y\":[44.48324980824037,60.228714793422036,80.99347914594966,80.31556651280096,64.24516587048186,78.88621402415436,99.68117932509142,98.46737547392908,98.90026835829048,41.62071465509108,60.208221366611774,77.8883696427241,44.889677484501966,31.1211386801744,70.26624252160462,48.24373885418084,33.20086201612949,75.43900771474912,145.72245483810096,56.66679772200113,70.82885413498292,101.44572965982779,121.45331002019302,72.94112724322461,97.84775678931757,69.84529070219497,99.08074274748424,54.635831827134865,81.45468534010594,90.75840129062028,111.61698001812293,39.080618948019364,66.17857682414854,40.27265348267475,55.8599633555177,75.11822912476654,49.85260911697134,66.04180542942764,84.78317720218033,34.32509218939652,62.29132299053922,63.71021497110017,99.08559669119632,20.70094346819519,45.18784430422053,54.40582421221233,91.54900808949321,29.84342866936727,40.17766308277629,49.37203796953432,24.610565464658382,29.54693108623473,44.79137899700653,88.5911123845853,95.17829535031603,120.31706398676309,92.00164303093138,115.80841588438153,54.606066578885084,84.74390635982277,70.58403774106584,94.26797318214584,59.5523650989878,95.73272363834506,89.78876458019116,88.83238398105458,69.18695262089317,89.09170459120469,104.46448237736793,120.02117411686959,150.42088847068678,36.49445359910813,45.441091189594324,54.18621754898294,39.65186383285777,54.394180990605975,71.05342926502864,71.06841795294831,98.10585991209454,19.243636760547595,36.910653901997904,43.048422528127354,91.7961418067118,104.31716796655827,12.211353174690665,29.863443308324392,30.22256088879465,44.36028183275408,67.53363975304552,59.4972979397374,75.23334784320748,100.12844347598767,45.93493546837975,69.98156857208983,24.069644467484387,47.943805737568795,40.17320931613091,70.49140977714696,78.57728423223087,94.67641448659023,109.78311785257152,130.17691013349017,70.42417575147078,41.32419046479058,66.74736026105867,52.052422365388225,74.78966320707634,100.61702045510664,139.1930111527396,38.59766798910228,56.11337191037857,33.96920295767203,44.79387647784121,87.02014842783164,75.44414640028862,29.605084404100573,35.19175306134377,62.65663544331674,24.637528341264026,38.80848043780886,49.34519643252972,59.29380943312482,89.51158085475753,98.42138835629262,59.43691105144504,85.26703068952014,62.20369210270595,68.62744219994426,85.6406030837384,113.96698695802219,90.25077258760561,105.21160609371786,93.58097266054716,104.57110553471817,93.10733833458744,84.91223554527127,107.17494355731972,109.61931501879366,78.55857574126823,81.22071700329201,80.01601152423093,60.21976959563997,47.820488783068015,55.789785202686254,62.649599306613894,129.61549593912156,64.90094986116807,40.271175959463854,34.74037432982252,53.37118942596705,54.72713055425776,79.46015956284191,129.12882505120987,148.40444113609374,28.411528412929673,49.69576712346859,68.6213218485554,80.5355749719163,101.78358496182875,44.65592162854296,58.800497515923404,80.35961268040045,66.27956481513422,80.59467937065455,100.24223498719545,42.28793640099848,56.5462860288522,78.25550058330323,20.7651169763662,90.15988929704383,48.58772464322833,70.20945707902912,55.21232431528239,85.31270977193527,29.94207069932849,39.138913977143055,129.2104744671878,67.89697883014777,65.69042102917774,59.39727239904132,14.120809531323314,15.232610426259171,18.705022330468182,39.68898341864431,70.36690083025987,95.19102780626815,36.28533809910788,45.64224205653045,54.650814280465156,46.11360118525988,48.332508265623545,40.11310103434785,50.73912647455002,28.133177398417708,69.21150153604607,51.545545700642876,80.62948633053341,109.23477821429731,85.15728194039727,30.14711165551331,28.681530400238362,93.64699631658857,15.433437185150332,33.41079215049297,109.2730361854964,64.53716772680218,92.40003829699089,28.960051941815728,86.07673827139793,47.41894558673293,33.82309253516929,86.51589901568073,14.100837991254062,41.23445067115879,44.72742896185329,85.66037126777259,30.254245340382788,28.76571895147011,29.488011377569716,44.994816316388075,84.63846152900824,65.71275938671195,75.17472699550282,4.428284101685976,85.62317418965962,74.99615978405649,115.4447481516469,41.11129448314551,56.11435300740073,18.406527858402512,30.984890015527554,50.385219918762296,49.74104876340067,32.162479394192985,64.36124646392517,44.45208275401033,74.75535489165432,68.58726953340738,71.00981721026918,65.8165495971961,94.77703038461738,115.03483635274827,86.25308405113401,40.23917524988994,48.96784796933215,60.263216039261145,87.46178239249589,73.85622246926371,34.89517069016859,73.470738060143,63.396591956927345,95.98566100764613,83.96946951894506,99.9115830221079,55.79875670542317,40.79575125258377,53.268883632697445,61.51386468447635,70.6818792152393,100.80777247429823,71.65852950347768,94.46562403257347,118.43480281161644,146.19718547819025,45.11532941787705,54.19936443702156,81.43854963559043,100.13162792265524,38.52478908191737,49.784449107268784,59.01637614654925,69.80386506163212,33.99921607470094,68.23271622878582,58.92171704323801,99.43734252115777,20.165865917378756,14.155145687943069,64.60036253423533,14.562229814765987,65.0152471217923,30.768398447458047,47.42941799257696,70.32028286401668,31.4814174197728,61.06803029495123,78.66032788952592,83.8480782803628,125.0354027460476,86.90776591056243,65.97661872468517,40.16434138647727,49.07693652010418,80.67294344407208,100.34990921783317,65.225001667878,60.08103777606404,34.32404779889827,70.25123519142005,30.612780646866195,91.29327669091198,100.70554206510333,37.74990033724078,158.81167330846696,42.007623533844075,27.648976282292566,46.355582980653914,67.69976670814413,24.86010178272774,49.826768380741306,18.73764211084371,29.30542311061073,50.121856586536204,69.48421000918754,52.02049078061394,21.571818754714535,48.79139217091282,50.79705590058426,29.401500159368485,38.734701957017684,50.781417121856975,47.48887527236638,59.3701799697032,81.92908363578067,99.97665830036757,65.64645359421154,105.37810380460118,136.02067419994006,94.38097930015691,94.55405521470261,85.12295034314378,84.68265083299396,65.77304219284584,39.51610468232487,55.12564107557417,64.82268976013218,95.5191358900999,105.2166500355023,59.78097606400926,61.00604133601717,34.61278689862249,40.128611434522696,20.8999507124882,20.473419755421297,60.79321272431981,78.52892636085554,58.62744378604334,9.983330582759345,70.45466836418827,101.51264810197296,34.483011685521866,56.373578374286204,48.24159262184654,80.18901837731445,79.27109295105309,90.44075224706764,63.97593244403504,69.44636525425517,70.47462128175822,58.53842323956,59.21811387199796,36.764799775107754,57.09588744841305,54.82685700984544,72.01507625745452,21.242452722044884,42.70449460653961,76.25419945564506,44.541118485990324,79.75621582319967,81.53361752920786,68.96850078588167,40.62383961690143,46.34120071410036,64.56860021485276,75.04326967327879,24.653844305316646,25.21320073954203,51.16555733639843,64.95214366786576,73.6046219181601,115.00220822708181,23.634772528209812,49.977536127149,81.52978134756721,100.55773937708973,26.92470549680326,46.086671907321374,65.68205048779967,32.0821853103256,51.67644738564825,52.8441311383089,54.149799427952445,95.32955350937355,50.32461919369671,50.92849336993199,101.77695247158235,121.59804550660353,29.87540187605818,50.3043234542735,71.38013578448941,111.17377864106867,31.132985017988073,35.45381163180873,54.3936258839796,59.50902527381888,80.5496308841745,106.92683660427261,41.29342779238473,50.65708292003004,59.41150600117751,58.70832828624178,80.94892370148654,99.41442872633735,29.782805096750067,70.63641276056097,24.87083652324838,64.32310354023348,46.244429950402775,60.98565527921644,71.44271238695914,54.64644319231384,90.2438635066949,57.58273707981651,58.507274950263245,30.009523756166026,29.276496222741326,37.21882313303669,36.150443022794484,36.04469110575015,35.06038812479089,65.44074287782047,70.72290980922978,41.22108871522234,95.39491620401323,85.90813965626727,114.32631609745039,35.698396686499024,85.45604668398497,32.9982038957575,38.641615350879995,113.25251204504181,70.77246209917999,80.36504122732856,84.89889583250526,105.21455019471979,134.38468569134105,103.99104749701822,70.91196770931053,85.23852958237032,110.89677757804787,45.3675491164097,75.31586079945546,82.77329594621398,25.64782692657407,32.05002706145964,10.17702937312056,59.94101077860265,29.6622644903519,89.89293946304934,36.08469711887905,41.899553353197355,82.21858715260205,102.22089259369497,92.55207485171961,4.3801007090438935,60.181670546994546,90.62505703706346,113.37015527586107,32.42295655498679,47.52562685093227,65.21243434228087,94.66747947136027,49.82353441518324,84.57115983209928,45.61873425265166,66.6429749056607,89.55576412346211,47.48722359950952,39.49202264521575,59.12522236571267,30.486124329540445,125.25463110049569,59.92290230281195,48.248056077365604,40.584771125864926,49.510766504399975,93.88748942109767,82.54552089400067,79.44931935804702,95.22490384381962,95.84234949666663,66.18462578865437,95.26595726968914,80.00859189276952,89.48015057951716,79.84568037217352,110.32648989347373,38.618666628079396,46.7224676493327,108.6189603325655,90.1948677390484,86.642436959809,85.15898595543466,85.80040074236949,87.39704451999849,85.02255419680753,85.5726505924321,79.44017479574624,100.35949145504752,62.405853109994666,83.77704174465,115.77383473549288,45.09992515029268,53.90612832480541,64.21182698632296,43.084273738355094,58.94524226253669,71.33021151264923,41.81843012755358,76.81889286491166,54.100702205153965,59.87687056384503,80.18785641029592,66.03676984062548,107.10802774463647,64.37059908304758,99.80183435456048,64.74701797024399,100.12041612015757,62.13132184664866,100.20015267622802,24.538143535451443,29.053479099418496,42.71353982161937,65.32386540136547,92.92998723062443,75.14084579747093,116.89354119008273,13.751327892232359,20.416522932914567,26.06161219939867,72.99580202971038,113.91840621862976,68.06425872405569,87.85254291633244,50.26633074980049,50.65364862908074,35.36088250998871,39.28517093066308,44.02582295484966,64.67896456116094,69.78102805186225,73.60480710572268,46.332458196969874,85.69389544089695,42.67684203863907,40.550431768559896,92.31252124708472,57.43769596349073,46.56717268201758,112.51602282019378,65.76561759328592,118.42205155955857,29.908961261472765,89.65002912757296,98.22198870061115,65.18061472570643,74.02865118375924,93.55219336491498,48.79826317663986,93.87811133713068,54.433458244254325,59.36761162196085,55.43083109547392,43.41609652384558,49.10411615704629,57.696735590840824,96.00733058485083,30.345331261309035,29.480672340473063,19.708062483725197,33.470248031041244,70.4321646873152,110.08267216590095,63.255141912573116,76.16952926615429,63.81928912276479,104.79070343485415,75.11541350983484,114.36023323530682,45.088796397314276,54.66561468530359,66.63993919462483,19.153492563338368,30.481699942366138,29.91124179069422,54.78699745508076,98.5410174348585,43.500362537297754,57.90171766557446,78.38339656583123,74.08376191560458,95.12037783846874,103.07895902836071,59.6014807251638,19.535352939552705,15.301016009007187,28.407205187798883,41.38759578851896,60.07008024081166,62.717989697956405,65.78198193035759,106.11775764938868,10.861484615233493,21.302836261565243,28.38911732080995,49.525744386468766,90.33057255444739,59.27083749305484,38.875798210216935,50.60912633543519,30.97568922961762,39.481538327637764,20.274691568395244,56.57797245128948,80.76903617219877,57.95407828489505,67.32723338438014,98.09124404453556,38.844233130763335,49.487048685312374,105.54107378920804,24.20787470000045,143.76866449426188,30.045477916505153,64.92747485594221,105.01593524622015,47.3494006971365,36.260809030367255,56.498136334674136,61.824771207395884,70.17015650472393,54.91776876982888,59.87495076885407,80.2908497409749,60.28432551045519,80.49619496147923,63.43733423707843,110.81543978922784,39.025117964272326,58.64799574033442,97.78171014402363,59.945518431571735,98.09227049255657,108.0045838417732,109.31933474063855,89.84065706502656,128.57177550975575,99.38276913592384,36.96926747415478,58.09129007998098,63.33954915533033,60.76296205650159,70.75211768639221,105.46000887111875,71.77199529085055,95.98450392428633,121.2472602579859,57.70399329193554,79.77578739554261,61.66714851945731,82.97987132359646,124.39494197172318,36.19971753032761,28.73589811801478,87.8110107276581,73.2881817849779,106.10704272310298,42.5029233709038,51.031754927113276,74.7559593191806,52.17483184014395,68.01016331226099,42.83052434848488,57.32603347733334,101.69966871066704,67.2009060892918,103.79846830533762,103.83322955535255,28.649314275608926,35.88947000496569,57.478945874847476,59.28635844522701,21.84163873937383,28.54407789895134,50.38542101170794,72.75095214598029,44.50894873592782,74.41503633362728,49.75763717415962,68.69100244494385,30.803489854586594,43.675142813187094,44.29373577445753,56.88655492393243,70.11806006078395,109.8724065650633,46.38408800850015,72.51568551463251,46.99793386089477,56.534008756325335,60.814195884828294,120.25438721447465,100.79848447803106,49.29558494229465,40.20923377477429,59.52498411598127,80.48454340961149,75.35321286670171,38.634890231855465,55.429442667047326,51.084302289356756,54.82667687238216,45.39214340046547,40.660880544448304,82.42365300485164,100.03743672472821,68.64108840870414,53.87359184638493,29.083565486298045,25.45444442270525,53.58466821131854,121.85058137469896],\"yaxis\":\"y\",\"type\":\"scatter\"},{\"hovertemplate\":\"Fail=True<br>Temperature=%{x}<br>Frequency=%{y}<extra></extra>\",\"legendgroup\":\"True\",\"marker\":{\"color\":\"#EF553B\",\"symbol\":\"circle\"},\"mode\":\"markers\",\"name\":\"True\",\"orientation\":\"v\",\"showlegend\":true,\"x\":[79.80650931072849,91.69533217576718,88.91611396171326,88.76876606626762,105.96944393009522,105.69533074809365,105.27519140905913,90.2956972465105,115.27860347725064,100.98660960920714,106.46851589955372,106.58891305955923,78.86206506334335,76.86742573557414,80.35690295951929,81.54626119598615,79.53801492030868,79.54634745123303,80.31669932401455,98.12305821599573,100.20707679578729,99.96207184991687,99.66692229671897,104.01682248063068,106.7484086190843,100.42957819206958,52.00552935510903,48.091962074157216,48.171370506707376,50.96245818086632,74.81693017152993,80.38846591518376,74.74255825960897,100.51742967396096,90.66247807950404,90.96052971779342,110.07141847638859,150.88030839016233,150.64105922697598,71.3373118677906,99.20916010355303,99.00249008667848,119.62566058847212,98.97963251325876,89.9806876300147,91.14422700127221,90.89739857145294,77.9351544827183,80.4017281574664,78.08290421261863,80.13468579380584,98.40215360154214,100.01490526707593,89.50262202552553,88.7488023295845,123.95909609035986,122.91004444621741,125.03660025607076,127.67075383613128,127.24174612946032,107.45287497895468,50.469522157216424,49.98527049277187,79.777294179225,79.36031359295342,80.85401087067098],\"xaxis\":\"x\",\"y\":[76.56285600076251,84.37735479338632,100.22913120572407,88.21816201631768,131.0722438881638,129.47509382528807,141.50285514066016,113.78433392924474,99.28499409699064,85.79419023362257,111.28163473442812,90.40349068878014,50.456672680118395,50.41542683644516,48.923776984965635,110.7120877875553,109.73193010457298,110.22968381806464,108.83376666862695,88.77969394175064,90.21427636924241,89.32963104503474,90.04867261781044,95.05702225703061,111.86885670262282,99.9997344053747,149.4956912503205,150.55878995256526,90.47057986545448,178.09030265616246,96.44870170214452,79.76276731087042,115.30360422127464,89.94914083063112,101.60804183496379,74.88058318618819,99.54947140841129,90.07664589346487,89.80073918724649,125.8355853887898,100.36691286217155,126.29243503833187,120.22297652181052,99.14035803829215,106.68164993287056,109.37854923112688,110.67252103062022,110.66407726189405,122.04622911181488,112.11958764021264,100.59804813088397,90.60551231185393,90.48292449324224,100.81590149794157,90.94744471655032,93.2495129008041,94.09781265919291,95.88548421712534,97.7764914218013,100.06404304189,94.12516660358362,49.841400268668416,110.9192901873536,70.85335257642042,80.11353955055468,71.26171695698957],\"yaxis\":\"y\",\"type\":\"scatter\"}],                        {\"template\":{\"data\":{\"histogram2dcontour\":[{\"type\":\"histogram2dcontour\",\"colorbar\":{\"outlinewidth\":0,\"ticks\":\"\"},\"colorscale\":[[0.0,\"#0d0887\"],[0.1111111111111111,\"#46039f\"],[0.2222222222222222,\"#7201a8\"],[0.3333333333333333,\"#9c179e\"],[0.4444444444444444,\"#bd3786\"],[0.5555555555555556,\"#d8576b\"],[0.6666666666666666,\"#ed7953\"],[0.7777777777777778,\"#fb9f3a\"],[0.8888888888888888,\"#fdca26\"],[1.0,\"#f0f921\"]]}],\"choropleth\":[{\"type\":\"choropleth\",\"colorbar\":{\"outlinewidth\":0,\"ticks\":\"\"}}],\"histogram2d\":[{\"type\":\"histogram2d\",\"colorbar\":{\"outlinewidth\":0,\"ticks\":\"\"},\"colorscale\":[[0.0,\"#0d0887\"],[0.1111111111111111,\"#46039f\"],[0.2222222222222222,\"#7201a8\"],[0.3333333333333333,\"#9c179e\"],[0.4444444444444444,\"#bd3786\"],[0.5555555555555556,\"#d8576b\"],[0.6666666666666666,\"#ed7953\"],[0.7777777777777778,\"#fb9f3a\"],[0.8888888888888888,\"#fdca26\"],[1.0,\"#f0f921\"]]}],\"heatmap\":[{\"type\":\"heatmap\",\"colorbar\":{\"outlinewidth\":0,\"ticks\":\"\"},\"colorscale\":[[0.0,\"#0d0887\"],[0.1111111111111111,\"#46039f\"],[0.2222222222222222,\"#7201a8\"],[0.3333333333333333,\"#9c179e\"],[0.4444444444444444,\"#bd3786\"],[0.5555555555555556,\"#d8576b\"],[0.6666666666666666,\"#ed7953\"],[0.7777777777777778,\"#fb9f3a\"],[0.8888888888888888,\"#fdca26\"],[1.0,\"#f0f921\"]]}],\"heatmapgl\":[{\"type\":\"heatmapgl\",\"colorbar\":{\"outlinewidth\":0,\"ticks\":\"\"},\"colorscale\":[[0.0,\"#0d0887\"],[0.1111111111111111,\"#46039f\"],[0.2222222222222222,\"#7201a8\"],[0.3333333333333333,\"#9c179e\"],[0.4444444444444444,\"#bd3786\"],[0.5555555555555556,\"#d8576b\"],[0.6666666666666666,\"#ed7953\"],[0.7777777777777778,\"#fb9f3a\"],[0.8888888888888888,\"#fdca26\"],[1.0,\"#f0f921\"]]}],\"contourcarpet\":[{\"type\":\"contourcarpet\",\"colorbar\":{\"outlinewidth\":0,\"ticks\":\"\"}}],\"contour\":[{\"type\":\"contour\",\"colorbar\":{\"outlinewidth\":0,\"ticks\":\"\"},\"colorscale\":[[0.0,\"#0d0887\"],[0.1111111111111111,\"#46039f\"],[0.2222222222222222,\"#7201a8\"],[0.3333333333333333,\"#9c179e\"],[0.4444444444444444,\"#bd3786\"],[0.5555555555555556,\"#d8576b\"],[0.6666666666666666,\"#ed7953\"],[0.7777777777777778,\"#fb9f3a\"],[0.8888888888888888,\"#fdca26\"],[1.0,\"#f0f921\"]]}],\"surface\":[{\"type\":\"surface\",\"colorbar\":{\"outlinewidth\":0,\"ticks\":\"\"},\"colorscale\":[[0.0,\"#0d0887\"],[0.1111111111111111,\"#46039f\"],[0.2222222222222222,\"#7201a8\"],[0.3333333333333333,\"#9c179e\"],[0.4444444444444444,\"#bd3786\"],[0.5555555555555556,\"#d8576b\"],[0.6666666666666666,\"#ed7953\"],[0.7777777777777778,\"#fb9f3a\"],[0.8888888888888888,\"#fdca26\"],[1.0,\"#f0f921\"]]}],\"mesh3d\":[{\"type\":\"mesh3d\",\"colorbar\":{\"outlinewidth\":0,\"ticks\":\"\"}}],\"scatter\":[{\"fillpattern\":{\"fillmode\":\"overlay\",\"size\":10,\"solidity\":0.2},\"type\":\"scatter\"}],\"parcoords\":[{\"type\":\"parcoords\",\"line\":{\"colorbar\":{\"outlinewidth\":0,\"ticks\":\"\"}}}],\"scatterpolargl\":[{\"type\":\"scatterpolargl\",\"marker\":{\"colorbar\":{\"outlinewidth\":0,\"ticks\":\"\"}}}],\"bar\":[{\"error_x\":{\"color\":\"#2a3f5f\"},\"error_y\":{\"color\":\"#2a3f5f\"},\"marker\":{\"line\":{\"color\":\"#E5ECF6\",\"width\":0.5},\"pattern\":{\"fillmode\":\"overlay\",\"size\":10,\"solidity\":0.2}},\"type\":\"bar\"}],\"scattergeo\":[{\"type\":\"scattergeo\",\"marker\":{\"colorbar\":{\"outlinewidth\":0,\"ticks\":\"\"}}}],\"scatterpolar\":[{\"type\":\"scatterpolar\",\"marker\":{\"colorbar\":{\"outlinewidth\":0,\"ticks\":\"\"}}}],\"histogram\":[{\"marker\":{\"pattern\":{\"fillmode\":\"overlay\",\"size\":10,\"solidity\":0.2}},\"type\":\"histogram\"}],\"scattergl\":[{\"type\":\"scattergl\",\"marker\":{\"colorbar\":{\"outlinewidth\":0,\"ticks\":\"\"}}}],\"scatter3d\":[{\"type\":\"scatter3d\",\"line\":{\"colorbar\":{\"outlinewidth\":0,\"ticks\":\"\"}},\"marker\":{\"colorbar\":{\"outlinewidth\":0,\"ticks\":\"\"}}}],\"scattermapbox\":[{\"type\":\"scattermapbox\",\"marker\":{\"colorbar\":{\"outlinewidth\":0,\"ticks\":\"\"}}}],\"scatterternary\":[{\"type\":\"scatterternary\",\"marker\":{\"colorbar\":{\"outlinewidth\":0,\"ticks\":\"\"}}}],\"scattercarpet\":[{\"type\":\"scattercarpet\",\"marker\":{\"colorbar\":{\"outlinewidth\":0,\"ticks\":\"\"}}}],\"carpet\":[{\"aaxis\":{\"endlinecolor\":\"#2a3f5f\",\"gridcolor\":\"white\",\"linecolor\":\"white\",\"minorgridcolor\":\"white\",\"startlinecolor\":\"#2a3f5f\"},\"baxis\":{\"endlinecolor\":\"#2a3f5f\",\"gridcolor\":\"white\",\"linecolor\":\"white\",\"minorgridcolor\":\"white\",\"startlinecolor\":\"#2a3f5f\"},\"type\":\"carpet\"}],\"table\":[{\"cells\":{\"fill\":{\"color\":\"#EBF0F8\"},\"line\":{\"color\":\"white\"}},\"header\":{\"fill\":{\"color\":\"#C8D4E3\"},\"line\":{\"color\":\"white\"}},\"type\":\"table\"}],\"barpolar\":[{\"marker\":{\"line\":{\"color\":\"#E5ECF6\",\"width\":0.5},\"pattern\":{\"fillmode\":\"overlay\",\"size\":10,\"solidity\":0.2}},\"type\":\"barpolar\"}],\"pie\":[{\"automargin\":true,\"type\":\"pie\"}]},\"layout\":{\"autotypenumbers\":\"strict\",\"colorway\":[\"#636efa\",\"#EF553B\",\"#00cc96\",\"#ab63fa\",\"#FFA15A\",\"#19d3f3\",\"#FF6692\",\"#B6E880\",\"#FF97FF\",\"#FECB52\"],\"font\":{\"color\":\"#2a3f5f\"},\"hovermode\":\"closest\",\"hoverlabel\":{\"align\":\"left\"},\"paper_bgcolor\":\"white\",\"plot_bgcolor\":\"#E5ECF6\",\"polar\":{\"bgcolor\":\"#E5ECF6\",\"angularaxis\":{\"gridcolor\":\"white\",\"linecolor\":\"white\",\"ticks\":\"\"},\"radialaxis\":{\"gridcolor\":\"white\",\"linecolor\":\"white\",\"ticks\":\"\"}},\"ternary\":{\"bgcolor\":\"#E5ECF6\",\"aaxis\":{\"gridcolor\":\"white\",\"linecolor\":\"white\",\"ticks\":\"\"},\"baxis\":{\"gridcolor\":\"white\",\"linecolor\":\"white\",\"ticks\":\"\"},\"caxis\":{\"gridcolor\":\"white\",\"linecolor\":\"white\",\"ticks\":\"\"}},\"coloraxis\":{\"colorbar\":{\"outlinewidth\":0,\"ticks\":\"\"}},\"colorscale\":{\"sequential\":[[0.0,\"#0d0887\"],[0.1111111111111111,\"#46039f\"],[0.2222222222222222,\"#7201a8\"],[0.3333333333333333,\"#9c179e\"],[0.4444444444444444,\"#bd3786\"],[0.5555555555555556,\"#d8576b\"],[0.6666666666666666,\"#ed7953\"],[0.7777777777777778,\"#fb9f3a\"],[0.8888888888888888,\"#fdca26\"],[1.0,\"#f0f921\"]],\"sequentialminus\":[[0.0,\"#0d0887\"],[0.1111111111111111,\"#46039f\"],[0.2222222222222222,\"#7201a8\"],[0.3333333333333333,\"#9c179e\"],[0.4444444444444444,\"#bd3786\"],[0.5555555555555556,\"#d8576b\"],[0.6666666666666666,\"#ed7953\"],[0.7777777777777778,\"#fb9f3a\"],[0.8888888888888888,\"#fdca26\"],[1.0,\"#f0f921\"]],\"diverging\":[[0,\"#8e0152\"],[0.1,\"#c51b7d\"],[0.2,\"#de77ae\"],[0.3,\"#f1b6da\"],[0.4,\"#fde0ef\"],[0.5,\"#f7f7f7\"],[0.6,\"#e6f5d0\"],[0.7,\"#b8e186\"],[0.8,\"#7fbc41\"],[0.9,\"#4d9221\"],[1,\"#276419\"]]},\"xaxis\":{\"gridcolor\":\"white\",\"linecolor\":\"white\",\"ticks\":\"\",\"title\":{\"standoff\":15},\"zerolinecolor\":\"white\",\"automargin\":true,\"zerolinewidth\":2},\"yaxis\":{\"gridcolor\":\"white\",\"linecolor\":\"white\",\"ticks\":\"\",\"title\":{\"standoff\":15},\"zerolinecolor\":\"white\",\"automargin\":true,\"zerolinewidth\":2},\"scene\":{\"xaxis\":{\"backgroundcolor\":\"#E5ECF6\",\"gridcolor\":\"white\",\"linecolor\":\"white\",\"showbackground\":true,\"ticks\":\"\",\"zerolinecolor\":\"white\",\"gridwidth\":2},\"yaxis\":{\"backgroundcolor\":\"#E5ECF6\",\"gridcolor\":\"white\",\"linecolor\":\"white\",\"showbackground\":true,\"ticks\":\"\",\"zerolinecolor\":\"white\",\"gridwidth\":2},\"zaxis\":{\"backgroundcolor\":\"#E5ECF6\",\"gridcolor\":\"white\",\"linecolor\":\"white\",\"showbackground\":true,\"ticks\":\"\",\"zerolinecolor\":\"white\",\"gridwidth\":2}},\"shapedefaults\":{\"line\":{\"color\":\"#2a3f5f\"}},\"annotationdefaults\":{\"arrowcolor\":\"#2a3f5f\",\"arrowhead\":0,\"arrowwidth\":1},\"geo\":{\"bgcolor\":\"white\",\"landcolor\":\"#E5ECF6\",\"subunitcolor\":\"white\",\"showland\":true,\"showlakes\":true,\"lakecolor\":\"white\"},\"title\":{\"x\":0.05},\"mapbox\":{\"style\":\"light\"}}},\"xaxis\":{\"anchor\":\"y\",\"domain\":[0.0,1.0],\"title\":{\"text\":\"Temperature\"}},\"yaxis\":{\"anchor\":\"x\",\"domain\":[0.0,1.0],\"title\":{\"text\":\"Frequency\"}},\"legend\":{\"title\":{\"text\":\"Fail\"},\"tracegroupgap\":0},\"title\":{\"text\":\"Joint effect of Temperature and Frequency\"}},                        {\"responsive\": true}                    ).then(function(){\n",
              "                            \n",
              "var gd = document.getElementById('3d41ca16-d5a1-4ccf-b1aa-91f52858ba56');\n",
              "var x = new MutationObserver(function (mutations, observer) {{\n",
              "        var display = window.getComputedStyle(gd).display;\n",
              "        if (!display || display === 'none') {{\n",
              "            console.log([gd, 'removed!']);\n",
              "            Plotly.purge(gd);\n",
              "            observer.disconnect();\n",
              "        }}\n",
              "}});\n",
              "\n",
              "// Listen for the removal of the full notebook cells\n",
              "var notebookContainer = gd.closest('#notebook-container');\n",
              "if (notebookContainer) {{\n",
              "    x.observe(notebookContainer, {childList: true});\n",
              "}}\n",
              "\n",
              "// Listen for the clearing of the current output cell\n",
              "var outputEl = gd.closest('.output');\n",
              "if (outputEl) {{\n",
              "    x.observe(outputEl, {childList: true});\n",
              "}}\n",
              "\n",
              "                        })                };                            </script>        </div>\n",
              "</body>\n",
              "</html>"
            ]
          },
          "metadata": {}
        }
      ]
    },
    {
      "cell_type": "code",
      "source": [
        "graph_T_Vx = px.scatter(df, x='Temperature', y='VibrationX', color = 'Fail', title='Joint effect of Temperature and VibrationX') \n",
        "graph_T_Vx.show()"
      ],
      "metadata": {
        "colab": {
          "base_uri": "https://localhost:8080/"
        },
        "id": "u4H_HdiPMoaZ",
        "outputId": "21fb86d0-00a7-45a8-fa6e-1b37cd3e633f"
      },
      "execution_count": null,
      "outputs": [
        {
          "output_type": "display_data",
          "data": {
            "text/html": [
              "<html>\n",
              "<head><meta charset=\"utf-8\" /></head>\n",
              "<body>\n",
              "    <div>            <script src=\"https://cdnjs.cloudflare.com/ajax/libs/mathjax/2.7.5/MathJax.js?config=TeX-AMS-MML_SVG\"></script><script type=\"text/javascript\">if (window.MathJax && window.MathJax.Hub && window.MathJax.Hub.Config) {window.MathJax.Hub.Config({SVG: {font: \"STIX-Web\"}});}</script>                <script type=\"text/javascript\">window.PlotlyConfig = {MathJaxConfig: 'local'};</script>\n",
              "        <script src=\"https://cdn.plot.ly/plotly-2.18.2.min.js\"></script>                <div id=\"c0ee1bc8-c38e-4184-8aa8-37478cc4f02c\" class=\"plotly-graph-div\" style=\"height:525px; width:100%;\"></div>            <script type=\"text/javascript\">                                    window.PLOTLYENV=window.PLOTLYENV || {};                                    if (document.getElementById(\"c0ee1bc8-c38e-4184-8aa8-37478cc4f02c\")) {                    Plotly.newPlot(                        \"c0ee1bc8-c38e-4184-8aa8-37478cc4f02c\",                        [{\"hovertemplate\":\"Fail=False<br>Temperature=%{x}<br>VibrationX=%{y}<extra></extra>\",\"legendgroup\":\"False\",\"marker\":{\"color\":\"#636efa\",\"symbol\":\"circle\"},\"mode\":\"markers\",\"name\":\"False\",\"orientation\":\"v\",\"showlegend\":true,\"x\":[44.23518586415284,60.807234448796294,79.02753565280922,79.71624156697328,39.98905447038245,58.33608516610776,77.93777730868518,78.56350579645732,77.48621811181675,42.61915864954467,59.501364304919484,80.66249668018938,46.01219123516164,48.69096459034,59.20124984330761,39.187095909349004,44.07871748928103,65.35206551815605,65.38699108649853,39.77468772001118,62.80160619043731,81.83700891622891,83.21390848177116,29.906236088762473,54.688073252346655,39.530741261397175,65.8854362481166,34.29444408428433,58.79160316949757,35.49864688284704,61.97709261558516,49.72011922165315,76.75927233454397,54.59092637063649,70.4434574012617,89.91856905388258,45.463431774100755,61.473079064735494,81.30499214726294,70.86979416438925,95.33139485370191,37.171731344297235,73.55064283275956,116.30107567431064,139.17148913734437,38.96347703784512,75.0513766670084,45.31359248501403,60.06181706568592,74.98379209041049,34.79796774391001,61.292131936545495,59.56036308290774,67.59232420882887,9.32215408725349,34.46699609481962,38.994979891936964,64.14253318228393,50.46928448275356,78.64481261042818,38.61064466091389,63.608710061356526,54.58179855420685,90.35099997808109,39.72335242934332,64.58698512271295,91.86532174997701,25.14758360493675,40.72488088300982,54.08179209629801,54.214398911752895,67.82328948408673,80.43099607257962,89.6119415208847,50.80048494067988,65.45194590602941,79.0359842327654,41.038496452869765,77.55772696793223,39.91316603648522,54.18543497453208,80.71512881473694,49.7877301220086,64.9488093399678,89.98747890662526,94.31277465618913,96.46629730323046,25.34853579658119,50.06144187795485,52.4662626467654,37.812795229949884,59.73234363728386,66.10272331345608,90.23758991846198,79.38072988336586,103.73807544198402,28.41473455584699,48.83639834478539,30.692633192450934,45.63191588358501,62.199014404705856,59.583936847698766,35.440296259789214,60.550804992117165,85.84927906383497,28.63124683190494,54.22280720897519,39.85478733456605,59.733078723407935,58.297702191693865,96.87077437169383,52.26936167679041,59.25832464708962,49.382290815582486,50.49450953910213,90.96187228937804,39.98089422511669,65.34112965698594,80.07372589167502,107.2445697869614,249.20767079527454,65.97599004189621,105.65519042323646,105.37839137013516,30.268736306595482,55.20342720748676,45.812419890392036,78.35237317303122,30.218278910255563,60.405578652057486,40.869857721687296,70.68090161974501,65.41785276820485,65.68742479609047,65.58327757177321,63.93823249959385,64.70580023867629,75.95370730931971,21.065325005428363,94.1529335717054,96.03256285064454,131.83318677380885,47.08475341194113,52.19252858530998,129.2784494533508,64.9624084073947,64.44548157089787,66.26221343246768,35.64804107238264,69.98954407269957,30.303910949475956,58.4601240761518,79.78488600435655,79.58370711719938,159.5474016028274,40.86145538846186,59.56627870788001,92.50158132460827,101.79122496232328,42.67939244277565,60.3861629125456,80.0636532730966,38.78408928945213,58.58270662415204,78.40959980291478,50.87521466051384,64.42421767071485,84.49185368402995,32.92580356224118,84.54422608363063,60.7144658464358,100.3365977369475,39.84983801457673,54.169131459462236,41.72927057285359,70.04373680347616,83.40578842848694,75.117684443397,126.65924366486138,23.06066330588126,50.82204589833069,90.00693228338757,35.60014582252155,54.35284112885762,40.65267598370862,64.42916699332451,56.53451836498516,70.3666212459962,91.56839041826962,89.75620964773573,75.8312834600714,70.23880141852388,100.42804488469382,68.5020209707356,89.38647317672823,35.93214540346512,54.77936694801515,76.47279442569078,54.77706579247201,29.877470598040663,75.51873692919686,65.6016826618464,54.63376475535603,93.99147149588858,65.69483896488606,95.39650513778113,60.9119304519074,96.13089991723537,60.58969028860576,48.39996767609095,190.24451360633802,70.08273502208884,51.37847426435046,75.08358026479254,97.6164713836835,63.74271175886587,74.90307680454107,76.15744700654231,61.66306151591226,90.6585944046283,65.0440208102433,69.9788845902039,69.94366906627089,20.458556454135206,80.50260601644112,80.12422112775714,55.93053716821123,61.08041723922304,88.800189330233,38.62627685965852,50.47946910817035,49.52829939869989,98.4194333263305,54.738744442372564,34.905516594106835,76.55101795851411,43.82253485092403,65.10555574327752,65.45245511785934,45.25860276849801,75.35598583397363,74.33211229275565,75.22169204756975,90.13836103263834,89.39779439861894,85.22135320154173,72.59046450878729,55.51774408592654,33.679525538092705,51.51106642437681,44.70729950744914,44.322821324523126,46.59995726569294,93.55298799603953,255.60782945325062,48.953067003976315,70.5914132926097,101.42559340325488,99.49215810640581,100.9926108680354,39.07486336462915,49.975825492973996,69.44175518941518,69.97204182837476,45.840382733059194,59.79618942425624,80.33906634671145,80.04658660842568,51.95217507516877,69.52415917179572,100.31059135664661,97.92268366255618,34.125337654652974,68.6915111691819,37.36837149597227,76.34469142258968,44.564503937574,50.49873181805349,61.08327642503949,49.73212598672826,59.1251247589932,40.270813547415315,61.11574240107131,77.73502630395028,40.87918229455774,69.66042131589863,90.06633039876647,41.04323281669441,59.50594711085916,39.70559971264562,62.280110026366174,27.112959609102784,38.41021424624103,69.81441124126606,67.27904738149384,39.5997622332455,70.86887362010508,60.03570341037565,60.832266932639556,59.22883983467088,80.30633498852099,149.87315713526385,28.661309134726174,60.59098475256595,2.0893541220108958,63.66767366999658,82.84356139213013,103.6479735471882,70.91606626846843,141.85719693976853,50.56332888635246,30.817280621247473,50.717083214225525,69.7595060857053,51.82959776634582,49.18925864758781,50.09653277989713,49.99167388065558,49.56981544632193,57.99245913023497,70.65469743370596,68.54118842643686,29.6844754245858,59.55624178615645,60.6329334007621,38.856597856158814,71.02677480680101,70.2428305176582,60.30698752904483,59.946920842512476,64.45917769451229,65.73622866524198,49.115223668834766,70.21319119866587,99.12070282427293,44.710810596377314,70.42600646951034,69.00188330300836,129.83776333326279,170.07618722646305,60.34309493583945,68.24104498091363,69.22125291580109,69.26693671072641,58.27429293397704,79.59465095801647,58.898436168079975,45.20988850032444,48.62885891097885,78.36512795263354,49.15480121917591,71.31838647155054,44.807051334282804,74.02254054367877,75.87820454095693,74.23584694370214,73.65044401562677,69.85353061127861,69.85619344460484,48.94806901566007,111.29848368798108,42.07822118258625,63.28242056686719,40.38319409861178,61.471750479197055,65.92799665251849,86.25552158150656,44.59441743535322,75.11164063567665,19.854392700903333,95.65363835300522,68.7943742024094,60.716847808975714,46.21106741851933,62.952626298376,63.37215158818204,18.881840310117223,40.47846468826659,99.69682692363693,67.0710436414295,64.6547339648612,64.7614830790988,94.97887228197487,49.25533310869355,79.79274382380511,81.597015634088,71.20978932770498,88.62302522642027,111.05989974303071,36.065842033266925,56.088741373538895,57.055254023286956,98.90390659866995,41.09317645021174,45.53095189062219,65.8148505429494,95.83546627617291,96.23840097724576,40.99127450160669,57.767380099222784,78.35642418683103,80.47347248636301,56.253541204450826,75.39078435711453,92.36819721416242,44.66020160161544,63.34830056805975,77.10513968683775,52.8118448542902,65.87692688597254,84.0435405070006,39.707212003652224,54.54245303868242,86.04721637539046,58.00099654444929,77.56372379238239,35.82646672034902,75.92697582217521,44.73222156970693,61.11544425210626,79.98368039154713,40.18405211263057,61.98118280264817,66.60929209337554,96.19836339378837,29.994909480749318,60.944317932153254,42.21057028082098,59.60831181712428,59.606536836778396,60.630068697082926,67.36956280518388,30.602235712052448,70.73254270402661,59.21257367718587,54.538858420078235,86.62073911969841,47.04272017406195,69.54728611226747,75.96391959173002,111.63676816016239,74.8318100194927,89.73572297991565,149.4424039520758,55.424444310199725,63.889772369741614,65.56112969068192,58.286150639663404,99.58531590933478,49.897502726009044,71.53046084148427,46.70176798522183,63.69067051876135,102.9294153277131,59.304671302502165,67.45221742535239,50.58438580786157,18.78965005635806,101.47304896115601,77.2053319292703,49.3551137261266,57.19369227343468,68.0997116798057,109.53453127249159,108.42354756599448,133.5766864108568,38.71817329151708,71.16449008470198,72.72183569733559,67.78497733181486,107.29994069411119,40.744218131332666,70.2271260153243,48.86101193996453,80.61898862232196,74.49896926976406,47.061702406661624,66.48234486391551,45.137287827799824,57.301713611814826,91.0153037796769,89.19573940362301,72.22137674232334,69.78252540328073,107.77349551508092,113.81602628945292,101.66984373462043,74.41885355768167,73.42874517115335,84.88390052423635,84.78851029011491,66.18513051097969,65.06422449215809,74.48161692802884,110.79909616737152,81.53605520626375,69.5523184054288,69.35140472387957,61.559511674923414,44.61762721028175,70.38999919326933,48.89166351137901,49.97998957979792,50.758539420979616,49.68358451048783,51.89422602052068,51.06602610946833,119.3465379870655,78.7494692486565,101.70007871354181,44.9261089007987,59.08063082349986,75.73297200144388,65.86771971060121,89.78289201224788,109.18324919707028,55.029439849737244,75.39606167736848,93.23877046782316,46.56497254653719,60.01402885321424,44.91400537599302,64.24262623479237,86.75081281131003,41.576800494309204,64.51110606139497,50.03071112812709,74.66267420767235,49.409562042887465,75.06796850940172,49.25241374897594,74.70219471926315,76.98761761782829,115.00847065627998,50.4286707139762,61.59305523420961,79.69951702484587,45.15388249675698,74.54265431253044,57.104600370157044,69.1750877561897,85.57589277440812,55.754640663018236,67.74482830856357,60.941629637361615,110.49708218250316,102.73921954645802,101.77845028066717,74.61976930655476,84.23963398015192,103.76641517488243,51.621906785081435,74.82920180861883,105.12051480566072,120.34784573656714,75.42662259345487,43.112714267631496,55.85139238586926,75.10765861479193,29.054665545915523,39.99006278303535,60.644916509657634,41.45619387015449,59.356270226602135,45.81051053241254,70.86067523709828,68.89489295689135,49.569359396620406,57.8927439579746,96.1795037491998,68.63108538636811,105.41196143367459,106.0799866387324,74.5601826487372,50.17564388939704,70.99332377771339,48.8831449589777,64.37936729434789,72.41796077210753,36.48710364611869,57.9405802965194,53.09256297652241,73.45136059439389,54.37125296062339,74.0688757379967,50.85997387609266,80.60106044894243,39.85644381571035,60.92244659324554,55.70163045649483,76.22609259839369,44.08954936324477,60.16070788427734,70.31858002709777,45.65126576970493,66.24093153101542,109.62364000088162,62.05586985815673,75.05197953988322,35.50711719958331,52.62057544637457,70.2696776098694,60.758941796453975,79.17988973310051,54.30625418588489,49.24291841663918,72.09359831647251,67.59038817478356,114.13592365654398,54.41630704195204,99.50503982900113,166.36145494922516,51.96201395187382,68.91028070853278,43.75497202674221,74.36686861652652,40.350646734599316,61.29288038395018,60.3668491996952,33.19897432673558,65.96788963065558,85.2957039390478,55.97647381282387,75.90609846786442,48.68969865242651,60.143317217309885,60.66634476605596,46.32855788036043,65.06583800506826,75.74674604482703,55.215611691691905,95.88024769298266,70.59391327209626,49.657513059986925,79.29167646305596,107.95963210649568,45.88823825742955,65.37586590340919,75.72711728291856,61.177132865665115,88.16643381933848,43.16391975317627,65.6021982128728,94.5678967439189,70.31028973584472,98.87076251408995,69.20348535444347,107.69100048140326,84.86525852892282,57.36733197318844,51.70710070941259,73.11782888684766,91.2214326040112,53.68857433666422,84.08176892773618,92.84269845583874,90.05781481546508,99.50925628888145,99.62252209555164,70.28103900938981,55.12857392627525,62.02331484103382,89.98816061447376,39.690017805800935,58.10869688735572,75.16506719045933,42.79464693759659,53.00448653155817,70.70183705656835,37.70568914834374,84.30674645845153,45.08758740758707,62.54002255809439,78.22149101362619,37.48500831219161,45.73672650235609,80.900547534255,63.028737951636685,85.41616224850266,43.7962405755443,53.222894927425585,75.72034628801481,67.6741894824195,124.92908405762341,67.13089422550394,94.55224452123558,76.05838868261384,63.10776994403737,73.5050288920446,75.33825464351025,44.3900813136173,59.57510378219994,58.876761703374065,60.57954270999361,80.01381810369763,102.42428173406073,62.72304429644981,81.99233810721911,52.505157569427354,87.38234687079422,42.03848562151602,71.46069052847501,51.230462773427504,64.8682702006838,49.87142127532469,69.80899125921921,44.529940032579056,62.36029240462489,58.465553059187116,82.55996646688277,76.79761122900715,122.6822026145902,94.78889085719658,78.20222455467294,65.42636081309152,48.852912447043884,44.833887005595116,68.55836613635516,90.45948742442589,56.661723817314424,44.21109028775257,84.31979153433515,49.29654394884162,44.69133819514135,52.98108946918864,58.444335490725635,65.5826495934252,53.98805971050071,74.84273991222699,82.94291281965026,53.550957978154415,95.54501295135294,39.90991822637703,84.9907520332647],\"xaxis\":\"x\",\"y\":[46.44176923068589,62.00595106708013,82.64210959422543,122.36232148005857,42.51430194833384,56.479226973543625,77.80058968354564,110.47987136045793,77.39038839955747,65.7891557607292,79.06783336468564,99.62877806125697,35.021092356258364,54.45533557547091,49.066485298836845,30.173297322986325,51.3481031411045,39.39668683758067,40.55361543916053,38.95898229871159,55.795654347680156,76.20311129075449,79.99717718244978,34.633811628566704,61.47269962997456,29.131192990352314,66.09296356739438,44.05977433615447,70.30677166900665,40.70287801001922,54.556849651874735,84.2925820585248,110.39023183646562,54.0750249520765,66.90623645916881,89.09011162050584,39.35014776716161,57.32756605886908,76.9230511005243,48.99931365256243,72.9182770832112,40.99869027081586,73.66521437048335,19.530348313166773,45.81026432727553,33.74114164913997,71.3993428818435,53.840754461180374,68.44557228457323,84.86821838100569,55.4254470255158,80.79220332546609,50.51654759872533,59.86906547367336,23.117043524463426,48.30688354192018,35.94209249005101,60.12650348877633,49.168410611993146,77.5200424667294,33.86388748861424,62.144137313337446,44.82591841211145,81.81556180359074,40.26739688842633,64.00831185560504,94.08243503499557,15.77019026791794,30.152633687854955,44.70697600840518,65.32937144259441,50.49640795804988,69.63992019252261,78.47624934344178,35.41058727391028,48.76556139385775,64.82885432962706,33.626874900710696,65.19861852542178,99.05908150391407,113.66115539487295,130.16919773793043,54.56265241364526,69.60471591977068,66.30232784267018,108.4304568662854,179.9289477355205,69.41803141519136,94.25683986033927,54.81077619548878,45.799726590502296,69.35703635838422,56.59623462667544,81.89464148985327,51.02962853042267,74.11705445601851,100.37410502233098,177.1229808493862,28.530084960710308,45.10543657879705,61.293818957312055,80.49984275761629,158.10170768624744,45.18681946988427,71.34246746131423,90.22789068585118,113.80219309567389,49.669512861015555,70.37975838263797,79.3384378967881,84.40467252489195,95.49444710963823,110.4952741907172,54.114909260097896,79.9415739871553,75.55621246079933,94.45304741320516,120.40295923724756,95.53277550957456,119.71680583795599,5.860703108036286,114.85434339810153,78.57468664599126,100.48557547324347,67.46309303802428,96.9009278255505,58.167260729605914,64.10424054979494,55.26839800685086,83.13484454147182,63.00154518347691,78.42628301836531,34.85834989687224,55.858340389527925,56.93397749819484,102.44364489098564,118.39587313355811,95.5590400568073,55.952880088228454,79.02691387638374,109.09131480016613,79.33702977893195,48.170130282636435,49.00042326402788,60.48135937118371,61.3180989385939,59.54071864320426,69.30275582595256,99.3310372874054,123.04853072694618,90.73753879881181,105.55448130049547,66.41590631381193,86.14788033041827,65.14768309835499,45.281480611920195,64.65290948800204,93.37588880865574,98.82785070999827,65.28165620900509,79.55113530689914,101.17687362342713,42.8646087211143,57.2694470625389,77.66982883853694,62.371554732384325,78.4428101930628,98.18485193435416,35.53927523501556,63.28541547394489,31.0663163726306,50.37827586506799,30.258714542702045,50.931262346391655,40.867095242594544,69.43212089103679,80.6166210717243,38.09966778316922,57.03727227786744,15.248352901231499,28.365773551661547,16.852325232513536,65.51445599968805,83.03098457087306,45.8906504743369,70.0748122468118,39.88583220063226,54.28541328555417,84.1586746504716,103.39960102822472,94.62736608479493,51.272337460217464,80.78036033022319,115.38271597441742,73.93027229798163,41.14596823512092,48.90645662041672,67.79332883600604,54.17691407097552,30.63116315469545,53.28009965779313,46.2582424625589,45.18059146572827,83.55739414594538,59.361534648412714,110.52028155116683,41.83047594026507,79.87441914358796,59.37661968814464,47.751974690380194,56.30922006937726,64.76738560627844,88.11069665187274,140.19449829448814,69.63696470371902,103.9622109756319,202.36072785934334,229.23594578231612,49.12622141335268,74.2434394751787,74.36542030813973,100.3029008977626,139.5058386923074,230.86114188240788,75.12889805293503,115.94839603458708,56.347238147977144,48.80419173058828,76.60973572855292,38.88526878671638,119.92658646144365,40.440375644043435,79.91319172192426,82.53806990535416,36.109289329216814,72.94719633588956,44.988223333394664,69.92104064653029,140.33632149849942,30.270450706721718,48.904470523535075,89.56928415290758,93.94808874608121,61.80651152527363,121.38834867507168,90.36916949391167,63.30867399272546,37.17803236156029,33.88171698076223,95.68120490054626,12.762317377022216,38.43510802868706,37.260071967278584,105.8076570755333,9.873129417377502,49.74863760228568,70.98388740550303,111.23854918568111,151.04650543149458,100.17740472967274,34.43792862704024,44.68044514744488,61.78777726553739,75.02865026268171,39.51913493967067,61.127020497256034,69.7615550070927,80.52539835134635,50.250255338886866,70.9504558558058,90.90497168107099,110.45914211972249,36.16986612466214,69.12850618166858,40.639905088762696,59.901440295844786,35.90127037398998,56.10079960470162,50.565339366519396,54.22636884835126,70.9313402475157,31.92679334616826,51.29546065446529,68.16153095612474,51.502390961249795,41.26672129881837,58.61753134084654,29.077466415175675,58.80715381272614,30.22676783213772,100.10803014752037,24.942693383771562,34.72368631566218,64.9603896342818,64.37630821468156,33.31412700707915,61.433556870574634,58.40565125173448,79.94337964968157,59.9198384260987,79.07317787991911,99.85803078716935,90.66216720980277,44.249942057696956,44.86299422875109,21.939130782354866,43.7623164682289,64.42940474870589,29.407607642062718,61.0142135399477,38.943502163404546,135.38708565586202,45.07975267453795,62.85081289740627,73.88217045547292,127.57759389355233,86.33795998315874,126.40678376016578,100.765452650715,140.72152897947143,179.87800295280996,230.1533864703755,53.5153073404073,76.46866857028618,85.37023719212331,40.78251417641634,62.02130903019911,79.94161950498591,39.91044597093712,50.30330813048779,56.088949879171096,55.11580816627175,44.71328312656245,51.951489012505775,82.91142078448298,19.852203245182384,41.170637478096886,68.68080626619304,34.9918217924252,46.784150050093224,41.043462014135095,69.0322088916629,98.69971085183131,139.86924826884334,34.341402918248164,66.54893377217972,60.46410812193201,44.367087697961345,50.8062989961649,79.99240247646382,40.792607431939125,58.36511862118968,61.258649140516965,88.4119785981963,109.27630938465067,60.68446532126433,58.6098098315668,64.45156369490846,84.53125293482591,43.09620198064567,74.16955217856899,65.20629772544193,86.44771357732519,54.11024087006069,105.32481422866334,75.86503472379368,95.66435586108649,50.35615610534825,101.65313477718145,20.25929291469074,78.39854461731858,71.19903430514684,68.8444289720127,36.30910082123585,65.03361078329178,75.00613861792071,90.79116284751697,131.0773982312937,82.73391740588349,69.44465037708126,60.22827137404259,59.854876596001255,46.97750192735848,50.23167605012081,79.2966732593617,80.84351828683761,49.998902344654894,70.71771241293668,89.40557101409655,85.75530733521794,104.4209651492219,103.38189828618964,129.35347145160813,53.83996790236773,60.99221422779072,101.09903197868421,80.36401587159884,129.98874983584835,81.99956934262451,99.38761322232094,128.28593330582567,151.02310185837626,63.834672324647016,85.27731825904826,105.27564967238095,44.428792889495156,51.941791673629446,70.2175632532522,52.94689937619161,66.85560090354116,87.18449316423877,29.680419859272178,50.073554667847766,68.97842726537472,38.66731362961421,60.98235156716364,42.20670788698869,51.015737776151546,32.82964727916653,48.554939420368534,78.52577500865868,36.05203946878012,64.65662230688633,40.17904538127967,61.30551710538104,117.91618013084012,169.78220107269217,46.29360876813826,83.9673473858683,104.03505790313226,94.53603844349512,49.23869778435326,42.72152561347437,101.94729842259343,69.38092252272686,34.31222187553952,54.26347529651264,45.7561137869079,70.29208953040154,47.480860675920674,68.46397204093721,64.6638535262552,35.27153012676767,44.50836822466837,42.721269550938665,82.95275515873915,92.92733693690154,60.66999934462809,52.32195911295087,43.1322030670407,63.35326634032505,49.64110985927246,47.45906369443105,66.14473317147299,87.98935192116295,115.50080228091555,96.33965412014675,45.38302911729618,3.846342916315538,45.945576160013175,110.49875193962954,43.864376092521155,65.07946744151124,95.05731855625666,115.91679898748987,39.2868311619776,41.872718183983764,71.62798817706519,87.5498564925951,79.10060816103207,118.53276898551526,91.65298475389964,110.4105202333248,39.5443367610656,65.41601418039502,70.61672911206281,56.358683574608925,76.37879799252975,49.48210307435705,49.164624740327895,75.62761294244679,104.22648836860995,64.48002095268802,113.73144624202146,93.67653251182813,131.06503269454694,124.17981537128234,67.67944533245813,65.74466287533448,93.6464475369053,85.04270967444769,130.37646743836217,110.56084844754204,124.84039193720619,79.8720141364642,68.66542934177924,66.9116800765667,96.63475449129979,145.52513989642068,135.66214289137955,70.72576501695735,75.54264371523944,106.89457677617919,106.7068332523554,108.35980017590404,107.89853863656064,107.77872013723383,119.705970562984,78.97865976138304,100.85655944312319,55.0844540187011,75.43552743564324,95.1812527820064,44.30473218374417,54.02539615384902,64.8080514365749,45.402353087905325,59.513144477014265,85.67353208952552,37.875434360435115,68.3302631984222,46.020046807996536,66.15264719345161,89.34727638230876,35.97532047098643,49.36707225303065,48.62501220863871,63.247221874877646,47.63488697280941,62.50331771789948,47.16034809102096,61.99438711677171,46.54115861631517,85.92522922914789,50.25899503923399,61.922179647258034,80.2353337134751,30.94100675161894,62.80057293793084,85.1537710076198,104.69936877876188,129.93165109937257,41.34044078195649,54.11704377709188,40.67285245604663,59.32786474203123,85.48955061884561,125.5556050745178,54.23427957124567,84.1927323899344,95.98133680045183,40.42895627538452,57.01690553208712,74.18457471034414,85.0277778905773,75.4584084864869,69.40898354805766,90.1841153154376,81.5558277950137,58.816832915894295,102.00232936451654,87.47425913551942,59.35709928017004,85.10549192649736,50.04992656438265,77.6781441064353,63.753006253421965,35.52824615335932,44.23149902597695,78.66089707852592,45.328983999332124,55.24735689823496,105.56903861510403,66.84898759487251,85.9322176710771,125.33403871279218,69.635421821342,115.33452007776957,79.7672972552613,84.67952000588522,144.0748064577928,102.35551285524535,133.73564150696575,44.04182418582143,63.14033279099776,60.78697961396956,80.04700452495575,37.10924028576316,60.66916820485606,40.796901690936906,60.46906490718902,51.22194212523171,69.35577084601842,97.28728344351227,40.27592146582638,52.23082470325233,74.2724273452376,49.695369908426265,62.09786068839766,49.63219497255076,63.880567771886064,85.00510113363242,49.65614218999358,72.45473810527608,61.06843154705914,45.37192639103293,103.43314781814988,45.933276346632724,71.63552353561677,49.934603817145664,69.50203411681854,79.64604232090613,51.88807308885614,59.0163498183647,91.64814913867362,131.36223311804898,69.1883488999104,95.4569880244483,116.51479356029377,40.550566692920306,69.88840610953433,80.65759636455873,56.23350684626369,75.22603231791115,54.86325236210315,62.14313201647676,90.83147130259657,59.91529587069634,70.6456510392297,88.53328353266505,39.31258695451862,79.11858663336425,29.38902352730732,86.32951408139564,40.01957913472071,83.18961279479501,50.82286176158777,61.13668454163154,89.77483305044267,49.79225282247431,81.51358488973716,69.42972086470841,100.36765814602053,95.46318056097607,50.17627192807731,75.34492114560933,74.6861462026649,104.39393684984002,64.8951586833972,112.23284877966908,48.885116050023555,67.68076630003081,89.32644081625298,56.02431224694506,66.47452545631283,89.85083601445947,92.59847998826406,76.58604227407497,88.89547513634508,94.32634690395061,66.41486103941628,94.97733617675676,122.84410800911972,39.94509725934391,58.09207185484379,71.20956374760065,39.66905802687692,54.032355114141,66.03913342450537,37.40897282576549,78.09392430571812,41.95029754686054,52.78866695937712,71.17417254342236,39.98469786559474,58.752940764088905,52.13931474821209,58.95291866841557,73.2983003068203,39.42957665022462,49.14091253499808,66.92361768266424,48.932597700501276,61.530399158204354,62.44864729806439,78.83821051411219,59.19388449315358,53.73526682052866,76.28329962048711,75.85634046903458,100.19827187297092,149.71853520730537,49.66478110943069,149.74287790898066,60.52924001661037,71.58498841405098,65.08562541316594,85.10970421091352,52.59339468522146,88.70824942100224,66.10595493375526,115.52190871098283,60.13800840497342,88.72883083740726,61.97104867577169,88.98712425861984,31.653429671197706,53.144677414552355,77.14407048582706,118.88438943417516,49.588297906571206,72.07823806105633,65.20808795363058,75.09705551976305,57.47243764287304,150.74741124959553,34.91325325331154,53.98962683704788,68.43537214751112,90.58212271460002,46.449279243269636,78.06448322579104,71.3210347822735,70.22574486838171,70.18997760656386,69.99272052836291,121.96515023039518,122.68156823104648,122.02143364511218,124.84728594896708,86.43475213596489,185.13421716677374,34.5756323751569,78.67375249777218],\"yaxis\":\"y\",\"type\":\"scatter\"},{\"hovertemplate\":\"Fail=True<br>Temperature=%{x}<br>VibrationX=%{y}<extra></extra>\",\"legendgroup\":\"True\",\"marker\":{\"color\":\"#EF553B\",\"symbol\":\"circle\"},\"mode\":\"markers\",\"name\":\"True\",\"orientation\":\"v\",\"showlegend\":true,\"x\":[79.80650931072849,91.69533217576718,88.91611396171326,88.76876606626762,105.96944393009522,105.69533074809365,105.27519140905913,90.2956972465105,115.27860347725064,100.98660960920714,106.46851589955372,106.58891305955923,78.86206506334335,76.86742573557414,80.35690295951929,81.54626119598615,79.53801492030868,79.54634745123303,80.31669932401455,98.12305821599573,100.20707679578729,99.96207184991687,99.66692229671897,104.01682248063068,106.7484086190843,100.42957819206958,52.00552935510903,48.091962074157216,48.171370506707376,50.96245818086632,74.81693017152993,80.38846591518376,74.74255825960897,100.51742967396096,90.66247807950404,90.96052971779342,110.07141847638859,150.88030839016233,150.64105922697598,71.3373118677906,99.20916010355303,99.00249008667848,119.62566058847212,98.97963251325876,89.9806876300147,91.14422700127221,90.89739857145294,77.9351544827183,80.4017281574664,78.08290421261863,80.13468579380584,98.40215360154214,100.01490526707593,89.50262202552553,88.7488023295845,123.95909609035986,122.91004444621741,125.03660025607076,127.67075383613128,127.24174612946032,107.45287497895468,50.469522157216424,49.98527049277187,79.777294179225,79.36031359295342,80.85401087067098],\"xaxis\":\"x\",\"y\":[120.75310300334772,99.890670194056,85.14055002275501,89.10951404609013,89.13997150473001,102.2721912360237,69.87641481228572,75.92425728349932,85.46274157085342,114.85930591346293,129.76860652510592,90.79813994499719,200.7495975550493,101.40463625587668,149.3957361120871,88.97745774325767,119.31438877041886,79.62613055631921,98.98196964583617,89.69202404026178,89.90447879463284,140.36897701788192,158.55645219914027,90.73600184221198,97.57874372628199,98.92922795423782,50.59094747173881,20.120467431992843,161.1887434307827,89.4480395834274,130.06227289010226,106.66854873081641,71.56414904297313,119.8809864235499,100.56034536995627,106.36152466573355,110.82158463029467,119.84553003206418,98.50876619611628,88.50392828949772,100.6055934555781,75.25375334742407,120.81471110728528,101.1594860383673,128.35786655863768,89.41660246381903,73.14317302547957,69.80936964864,79.85811675886436,71.38246511457609,69.71070254527669,101.40519311780105,120.27763695651976,89.53641381919594,89.35419466882989,91.77347727617666,98.66080330934938,91.21572672166126,95.58284504504793,94.53093396207028,121.17998601180535,151.58525215113292,110.95301004944967,61.33499461946106,61.76287874553283,121.03222732952207],\"yaxis\":\"y\",\"type\":\"scatter\"}],                        {\"template\":{\"data\":{\"histogram2dcontour\":[{\"type\":\"histogram2dcontour\",\"colorbar\":{\"outlinewidth\":0,\"ticks\":\"\"},\"colorscale\":[[0.0,\"#0d0887\"],[0.1111111111111111,\"#46039f\"],[0.2222222222222222,\"#7201a8\"],[0.3333333333333333,\"#9c179e\"],[0.4444444444444444,\"#bd3786\"],[0.5555555555555556,\"#d8576b\"],[0.6666666666666666,\"#ed7953\"],[0.7777777777777778,\"#fb9f3a\"],[0.8888888888888888,\"#fdca26\"],[1.0,\"#f0f921\"]]}],\"choropleth\":[{\"type\":\"choropleth\",\"colorbar\":{\"outlinewidth\":0,\"ticks\":\"\"}}],\"histogram2d\":[{\"type\":\"histogram2d\",\"colorbar\":{\"outlinewidth\":0,\"ticks\":\"\"},\"colorscale\":[[0.0,\"#0d0887\"],[0.1111111111111111,\"#46039f\"],[0.2222222222222222,\"#7201a8\"],[0.3333333333333333,\"#9c179e\"],[0.4444444444444444,\"#bd3786\"],[0.5555555555555556,\"#d8576b\"],[0.6666666666666666,\"#ed7953\"],[0.7777777777777778,\"#fb9f3a\"],[0.8888888888888888,\"#fdca26\"],[1.0,\"#f0f921\"]]}],\"heatmap\":[{\"type\":\"heatmap\",\"colorbar\":{\"outlinewidth\":0,\"ticks\":\"\"},\"colorscale\":[[0.0,\"#0d0887\"],[0.1111111111111111,\"#46039f\"],[0.2222222222222222,\"#7201a8\"],[0.3333333333333333,\"#9c179e\"],[0.4444444444444444,\"#bd3786\"],[0.5555555555555556,\"#d8576b\"],[0.6666666666666666,\"#ed7953\"],[0.7777777777777778,\"#fb9f3a\"],[0.8888888888888888,\"#fdca26\"],[1.0,\"#f0f921\"]]}],\"heatmapgl\":[{\"type\":\"heatmapgl\",\"colorbar\":{\"outlinewidth\":0,\"ticks\":\"\"},\"colorscale\":[[0.0,\"#0d0887\"],[0.1111111111111111,\"#46039f\"],[0.2222222222222222,\"#7201a8\"],[0.3333333333333333,\"#9c179e\"],[0.4444444444444444,\"#bd3786\"],[0.5555555555555556,\"#d8576b\"],[0.6666666666666666,\"#ed7953\"],[0.7777777777777778,\"#fb9f3a\"],[0.8888888888888888,\"#fdca26\"],[1.0,\"#f0f921\"]]}],\"contourcarpet\":[{\"type\":\"contourcarpet\",\"colorbar\":{\"outlinewidth\":0,\"ticks\":\"\"}}],\"contour\":[{\"type\":\"contour\",\"colorbar\":{\"outlinewidth\":0,\"ticks\":\"\"},\"colorscale\":[[0.0,\"#0d0887\"],[0.1111111111111111,\"#46039f\"],[0.2222222222222222,\"#7201a8\"],[0.3333333333333333,\"#9c179e\"],[0.4444444444444444,\"#bd3786\"],[0.5555555555555556,\"#d8576b\"],[0.6666666666666666,\"#ed7953\"],[0.7777777777777778,\"#fb9f3a\"],[0.8888888888888888,\"#fdca26\"],[1.0,\"#f0f921\"]]}],\"surface\":[{\"type\":\"surface\",\"colorbar\":{\"outlinewidth\":0,\"ticks\":\"\"},\"colorscale\":[[0.0,\"#0d0887\"],[0.1111111111111111,\"#46039f\"],[0.2222222222222222,\"#7201a8\"],[0.3333333333333333,\"#9c179e\"],[0.4444444444444444,\"#bd3786\"],[0.5555555555555556,\"#d8576b\"],[0.6666666666666666,\"#ed7953\"],[0.7777777777777778,\"#fb9f3a\"],[0.8888888888888888,\"#fdca26\"],[1.0,\"#f0f921\"]]}],\"mesh3d\":[{\"type\":\"mesh3d\",\"colorbar\":{\"outlinewidth\":0,\"ticks\":\"\"}}],\"scatter\":[{\"fillpattern\":{\"fillmode\":\"overlay\",\"size\":10,\"solidity\":0.2},\"type\":\"scatter\"}],\"parcoords\":[{\"type\":\"parcoords\",\"line\":{\"colorbar\":{\"outlinewidth\":0,\"ticks\":\"\"}}}],\"scatterpolargl\":[{\"type\":\"scatterpolargl\",\"marker\":{\"colorbar\":{\"outlinewidth\":0,\"ticks\":\"\"}}}],\"bar\":[{\"error_x\":{\"color\":\"#2a3f5f\"},\"error_y\":{\"color\":\"#2a3f5f\"},\"marker\":{\"line\":{\"color\":\"#E5ECF6\",\"width\":0.5},\"pattern\":{\"fillmode\":\"overlay\",\"size\":10,\"solidity\":0.2}},\"type\":\"bar\"}],\"scattergeo\":[{\"type\":\"scattergeo\",\"marker\":{\"colorbar\":{\"outlinewidth\":0,\"ticks\":\"\"}}}],\"scatterpolar\":[{\"type\":\"scatterpolar\",\"marker\":{\"colorbar\":{\"outlinewidth\":0,\"ticks\":\"\"}}}],\"histogram\":[{\"marker\":{\"pattern\":{\"fillmode\":\"overlay\",\"size\":10,\"solidity\":0.2}},\"type\":\"histogram\"}],\"scattergl\":[{\"type\":\"scattergl\",\"marker\":{\"colorbar\":{\"outlinewidth\":0,\"ticks\":\"\"}}}],\"scatter3d\":[{\"type\":\"scatter3d\",\"line\":{\"colorbar\":{\"outlinewidth\":0,\"ticks\":\"\"}},\"marker\":{\"colorbar\":{\"outlinewidth\":0,\"ticks\":\"\"}}}],\"scattermapbox\":[{\"type\":\"scattermapbox\",\"marker\":{\"colorbar\":{\"outlinewidth\":0,\"ticks\":\"\"}}}],\"scatterternary\":[{\"type\":\"scatterternary\",\"marker\":{\"colorbar\":{\"outlinewidth\":0,\"ticks\":\"\"}}}],\"scattercarpet\":[{\"type\":\"scattercarpet\",\"marker\":{\"colorbar\":{\"outlinewidth\":0,\"ticks\":\"\"}}}],\"carpet\":[{\"aaxis\":{\"endlinecolor\":\"#2a3f5f\",\"gridcolor\":\"white\",\"linecolor\":\"white\",\"minorgridcolor\":\"white\",\"startlinecolor\":\"#2a3f5f\"},\"baxis\":{\"endlinecolor\":\"#2a3f5f\",\"gridcolor\":\"white\",\"linecolor\":\"white\",\"minorgridcolor\":\"white\",\"startlinecolor\":\"#2a3f5f\"},\"type\":\"carpet\"}],\"table\":[{\"cells\":{\"fill\":{\"color\":\"#EBF0F8\"},\"line\":{\"color\":\"white\"}},\"header\":{\"fill\":{\"color\":\"#C8D4E3\"},\"line\":{\"color\":\"white\"}},\"type\":\"table\"}],\"barpolar\":[{\"marker\":{\"line\":{\"color\":\"#E5ECF6\",\"width\":0.5},\"pattern\":{\"fillmode\":\"overlay\",\"size\":10,\"solidity\":0.2}},\"type\":\"barpolar\"}],\"pie\":[{\"automargin\":true,\"type\":\"pie\"}]},\"layout\":{\"autotypenumbers\":\"strict\",\"colorway\":[\"#636efa\",\"#EF553B\",\"#00cc96\",\"#ab63fa\",\"#FFA15A\",\"#19d3f3\",\"#FF6692\",\"#B6E880\",\"#FF97FF\",\"#FECB52\"],\"font\":{\"color\":\"#2a3f5f\"},\"hovermode\":\"closest\",\"hoverlabel\":{\"align\":\"left\"},\"paper_bgcolor\":\"white\",\"plot_bgcolor\":\"#E5ECF6\",\"polar\":{\"bgcolor\":\"#E5ECF6\",\"angularaxis\":{\"gridcolor\":\"white\",\"linecolor\":\"white\",\"ticks\":\"\"},\"radialaxis\":{\"gridcolor\":\"white\",\"linecolor\":\"white\",\"ticks\":\"\"}},\"ternary\":{\"bgcolor\":\"#E5ECF6\",\"aaxis\":{\"gridcolor\":\"white\",\"linecolor\":\"white\",\"ticks\":\"\"},\"baxis\":{\"gridcolor\":\"white\",\"linecolor\":\"white\",\"ticks\":\"\"},\"caxis\":{\"gridcolor\":\"white\",\"linecolor\":\"white\",\"ticks\":\"\"}},\"coloraxis\":{\"colorbar\":{\"outlinewidth\":0,\"ticks\":\"\"}},\"colorscale\":{\"sequential\":[[0.0,\"#0d0887\"],[0.1111111111111111,\"#46039f\"],[0.2222222222222222,\"#7201a8\"],[0.3333333333333333,\"#9c179e\"],[0.4444444444444444,\"#bd3786\"],[0.5555555555555556,\"#d8576b\"],[0.6666666666666666,\"#ed7953\"],[0.7777777777777778,\"#fb9f3a\"],[0.8888888888888888,\"#fdca26\"],[1.0,\"#f0f921\"]],\"sequentialminus\":[[0.0,\"#0d0887\"],[0.1111111111111111,\"#46039f\"],[0.2222222222222222,\"#7201a8\"],[0.3333333333333333,\"#9c179e\"],[0.4444444444444444,\"#bd3786\"],[0.5555555555555556,\"#d8576b\"],[0.6666666666666666,\"#ed7953\"],[0.7777777777777778,\"#fb9f3a\"],[0.8888888888888888,\"#fdca26\"],[1.0,\"#f0f921\"]],\"diverging\":[[0,\"#8e0152\"],[0.1,\"#c51b7d\"],[0.2,\"#de77ae\"],[0.3,\"#f1b6da\"],[0.4,\"#fde0ef\"],[0.5,\"#f7f7f7\"],[0.6,\"#e6f5d0\"],[0.7,\"#b8e186\"],[0.8,\"#7fbc41\"],[0.9,\"#4d9221\"],[1,\"#276419\"]]},\"xaxis\":{\"gridcolor\":\"white\",\"linecolor\":\"white\",\"ticks\":\"\",\"title\":{\"standoff\":15},\"zerolinecolor\":\"white\",\"automargin\":true,\"zerolinewidth\":2},\"yaxis\":{\"gridcolor\":\"white\",\"linecolor\":\"white\",\"ticks\":\"\",\"title\":{\"standoff\":15},\"zerolinecolor\":\"white\",\"automargin\":true,\"zerolinewidth\":2},\"scene\":{\"xaxis\":{\"backgroundcolor\":\"#E5ECF6\",\"gridcolor\":\"white\",\"linecolor\":\"white\",\"showbackground\":true,\"ticks\":\"\",\"zerolinecolor\":\"white\",\"gridwidth\":2},\"yaxis\":{\"backgroundcolor\":\"#E5ECF6\",\"gridcolor\":\"white\",\"linecolor\":\"white\",\"showbackground\":true,\"ticks\":\"\",\"zerolinecolor\":\"white\",\"gridwidth\":2},\"zaxis\":{\"backgroundcolor\":\"#E5ECF6\",\"gridcolor\":\"white\",\"linecolor\":\"white\",\"showbackground\":true,\"ticks\":\"\",\"zerolinecolor\":\"white\",\"gridwidth\":2}},\"shapedefaults\":{\"line\":{\"color\":\"#2a3f5f\"}},\"annotationdefaults\":{\"arrowcolor\":\"#2a3f5f\",\"arrowhead\":0,\"arrowwidth\":1},\"geo\":{\"bgcolor\":\"white\",\"landcolor\":\"#E5ECF6\",\"subunitcolor\":\"white\",\"showland\":true,\"showlakes\":true,\"lakecolor\":\"white\"},\"title\":{\"x\":0.05},\"mapbox\":{\"style\":\"light\"}}},\"xaxis\":{\"anchor\":\"y\",\"domain\":[0.0,1.0],\"title\":{\"text\":\"Temperature\"}},\"yaxis\":{\"anchor\":\"x\",\"domain\":[0.0,1.0],\"title\":{\"text\":\"VibrationX\"}},\"legend\":{\"title\":{\"text\":\"Fail\"},\"tracegroupgap\":0},\"title\":{\"text\":\"Joint effect of Temperature and VibrationX\"}},                        {\"responsive\": true}                    ).then(function(){\n",
              "                            \n",
              "var gd = document.getElementById('c0ee1bc8-c38e-4184-8aa8-37478cc4f02c');\n",
              "var x = new MutationObserver(function (mutations, observer) {{\n",
              "        var display = window.getComputedStyle(gd).display;\n",
              "        if (!display || display === 'none') {{\n",
              "            console.log([gd, 'removed!']);\n",
              "            Plotly.purge(gd);\n",
              "            observer.disconnect();\n",
              "        }}\n",
              "}});\n",
              "\n",
              "// Listen for the removal of the full notebook cells\n",
              "var notebookContainer = gd.closest('#notebook-container');\n",
              "if (notebookContainer) {{\n",
              "    x.observe(notebookContainer, {childList: true});\n",
              "}}\n",
              "\n",
              "// Listen for the clearing of the current output cell\n",
              "var outputEl = gd.closest('.output');\n",
              "if (outputEl) {{\n",
              "    x.observe(outputEl, {childList: true});\n",
              "}}\n",
              "\n",
              "                        })                };                            </script>        </div>\n",
              "</body>\n",
              "</html>"
            ]
          },
          "metadata": {}
        }
      ]
    },
    {
      "cell_type": "code",
      "source": [
        "graph_Vy_Vz = px.scatter(df, x='VibrationY', y='VibrationZ', color = 'Fail', title='Joint effect of VibrationY and VibrationZ')\n",
        "graph_Vy_Vz.show()"
      ],
      "metadata": {
        "colab": {
          "base_uri": "https://localhost:8080/"
        },
        "id": "dHiVtCrvM8nN",
        "outputId": "36aa79c6-6a90-4b9a-e03a-2d62e10621c8"
      },
      "execution_count": null,
      "outputs": [
        {
          "output_type": "display_data",
          "data": {
            "text/html": [
              "<html>\n",
              "<head><meta charset=\"utf-8\" /></head>\n",
              "<body>\n",
              "    <div>            <script src=\"https://cdnjs.cloudflare.com/ajax/libs/mathjax/2.7.5/MathJax.js?config=TeX-AMS-MML_SVG\"></script><script type=\"text/javascript\">if (window.MathJax && window.MathJax.Hub && window.MathJax.Hub.Config) {window.MathJax.Hub.Config({SVG: {font: \"STIX-Web\"}});}</script>                <script type=\"text/javascript\">window.PlotlyConfig = {MathJaxConfig: 'local'};</script>\n",
              "        <script src=\"https://cdn.plot.ly/plotly-2.18.2.min.js\"></script>                <div id=\"6cc47006-e198-47a9-8ea6-3bd06e4cfbd7\" class=\"plotly-graph-div\" style=\"height:525px; width:100%;\"></div>            <script type=\"text/javascript\">                                    window.PLOTLYENV=window.PLOTLYENV || {};                                    if (document.getElementById(\"6cc47006-e198-47a9-8ea6-3bd06e4cfbd7\")) {                    Plotly.newPlot(                        \"6cc47006-e198-47a9-8ea6-3bd06e4cfbd7\",                        [{\"hovertemplate\":\"Fail=False<br>VibrationY=%{x}<br>VibrationZ=%{y}<extra></extra>\",\"legendgroup\":\"False\",\"marker\":{\"color\":\"#636efa\",\"symbol\":\"circle\"},\"mode\":\"markers\",\"name\":\"False\",\"orientation\":\"v\",\"showlegend\":true,\"x\":[64.82032657891138,80.71443106372683,98.2543855725768,121.36342870189367,61.03791021641865,78.62374174260457,109.67904751098642,130.9970199768492,159.42348288274437,49.52482884061411,65.89148493590817,83.70190704204607,17.88760817566699,25.133192584263153,89.19992516000273,19.63329039883817,25.656732509678765,44.05026626644354,14.341926753322255,33.93943208496899,48.60672011080185,70.77517118657568,134.22138514687438,24.521685777630548,50.09229323735972,32.3190582229739,61.336395973568784,38.285301345175554,64.8171653472597,51.30887618797877,90.65684186214261,20.512680530076622,44.30224611977321,39.468801283992924,54.64783733972252,75.18931804136412,39.53410868314577,56.10441068807218,85.6291785731896,60.623288299095385,94.13424711909639,50.44948381107778,82.91071241507383,44.70150479255236,85.23160342265489,31.37184696337671,65.66273588587713,74.35884190383005,84.12195590283034,111.45847577163526,46.842304513141166,59.51144196864666,41.17577356822475,90.09252648021386,34.34919800363352,49.254130715957885,40.78423150441074,64.42372519189486,65.07592184201529,93.80861341108427,35.66121097647868,59.828075502494265,69.54458336766143,99.71101240118084,40.87320340981718,50.152159220205405,69.91349582286394,105.11330399469925,120.19408496808012,134.8426463754941,176.197917370096,34.65975681375511,50.959582480563014,65.26510770784918,70.80271441200252,83.45397745270155,100.7642572335883,49.72511341945439,79.21429508024741,29.704192124553476,44.702920038768475,54.10632655167563,64.82443687145096,78.94028721195191,39.52327306454806,100.40427294680477,129.62029898600773,95.37541182521545,120.86504152786708,59.811183969374035,35.24322017736299,60.46319904838627,44.44471993376594,69.42272966115412,40.35297273709257,63.93854380850557,44.34221011147682,85.1156066058783,99.42188233306902,112.97279813998146,127.71479120570783,170.02933587908126,30.022925721351427,43.4610979727314,74.3828601746776,23.970274741190835,51.13155248901352,54.52986566259497,80.26474476812427,59.6400994346587,125.27844086035907,41.72813938361791,49.352283443373615,35.087209718780464,34.00463262048301,57.899796873705036,59.577244776811575,85.13019711484563,29.412671462025003,43.57942514313154,35.245969366199205,99.65121247692595,40.57436745399953,59.61899918806687,69.45399184869056,95.11490148857723,34.6985057696296,65.97713085387475,70.50302719644641,99.35456005811508,100.80337744276692,55.578328080004056,116.00660535667551,93.38637370610786,100.29156927873292,54.35723935367731,65.20455604978287,42.04258172302799,14.547320590811573,59.675325011361814,69.87080034136216,85.10493139719888,47.17728719775254,44.48071894602289,109.85085863684019,110.69692548799875,93.28132796492706,85.77273540638367,89.98801059563866,113.84866392437426,54.58022933869409,62.905360638389524,59.46613438290065,70.12761616766709,64.98674945786021,48.9689163381549,69.69655554094365,98.14282278019488,99.41564817816133,48.072174216952874,62.03427847707668,82.32381852950955,60.443808410886405,79.89132664126679,108.07309655645713,44.93933171366437,60.49307856552133,78.9396273187853,33.93380603840277,45.80407061576525,36.751751984343755,75.75716973007027,39.8872291686495,56.281309266019406,39.65778737273199,61.91996412783398,69.40219394689558,57.28069204913648,74.86652494663672,34.20952511186854,45.09176855571086,39.41580102448619,40.395974565565915,80.21236298789137,69.9824032285338,94.0689567948213,63.504211825877114,79.73075013181905,115.37093398690017,164.43262310584987,90.03985798868362,18.00859865814156,58.5388938533834,28.757458589442003,90.47531348334903,33.60204179958701,45.58735992481358,55.69980254272169,37.823573221913925,30.195723019089396,105.39470509964703,74.51760448280241,24.933587658307342,65.00643099639055,129.52252096994758,59.06758229926617,84.86600620969702,100.10910007361039,84.80751281118494,72.07510369027308,33.34055561208544,90.3621177037762,34.9228680972559,60.37801324179208,65.40663832687531,34.99954488455673,55.3207402062682,54.27568133210975,39.62180970495366,60.26527869249419,53.13482241341661,56.11601305455479,64.43493470469635,11.233749183161645,40.817629717556706,40.24685517872395,35.090454117805216,49.18493556848743,75.03851421082086,69.06460080785702,80.08325121353322,31.58195914565451,60.01266038174563,64.91155485546248,67.03361075406212,102.74553138999298,64.50957499896373,78.23610397334132,40.202803907306254,77.97181444966604,109.99223444783993,140.56640267546757,94.73406601482328,39.35751542813988,60.777239977243354,104.24782999657421,84.93481113365507,20.457884524565284,36.73935797563838,33.50430215420079,85.1148760667545,63.462314635748506,69.27050117762911,39.60042614901044,74.81392349459934,46.439025143680624,64.88937066088025,95.7359184150447,97.169883778669,101.02204757429394,65.63893880672116,84.39317274230628,106.71096344381951,145.69690215076085,69.92853707395227,83.5779584701897,111.68313026875829,128.4817986869039,50.47671888947026,59.869127484797545,82.95517069645423,94.19249642843788,29.215143317083317,59.360122231514914,30.44900120291603,49.16631599514323,18.81444401406892,25.58189863724609,99.93294373852362,23.05971097825767,50.36222308167003,39.75567940677033,58.23052540526054,89.7576364111316,29.674960264279324,61.857723478862916,88.71228188336707,30.32797479680956,48.802403770920044,57.08885755813022,85.92062688907158,46.09988760672043,63.9011776990292,123.18749947495104,163.1468195101508,49.708046162628925,81.55865388616193,39.48675818905196,60.699956996163905,36.30165300224351,54.97388655931064,95.14787809446334,29.391324618449865,52.028203629875826,31.04931575857485,50.66482827448618,69.95687854805884,92.21678364218587,18.272366180936814,40.047356964532746,20.570129034575054,43.348112362565516,35.223533773397165,56.018003823538706,65.80357265584301,85.63637764554132,54.87049988522756,55.26019044926664,39.71041967516161,50.60371230731764,58.73349537842935,60.10142154707209,41.241527014180946,60.20872356466075,78.13944901608875,64.22433104961206,105.8420329631722,134.61751811449187,85.06778135779325,76.58769291036597,48.549771830623364,76.30318762814267,100.89402287715465,43.75728843363097,72.53888836109651,63.58134229881564,94.09541794817137,109.41471386859223,68.4880183520684,90.60031267970946,65.60290157747444,104.6520950737677,144.78774817378664,84.81482907692184,71.02386073666827,88.99991264293689,59.45426965328584,45.3436112693288,50.17622626993145,81.57935892746666,85.56538754219729,117.93859622669054,40.074211912991814,70.5421227397273,110.65264700072781,59.344885730831244,100.65568387325769,94.49187370348434,57.44789093204825,45.04908734507934,74.42655198603072,48.15496468151394,88.84065233739743,40.23082523812751,69.36967821485956,59.30749935675505,79.94694139498644,39.180727891059185,69.50973195666901,10.057744157963795,102.32146282907705,71.08065292556302,58.83768768593532,62.2020487621652,81.49887361453722,91.67280736120641,30.03690875451283,59.93811689106631,72.88732526763863,94.98682406129177,74.81158080500036,113.55837945722938,20.97692645795844,49.66447112204236,79.49985630201311,119.39105342514799,52.80272087188348,74.67546985442866,93.44592792205526,73.36576853374109,95.37609600791099,113.09122373477742,43.602477108811264,40.4105047235504,41.019405159133015,61.02716013320826,109.0702892866861,120.02986947350863,35.18407298426994,54.07809178344186,93.40227554911051,104.43673235212523,46.09427543338615,55.50606934094897,76.68361356028119,58.27336442177783,77.89176580717503,104.53621316752852,62.116611242041316,81.18645886113316,110.29197131802239,29.256422408938974,41.69971595343454,49.53818083283487,33.998702926227004,52.73488994302607,26.51670726945151,53.36624643907565,40.18524683660869,60.224514624581104,93.95070656267414,48.44661168799485,125.35490791399009,30.88734219680526,64.27804018392175,42.62311973299892,46.83474896154736,27.403628619567293,79.22580170404015,60.83168016501996,70.45689085354111,95.20757498236105,29.68169584755579,81.40848926019935,46.712711104344685,61.8196827912393,83.05072848984173,62.30589633017828,85.90543518149519,58.508674271324566,91.4445560061961,59.59266034446768,60.5321251356741,91.35312211479923,44.4357461313746,53.909298266593254,53.34440186985074,104.86364562339254,104.29632733456721,41.68967150755641,62.81787033892294,64.72673308058675,40.27089346971456,71.2849783373252,23.34831699021902,77.96965046137875,12.271347125068313,70.84520200053133,15.120165200632812,91.26906653862699,92.92256399763593,39.419248392562395,49.95319902429389,80.36511079806763,121.76157550899057,38.44321470348479,34.94552249827479,116.62396690321243,141.54507362630426,39.981098280938845,66.6582031423754,29.98368742405954,59.07119912852521,61.46592589055136,85.23225508106361,91.25515919388664,49.00617967126688,69.45483713102182,59.09026355109436,60.90363435288324,91.48740729878904,133.1730214096175,43.95892541517353,129.471764458908,80.6775840939299,56.318135933184195,110.62932684587774,95.36429743376735,124.29980613480645,121.28586662797744,115.61277985536738,62.7947869326521,130.90689360500326,44.7642376139032,70.30528383115544,135.19509185963642,64.2501339919125,63.60701810420533,76.30604672398457,66.8607295319025,77.80689700017288,95.10426540729195,104.7126856173936,105.91670344381924,105.23259701627514,104.31273840777192,105.89086522182568,75.51520997766758,79.94633762170432,100.73410990000984,44.82989823486674,59.43864865468361,74.64504372490546,44.14218771055181,71.2380849660192,99.77024459919956,64.13259622322097,83.71362176157871,107.69917814451058,32.934506659817686,59.99455815933296,24.05841326432445,34.37231693193919,45.51461605713793,49.70036400118098,88.75250633164558,52.14841745521649,97.127077819399,53.274740503470376,97.46480208235394,52.271399118741954,98.67403453942966,69.01799811463556,105.02849493447344,35.67021849732568,48.854239352447095,65.1734012498551,48.72038826820057,80.46400728076226,25.481501664545952,50.82229049372246,60.02660465061591,55.52229808027907,77.59481171096688,29.702458831211107,50.72001647500171,58.36629604049721,81.07012273466144,25.075277165705582,39.54128471355126,54.90209378241046,49.715832524354,64.3454064687045,83.88772710321213,29.55566218729784,30.021323446927127,39.80814092408284,49.793758654018404,69.57832635088239,29.286893760621595,40.128537535137404,55.71339015789166,37.91406124655072,76.91689179807683,70.35976819362392,110.55211772238337,79.94076032352974,34.86928287932184,45.74477249078313,64.64335866463347,17.484897561140173,28.531123254341015,138.8161644705923,105.78553316976272,34.054557499987,64.6534081733908,35.30089033941456,45.341479024057215,102.89990141352895,55.97012287548404,93.27578126568045,52.04463896519103,82.21169849896883,74.82128984775629,110.5455284922505,40.25974095271199,60.50118887971497,79.75027336556917,119.77151721816381,42.28087094159002,65.93935427655651,55.41581986766236,72.79295706784023,95.12588844733042,105.11380205121264,124.60021138401628,122.76856724600631,45.094147392337696,88.08304125197581,65.0331802385319,79.21196707107296,110.00919735619827,39.91503314048848,58.45037862009045,75.82792424911686,38.922964434508806,61.58142693449581,55.905863001343775,85.95158432105006,66.94400261357299,85.262031545192,40.88830988588111,59.070846824604104,97.73648330554856,23.351937725095354,54.57734149031767,43.93472166619733,69.74644726220225,69.98550213655439,45.80202554528036,74.69076638226981,102.30169180168144,84.8478987434144,123.8640660406367,64.16105364729762,93.2642264234358,147.196739968631,30.112672628809936,38.47696275780042,58.55826833681396,61.394211731258444,68.90699120528535,96.83955664192878,40.02835366804366,99.77714284880354,80.8776127045885,55.4571964525423,94.46539809681076,58.650907761151345,33.258696963403025,53.751089451253314,40.61957001967717,60.32419678794566,40.17255832731044,36.32317806848668,56.66401986870649,44.301011931891715,54.637002906289645,102.92964423796255,46.44944452765668,45.047507944447986,64.85475871948749,124.25312920509303,49.92367091506446,134.7877057196671,130.0688600572467,129.16248155710704,128.3424049680705,74.75073396272121,120.72416195169018,48.323752035378,55.510149004660335,75.00893000850547,61.77023417902654,91.28652449537148,111.72728809120429,61.66332973841769,84.05059529671742,101.47573043165006,33.98870498541227,49.58590860237257,39.764925073037475,55.05415196932191,74.29025462578433,25.82599932018282,26.388552331960554,89.2232354010771,72.67079440070762,109.38776597000411,62.24829464319039,76.10508856203471,114.54447172368529,62.86965638813363,96.01401023796134,46.998633935607835,70.67002569514551,64.16675133557496,61.91248856189876,82.25223490154195,80.9997888475171,33.74114248206322,44.83786833517867,150.18174598943202,50.70692295979717,63.52946262841764,98.23871911568591,59.356414969481676,85.87541350904915,37.20415112153329,67.96817537906438,41.25461207377739,52.883671743905325,59.94681517022445,96.37390236654028,58.21543030448691,120.48866259964704,62.6301508142042,108.52768951397935,45.12218809023495,69.58841731228148,67.49973100653476,99.56643821610425,112.29867986737338,74.47616360003904,81.91090981607701,49.58861416282801,54.375159371039175,82.7271390779012,109.96559504687593,80.78266228078171,49.12899169040525,66.03132385145294,43.30017327323291,45.134756188602225,45.00568497314056,43.9400677233728,57.958996286015136,57.030305622229,58.386355419339324,58.77766995611759,34.537846731828104,43.649275810075615,44.560621810524346,96.38263829305419],\"xaxis\":\"x\",\"y\":[66.45451956495226,81.2464046543589,98.78519593981386,118.65253755569158,50.716468799909116,65.9115276260396,86.23072783994853,85.21856206935989,115.21193417840209,64.91508976597632,79.44621580920155,103.14104442290302,21.511250581717196,24.279292913259745,79.26700369041207,20.65086270404082,24.45892777534026,78.28995520317477,79.77216480827944,35.11569489754013,48.259038493480126,67.82937751161757,81.72500910514708,33.891921332058644,69.83776363336324,29.642047304881046,60.85868682425119,53.392313965276784,78.39841453046117,50.48616932750221,80.01493994582525,30.58916655198496,56.58751052458717,39.5878265986364,54.0914477795748,83.54526183361071,38.411017431446396,55.6457759003234,73.98051277812942,62.398535613040956,88.81519813775455,65.88205449999703,99.09113963726791,25.701206892052312,50.46858256144141,38.35043748251837,74.20784072348215,64.97286569216722,73.80830272511118,89.67596554984998,54.0331295287409,79.21976322944899,54.059456744784406,76.00149283276254,44.00229060831247,69.72688287234132,38.52367717410156,65.71924096879545,49.363256790009125,80.26599709886389,45.107991216444596,69.38976262200573,51.08799037445513,79.01402908309815,39.504209976173364,51.18575504508633,89.57051954745037,54.39004390624209,70.63898394555542,95.52016437458931,94.90240931605292,35.96725281143862,59.93719828533074,86.27754566253893,31.010751993800106,44.626551957245496,70.98660574377566,100.52553341105744,120.4771776863848,31.976664397924598,43.36653128387536,64.13347024364927,64.96793009275245,78.39403482330935,40.40974392093328,80.46559953226792,80.72619965472023,54.37211160796638,69.15126585662048,63.38320728260747,35.12521987943405,59.073381754366935,70.22708543479742,94.74846762674652,50.30734661278092,99.59036026025912,23.574943555849828,44.76003752331974,35.141479875922215,55.2788881275753,74.74298956724513,93.73229839323022,43.534014068123305,88.8363855104236,114.51314913137783,23.94546081895716,50.494121566442594,56.99132020310308,79.94628753652214,44.8143491116923,64.4622132296027,49.68504102990876,80.21102621230824,108.90634680039716,110.63227292177686,74.50823241941953,47.40765200474204,69.40495800274583,30.228125280732446,45.7367754941066,105.94282652078587,39.11289972988143,79.43644241330904,99.32906142200244,26.924186431052156,43.78269007148054,50.88326657777228,79.45865254345863,55.078665330689184,85.23918233030476,119.41685920053756,80.03433566490888,92.63893958435555,85.13882024040804,85.63036582913416,70.13960391119562,90.54587373584458,68.7664506437276,18.824633850561856,99.22119959966325,130.15806756045288,94.9426470889193,48.59963663905044,61.8535589303229,93.96962522668875,94.56797287442055,110.85132941059756,75.61219541531459,55.01043146828102,69.26467059205306,45.32151992570638,71.44454357932447,74.2733827213919,95.08805045645832,110.30549472651111,49.987143642003964,70.09908727091819,100.39538507081602,98.86511369643472,62.96916459597743,81.49829010183112,99.74524208408207,50.84760082274143,64.2243097029827,84.42905583668608,48.290000112427954,63.19630205719629,84.37707303484042,44.869008423102066,53.94215904977554,55.84177486862331,94.65174716576493,78.49668916312851,110.68477945931936,38.046914591631605,59.256743206050565,80.09807789525388,56.38620776857056,76.98399665684015,34.6739637210571,55.92978753722324,18.78416885774164,65.24400485506176,106.27008154721948,43.388535625354606,69.26796716401044,45.504174333996666,60.64310240359194,89.21539648852644,110.06163604644942,101.18579144660818,49.36141938389959,80.31834327798573,65.00811891672022,99.65301689120992,56.29709255058797,64.80596186701757,96.03826657448596,54.988772518808524,29.39228559612251,84.9510196137675,43.518170886655454,24.357617557296567,65.45255247656675,95.15964608182199,131.6065592279977,42.643426067974474,110.77053563987134,86.23257456186818,46.85485675067678,56.56578688695024,63.38842979498693,35.27034347304865,60.27365830037168,63.393187752696484,64.45704983995418,64.82127176297931,93.69866757379906,39.2957476811529,61.03251077878492,54.800425677701966,81.02293093202577,99.4663331382169,230.95113447414343,93.70623014230716,105.40197327240234,74.67059450572931,51.081908566443964,74.97410490249341,41.40342461210165,79.20049264951913,29.209348839054634,59.75321218832915,85.24081782482916,33.23333305156606,75.92950958689049,44.17023634852377,140.33366489441624,70.19255483639235,49.112043349103175,78.5901301155802,91.71889526189359,95.16075256820169,38.219328782733065,60.53699047879491,95.93505431379823,67.0301621616831,45.28156136804833,33.63870099907958,111.45753025077228,63.89135546455936,54.73016395329107,56.12352226704234,70.29791636308576,134.39403698869432,50.10021017924283,70.06888480741331,97.59753958041199,121.18083225592403,101.04036266443748,55.87578996090908,66.0697258626146,85.89683690745717,85.26101166461214,49.85176792936378,60.735953221821696,69.98773596460987,77.2368040164195,50.75293379981237,71.95910778861916,91.90415671005803,108.96675718245919,30.21412889946694,59.02295135019531,41.15442076792301,62.124411606983905,29.475124557676228,24.267815550167757,50.419450469672604,24.54550286704582,90.89147805001036,51.27090216642322,69.65311983639461,101.12470389936092,29.823317911245116,41.55952186532994,59.09659310970968,30.996054007292102,50.437973842785844,29.406385015792893,71.46560614470744,33.65035616284614,54.20633173911415,113.25627787273527,133.22718069090956,50.93577748367565,81.21047310939628,60.46845550105681,59.49314787207269,35.48306852582606,54.45731046233085,66.62361162217915,29.90115116654553,50.15937530936294,30.779705555680216,23.89605959479108,41.1145106706781,74.15491106266253,28.991120541550522,60.86362983373967,39.268676946584996,90.48709594176927,34.77925928281011,55.71395923084891,63.5691733289207,115.44667140295948,53.37916897786128,95.83817381267674,40.84661257182928,49.173026545217546,61.73822801584698,80.03334130038667,55.11804773166384,73.34596426322892,85.98792719463428,39.755881520147604,59.67337751543283,79.56821873865705,75.59649889924727,86.0114561115562,75.23436665067356,75.17209876320852,80.0507967535915,52.28261514276683,83.18566897025974,19.772015943749256,40.14308323585663,65.05819464677953,34.93689601762437,45.69077700204555,43.06391603338562,75.71387228515138,105.47385500634489,72.83712842806212,79.93893094999076,110.43217645087425,59.66325120283353,46.44325180746961,48.59035093069698,81.95179039819016,41.54972653891373,60.34568352353343,72.49652033089801,105.55058875048934,105.11629222310515,60.00327992872492,60.033546192133464,87.03152451312546,64.64808650439322,41.03324778445622,69.90550806521541,34.10913222110167,55.99340805580217,71.74039968418133,121.08407523690057,87.16703409278934,104.08391171933732,51.70760407870899,79.9949023540441,55.69890563340775,124.47812918467065,69.79543356206989,119.51497108363452,31.71592038714055,63.30951852528246,81.82198434170088,89.04380953008679,130.430204834892,86.86547481232407,80.97243982371681,60.94159625058381,60.28754647908361,46.71960194413623,50.547853521678356,80.74685105500963,80.74015012317555,50.133841165892285,70.11935324161855,88.65563703996462,55.537512325754975,76.4736085884125,74.57545323758934,65.33532989925587,66.22616040870756,31.404397727390762,47.37014493101149,79.23231680003492,89.75454540340381,60.362974399948634,79.82302747949127,89.27870132222482,108.04243109073504,56.863149982445385,63.49638672485308,83.92706082677857,43.21536311031086,51.28810088822223,68.52530155323659,56.31864185477732,76.94795817269781,101.30374853005263,29.056857690585094,39.88221282960222,60.15733606321493,40.126695139747845,61.684489356409294,40.239386847982075,50.262255393299185,35.31188474929101,49.310909729832886,81.90190278289722,69.95787932980336,105.43011894846668,29.723745604976937,48.572824081211216,88.36107856727132,138.8519033681826,44.77825707286823,104.90135610844277,84.82551171507124,95.09742129748655,52.3049972202313,41.18744615798765,102.90229148324806,89.82091514999026,28.95505992383207,49.58554087028974,53.0697130362687,76.7193926391079,63.40503582240492,81.8509309927284,65.67915301807314,43.817090449042766,53.69103990621322,55.76318894149268,96.39810304239987,96.08559109844401,104.32818047028371,52.783798145036414,37.36318540901702,58.71061441300212,49.460599555499186,40.37707411234869,61.49075150461277,86.38686117941839,115.88779049911943,45.061041226622656,88.62134219857799,64.27634780687238,43.487665254240994,109.32551996726761,45.60724706560663,55.561932748105924,84.97994928101544,94.18879456391755,83.59736556659843,42.20155155669278,70.93887188141936,68.92019395221564,42.417458585802024,71.33596165689644,55.37955656445205,74.90479612946972,41.081633756559405,64.84390148246437,69.19915530434702,62.63027586166043,84.419145298492,120.10608665882495,59.12797213101539,85.67668743959891,104.3312378654843,84.46350350423346,88.60899872620473,92.10635298996985,55.49991741338948,50.19548292278006,83.91150508312106,95.85581204462095,114.74995758616882,57.46584373906328,63.017151486657795,94.70307748724348,74.88505872535248,61.1150423154587,76.95584897874689,115.1408077589464,114.42886100053296,150.38937404163516,135.85148837439223,69.34126106715995,76.1618997712828,106.73162443068848,106.26246240190395,107.70641303515352,105.78819749547957,104.18356773488276,130.21457283294896,80.7000338323945,99.1503270695519,54.4199244770327,75.08766930762107,95.7697725740801,45.67614720311817,54.40111907895315,65.00381024584442,46.85347204888373,59.90303261323358,70.46882148193176,40.483705826875436,71.15135876138753,43.102538035313124,66.24728486852052,89.1049360344578,38.08214371127733,49.66760510593449,49.84005862326572,63.82626530959533,47.76022919812141,63.38699478978987,46.181773489948675,60.80878110076864,54.660571365801005,94.37956697507691,30.021048906051615,42.97004813813064,54.32122785441648,30.790096449565336,62.83210575565079,26.67144896021601,42.42963095982268,79.65159728024919,42.759116584760484,54.98225418948977,45.42829971746397,64.50353851192118,88.87026458123945,126.72565439884826,36.402768166076505,49.55428530865123,66.92584419891799,39.62249054435738,53.0397092400604,74.72740313553453,84.37854607337607,75.06115366968207,60.03776451515135,80.3465915528467,80.35347497697884,39.64660076096694,77.79375245862082,71.83705342381029,51.15667261700508,75.3235582165795,47.71174646262281,76.4726557372956,56.55598588064141,34.53106884170458,44.95829847120306,69.30826813766338,44.65812954312197,54.676279970636905,103.55369709190018,66.9787136037872,35.30133603485905,76.22190232107019,69.929679401651,114.36518403034559,79.71830424088867,64.72141445936504,102.73334471799646,46.58666969559231,64.64579482758407,45.860614640845256,64.08215091894087,62.722541540134394,82.3886800175215,39.45823392221351,61.562833632771465,42.37572202060249,59.411859054221416,63.556313831169305,84.58113100510451,109.43952879763275,48.642734403907276,59.61271327787757,85.19946717263426,50.90911867512591,62.1789655775227,60.52582482704888,74.30512769529301,94.54498869305304,48.53066510505465,69.33794551133728,59.320279710719014,43.758424603018,103.77887249663397,53.33306485121031,78.42261469550729,85.65572003295064,105.33996152100475,44.42613689064599,49.635556847659416,59.75192863391421,87.08469181362858,117.59623367183187,59.215534327256684,85.64610704320178,86.14677580113752,39.56957890554841,70.21406711292602,80.75723298930868,55.60840968151792,94.54756663736097,54.491929995876504,59.63068525641356,90.97854094761227,38.88554378365121,50.25766330020946,69.58686446752539,39.790663416141484,78.71239720012511,135.15641815653615,65.51749777903886,61.93098257823804,100.41116575168826,49.626074815736075,60.3439129581552,90.85830878148369,49.814921406708194,80.04517195017253,39.35649288337709,69.42413394945034,96.76831151319516,49.15146339051058,74.23624228355094,64.79932367310597,95.49787900444841,66.38068527445229,46.5233587466465,49.99596859395766,69.33020507857778,89.18705065525597,56.378768641901466,105.3060998786274,90.30002621310683,88.25896720136505,128.97295140303348,74.79089191563142,94.8984347112393,45.42993295224936,57.66074954622871,76.45539734901472,59.87112262688273,71.42961765292429,100.95409644654143,43.87310385480951,55.50302971885386,71.46062290167194,35.812610373898146,78.05677702751954,38.34116161873831,51.33736171824201,69.16522062533183,26.089790651663264,30.059284358067465,50.5806260502999,53.093589967177,65.33200958145576,79.06708790101024,97.41732089846406,154.69077458439358,58.167020382961645,81.48704976058552,46.71483402158284,71.6782816398217,91.1784577157777,58.94927087080605,81.25900056298515,80.51520639810761,35.3121536491292,49.50117728249804,49.21027841833895,150.43721027924533,64.72455202049206,88.95402622458039,55.806167754305456,76.79243806438419,45.306936024311064,74.66663619548805,55.61353828410089,85.1303889482027,59.085268846790726,123.84687329928508,61.39839316100246,88.0263808248295,42.721364035653586,93.3201167843654,44.70478383462202,58.573388791032706,62.47884243079447,90.8659822957289,131.36378701459049,62.32007302193086,66.89298659430925,151.97504599034582,73.95248484792023,114.0247325054503,150.8068756658677,86.48463951969391,59.5817849477973,83.0586129588475,54.75546114680017,56.95783135749566,55.203971592298295,56.56687592895403,76.257946032382,75.3587075289278,73.88817275939466,74.65297327466914,35.16465933587056,46.00531601195632,41.588443644978646,79.13182192477313],\"yaxis\":\"y\",\"type\":\"scatter\"},{\"hovertemplate\":\"Fail=True<br>VibrationY=%{x}<br>VibrationZ=%{y}<extra></extra>\",\"legendgroup\":\"True\",\"marker\":{\"color\":\"#EF553B\",\"symbol\":\"circle\"},\"mode\":\"markers\",\"name\":\"True\",\"orientation\":\"v\",\"showlegend\":true,\"x\":[134.5009054811537,95.32842857651715,123.71191095977696,124.93422137051915,153.5759284400573,154.9044612311166,193.56994678525223,116.34200936504364,90.98096657933368,90.5127328540833,90.56320550010896,108.06365009767057,50.481820054132804,100.3278925242284,75.02784413672092,111.03159754988792,137.75490099747833,131.7291984638631,160.76352067116244,149.02793181678098,180.8705235443254,98.81556207712345,147.36381599212743,149.7394757253124,180.60416146010834,99.3551550331608,149.24639261335733,180.39456206528004,71.18936116107541,92.85332361064688,75.40295947280269,104.91665436831602,124.39055375923557,150.47296456020112,150.62058077092715,130.73689177115014,79.10030120456231,100.6151599741857,119.72913948289397,135.52544035593687,100.58222355934745,120.51832536025486,120.35805912487848,99.83032823397767,91.60583703316128,73.78177617118256,90.46445302180148,124.95543532353004,109.78405603240085,125.69931336188921,144.8689122621171,150.9261901172842,119.30863667570837,116.07947849351541,104.73562504320388,129.69172867852265,120.10727182946557,170.51965406285936,132.05389876867935,131.43723511447757,80.1823079259478,99.3413795443776,160.77717505576052,149.577810624659,169.77383124449972,131.71947326519404],\"xaxis\":\"x\",\"y\":[115.87319742582842,124.97030108273798,88.85287223434861,84.30646742473711,90.29992317116574,99.77316284233947,119.13606789094047,100.12946377436587,73.47912463237898,115.10434593148865,153.32708213754844,154.25587743818983,100.0008434244677,200.2426741246194,149.76790388760938,129.16658017685464,149.18978669708517,110.21455125044493,120.57937185654222,137.8651360141335,157.08361348504278,91.7005810610777,91.49435418708883,90.3178609297325,99.02036323218411,99.04851630392483,50.7992066285109,20.52264181580262,160.23955751953267,89.8457606306464,129.3918048459252,105.48631221993759,70.67778422478663,98.46529569902876,120.6538818397624,104.55720362134224,110.42249614165279,121.24093423090504,99.56555016888693,89.95518665917066,99.46375387350164,75.67506480684045,118.79605704224527,99.23056819540244,72.84184010033299,89.98456969143763,129.9869860394852,79.32707631014625,89.19718178448063,80.13897059662689,81.85576439503983,120.53067912566505,101.59727570694021,81.60617217391813,80.53769825506004,89.2097898945828,89.250005511232,100.12543407442901,97.25411523674833,97.77893032025936,96.03515918185072,148.83848100416324,109.91756646810805,129.46384345028738,130.21342597474185,90.3311548463146],\"yaxis\":\"y\",\"type\":\"scatter\"}],                        {\"template\":{\"data\":{\"histogram2dcontour\":[{\"type\":\"histogram2dcontour\",\"colorbar\":{\"outlinewidth\":0,\"ticks\":\"\"},\"colorscale\":[[0.0,\"#0d0887\"],[0.1111111111111111,\"#46039f\"],[0.2222222222222222,\"#7201a8\"],[0.3333333333333333,\"#9c179e\"],[0.4444444444444444,\"#bd3786\"],[0.5555555555555556,\"#d8576b\"],[0.6666666666666666,\"#ed7953\"],[0.7777777777777778,\"#fb9f3a\"],[0.8888888888888888,\"#fdca26\"],[1.0,\"#f0f921\"]]}],\"choropleth\":[{\"type\":\"choropleth\",\"colorbar\":{\"outlinewidth\":0,\"ticks\":\"\"}}],\"histogram2d\":[{\"type\":\"histogram2d\",\"colorbar\":{\"outlinewidth\":0,\"ticks\":\"\"},\"colorscale\":[[0.0,\"#0d0887\"],[0.1111111111111111,\"#46039f\"],[0.2222222222222222,\"#7201a8\"],[0.3333333333333333,\"#9c179e\"],[0.4444444444444444,\"#bd3786\"],[0.5555555555555556,\"#d8576b\"],[0.6666666666666666,\"#ed7953\"],[0.7777777777777778,\"#fb9f3a\"],[0.8888888888888888,\"#fdca26\"],[1.0,\"#f0f921\"]]}],\"heatmap\":[{\"type\":\"heatmap\",\"colorbar\":{\"outlinewidth\":0,\"ticks\":\"\"},\"colorscale\":[[0.0,\"#0d0887\"],[0.1111111111111111,\"#46039f\"],[0.2222222222222222,\"#7201a8\"],[0.3333333333333333,\"#9c179e\"],[0.4444444444444444,\"#bd3786\"],[0.5555555555555556,\"#d8576b\"],[0.6666666666666666,\"#ed7953\"],[0.7777777777777778,\"#fb9f3a\"],[0.8888888888888888,\"#fdca26\"],[1.0,\"#f0f921\"]]}],\"heatmapgl\":[{\"type\":\"heatmapgl\",\"colorbar\":{\"outlinewidth\":0,\"ticks\":\"\"},\"colorscale\":[[0.0,\"#0d0887\"],[0.1111111111111111,\"#46039f\"],[0.2222222222222222,\"#7201a8\"],[0.3333333333333333,\"#9c179e\"],[0.4444444444444444,\"#bd3786\"],[0.5555555555555556,\"#d8576b\"],[0.6666666666666666,\"#ed7953\"],[0.7777777777777778,\"#fb9f3a\"],[0.8888888888888888,\"#fdca26\"],[1.0,\"#f0f921\"]]}],\"contourcarpet\":[{\"type\":\"contourcarpet\",\"colorbar\":{\"outlinewidth\":0,\"ticks\":\"\"}}],\"contour\":[{\"type\":\"contour\",\"colorbar\":{\"outlinewidth\":0,\"ticks\":\"\"},\"colorscale\":[[0.0,\"#0d0887\"],[0.1111111111111111,\"#46039f\"],[0.2222222222222222,\"#7201a8\"],[0.3333333333333333,\"#9c179e\"],[0.4444444444444444,\"#bd3786\"],[0.5555555555555556,\"#d8576b\"],[0.6666666666666666,\"#ed7953\"],[0.7777777777777778,\"#fb9f3a\"],[0.8888888888888888,\"#fdca26\"],[1.0,\"#f0f921\"]]}],\"surface\":[{\"type\":\"surface\",\"colorbar\":{\"outlinewidth\":0,\"ticks\":\"\"},\"colorscale\":[[0.0,\"#0d0887\"],[0.1111111111111111,\"#46039f\"],[0.2222222222222222,\"#7201a8\"],[0.3333333333333333,\"#9c179e\"],[0.4444444444444444,\"#bd3786\"],[0.5555555555555556,\"#d8576b\"],[0.6666666666666666,\"#ed7953\"],[0.7777777777777778,\"#fb9f3a\"],[0.8888888888888888,\"#fdca26\"],[1.0,\"#f0f921\"]]}],\"mesh3d\":[{\"type\":\"mesh3d\",\"colorbar\":{\"outlinewidth\":0,\"ticks\":\"\"}}],\"scatter\":[{\"fillpattern\":{\"fillmode\":\"overlay\",\"size\":10,\"solidity\":0.2},\"type\":\"scatter\"}],\"parcoords\":[{\"type\":\"parcoords\",\"line\":{\"colorbar\":{\"outlinewidth\":0,\"ticks\":\"\"}}}],\"scatterpolargl\":[{\"type\":\"scatterpolargl\",\"marker\":{\"colorbar\":{\"outlinewidth\":0,\"ticks\":\"\"}}}],\"bar\":[{\"error_x\":{\"color\":\"#2a3f5f\"},\"error_y\":{\"color\":\"#2a3f5f\"},\"marker\":{\"line\":{\"color\":\"#E5ECF6\",\"width\":0.5},\"pattern\":{\"fillmode\":\"overlay\",\"size\":10,\"solidity\":0.2}},\"type\":\"bar\"}],\"scattergeo\":[{\"type\":\"scattergeo\",\"marker\":{\"colorbar\":{\"outlinewidth\":0,\"ticks\":\"\"}}}],\"scatterpolar\":[{\"type\":\"scatterpolar\",\"marker\":{\"colorbar\":{\"outlinewidth\":0,\"ticks\":\"\"}}}],\"histogram\":[{\"marker\":{\"pattern\":{\"fillmode\":\"overlay\",\"size\":10,\"solidity\":0.2}},\"type\":\"histogram\"}],\"scattergl\":[{\"type\":\"scattergl\",\"marker\":{\"colorbar\":{\"outlinewidth\":0,\"ticks\":\"\"}}}],\"scatter3d\":[{\"type\":\"scatter3d\",\"line\":{\"colorbar\":{\"outlinewidth\":0,\"ticks\":\"\"}},\"marker\":{\"colorbar\":{\"outlinewidth\":0,\"ticks\":\"\"}}}],\"scattermapbox\":[{\"type\":\"scattermapbox\",\"marker\":{\"colorbar\":{\"outlinewidth\":0,\"ticks\":\"\"}}}],\"scatterternary\":[{\"type\":\"scatterternary\",\"marker\":{\"colorbar\":{\"outlinewidth\":0,\"ticks\":\"\"}}}],\"scattercarpet\":[{\"type\":\"scattercarpet\",\"marker\":{\"colorbar\":{\"outlinewidth\":0,\"ticks\":\"\"}}}],\"carpet\":[{\"aaxis\":{\"endlinecolor\":\"#2a3f5f\",\"gridcolor\":\"white\",\"linecolor\":\"white\",\"minorgridcolor\":\"white\",\"startlinecolor\":\"#2a3f5f\"},\"baxis\":{\"endlinecolor\":\"#2a3f5f\",\"gridcolor\":\"white\",\"linecolor\":\"white\",\"minorgridcolor\":\"white\",\"startlinecolor\":\"#2a3f5f\"},\"type\":\"carpet\"}],\"table\":[{\"cells\":{\"fill\":{\"color\":\"#EBF0F8\"},\"line\":{\"color\":\"white\"}},\"header\":{\"fill\":{\"color\":\"#C8D4E3\"},\"line\":{\"color\":\"white\"}},\"type\":\"table\"}],\"barpolar\":[{\"marker\":{\"line\":{\"color\":\"#E5ECF6\",\"width\":0.5},\"pattern\":{\"fillmode\":\"overlay\",\"size\":10,\"solidity\":0.2}},\"type\":\"barpolar\"}],\"pie\":[{\"automargin\":true,\"type\":\"pie\"}]},\"layout\":{\"autotypenumbers\":\"strict\",\"colorway\":[\"#636efa\",\"#EF553B\",\"#00cc96\",\"#ab63fa\",\"#FFA15A\",\"#19d3f3\",\"#FF6692\",\"#B6E880\",\"#FF97FF\",\"#FECB52\"],\"font\":{\"color\":\"#2a3f5f\"},\"hovermode\":\"closest\",\"hoverlabel\":{\"align\":\"left\"},\"paper_bgcolor\":\"white\",\"plot_bgcolor\":\"#E5ECF6\",\"polar\":{\"bgcolor\":\"#E5ECF6\",\"angularaxis\":{\"gridcolor\":\"white\",\"linecolor\":\"white\",\"ticks\":\"\"},\"radialaxis\":{\"gridcolor\":\"white\",\"linecolor\":\"white\",\"ticks\":\"\"}},\"ternary\":{\"bgcolor\":\"#E5ECF6\",\"aaxis\":{\"gridcolor\":\"white\",\"linecolor\":\"white\",\"ticks\":\"\"},\"baxis\":{\"gridcolor\":\"white\",\"linecolor\":\"white\",\"ticks\":\"\"},\"caxis\":{\"gridcolor\":\"white\",\"linecolor\":\"white\",\"ticks\":\"\"}},\"coloraxis\":{\"colorbar\":{\"outlinewidth\":0,\"ticks\":\"\"}},\"colorscale\":{\"sequential\":[[0.0,\"#0d0887\"],[0.1111111111111111,\"#46039f\"],[0.2222222222222222,\"#7201a8\"],[0.3333333333333333,\"#9c179e\"],[0.4444444444444444,\"#bd3786\"],[0.5555555555555556,\"#d8576b\"],[0.6666666666666666,\"#ed7953\"],[0.7777777777777778,\"#fb9f3a\"],[0.8888888888888888,\"#fdca26\"],[1.0,\"#f0f921\"]],\"sequentialminus\":[[0.0,\"#0d0887\"],[0.1111111111111111,\"#46039f\"],[0.2222222222222222,\"#7201a8\"],[0.3333333333333333,\"#9c179e\"],[0.4444444444444444,\"#bd3786\"],[0.5555555555555556,\"#d8576b\"],[0.6666666666666666,\"#ed7953\"],[0.7777777777777778,\"#fb9f3a\"],[0.8888888888888888,\"#fdca26\"],[1.0,\"#f0f921\"]],\"diverging\":[[0,\"#8e0152\"],[0.1,\"#c51b7d\"],[0.2,\"#de77ae\"],[0.3,\"#f1b6da\"],[0.4,\"#fde0ef\"],[0.5,\"#f7f7f7\"],[0.6,\"#e6f5d0\"],[0.7,\"#b8e186\"],[0.8,\"#7fbc41\"],[0.9,\"#4d9221\"],[1,\"#276419\"]]},\"xaxis\":{\"gridcolor\":\"white\",\"linecolor\":\"white\",\"ticks\":\"\",\"title\":{\"standoff\":15},\"zerolinecolor\":\"white\",\"automargin\":true,\"zerolinewidth\":2},\"yaxis\":{\"gridcolor\":\"white\",\"linecolor\":\"white\",\"ticks\":\"\",\"title\":{\"standoff\":15},\"zerolinecolor\":\"white\",\"automargin\":true,\"zerolinewidth\":2},\"scene\":{\"xaxis\":{\"backgroundcolor\":\"#E5ECF6\",\"gridcolor\":\"white\",\"linecolor\":\"white\",\"showbackground\":true,\"ticks\":\"\",\"zerolinecolor\":\"white\",\"gridwidth\":2},\"yaxis\":{\"backgroundcolor\":\"#E5ECF6\",\"gridcolor\":\"white\",\"linecolor\":\"white\",\"showbackground\":true,\"ticks\":\"\",\"zerolinecolor\":\"white\",\"gridwidth\":2},\"zaxis\":{\"backgroundcolor\":\"#E5ECF6\",\"gridcolor\":\"white\",\"linecolor\":\"white\",\"showbackground\":true,\"ticks\":\"\",\"zerolinecolor\":\"white\",\"gridwidth\":2}},\"shapedefaults\":{\"line\":{\"color\":\"#2a3f5f\"}},\"annotationdefaults\":{\"arrowcolor\":\"#2a3f5f\",\"arrowhead\":0,\"arrowwidth\":1},\"geo\":{\"bgcolor\":\"white\",\"landcolor\":\"#E5ECF6\",\"subunitcolor\":\"white\",\"showland\":true,\"showlakes\":true,\"lakecolor\":\"white\"},\"title\":{\"x\":0.05},\"mapbox\":{\"style\":\"light\"}}},\"xaxis\":{\"anchor\":\"y\",\"domain\":[0.0,1.0],\"title\":{\"text\":\"VibrationY\"}},\"yaxis\":{\"anchor\":\"x\",\"domain\":[0.0,1.0],\"title\":{\"text\":\"VibrationZ\"}},\"legend\":{\"title\":{\"text\":\"Fail\"},\"tracegroupgap\":0},\"title\":{\"text\":\"Joint effect of VibrationY and VibrationZ\"}},                        {\"responsive\": true}                    ).then(function(){\n",
              "                            \n",
              "var gd = document.getElementById('6cc47006-e198-47a9-8ea6-3bd06e4cfbd7');\n",
              "var x = new MutationObserver(function (mutations, observer) {{\n",
              "        var display = window.getComputedStyle(gd).display;\n",
              "        if (!display || display === 'none') {{\n",
              "            console.log([gd, 'removed!']);\n",
              "            Plotly.purge(gd);\n",
              "            observer.disconnect();\n",
              "        }}\n",
              "}});\n",
              "\n",
              "// Listen for the removal of the full notebook cells\n",
              "var notebookContainer = gd.closest('#notebook-container');\n",
              "if (notebookContainer) {{\n",
              "    x.observe(notebookContainer, {childList: true});\n",
              "}}\n",
              "\n",
              "// Listen for the clearing of the current output cell\n",
              "var outputEl = gd.closest('.output');\n",
              "if (outputEl) {{\n",
              "    x.observe(outputEl, {childList: true});\n",
              "}}\n",
              "\n",
              "                        })                };                            </script>        </div>\n",
              "</body>\n",
              "</html>"
            ]
          },
          "metadata": {}
        }
      ]
    },
    {
      "cell_type": "markdown",
      "source": [
        "__Remark:__ The red dots tend to form a cluster, which confirms our observation that isolated root cause variable tends to stay in a certain interval when failure occurs. "
      ],
      "metadata": {
        "id": "2M4Gf07PNkYD"
      }
    },
    {
      "cell_type": "markdown",
      "source": [
        "##Joint effect of setup variables"
      ],
      "metadata": {
        "id": "jVmsH_ajN3cg"
      }
    },
    {
      "cell_type": "markdown",
      "source": [
        "Since in Question 2 we contemplate ```Preset_1``` and ```Preset_2``` as predictors, it is interesting to observe their joint effect."
      ],
      "metadata": {
        "id": "X1MxIAmHRHnT"
      }
    },
    {
      "cell_type": "code",
      "source": [
        "grafico=px.scatter(df, x='Preset_1', y='Preset_2', color = 'Fail', title='Joint effect of Preset_1 and Preset_2')\n",
        "grafico.show()"
      ],
      "metadata": {
        "colab": {
          "base_uri": "https://localhost:8080/"
        },
        "id": "L-pE508lBgiA",
        "outputId": "79534ecb-51db-4f63-9b74-216ba140c055"
      },
      "execution_count": null,
      "outputs": [
        {
          "output_type": "display_data",
          "data": {
            "text/html": [
              "<html>\n",
              "<head><meta charset=\"utf-8\" /></head>\n",
              "<body>\n",
              "    <div>            <script src=\"https://cdnjs.cloudflare.com/ajax/libs/mathjax/2.7.5/MathJax.js?config=TeX-AMS-MML_SVG\"></script><script type=\"text/javascript\">if (window.MathJax && window.MathJax.Hub && window.MathJax.Hub.Config) {window.MathJax.Hub.Config({SVG: {font: \"STIX-Web\"}});}</script>                <script type=\"text/javascript\">window.PlotlyConfig = {MathJaxConfig: 'local'};</script>\n",
              "        <script src=\"https://cdn.plot.ly/plotly-2.18.2.min.js\"></script>                <div id=\"30616f0b-f351-4682-a983-018bfbc0125c\" class=\"plotly-graph-div\" style=\"height:525px; width:100%;\"></div>            <script type=\"text/javascript\">                                    window.PLOTLYENV=window.PLOTLYENV || {};                                    if (document.getElementById(\"30616f0b-f351-4682-a983-018bfbc0125c\")) {                    Plotly.newPlot(                        \"30616f0b-f351-4682-a983-018bfbc0125c\",                        [{\"hovertemplate\":\"Fail=False<br>Preset_1=%{x}<br>Preset_2=%{y}<extra></extra>\",\"legendgroup\":\"False\",\"marker\":{\"color\":\"#636efa\",\"symbol\":\"circle\"},\"mode\":\"markers\",\"name\":\"False\",\"orientation\":\"v\",\"showlegend\":true,\"x\":[3,2,2,2,2,1,1,1,3,1,2,2,3,1,3,1,2,3,2,2,2,3,2,1,2,2,2,3,2,2,2,3,3,2,2,2,2,1,2,1,1,1,1,3,3,1,2,2,2,3,2,1,2,3,1,2,1,3,1,1,3,2,1,3,1,1,1,1,2,2,1,1,1,3,3,2,1,1,3,1,2,1,2,1,2,3,3,1,3,2,2,2,3,3,1,3,3,1,2,1,3,1,1,2,3,3,1,3,3,1,3,1,3,2,1,1,2,2,2,2,1,2,3,2,1,2,2,2,3,1,2,1,1,1,1,1,2,2,1,2,3,3,3,2,1,3,3,3,3,2,3,2,2,3,2,1,1,2,1,3,1,1,1,1,3,1,2,1,1,3,2,3,3,1,2,3,2,3,3,2,2,2,2,2,3,3,2,1,2,2,3,1,3,3,3,2,3,2,3,3,1,3,3,1,1,3,1,2,1,3,2,2,3,3,1,2,2,3,2,3,2,3,3,1,1,2,1,2,1,2,2,1,1,3,3,2,1,2,2,2,2,3,1,1,1,2,1,2,2,1,3,1,3,1,1,2,1,3,1,1,3,3,2,2,2,2,1,1,2,2,1,3,1,3,3,3,1,1,3,3,3,1,2,1,2,3,2,1,2,3,2,1,2,1,2,1,2,3,1,3,1,3,3,3,2,2,1,2,3,3,1,2,3,1,3,1,3,3,1,2,1,3,1,2,1,1,1,2,2,1,2,1,3,1,1,3,1,2,2,1,2,3,1,2,3,3,3,3,1,3,2,1,3,2,2,1,1,2,1,1,2,3,1,2,2,3,2,1,2,3,2,2,2,3,3,2,3,3,2,3,1,1,3,3,1,1,1,3,3,2,1,1,1,3,1,1,2,3,3,2,1,2,3,2,2,1,3,3,2,2,1,3,3,2,2,2,1,2,3,2,3,3,1,3,3,3,3,2,2,3,2,1,1,2,2,2,2,1,2,1,2,3,3,2,2,1,2,2,3,2,3,3,1,2,1,1,3,3,1,1,1,1,2,2,2,2,3,3,1,2,2,1,3,1,1,2,2,3,2,1,1,3,1,2,1,3,2,1,2,2,3,1,1,3,3,1,3,3,2,2,1,1,1,2,3,2,2,3,2,3,3,1,1,1,1,3,2,2,3,2,2,3,3,1,3,3,3,2,3,1,1,3,1,2,3,1,3,1,2,2,2,3,2,3,1,3,1,1,3,2,2,1,2,1,1,1,2,2,2,3,3,2,2,2,3,2,1,2,1,1,2,1,2,3,2,3,1,2,3,3,1,3,3,1,3,3,1,3,1,2,2,1,2,2,3,3,1,3,2,1,3,1,1,1,2,1,1,3,2,2,2,2,2,3,3,3,1,1,2,2,3,1,3,3,3,1,2,1,3,3,3,3,1,2,3,3,1,2,2,1,3,3,3,1,2,3,1,3,3,3,3,1,1,2,2,2,1,2,3,3,2,2,3,2,2,1,2,1,3,2,2,1,2,3,2,1,3,3,2,3,3,1,1,2,1,3,3,1,2,2,1,3,2,1,1,2,3,2,2,3,3,2,1,1,1,2,3,3,1,3,2,1,1,2,1,2,1,3,2,2,2,3,3,2,2,3,2,3,2,1,3,2,3,2],\"xaxis\":\"x\",\"y\":[6,4,1,3,5,2,3,4,7,8,5,5,8,6,5,3,4,1,6,2,4,8,3,7,8,4,2,1,2,5,4,5,4,8,5,3,1,3,4,5,6,3,7,3,4,6,3,4,5,2,1,1,2,1,6,5,5,8,3,5,4,1,7,1,3,3,5,1,8,6,2,6,8,5,4,1,4,7,2,3,4,1,7,3,1,8,1,3,3,3,8,7,6,1,1,5,3,7,2,3,8,2,2,2,1,6,1,7,5,8,1,1,8,6,6,8,1,1,4,6,8,2,8,1,2,4,5,3,4,3,8,1,4,7,1,8,7,1,4,3,5,4,7,7,5,2,4,3,8,8,5,2,2,8,5,7,5,2,7,1,3,5,7,7,7,5,5,7,4,7,6,1,2,7,6,7,4,5,3,5,7,5,4,7,3,7,4,1,4,8,7,5,5,8,3,3,6,4,5,8,6,3,6,3,7,2,6,8,6,5,1,1,7,3,1,1,7,8,6,4,1,2,1,4,6,1,6,3,4,6,6,5,6,2,3,5,3,3,7,5,8,3,6,2,4,1,7,2,1,5,4,2,2,3,7,7,3,3,3,6,4,5,7,7,6,1,4,1,8,8,7,1,2,3,3,8,3,2,4,1,4,7,7,1,6,5,3,3,2,8,5,4,1,5,5,3,6,2,2,3,8,8,7,1,6,5,1,4,4,8,6,6,2,8,2,3,4,6,7,6,6,2,2,1,7,8,3,7,2,8,6,3,3,4,5,3,2,5,7,6,4,6,5,5,2,7,5,2,7,6,8,6,2,5,5,2,8,4,3,2,2,8,4,6,7,6,4,1,2,6,1,2,6,8,5,7,2,4,6,1,2,1,5,8,3,1,6,2,4,3,5,4,8,4,4,4,3,4,6,3,7,5,1,6,5,5,7,6,2,5,5,8,8,4,2,4,5,7,4,5,2,3,1,8,7,5,6,4,2,4,8,3,3,5,6,2,7,4,8,8,4,6,2,7,4,2,8,6,8,4,6,7,4,7,1,3,6,7,1,3,6,4,6,6,3,4,3,4,7,7,8,2,1,1,1,8,3,8,8,3,2,1,3,3,6,1,5,3,8,2,3,1,2,3,4,5,1,5,8,6,5,8,7,3,8,8,2,8,5,2,8,5,7,8,1,7,8,7,8,2,4,1,1,8,8,8,1,5,3,6,3,5,6,8,2,8,6,2,4,4,7,4,5,7,5,7,7,8,5,8,7,6,4,1,7,3,4,2,2,5,8,5,8,4,3,4,7,6,6,2,1,6,7,1,5,7,2,5,2,6,1,6,2,4,6,4,2,5,7,8,8,6,7,2,1,8,7,2,1,6,1,2,6,5,6,2,1,8,4,1,5,7,4,5,6,7,3,8,4,2,3,1,2,5,8,8,7,7,4,7,2,6,6,4,6,4,8,8,7,7,7,6,7,1,7,1,3,7,8,5,6,1,8,8,5,7,7,2,8,4,8,7,7,6,5,4,7,7,7,3,4,3,8,3,2,6,6,3,1,7,7,2,5,3,2,6,3,3,6,8,2,4,3,3,5,6,4,1,6,1,3,6,2,1,7,5,4,7,2,8,6,2,2,7,2,8,3,4,2,3,6,8,7,4,2,3,2,3,3,5,2,3,7,7],\"yaxis\":\"y\",\"type\":\"scatter\"},{\"hovertemplate\":\"Fail=True<br>Preset_1=%{x}<br>Preset_2=%{y}<extra></extra>\",\"legendgroup\":\"True\",\"marker\":{\"color\":\"#EF553B\",\"symbol\":\"circle\"},\"mode\":\"markers\",\"name\":\"True\",\"orientation\":\"v\",\"showlegend\":true,\"x\":[1,3,2,3,1,1,1,1,1,3,3,2,3,1,1,1,1,1,2,3,1,1,1,3,3,3,1,1,1,1,3,2,1,2,2,2,3,2,2,1,1,2,1,2,2,3,2,2,2,3,2,2,3,3,1,3,3,2,1,1,2,2,1,1,2,3],\"xaxis\":\"x\",\"y\":[1,1,5,5,2,5,5,8,8,3,6,4,3,6,2,2,7,7,6,7,7,3,1,7,2,1,7,1,2,5,2,8,5,5,1,1,6,8,3,6,3,7,5,3,1,8,1,8,6,5,5,2,7,5,2,5,6,2,6,1,7,6,4,4,8,1],\"yaxis\":\"y\",\"type\":\"scatter\"}],                        {\"template\":{\"data\":{\"histogram2dcontour\":[{\"type\":\"histogram2dcontour\",\"colorbar\":{\"outlinewidth\":0,\"ticks\":\"\"},\"colorscale\":[[0.0,\"#0d0887\"],[0.1111111111111111,\"#46039f\"],[0.2222222222222222,\"#7201a8\"],[0.3333333333333333,\"#9c179e\"],[0.4444444444444444,\"#bd3786\"],[0.5555555555555556,\"#d8576b\"],[0.6666666666666666,\"#ed7953\"],[0.7777777777777778,\"#fb9f3a\"],[0.8888888888888888,\"#fdca26\"],[1.0,\"#f0f921\"]]}],\"choropleth\":[{\"type\":\"choropleth\",\"colorbar\":{\"outlinewidth\":0,\"ticks\":\"\"}}],\"histogram2d\":[{\"type\":\"histogram2d\",\"colorbar\":{\"outlinewidth\":0,\"ticks\":\"\"},\"colorscale\":[[0.0,\"#0d0887\"],[0.1111111111111111,\"#46039f\"],[0.2222222222222222,\"#7201a8\"],[0.3333333333333333,\"#9c179e\"],[0.4444444444444444,\"#bd3786\"],[0.5555555555555556,\"#d8576b\"],[0.6666666666666666,\"#ed7953\"],[0.7777777777777778,\"#fb9f3a\"],[0.8888888888888888,\"#fdca26\"],[1.0,\"#f0f921\"]]}],\"heatmap\":[{\"type\":\"heatmap\",\"colorbar\":{\"outlinewidth\":0,\"ticks\":\"\"},\"colorscale\":[[0.0,\"#0d0887\"],[0.1111111111111111,\"#46039f\"],[0.2222222222222222,\"#7201a8\"],[0.3333333333333333,\"#9c179e\"],[0.4444444444444444,\"#bd3786\"],[0.5555555555555556,\"#d8576b\"],[0.6666666666666666,\"#ed7953\"],[0.7777777777777778,\"#fb9f3a\"],[0.8888888888888888,\"#fdca26\"],[1.0,\"#f0f921\"]]}],\"heatmapgl\":[{\"type\":\"heatmapgl\",\"colorbar\":{\"outlinewidth\":0,\"ticks\":\"\"},\"colorscale\":[[0.0,\"#0d0887\"],[0.1111111111111111,\"#46039f\"],[0.2222222222222222,\"#7201a8\"],[0.3333333333333333,\"#9c179e\"],[0.4444444444444444,\"#bd3786\"],[0.5555555555555556,\"#d8576b\"],[0.6666666666666666,\"#ed7953\"],[0.7777777777777778,\"#fb9f3a\"],[0.8888888888888888,\"#fdca26\"],[1.0,\"#f0f921\"]]}],\"contourcarpet\":[{\"type\":\"contourcarpet\",\"colorbar\":{\"outlinewidth\":0,\"ticks\":\"\"}}],\"contour\":[{\"type\":\"contour\",\"colorbar\":{\"outlinewidth\":0,\"ticks\":\"\"},\"colorscale\":[[0.0,\"#0d0887\"],[0.1111111111111111,\"#46039f\"],[0.2222222222222222,\"#7201a8\"],[0.3333333333333333,\"#9c179e\"],[0.4444444444444444,\"#bd3786\"],[0.5555555555555556,\"#d8576b\"],[0.6666666666666666,\"#ed7953\"],[0.7777777777777778,\"#fb9f3a\"],[0.8888888888888888,\"#fdca26\"],[1.0,\"#f0f921\"]]}],\"surface\":[{\"type\":\"surface\",\"colorbar\":{\"outlinewidth\":0,\"ticks\":\"\"},\"colorscale\":[[0.0,\"#0d0887\"],[0.1111111111111111,\"#46039f\"],[0.2222222222222222,\"#7201a8\"],[0.3333333333333333,\"#9c179e\"],[0.4444444444444444,\"#bd3786\"],[0.5555555555555556,\"#d8576b\"],[0.6666666666666666,\"#ed7953\"],[0.7777777777777778,\"#fb9f3a\"],[0.8888888888888888,\"#fdca26\"],[1.0,\"#f0f921\"]]}],\"mesh3d\":[{\"type\":\"mesh3d\",\"colorbar\":{\"outlinewidth\":0,\"ticks\":\"\"}}],\"scatter\":[{\"fillpattern\":{\"fillmode\":\"overlay\",\"size\":10,\"solidity\":0.2},\"type\":\"scatter\"}],\"parcoords\":[{\"type\":\"parcoords\",\"line\":{\"colorbar\":{\"outlinewidth\":0,\"ticks\":\"\"}}}],\"scatterpolargl\":[{\"type\":\"scatterpolargl\",\"marker\":{\"colorbar\":{\"outlinewidth\":0,\"ticks\":\"\"}}}],\"bar\":[{\"error_x\":{\"color\":\"#2a3f5f\"},\"error_y\":{\"color\":\"#2a3f5f\"},\"marker\":{\"line\":{\"color\":\"#E5ECF6\",\"width\":0.5},\"pattern\":{\"fillmode\":\"overlay\",\"size\":10,\"solidity\":0.2}},\"type\":\"bar\"}],\"scattergeo\":[{\"type\":\"scattergeo\",\"marker\":{\"colorbar\":{\"outlinewidth\":0,\"ticks\":\"\"}}}],\"scatterpolar\":[{\"type\":\"scatterpolar\",\"marker\":{\"colorbar\":{\"outlinewidth\":0,\"ticks\":\"\"}}}],\"histogram\":[{\"marker\":{\"pattern\":{\"fillmode\":\"overlay\",\"size\":10,\"solidity\":0.2}},\"type\":\"histogram\"}],\"scattergl\":[{\"type\":\"scattergl\",\"marker\":{\"colorbar\":{\"outlinewidth\":0,\"ticks\":\"\"}}}],\"scatter3d\":[{\"type\":\"scatter3d\",\"line\":{\"colorbar\":{\"outlinewidth\":0,\"ticks\":\"\"}},\"marker\":{\"colorbar\":{\"outlinewidth\":0,\"ticks\":\"\"}}}],\"scattermapbox\":[{\"type\":\"scattermapbox\",\"marker\":{\"colorbar\":{\"outlinewidth\":0,\"ticks\":\"\"}}}],\"scatterternary\":[{\"type\":\"scatterternary\",\"marker\":{\"colorbar\":{\"outlinewidth\":0,\"ticks\":\"\"}}}],\"scattercarpet\":[{\"type\":\"scattercarpet\",\"marker\":{\"colorbar\":{\"outlinewidth\":0,\"ticks\":\"\"}}}],\"carpet\":[{\"aaxis\":{\"endlinecolor\":\"#2a3f5f\",\"gridcolor\":\"white\",\"linecolor\":\"white\",\"minorgridcolor\":\"white\",\"startlinecolor\":\"#2a3f5f\"},\"baxis\":{\"endlinecolor\":\"#2a3f5f\",\"gridcolor\":\"white\",\"linecolor\":\"white\",\"minorgridcolor\":\"white\",\"startlinecolor\":\"#2a3f5f\"},\"type\":\"carpet\"}],\"table\":[{\"cells\":{\"fill\":{\"color\":\"#EBF0F8\"},\"line\":{\"color\":\"white\"}},\"header\":{\"fill\":{\"color\":\"#C8D4E3\"},\"line\":{\"color\":\"white\"}},\"type\":\"table\"}],\"barpolar\":[{\"marker\":{\"line\":{\"color\":\"#E5ECF6\",\"width\":0.5},\"pattern\":{\"fillmode\":\"overlay\",\"size\":10,\"solidity\":0.2}},\"type\":\"barpolar\"}],\"pie\":[{\"automargin\":true,\"type\":\"pie\"}]},\"layout\":{\"autotypenumbers\":\"strict\",\"colorway\":[\"#636efa\",\"#EF553B\",\"#00cc96\",\"#ab63fa\",\"#FFA15A\",\"#19d3f3\",\"#FF6692\",\"#B6E880\",\"#FF97FF\",\"#FECB52\"],\"font\":{\"color\":\"#2a3f5f\"},\"hovermode\":\"closest\",\"hoverlabel\":{\"align\":\"left\"},\"paper_bgcolor\":\"white\",\"plot_bgcolor\":\"#E5ECF6\",\"polar\":{\"bgcolor\":\"#E5ECF6\",\"angularaxis\":{\"gridcolor\":\"white\",\"linecolor\":\"white\",\"ticks\":\"\"},\"radialaxis\":{\"gridcolor\":\"white\",\"linecolor\":\"white\",\"ticks\":\"\"}},\"ternary\":{\"bgcolor\":\"#E5ECF6\",\"aaxis\":{\"gridcolor\":\"white\",\"linecolor\":\"white\",\"ticks\":\"\"},\"baxis\":{\"gridcolor\":\"white\",\"linecolor\":\"white\",\"ticks\":\"\"},\"caxis\":{\"gridcolor\":\"white\",\"linecolor\":\"white\",\"ticks\":\"\"}},\"coloraxis\":{\"colorbar\":{\"outlinewidth\":0,\"ticks\":\"\"}},\"colorscale\":{\"sequential\":[[0.0,\"#0d0887\"],[0.1111111111111111,\"#46039f\"],[0.2222222222222222,\"#7201a8\"],[0.3333333333333333,\"#9c179e\"],[0.4444444444444444,\"#bd3786\"],[0.5555555555555556,\"#d8576b\"],[0.6666666666666666,\"#ed7953\"],[0.7777777777777778,\"#fb9f3a\"],[0.8888888888888888,\"#fdca26\"],[1.0,\"#f0f921\"]],\"sequentialminus\":[[0.0,\"#0d0887\"],[0.1111111111111111,\"#46039f\"],[0.2222222222222222,\"#7201a8\"],[0.3333333333333333,\"#9c179e\"],[0.4444444444444444,\"#bd3786\"],[0.5555555555555556,\"#d8576b\"],[0.6666666666666666,\"#ed7953\"],[0.7777777777777778,\"#fb9f3a\"],[0.8888888888888888,\"#fdca26\"],[1.0,\"#f0f921\"]],\"diverging\":[[0,\"#8e0152\"],[0.1,\"#c51b7d\"],[0.2,\"#de77ae\"],[0.3,\"#f1b6da\"],[0.4,\"#fde0ef\"],[0.5,\"#f7f7f7\"],[0.6,\"#e6f5d0\"],[0.7,\"#b8e186\"],[0.8,\"#7fbc41\"],[0.9,\"#4d9221\"],[1,\"#276419\"]]},\"xaxis\":{\"gridcolor\":\"white\",\"linecolor\":\"white\",\"ticks\":\"\",\"title\":{\"standoff\":15},\"zerolinecolor\":\"white\",\"automargin\":true,\"zerolinewidth\":2},\"yaxis\":{\"gridcolor\":\"white\",\"linecolor\":\"white\",\"ticks\":\"\",\"title\":{\"standoff\":15},\"zerolinecolor\":\"white\",\"automargin\":true,\"zerolinewidth\":2},\"scene\":{\"xaxis\":{\"backgroundcolor\":\"#E5ECF6\",\"gridcolor\":\"white\",\"linecolor\":\"white\",\"showbackground\":true,\"ticks\":\"\",\"zerolinecolor\":\"white\",\"gridwidth\":2},\"yaxis\":{\"backgroundcolor\":\"#E5ECF6\",\"gridcolor\":\"white\",\"linecolor\":\"white\",\"showbackground\":true,\"ticks\":\"\",\"zerolinecolor\":\"white\",\"gridwidth\":2},\"zaxis\":{\"backgroundcolor\":\"#E5ECF6\",\"gridcolor\":\"white\",\"linecolor\":\"white\",\"showbackground\":true,\"ticks\":\"\",\"zerolinecolor\":\"white\",\"gridwidth\":2}},\"shapedefaults\":{\"line\":{\"color\":\"#2a3f5f\"}},\"annotationdefaults\":{\"arrowcolor\":\"#2a3f5f\",\"arrowhead\":0,\"arrowwidth\":1},\"geo\":{\"bgcolor\":\"white\",\"landcolor\":\"#E5ECF6\",\"subunitcolor\":\"white\",\"showland\":true,\"showlakes\":true,\"lakecolor\":\"white\"},\"title\":{\"x\":0.05},\"mapbox\":{\"style\":\"light\"}}},\"xaxis\":{\"anchor\":\"y\",\"domain\":[0.0,1.0],\"title\":{\"text\":\"Preset_1\"}},\"yaxis\":{\"anchor\":\"x\",\"domain\":[0.0,1.0],\"title\":{\"text\":\"Preset_2\"}},\"legend\":{\"title\":{\"text\":\"Fail\"},\"tracegroupgap\":0},\"title\":{\"text\":\"Joint effect of Preset_1 and Preset_2\"}},                        {\"responsive\": true}                    ).then(function(){\n",
              "                            \n",
              "var gd = document.getElementById('30616f0b-f351-4682-a983-018bfbc0125c');\n",
              "var x = new MutationObserver(function (mutations, observer) {{\n",
              "        var display = window.getComputedStyle(gd).display;\n",
              "        if (!display || display === 'none') {{\n",
              "            console.log([gd, 'removed!']);\n",
              "            Plotly.purge(gd);\n",
              "            observer.disconnect();\n",
              "        }}\n",
              "}});\n",
              "\n",
              "// Listen for the removal of the full notebook cells\n",
              "var notebookContainer = gd.closest('#notebook-container');\n",
              "if (notebookContainer) {{\n",
              "    x.observe(notebookContainer, {childList: true});\n",
              "}}\n",
              "\n",
              "// Listen for the clearing of the current output cell\n",
              "var outputEl = gd.closest('.output');\n",
              "if (outputEl) {{\n",
              "    x.observe(outputEl, {childList: true});\n",
              "}}\n",
              "\n",
              "                        })                };                            </script>        </div>\n",
              "</body>\n",
              "</html>"
            ]
          },
          "metadata": {}
        }
      ]
    },
    {
      "cell_type": "markdown",
      "source": [
        "**Remark:** The dot with coordinates (3,4) is the only one in blue. Hence every time we have (3,4) the equipment does not fail."
      ],
      "metadata": {
        "id": "hdDxjcIncegT"
      }
    },
    {
      "cell_type": "markdown",
      "source": [
        "We count how many times each pair (Preset_1, Preset_2) occurs in order to check whether (3,4) is specially rare or frequent."
      ],
      "metadata": {
        "id": "_O9KEuvveSs2"
      }
    },
    {
      "cell_type": "code",
      "source": [
        "count_pairs = []\n",
        "\n",
        "for p_1 in range(1, 3+1): # Range of Preset_1\n",
        "  for p_2 in range(1, 8+1): # Range of Preset_2\n",
        "    counter = 0 \n",
        "    for k in range(0, 800): # Going through the 800 rows of the dataframe df\n",
        "      if df['Preset_1'][k]==p_1 and df['Preset_2'][k]==p_2:\n",
        "        counter += 1\n",
        "    count_pairs.append([(p_1, p_2), counter]) # Store how may times the pair (p_1, p_2) appers in the data frame df\n",
        "count_pairs"
      ],
      "metadata": {
        "colab": {
          "base_uri": "https://localhost:8080/"
        },
        "id": "And2F0w4eYzZ",
        "outputId": "f94141d9-29c2-4296-fe17-aac03b4333dc"
      },
      "execution_count": null,
      "outputs": [
        {
          "output_type": "execute_result",
          "data": {
            "text/plain": [
              "[[(1, 1), 34],\n",
              " [(1, 2), 38],\n",
              " [(1, 3), 43],\n",
              " [(1, 4), 22],\n",
              " [(1, 5), 31],\n",
              " [(1, 6), 34],\n",
              " [(1, 7), 38],\n",
              " [(1, 8), 24],\n",
              " [(2, 1), 30],\n",
              " [(2, 2), 34],\n",
              " [(2, 3), 26],\n",
              " [(2, 4), 40],\n",
              " [(2, 5), 40],\n",
              " [(2, 6), 37],\n",
              " [(2, 7), 37],\n",
              " [(2, 8), 37],\n",
              " [(3, 1), 31],\n",
              " [(3, 2), 29],\n",
              " [(3, 3), 32],\n",
              " [(3, 4), 31],\n",
              " [(3, 5), 29],\n",
              " [(3, 6), 30],\n",
              " [(3, 7), 34],\n",
              " [(3, 8), 39]]"
            ]
          },
          "metadata": {},
          "execution_count": 21
        }
      ]
    },
    {
      "cell_type": "markdown",
      "source": [
        "__Remarks:__ \n",
        "- The occurence of pairs is relatively well distributed.\n",
        "- Hence the pair $(3,4)$ basically occurs just as frequently as any other.\n",
        "- Since the pair $(3,4)$ is the only one where failure does not occur, it is possible that this preset configuration is special in preventing failures."
      ],
      "metadata": {
        "id": "27Xh81NYLptA"
      }
    },
    {
      "cell_type": "markdown",
      "source": [
        "#Question 1"
      ],
      "metadata": {
        "id": "A02hsan39B41"
      }
    },
    {
      "cell_type": "markdown",
      "source": [
        "We count the number of successes and failures and make some remarks about the value obtained."
      ],
      "metadata": {
        "id": "VlrMKVt2RyIT"
      }
    },
    {
      "cell_type": "code",
      "source": [
        "np.unique(df['Fail'], return_counts=True) #Number of failures and successes"
      ],
      "metadata": {
        "colab": {
          "base_uri": "https://localhost:8080/"
        },
        "id": "OVHUgzj25Axu",
        "outputId": "c8a00e46-af9c-4779-bb2c-75eb8bb55a41"
      },
      "execution_count": null,
      "outputs": [
        {
          "output_type": "execute_result",
          "data": {
            "text/plain": [
              "(array([False,  True]), array([734,  66]))"
            ]
          },
          "metadata": {},
          "execution_count": 22
        }
      ]
    },
    {
      "cell_type": "code",
      "source": [
        "sns.countplot(x = df['Fail']) # Number of successes (first bar) compared to number of failures (second bar)"
      ],
      "metadata": {
        "colab": {
          "base_uri": "https://localhost:8080/"
        },
        "id": "jjb_JOu5DX2F",
        "outputId": "6ada92fa-08dd-40e1-a6e1-6ca62cc466fa"
      },
      "execution_count": null,
      "outputs": [
        {
          "output_type": "execute_result",
          "data": {
            "text/plain": [
              "<AxesSubplot:xlabel='Fail', ylabel='count'>"
            ]
          },
          "metadata": {},
          "execution_count": 23
        },
        {
          "output_type": "display_data",
          "data": {
            "text/plain": [
              "<Figure size 432x288 with 1 Axes>"
            ],
            "image/png": "[encoded data removed]"
          },
          "metadata": {
            "needs_background": "light"
          }
        }
      ]
    },
    {
      "cell_type": "code",
      "source": [
        "66/800 #Falure rate"
      ],
      "metadata": {
        "colab": {
          "base_uri": "https://localhost:8080/"
        },
        "id": "MMVE_f2y5lD9",
        "outputId": "024927f8-e75c-43e5-8f2f-2be1875b75a0"
      },
      "execution_count": null,
      "outputs": [
        {
          "output_type": "execute_result",
          "data": {
            "text/plain": [
              "0.0825"
            ]
          },
          "metadata": {},
          "execution_count": 24
        }
      ]
    },
    {
      "cell_type": "markdown",
      "source": [
        "__Remarks:__\n",
        "- The equipment fails $66$ out of $800$ times, which corresponds to an $8.25\\%$ failure rate.\n",
        "- We conclude that failures are considerably rare.\n",
        "- In this case, the trivial prediction model would be to always predict a success, in which case there is a $100-8.25=91.75\\%$ accuracy.\n",
        "- Therefore any model we create should have accuracy greater than $91.75\\%$, otherwise it is no better than the trivial one."
      ],
      "metadata": {
        "id": "IhssLnFx5sBu"
      }
    },
    {
      "cell_type": "markdown",
      "source": [
        "#Question 2"
      ],
      "metadata": {
        "id": "VPBnobYEtwZu"
      }
    },
    {
      "cell_type": "markdown",
      "source": [
        "We build a model to categorize equipment failure by setup configurations (```Preset_1```, ```Preset_2```)."
      ],
      "metadata": {
        "id": "XdH0eaadKvKu"
      }
    },
    {
      "cell_type": "markdown",
      "source": [
        "We proceed in the following order:\n",
        "1. Setting attributes and class\n",
        "2. Encoding data\n",
        "3. Scaling values\n",
        "4. Splitting data\n",
        "5. Testing models\n",
        "6. Conclusion\n"
      ],
      "metadata": {
        "id": "RU1_avV6LB4F"
      }
    },
    {
      "cell_type": "markdown",
      "source": [
        "## 1. Setting attributes and class"
      ],
      "metadata": {
        "id": "QB4bNVQ-Lj2z"
      }
    },
    {
      "cell_type": "code",
      "source": [
        "df.columns"
      ],
      "metadata": {
        "colab": {
          "base_uri": "https://localhost:8080/"
        },
        "id": "kSGaawb-O-Gc",
        "outputId": "2702cfea-254e-4eaa-83cd-6861033ebcde"
      },
      "execution_count": null,
      "outputs": [
        {
          "output_type": "execute_result",
          "data": {
            "text/plain": [
              "Index(['Cycle', 'Preset_1', 'Preset_2', 'Temperature', 'Pressure',\n",
              "       'VibrationX', 'VibrationY', 'VibrationZ', 'Frequency', 'Fail'],\n",
              "      dtype='object')"
            ]
          },
          "metadata": {},
          "execution_count": 25
        }
      ]
    },
    {
      "cell_type": "code",
      "source": [
        "X_setup = df.iloc[:, 1:3].values #Setting Preset_1 and Preset_2 as attributes\n",
        "X_setup"
      ],
      "metadata": {
        "colab": {
          "base_uri": "https://localhost:8080/"
        },
        "id": "2x3h6h0sG1Sq",
        "outputId": "a73f34f8-8b2b-4d23-df5c-f911cdb04f0e"
      },
      "execution_count": null,
      "outputs": [
        {
          "output_type": "execute_result",
          "data": {
            "text/plain": [
              "array([[3, 6],\n",
              "       [2, 4],\n",
              "       [2, 1],\n",
              "       ...,\n",
              "       [1, 4],\n",
              "       [2, 8],\n",
              "       [3, 1]])"
            ]
          },
          "metadata": {},
          "execution_count": 26
        }
      ]
    },
    {
      "cell_type": "code",
      "source": [
        "Y_setup = df.iloc[:, 9].values # Setting Fail as class\n",
        "Y_setup"
      ],
      "metadata": {
        "colab": {
          "base_uri": "https://localhost:8080/"
        },
        "id": "BdPyfhsoP1Ec",
        "outputId": "068b9340-a689-422e-e76a-d4456dfd6a14"
      },
      "execution_count": null,
      "outputs": [
        {
          "output_type": "execute_result",
          "data": {
            "text/plain": [
              "array([False, False, False, False, False, False, False, False, False,\n",
              "       False, False, False,  True, False, False, False, False, False,\n",
              "       False, False, False, False, False, False, False, False, False,\n",
              "       False, False, False, False, False, False, False, False, False,\n",
              "       False, False, False, False, False, False, False, False, False,\n",
              "       False, False, False, False, False, False, False, False, False,\n",
              "       False, False, False, False, False, False, False, False, False,\n",
              "       False, False, False, False, False, False, False, False, False,\n",
              "       False, False, False, False, False, False, False, False, False,\n",
              "       False, False, False, False, False, False, False, False, False,\n",
              "       False, False, False, False, False, False, False, False, False,\n",
              "       False, False, False, False, False, False, False, False, False,\n",
              "       False, False, False, False, False, False, False, False, False,\n",
              "       False, False, False, False, False, False, False, False, False,\n",
              "       False, False, False, False, False, False, False, False, False,\n",
              "       False, False, False, False, False, False, False, False, False,\n",
              "       False, False, False, False, False, False, False, False, False,\n",
              "       False, False, False,  True,  True,  True, False, False, False,\n",
              "        True,  True,  True, False, False, False, False, False, False,\n",
              "       False, False, False, False, False, False, False, False, False,\n",
              "       False, False, False, False, False, False, False, False, False,\n",
              "       False, False, False, False, False, False, False, False, False,\n",
              "       False, False, False, False, False, False, False, False, False,\n",
              "       False, False, False, False, False, False, False, False, False,\n",
              "       False, False, False, False, False, False, False, False, False,\n",
              "       False, False, False, False, False, False, False, False, False,\n",
              "       False, False, False, False, False, False, False, False, False,\n",
              "       False, False, False, False, False, False, False, False, False,\n",
              "       False, False, False, False, False, False, False, False, False,\n",
              "       False,  True,  True,  True, False, False, False, False,  True,\n",
              "        True, False, False, False, False, False, False, False, False,\n",
              "       False, False, False, False, False, False, False, False, False,\n",
              "       False, False, False, False, False, False, False, False, False,\n",
              "       False, False, False, False, False, False, False, False, False,\n",
              "       False, False, False, False, False, False, False, False, False,\n",
              "       False, False, False, False, False, False, False, False, False,\n",
              "       False, False, False, False, False, False, False, False, False,\n",
              "       False, False, False, False, False, False, False, False, False,\n",
              "       False, False, False, False, False, False, False, False, False,\n",
              "       False, False, False, False, False, False, False, False, False,\n",
              "       False, False, False, False, False, False, False, False, False,\n",
              "       False, False, False, False, False, False, False, False, False,\n",
              "       False, False, False, False, False, False, False, False, False,\n",
              "       False, False, False, False, False, False, False, False, False,\n",
              "       False, False, False, False, False, False, False, False, False,\n",
              "       False, False, False, False, False, False, False, False, False,\n",
              "        True,  True,  True,  True,  True,  True,  True,  True,  True,\n",
              "        True,  True,  True,  True,  True,  True,  True,  True,  True,\n",
              "       False, False, False, False, False, False, False, False, False,\n",
              "       False, False, False, False, False, False, False, False, False,\n",
              "       False, False, False, False, False, False, False, False, False,\n",
              "       False, False, False, False, False, False, False, False, False,\n",
              "       False, False, False, False, False, False, False, False, False,\n",
              "       False, False, False, False, False, False, False, False, False,\n",
              "       False, False, False, False, False, False, False, False, False,\n",
              "       False, False, False, False, False, False, False, False, False,\n",
              "       False, False, False, False, False, False, False, False, False,\n",
              "       False, False, False, False, False, False, False, False, False,\n",
              "       False, False, False, False, False, False, False, False, False,\n",
              "       False, False, False, False, False, False,  True,  True,  True,\n",
              "        True,  True,  True,  True,  True,  True, False, False, False,\n",
              "        True,  True,  True,  True,  True, False, False, False, False,\n",
              "       False, False, False, False, False, False, False, False, False,\n",
              "       False, False, False, False, False, False, False, False, False,\n",
              "       False, False, False, False, False, False, False, False, False,\n",
              "       False, False, False, False, False, False, False, False, False,\n",
              "       False, False, False, False, False, False, False, False, False,\n",
              "       False, False, False, False, False, False, False, False, False,\n",
              "       False, False, False, False, False, False, False, False, False,\n",
              "       False, False, False, False, False, False, False, False, False,\n",
              "       False, False, False, False, False, False, False, False, False,\n",
              "       False, False, False, False, False, False, False, False, False,\n",
              "       False, False, False, False, False, False, False, False, False,\n",
              "       False, False, False, False, False, False, False, False, False,\n",
              "       False, False, False, False, False, False, False, False, False,\n",
              "       False, False, False, False, False, False, False, False, False,\n",
              "       False, False, False, False, False, False, False, False, False,\n",
              "       False, False, False, False, False, False,  True,  True,  True,\n",
              "        True,  True,  True,  True,  True,  True,  True,  True,  True,\n",
              "        True,  True, False, False, False, False, False, False, False,\n",
              "       False, False, False, False, False, False, False, False, False,\n",
              "       False, False, False, False, False, False, False, False, False,\n",
              "       False, False, False, False, False, False, False, False, False,\n",
              "       False, False, False, False, False, False, False, False, False,\n",
              "       False, False, False, False, False, False, False, False, False,\n",
              "       False, False, False, False, False, False, False, False, False,\n",
              "       False, False, False, False, False, False, False, False, False,\n",
              "       False, False, False, False, False, False, False, False, False,\n",
              "        True,  True,  True,  True,  True,  True,  True,  True])"
            ]
          },
          "metadata": {},
          "execution_count": 27
        }
      ]
    },
    {
      "cell_type": "markdown",
      "source": [
        "##2. Encoding data"
      ],
      "metadata": {
        "id": "2EB8mvK5t4R2"
      }
    },
    {
      "cell_type": "markdown",
      "source": [
        "For ```Fail```, we convert the booleans in the numpy array ```Y_setup``` into integers. "
      ],
      "metadata": {
        "id": "qQntGe-zvn6b"
      }
    },
    {
      "cell_type": "code",
      "source": [
        "Y_setup = Y_setup.astype(int) #Converting Fail from boolean into integers\n",
        "Y_setup"
      ],
      "metadata": {
        "id": "MsrlGnL5uMUI",
        "colab": {
          "base_uri": "https://localhost:8080/"
        },
        "outputId": "fbf7366c-49a3-4db4-9403-0edf17f7b89f"
      },
      "execution_count": null,
      "outputs": [
        {
          "output_type": "execute_result",
          "data": {
            "text/plain": [
              "array([0, 0, 0, 0, 0, 0, 0, 0, 0, 0, 0, 0, 1, 0, 0, 0, 0, 0, 0, 0, 0, 0,\n",
              "       0, 0, 0, 0, 0, 0, 0, 0, 0, 0, 0, 0, 0, 0, 0, 0, 0, 0, 0, 0, 0, 0,\n",
              "       0, 0, 0, 0, 0, 0, 0, 0, 0, 0, 0, 0, 0, 0, 0, 0, 0, 0, 0, 0, 0, 0,\n",
              "       0, 0, 0, 0, 0, 0, 0, 0, 0, 0, 0, 0, 0, 0, 0, 0, 0, 0, 0, 0, 0, 0,\n",
              "       0, 0, 0, 0, 0, 0, 0, 0, 0, 0, 0, 0, 0, 0, 0, 0, 0, 0, 0, 0, 0, 0,\n",
              "       0, 0, 0, 0, 0, 0, 0, 0, 0, 0, 0, 0, 0, 0, 0, 0, 0, 0, 0, 0, 0, 0,\n",
              "       0, 0, 0, 0, 0, 0, 0, 0, 0, 0, 0, 0, 0, 0, 0, 0, 0, 0, 0, 0, 0, 0,\n",
              "       0, 0, 1, 1, 1, 0, 0, 0, 1, 1, 1, 0, 0, 0, 0, 0, 0, 0, 0, 0, 0, 0,\n",
              "       0, 0, 0, 0, 0, 0, 0, 0, 0, 0, 0, 0, 0, 0, 0, 0, 0, 0, 0, 0, 0, 0,\n",
              "       0, 0, 0, 0, 0, 0, 0, 0, 0, 0, 0, 0, 0, 0, 0, 0, 0, 0, 0, 0, 0, 0,\n",
              "       0, 0, 0, 0, 0, 0, 0, 0, 0, 0, 0, 0, 0, 0, 0, 0, 0, 0, 0, 0, 0, 0,\n",
              "       0, 0, 0, 0, 0, 0, 0, 0, 0, 0, 0, 0, 0, 0, 0, 0, 0, 0, 0, 0, 1, 1,\n",
              "       1, 0, 0, 0, 0, 1, 1, 0, 0, 0, 0, 0, 0, 0, 0, 0, 0, 0, 0, 0, 0, 0,\n",
              "       0, 0, 0, 0, 0, 0, 0, 0, 0, 0, 0, 0, 0, 0, 0, 0, 0, 0, 0, 0, 0, 0,\n",
              "       0, 0, 0, 0, 0, 0, 0, 0, 0, 0, 0, 0, 0, 0, 0, 0, 0, 0, 0, 0, 0, 0,\n",
              "       0, 0, 0, 0, 0, 0, 0, 0, 0, 0, 0, 0, 0, 0, 0, 0, 0, 0, 0, 0, 0, 0,\n",
              "       0, 0, 0, 0, 0, 0, 0, 0, 0, 0, 0, 0, 0, 0, 0, 0, 0, 0, 0, 0, 0, 0,\n",
              "       0, 0, 0, 0, 0, 0, 0, 0, 0, 0, 0, 0, 0, 0, 0, 0, 0, 0, 0, 0, 0, 0,\n",
              "       0, 0, 0, 0, 0, 0, 0, 0, 0, 0, 0, 0, 0, 0, 0, 0, 0, 0, 1, 1, 1, 1,\n",
              "       1, 1, 1, 1, 1, 1, 1, 1, 1, 1, 1, 1, 1, 1, 0, 0, 0, 0, 0, 0, 0, 0,\n",
              "       0, 0, 0, 0, 0, 0, 0, 0, 0, 0, 0, 0, 0, 0, 0, 0, 0, 0, 0, 0, 0, 0,\n",
              "       0, 0, 0, 0, 0, 0, 0, 0, 0, 0, 0, 0, 0, 0, 0, 0, 0, 0, 0, 0, 0, 0,\n",
              "       0, 0, 0, 0, 0, 0, 0, 0, 0, 0, 0, 0, 0, 0, 0, 0, 0, 0, 0, 0, 0, 0,\n",
              "       0, 0, 0, 0, 0, 0, 0, 0, 0, 0, 0, 0, 0, 0, 0, 0, 0, 0, 0, 0, 0, 0,\n",
              "       0, 0, 0, 0, 0, 0, 0, 0, 0, 1, 1, 1, 1, 1, 1, 1, 1, 1, 0, 0, 0, 1,\n",
              "       1, 1, 1, 1, 0, 0, 0, 0, 0, 0, 0, 0, 0, 0, 0, 0, 0, 0, 0, 0, 0, 0,\n",
              "       0, 0, 0, 0, 0, 0, 0, 0, 0, 0, 0, 0, 0, 0, 0, 0, 0, 0, 0, 0, 0, 0,\n",
              "       0, 0, 0, 0, 0, 0, 0, 0, 0, 0, 0, 0, 0, 0, 0, 0, 0, 0, 0, 0, 0, 0,\n",
              "       0, 0, 0, 0, 0, 0, 0, 0, 0, 0, 0, 0, 0, 0, 0, 0, 0, 0, 0, 0, 0, 0,\n",
              "       0, 0, 0, 0, 0, 0, 0, 0, 0, 0, 0, 0, 0, 0, 0, 0, 0, 0, 0, 0, 0, 0,\n",
              "       0, 0, 0, 0, 0, 0, 0, 0, 0, 0, 0, 0, 0, 0, 0, 0, 0, 0, 0, 0, 0, 0,\n",
              "       0, 0, 0, 0, 0, 0, 0, 0, 0, 0, 0, 0, 0, 0, 0, 0, 0, 1, 1, 1, 1, 1,\n",
              "       1, 1, 1, 1, 1, 1, 1, 1, 1, 0, 0, 0, 0, 0, 0, 0, 0, 0, 0, 0, 0, 0,\n",
              "       0, 0, 0, 0, 0, 0, 0, 0, 0, 0, 0, 0, 0, 0, 0, 0, 0, 0, 0, 0, 0, 0,\n",
              "       0, 0, 0, 0, 0, 0, 0, 0, 0, 0, 0, 0, 0, 0, 0, 0, 0, 0, 0, 0, 0, 0,\n",
              "       0, 0, 0, 0, 0, 0, 0, 0, 0, 0, 0, 0, 0, 0, 0, 0, 0, 0, 0, 0, 0, 0,\n",
              "       1, 1, 1, 1, 1, 1, 1, 1])"
            ]
          },
          "metadata": {},
          "execution_count": 28
        }
      ]
    },
    {
      "cell_type": "markdown",
      "source": [
        "##3. Scaling values"
      ],
      "metadata": {
        "id": "bvVvzyK-MVT0"
      }
    },
    {
      "cell_type": "markdown",
      "source": [
        "We scale the attributes by using a standard scaler:"
      ],
      "metadata": {
        "id": "BkKeeCA3TGPG"
      }
    },
    {
      "cell_type": "code",
      "source": [
        "scaler_setup = StandardScaler()\n",
        "X_setup = scaler_setup.fit_transform(X_setup)"
      ],
      "metadata": {
        "id": "yh-l7L4-MXUG"
      },
      "execution_count": null,
      "outputs": []
    },
    {
      "cell_type": "code",
      "source": [
        "X_setup"
      ],
      "metadata": {
        "colab": {
          "base_uri": "https://localhost:8080/"
        },
        "id": "SeXfQRCmMoUg",
        "outputId": "ebf20f5c-125e-4551-9795-953df54a5979"
      },
      "execution_count": null,
      "outputs": [
        {
          "output_type": "execute_result",
          "data": {
            "text/plain": [
              "array([[ 1.25563154,  0.63214346],\n",
              "       [ 0.01396871, -0.24053086],\n",
              "       [ 0.01396871, -1.54954234],\n",
              "       ...,\n",
              "       [-1.22769413, -0.24053086],\n",
              "       [ 0.01396871,  1.50481778],\n",
              "       [ 1.25563154, -1.54954234]])"
            ]
          },
          "metadata": {},
          "execution_count": 30
        }
      ]
    },
    {
      "cell_type": "markdown",
      "source": [
        "##4. Splitting data"
      ],
      "metadata": {
        "id": "6NOQaWFpJ_gb"
      }
    },
    {
      "cell_type": "markdown",
      "source": [
        "We splitt the data set into training set and test set:"
      ],
      "metadata": {
        "id": "pixAyYWPTOm3"
      }
    },
    {
      "cell_type": "code",
      "source": [
        "X_setup_training, X_setup_test, Y_setup_training, Y_setup_test = train_test_split(X_setup, \n",
        "                                                                                  Y_setup, \n",
        "                                                                                  test_size = 0.25,\n",
        "                                                                                  random_state=0)"
      ],
      "metadata": {
        "id": "XNmaaRraKE58"
      },
      "execution_count": null,
      "outputs": []
    },
    {
      "cell_type": "code",
      "source": [
        "X_setup_training.shape, Y_setup_training.shape"
      ],
      "metadata": {
        "colab": {
          "base_uri": "https://localhost:8080/"
        },
        "id": "sAtdRZ7bPO3Y",
        "outputId": "b6a2ebea-dd61-4306-bc34-a8e11cc29ca5"
      },
      "execution_count": null,
      "outputs": [
        {
          "output_type": "execute_result",
          "data": {
            "text/plain": [
              "((600, 2), (600,))"
            ]
          },
          "metadata": {},
          "execution_count": 32
        }
      ]
    },
    {
      "cell_type": "code",
      "source": [
        "X_setup_test.shape, Y_setup_test.shape"
      ],
      "metadata": {
        "colab": {
          "base_uri": "https://localhost:8080/"
        },
        "id": "s3yXKcKoPYSC",
        "outputId": "fc703c72-e3d9-4235-cf52-b02e136e9609"
      },
      "execution_count": null,
      "outputs": [
        {
          "output_type": "execute_result",
          "data": {
            "text/plain": [
              "((200, 2), (200,))"
            ]
          },
          "metadata": {},
          "execution_count": 33
        }
      ]
    },
    {
      "cell_type": "markdown",
      "source": [
        "##5. Testing models"
      ],
      "metadata": {
        "id": "5PJjecKLPo6K"
      }
    },
    {
      "cell_type": "markdown",
      "source": [
        "- We try to apply some classical models to attack this classification problem, namely Naive Bayes, Decision Tree, KNN, Logistic Regression and SVM."
      ],
      "metadata": {
        "id": "fDc8IFIWTaQ0"
      }
    },
    {
      "cell_type": "markdown",
      "source": [
        "###5.1 Naive Bayes"
      ],
      "metadata": {
        "id": "68IKJluuPsLs"
      }
    },
    {
      "cell_type": "code",
      "source": [
        "naive_Bayes_setup = GaussianNB() # Creating a Naive Bayes classifier\n",
        "naive_Bayes_setup.fit(X_setup_training, Y_setup_training) # Training the classifier"
      ],
      "metadata": {
        "colab": {
          "base_uri": "https://localhost:8080/"
        },
        "id": "z1YDNWNdDB5B",
        "outputId": "c80e7053-2c9c-453c-c7f9-b387911c455b"
      },
      "execution_count": null,
      "outputs": [
        {
          "output_type": "execute_result",
          "data": {
            "text/plain": [
              "GaussianNB()"
            ],
            "text/html": [
              "<style>#sk-container-id-1 {color: black;background-color: white;}#sk-container-id-1 pre{padding: 0;}#sk-container-id-1 div.sk-toggleable {background-color: white;}#sk-container-id-1 label.sk-toggleable__label {cursor: pointer;display: block;width: 100%;margin-bottom: 0;padding: 0.3em;box-sizing: border-box;text-align: center;}#sk-container-id-1 label.sk-toggleable__label-arrow:before {content: \"▸\";float: left;margin-right: 0.25em;color: #696969;}#sk-container-id-1 label.sk-toggleable__label-arrow:hover:before {color: black;}#sk-container-id-1 div.sk-estimator:hover label.sk-toggleable__label-arrow:before {color: black;}#sk-container-id-1 div.sk-toggleable__content {max-height: 0;max-width: 0;overflow: hidden;text-align: left;background-color: #f0f8ff;}#sk-container-id-1 div.sk-toggleable__content pre {margin: 0.2em;color: black;border-radius: 0.25em;background-color: #f0f8ff;}#sk-container-id-1 input.sk-toggleable__control:checked~div.sk-toggleable__content {max-height: 200px;max-width: 100%;overflow: auto;}#sk-container-id-1 input.sk-toggleable__control:checked~label.sk-toggleable__label-arrow:before {content: \"▾\";}#sk-container-id-1 div.sk-estimator input.sk-toggleable__control:checked~label.sk-toggleable__label {background-color: #d4ebff;}#sk-container-id-1 div.sk-label input.sk-toggleable__control:checked~label.sk-toggleable__label {background-color: #d4ebff;}#sk-container-id-1 input.sk-hidden--visually {border: 0;clip: rect(1px 1px 1px 1px);clip: rect(1px, 1px, 1px, 1px);height: 1px;margin: -1px;overflow: hidden;padding: 0;position: absolute;width: 1px;}#sk-container-id-1 div.sk-estimator {font-family: monospace;background-color: #f0f8ff;border: 1px dotted black;border-radius: 0.25em;box-sizing: border-box;margin-bottom: 0.5em;}#sk-container-id-1 div.sk-estimator:hover {background-color: #d4ebff;}#sk-container-id-1 div.sk-parallel-item::after {content: \"\";width: 100%;border-bottom: 1px solid gray;flex-grow: 1;}#sk-container-id-1 div.sk-label:hover label.sk-toggleable__label {background-color: #d4ebff;}#sk-container-id-1 div.sk-serial::before {content: \"\";position: absolute;border-left: 1px solid gray;box-sizing: border-box;top: 0;bottom: 0;left: 50%;z-index: 0;}#sk-container-id-1 div.sk-serial {display: flex;flex-direction: column;align-items: center;background-color: white;padding-right: 0.2em;padding-left: 0.2em;position: relative;}#sk-container-id-1 div.sk-item {position: relative;z-index: 1;}#sk-container-id-1 div.sk-parallel {display: flex;align-items: stretch;justify-content: center;background-color: white;position: relative;}#sk-container-id-1 div.sk-item::before, #sk-container-id-1 div.sk-parallel-item::before {content: \"\";position: absolute;border-left: 1px solid gray;box-sizing: border-box;top: 0;bottom: 0;left: 50%;z-index: -1;}#sk-container-id-1 div.sk-parallel-item {display: flex;flex-direction: column;z-index: 1;position: relative;background-color: white;}#sk-container-id-1 div.sk-parallel-item:first-child::after {align-self: flex-end;width: 50%;}#sk-container-id-1 div.sk-parallel-item:last-child::after {align-self: flex-start;width: 50%;}#sk-container-id-1 div.sk-parallel-item:only-child::after {width: 0;}#sk-container-id-1 div.sk-dashed-wrapped {border: 1px dashed gray;margin: 0 0.4em 0.5em 0.4em;box-sizing: border-box;padding-bottom: 0.4em;background-color: white;}#sk-container-id-1 div.sk-label label {font-family: monospace;font-weight: bold;display: inline-block;line-height: 1.2em;}#sk-container-id-1 div.sk-label-container {text-align: center;}#sk-container-id-1 div.sk-container {/* jupyter's `normalize.less` sets `[hidden] { display: none; }` but bootstrap.min.css set `[hidden] { display: none !important; }` so we also need the `!important` here to be able to override the default hidden behavior on the sphinx rendered scikit-learn.org. See: https://github.com/scikit-learn/scikit-learn/issues/21755 */display: inline-block !important;position: relative;}#sk-container-id-1 div.sk-text-repr-fallback {display: none;}</style><div id=\"sk-container-id-1\" class=\"sk-top-container\"><div class=\"sk-text-repr-fallback\"><pre>GaussianNB()</pre><b>In a Jupyter environment, please rerun this cell to show the HTML representation or trust the notebook. <br />On GitHub, the HTML representation is unable to render, please try loading this page with nbviewer.org.</b></div><div class=\"sk-container\" hidden><div class=\"sk-item\"><div class=\"sk-estimator sk-toggleable\"><input class=\"sk-toggleable__control sk-hidden--visually\" id=\"sk-estimator-id-1\" type=\"checkbox\" checked><label for=\"sk-estimator-id-1\" class=\"sk-toggleable__label sk-toggleable__label-arrow\">GaussianNB</label><div class=\"sk-toggleable__content\"><pre>GaussianNB()</pre></div></div></div></div></div>"
            ]
          },
          "metadata": {},
          "execution_count": 34
        }
      ]
    },
    {
      "cell_type": "code",
      "source": [
        "predictions_naive_Bayes_setup = naive_Bayes_setup.predict(X_setup_test) # Predictions for the test set\n",
        "predictions_naive_Bayes_setup"
      ],
      "metadata": {
        "colab": {
          "base_uri": "https://localhost:8080/"
        },
        "id": "RMvWLloxI4e0",
        "outputId": "3d9d0acc-ce46-496b-8143-39bbd4f64907"
      },
      "execution_count": null,
      "outputs": [
        {
          "output_type": "execute_result",
          "data": {
            "text/plain": [
              "array([0, 0, 0, 0, 0, 0, 0, 0, 0, 0, 0, 0, 0, 0, 0, 0, 0, 0, 0, 0, 0, 0,\n",
              "       0, 0, 0, 0, 0, 0, 0, 0, 0, 0, 0, 0, 0, 0, 0, 0, 0, 0, 0, 0, 0, 0,\n",
              "       0, 0, 0, 0, 0, 0, 0, 0, 0, 0, 0, 0, 0, 0, 0, 0, 0, 0, 0, 0, 0, 0,\n",
              "       0, 0, 0, 0, 0, 0, 0, 0, 0, 0, 0, 0, 0, 0, 0, 0, 0, 0, 0, 0, 0, 0,\n",
              "       0, 0, 0, 0, 0, 0, 0, 0, 0, 0, 0, 0, 0, 0, 0, 0, 0, 0, 0, 0, 0, 0,\n",
              "       0, 0, 0, 0, 0, 0, 0, 0, 0, 0, 0, 0, 0, 0, 0, 0, 0, 0, 0, 0, 0, 0,\n",
              "       0, 0, 0, 0, 0, 0, 0, 0, 0, 0, 0, 0, 0, 0, 0, 0, 0, 0, 0, 0, 0, 0,\n",
              "       0, 0, 0, 0, 0, 0, 0, 0, 0, 0, 0, 0, 0, 0, 0, 0, 0, 0, 0, 0, 0, 0,\n",
              "       0, 0, 0, 0, 0, 0, 0, 0, 0, 0, 0, 0, 0, 0, 0, 0, 0, 0, 0, 0, 0, 0,\n",
              "       0, 0])"
            ]
          },
          "metadata": {},
          "execution_count": 35
        }
      ]
    },
    {
      "cell_type": "code",
      "source": [
        "accuracy_score(Y_setup_test, predictions_naive_Bayes_setup) # Accuracy score when comparing predictions to the test set "
      ],
      "metadata": {
        "colab": {
          "base_uri": "https://localhost:8080/"
        },
        "id": "I6WeFur9JhTy",
        "outputId": "529d4332-13f5-45de-af68-b6faf3c3c03d"
      },
      "execution_count": null,
      "outputs": [
        {
          "output_type": "execute_result",
          "data": {
            "text/plain": [
              "0.905"
            ]
          },
          "metadata": {},
          "execution_count": 36
        }
      ]
    },
    {
      "cell_type": "markdown",
      "source": [
        "###5.2 Decision Tree"
      ],
      "metadata": {
        "id": "90vQSGlWRUEw"
      }
    },
    {
      "cell_type": "code",
      "source": [
        "decision_tree_setup = DecisionTreeClassifier(criterion='entropy',\n",
        "                                             random_state=0) # Creating a decision tree classifier"
      ],
      "metadata": {
        "id": "ugy-WKxzLjZH"
      },
      "execution_count": null,
      "outputs": []
    },
    {
      "cell_type": "code",
      "source": [
        "decision_tree_setup.fit(X_setup_training, Y_setup_training) # Training the classifier"
      ],
      "metadata": {
        "colab": {
          "base_uri": "https://localhost:8080/"
        },
        "id": "8go1OKAEMr86",
        "outputId": "9672bef8-cda3-4183-e52d-df8c4dedaa0c"
      },
      "execution_count": null,
      "outputs": [
        {
          "output_type": "execute_result",
          "data": {
            "text/plain": [
              "DecisionTreeClassifier(criterion='entropy', random_state=0)"
            ],
            "text/html": [
              "<style>#sk-container-id-2 {color: black;background-color: white;}#sk-container-id-2 pre{padding: 0;}#sk-container-id-2 div.sk-toggleable {background-color: white;}#sk-container-id-2 label.sk-toggleable__label {cursor: pointer;display: block;width: 100%;margin-bottom: 0;padding: 0.3em;box-sizing: border-box;text-align: center;}#sk-container-id-2 label.sk-toggleable__label-arrow:before {content: \"▸\";float: left;margin-right: 0.25em;color: #696969;}#sk-container-id-2 label.sk-toggleable__label-arrow:hover:before {color: black;}#sk-container-id-2 div.sk-estimator:hover label.sk-toggleable__label-arrow:before {color: black;}#sk-container-id-2 div.sk-toggleable__content {max-height: 0;max-width: 0;overflow: hidden;text-align: left;background-color: #f0f8ff;}#sk-container-id-2 div.sk-toggleable__content pre {margin: 0.2em;color: black;border-radius: 0.25em;background-color: #f0f8ff;}#sk-container-id-2 input.sk-toggleable__control:checked~div.sk-toggleable__content {max-height: 200px;max-width: 100%;overflow: auto;}#sk-container-id-2 input.sk-toggleable__control:checked~label.sk-toggleable__label-arrow:before {content: \"▾\";}#sk-container-id-2 div.sk-estimator input.sk-toggleable__control:checked~label.sk-toggleable__label {background-color: #d4ebff;}#sk-container-id-2 div.sk-label input.sk-toggleable__control:checked~label.sk-toggleable__label {background-color: #d4ebff;}#sk-container-id-2 input.sk-hidden--visually {border: 0;clip: rect(1px 1px 1px 1px);clip: rect(1px, 1px, 1px, 1px);height: 1px;margin: -1px;overflow: hidden;padding: 0;position: absolute;width: 1px;}#sk-container-id-2 div.sk-estimator {font-family: monospace;background-color: #f0f8ff;border: 1px dotted black;border-radius: 0.25em;box-sizing: border-box;margin-bottom: 0.5em;}#sk-container-id-2 div.sk-estimator:hover {background-color: #d4ebff;}#sk-container-id-2 div.sk-parallel-item::after {content: \"\";width: 100%;border-bottom: 1px solid gray;flex-grow: 1;}#sk-container-id-2 div.sk-label:hover label.sk-toggleable__label {background-color: #d4ebff;}#sk-container-id-2 div.sk-serial::before {content: \"\";position: absolute;border-left: 1px solid gray;box-sizing: border-box;top: 0;bottom: 0;left: 50%;z-index: 0;}#sk-container-id-2 div.sk-serial {display: flex;flex-direction: column;align-items: center;background-color: white;padding-right: 0.2em;padding-left: 0.2em;position: relative;}#sk-container-id-2 div.sk-item {position: relative;z-index: 1;}#sk-container-id-2 div.sk-parallel {display: flex;align-items: stretch;justify-content: center;background-color: white;position: relative;}#sk-container-id-2 div.sk-item::before, #sk-container-id-2 div.sk-parallel-item::before {content: \"\";position: absolute;border-left: 1px solid gray;box-sizing: border-box;top: 0;bottom: 0;left: 50%;z-index: -1;}#sk-container-id-2 div.sk-parallel-item {display: flex;flex-direction: column;z-index: 1;position: relative;background-color: white;}#sk-container-id-2 div.sk-parallel-item:first-child::after {align-self: flex-end;width: 50%;}#sk-container-id-2 div.sk-parallel-item:last-child::after {align-self: flex-start;width: 50%;}#sk-container-id-2 div.sk-parallel-item:only-child::after {width: 0;}#sk-container-id-2 div.sk-dashed-wrapped {border: 1px dashed gray;margin: 0 0.4em 0.5em 0.4em;box-sizing: border-box;padding-bottom: 0.4em;background-color: white;}#sk-container-id-2 div.sk-label label {font-family: monospace;font-weight: bold;display: inline-block;line-height: 1.2em;}#sk-container-id-2 div.sk-label-container {text-align: center;}#sk-container-id-2 div.sk-container {/* jupyter's `normalize.less` sets `[hidden] { display: none; }` but bootstrap.min.css set `[hidden] { display: none !important; }` so we also need the `!important` here to be able to override the default hidden behavior on the sphinx rendered scikit-learn.org. See: https://github.com/scikit-learn/scikit-learn/issues/21755 */display: inline-block !important;position: relative;}#sk-container-id-2 div.sk-text-repr-fallback {display: none;}</style><div id=\"sk-container-id-2\" class=\"sk-top-container\"><div class=\"sk-text-repr-fallback\"><pre>DecisionTreeClassifier(criterion=&#x27;entropy&#x27;, random_state=0)</pre><b>In a Jupyter environment, please rerun this cell to show the HTML representation or trust the notebook. <br />On GitHub, the HTML representation is unable to render, please try loading this page with nbviewer.org.</b></div><div class=\"sk-container\" hidden><div class=\"sk-item\"><div class=\"sk-estimator sk-toggleable\"><input class=\"sk-toggleable__control sk-hidden--visually\" id=\"sk-estimator-id-2\" type=\"checkbox\" checked><label for=\"sk-estimator-id-2\" class=\"sk-toggleable__label sk-toggleable__label-arrow\">DecisionTreeClassifier</label><div class=\"sk-toggleable__content\"><pre>DecisionTreeClassifier(criterion=&#x27;entropy&#x27;, random_state=0)</pre></div></div></div></div></div>"
            ]
          },
          "metadata": {},
          "execution_count": 38
        }
      ]
    },
    {
      "cell_type": "code",
      "source": [
        "predictions_decision_tree_setup = decision_tree_setup.predict(X_setup_test) # Predictions for the test set"
      ],
      "metadata": {
        "id": "VEaej6BrM2DW"
      },
      "execution_count": null,
      "outputs": []
    },
    {
      "cell_type": "code",
      "source": [
        "predictions_decision_tree_setup"
      ],
      "metadata": {
        "colab": {
          "base_uri": "https://localhost:8080/"
        },
        "id": "WgwOLte1NAEQ",
        "outputId": "e1c0fa66-19d2-4cfc-e959-0f074e5d5824"
      },
      "execution_count": null,
      "outputs": [
        {
          "output_type": "execute_result",
          "data": {
            "text/plain": [
              "array([0, 0, 0, 0, 0, 0, 0, 0, 0, 0, 0, 0, 0, 0, 0, 0, 0, 0, 0, 0, 0, 0,\n",
              "       0, 0, 0, 0, 0, 0, 0, 0, 0, 0, 0, 0, 0, 0, 0, 0, 0, 0, 0, 0, 0, 0,\n",
              "       0, 0, 0, 0, 0, 0, 0, 0, 0, 0, 0, 0, 0, 0, 0, 0, 0, 0, 0, 0, 0, 0,\n",
              "       0, 0, 0, 0, 0, 0, 0, 0, 0, 0, 0, 0, 0, 0, 0, 0, 0, 0, 0, 0, 0, 0,\n",
              "       0, 0, 0, 0, 0, 0, 0, 0, 0, 0, 0, 0, 0, 0, 0, 0, 0, 0, 0, 0, 0, 0,\n",
              "       0, 0, 0, 0, 0, 0, 0, 0, 0, 0, 0, 0, 0, 0, 0, 0, 0, 0, 0, 0, 0, 0,\n",
              "       0, 0, 0, 0, 0, 0, 0, 0, 0, 0, 0, 0, 0, 0, 0, 0, 0, 0, 0, 0, 0, 0,\n",
              "       0, 0, 0, 0, 0, 0, 0, 0, 0, 0, 0, 0, 0, 0, 0, 0, 0, 0, 0, 0, 0, 0,\n",
              "       0, 0, 0, 0, 0, 0, 0, 0, 0, 0, 0, 0, 0, 0, 0, 0, 0, 0, 0, 0, 0, 0,\n",
              "       0, 0])"
            ]
          },
          "metadata": {},
          "execution_count": 40
        }
      ]
    },
    {
      "cell_type": "code",
      "source": [
        "accuracy_score(Y_setup_test, predictions_decision_tree_setup) # Accuracy score when comparing predictions to the test set "
      ],
      "metadata": {
        "colab": {
          "base_uri": "https://localhost:8080/"
        },
        "id": "5CC0JubQNMsa",
        "outputId": "f6752139-30e1-4553-885e-c238d4b16df8"
      },
      "execution_count": null,
      "outputs": [
        {
          "output_type": "execute_result",
          "data": {
            "text/plain": [
              "0.905"
            ]
          },
          "metadata": {},
          "execution_count": 41
        }
      ]
    },
    {
      "cell_type": "markdown",
      "source": [
        "###5.3 KNN"
      ],
      "metadata": {
        "id": "eYlAUPM7SC_B"
      }
    },
    {
      "cell_type": "code",
      "source": [
        "knn_setup = KNeighborsClassifier(n_neighbors=5, metric='minkowski', p=2) # Creating a KNN classifier"
      ],
      "metadata": {
        "id": "HSe7N-EMnFYN"
      },
      "execution_count": null,
      "outputs": []
    },
    {
      "cell_type": "code",
      "source": [
        "knn_setup.fit(X_setup_training, Y_setup_training) # Training the classifier"
      ],
      "metadata": {
        "colab": {
          "base_uri": "https://localhost:8080/"
        },
        "id": "I4ieHlEUn32U",
        "outputId": "b0769094-4c62-4bd7-c8b8-746b3cc4bd04"
      },
      "execution_count": null,
      "outputs": [
        {
          "output_type": "execute_result",
          "data": {
            "text/plain": [
              "KNeighborsClassifier()"
            ],
            "text/html": [
              "<style>#sk-container-id-3 {color: black;background-color: white;}#sk-container-id-3 pre{padding: 0;}#sk-container-id-3 div.sk-toggleable {background-color: white;}#sk-container-id-3 label.sk-toggleable__label {cursor: pointer;display: block;width: 100%;margin-bottom: 0;padding: 0.3em;box-sizing: border-box;text-align: center;}#sk-container-id-3 label.sk-toggleable__label-arrow:before {content: \"▸\";float: left;margin-right: 0.25em;color: #696969;}#sk-container-id-3 label.sk-toggleable__label-arrow:hover:before {color: black;}#sk-container-id-3 div.sk-estimator:hover label.sk-toggleable__label-arrow:before {color: black;}#sk-container-id-3 div.sk-toggleable__content {max-height: 0;max-width: 0;overflow: hidden;text-align: left;background-color: #f0f8ff;}#sk-container-id-3 div.sk-toggleable__content pre {margin: 0.2em;color: black;border-radius: 0.25em;background-color: #f0f8ff;}#sk-container-id-3 input.sk-toggleable__control:checked~div.sk-toggleable__content {max-height: 200px;max-width: 100%;overflow: auto;}#sk-container-id-3 input.sk-toggleable__control:checked~label.sk-toggleable__label-arrow:before {content: \"▾\";}#sk-container-id-3 div.sk-estimator input.sk-toggleable__control:checked~label.sk-toggleable__label {background-color: #d4ebff;}#sk-container-id-3 div.sk-label input.sk-toggleable__control:checked~label.sk-toggleable__label {background-color: #d4ebff;}#sk-container-id-3 input.sk-hidden--visually {border: 0;clip: rect(1px 1px 1px 1px);clip: rect(1px, 1px, 1px, 1px);height: 1px;margin: -1px;overflow: hidden;padding: 0;position: absolute;width: 1px;}#sk-container-id-3 div.sk-estimator {font-family: monospace;background-color: #f0f8ff;border: 1px dotted black;border-radius: 0.25em;box-sizing: border-box;margin-bottom: 0.5em;}#sk-container-id-3 div.sk-estimator:hover {background-color: #d4ebff;}#sk-container-id-3 div.sk-parallel-item::after {content: \"\";width: 100%;border-bottom: 1px solid gray;flex-grow: 1;}#sk-container-id-3 div.sk-label:hover label.sk-toggleable__label {background-color: #d4ebff;}#sk-container-id-3 div.sk-serial::before {content: \"\";position: absolute;border-left: 1px solid gray;box-sizing: border-box;top: 0;bottom: 0;left: 50%;z-index: 0;}#sk-container-id-3 div.sk-serial {display: flex;flex-direction: column;align-items: center;background-color: white;padding-right: 0.2em;padding-left: 0.2em;position: relative;}#sk-container-id-3 div.sk-item {position: relative;z-index: 1;}#sk-container-id-3 div.sk-parallel {display: flex;align-items: stretch;justify-content: center;background-color: white;position: relative;}#sk-container-id-3 div.sk-item::before, #sk-container-id-3 div.sk-parallel-item::before {content: \"\";position: absolute;border-left: 1px solid gray;box-sizing: border-box;top: 0;bottom: 0;left: 50%;z-index: -1;}#sk-container-id-3 div.sk-parallel-item {display: flex;flex-direction: column;z-index: 1;position: relative;background-color: white;}#sk-container-id-3 div.sk-parallel-item:first-child::after {align-self: flex-end;width: 50%;}#sk-container-id-3 div.sk-parallel-item:last-child::after {align-self: flex-start;width: 50%;}#sk-container-id-3 div.sk-parallel-item:only-child::after {width: 0;}#sk-container-id-3 div.sk-dashed-wrapped {border: 1px dashed gray;margin: 0 0.4em 0.5em 0.4em;box-sizing: border-box;padding-bottom: 0.4em;background-color: white;}#sk-container-id-3 div.sk-label label {font-family: monospace;font-weight: bold;display: inline-block;line-height: 1.2em;}#sk-container-id-3 div.sk-label-container {text-align: center;}#sk-container-id-3 div.sk-container {/* jupyter's `normalize.less` sets `[hidden] { display: none; }` but bootstrap.min.css set `[hidden] { display: none !important; }` so we also need the `!important` here to be able to override the default hidden behavior on the sphinx rendered scikit-learn.org. See: https://github.com/scikit-learn/scikit-learn/issues/21755 */display: inline-block !important;position: relative;}#sk-container-id-3 div.sk-text-repr-fallback {display: none;}</style><div id=\"sk-container-id-3\" class=\"sk-top-container\"><div class=\"sk-text-repr-fallback\"><pre>KNeighborsClassifier()</pre><b>In a Jupyter environment, please rerun this cell to show the HTML representation or trust the notebook. <br />On GitHub, the HTML representation is unable to render, please try loading this page with nbviewer.org.</b></div><div class=\"sk-container\" hidden><div class=\"sk-item\"><div class=\"sk-estimator sk-toggleable\"><input class=\"sk-toggleable__control sk-hidden--visually\" id=\"sk-estimator-id-3\" type=\"checkbox\" checked><label for=\"sk-estimator-id-3\" class=\"sk-toggleable__label sk-toggleable__label-arrow\">KNeighborsClassifier</label><div class=\"sk-toggleable__content\"><pre>KNeighborsClassifier()</pre></div></div></div></div></div>"
            ]
          },
          "metadata": {},
          "execution_count": 43
        }
      ]
    },
    {
      "cell_type": "code",
      "source": [
        "predictions_knn_setup = knn_setup.predict(X_setup_test) # Predictions for the test set\n",
        "predictions_knn_setup"
      ],
      "metadata": {
        "colab": {
          "base_uri": "https://localhost:8080/"
        },
        "id": "1nXC8C3OoFhQ",
        "outputId": "2f22010d-846d-434a-935d-f8f71cd22872"
      },
      "execution_count": null,
      "outputs": [
        {
          "output_type": "execute_result",
          "data": {
            "text/plain": [
              "array([0, 0, 0, 0, 0, 0, 0, 0, 0, 0, 0, 0, 0, 0, 0, 0, 0, 0, 0, 0, 0, 0,\n",
              "       0, 0, 0, 0, 0, 0, 0, 0, 0, 0, 0, 0, 0, 0, 0, 0, 0, 0, 0, 0, 0, 0,\n",
              "       0, 0, 0, 0, 0, 0, 0, 0, 0, 0, 0, 0, 0, 0, 0, 0, 0, 0, 0, 0, 0, 0,\n",
              "       0, 0, 0, 0, 0, 0, 0, 0, 0, 0, 0, 0, 0, 0, 0, 0, 0, 0, 0, 0, 0, 0,\n",
              "       0, 0, 0, 0, 0, 0, 0, 0, 0, 0, 0, 0, 0, 0, 0, 0, 0, 0, 0, 0, 0, 0,\n",
              "       0, 0, 0, 0, 0, 0, 0, 0, 0, 0, 0, 0, 0, 0, 0, 0, 0, 0, 0, 0, 0, 0,\n",
              "       0, 0, 0, 0, 0, 0, 0, 0, 0, 0, 0, 0, 0, 0, 0, 0, 0, 0, 0, 0, 0, 0,\n",
              "       0, 0, 0, 0, 0, 0, 0, 0, 0, 0, 0, 0, 0, 0, 0, 0, 0, 0, 0, 0, 0, 0,\n",
              "       0, 0, 0, 0, 0, 0, 0, 0, 0, 0, 0, 0, 0, 0, 0, 0, 0, 0, 0, 0, 0, 0,\n",
              "       0, 0])"
            ]
          },
          "metadata": {},
          "execution_count": 44
        }
      ]
    },
    {
      "cell_type": "code",
      "source": [
        "accuracy_score(Y_setup_test, predictions_knn_setup) # Accuracy score when comparing predictions to the test set "
      ],
      "metadata": {
        "colab": {
          "base_uri": "https://localhost:8080/"
        },
        "id": "7-t-D7byoU4h",
        "outputId": "7604c2ac-951b-4624-f93f-9a56c8215766"
      },
      "execution_count": null,
      "outputs": [
        {
          "output_type": "execute_result",
          "data": {
            "text/plain": [
              "0.905"
            ]
          },
          "metadata": {},
          "execution_count": 45
        }
      ]
    },
    {
      "cell_type": "markdown",
      "source": [
        "###5.4 Logistic regression"
      ],
      "metadata": {
        "id": "7pHwXMYPTNlB"
      }
    },
    {
      "cell_type": "code",
      "source": [
        "logistic_regression_setup = LogisticRegression(random_state=1, C=8) # Creating a logistic regression classifier\n",
        "logistic_regression_setup.fit(X_setup_training, Y_setup_training) # Training the classifier"
      ],
      "metadata": {
        "colab": {
          "base_uri": "https://localhost:8080/"
        },
        "id": "Y1L0fyL3oqKs",
        "outputId": "5a1e3298-425c-4ee9-8b66-8b50e161020e"
      },
      "execution_count": null,
      "outputs": [
        {
          "output_type": "execute_result",
          "data": {
            "text/plain": [
              "LogisticRegression(C=8, random_state=1)"
            ],
            "text/html": [
              "<style>#sk-container-id-4 {color: black;background-color: white;}#sk-container-id-4 pre{padding: 0;}#sk-container-id-4 div.sk-toggleable {background-color: white;}#sk-container-id-4 label.sk-toggleable__label {cursor: pointer;display: block;width: 100%;margin-bottom: 0;padding: 0.3em;box-sizing: border-box;text-align: center;}#sk-container-id-4 label.sk-toggleable__label-arrow:before {content: \"▸\";float: left;margin-right: 0.25em;color: #696969;}#sk-container-id-4 label.sk-toggleable__label-arrow:hover:before {color: black;}#sk-container-id-4 div.sk-estimator:hover label.sk-toggleable__label-arrow:before {color: black;}#sk-container-id-4 div.sk-toggleable__content {max-height: 0;max-width: 0;overflow: hidden;text-align: left;background-color: #f0f8ff;}#sk-container-id-4 div.sk-toggleable__content pre {margin: 0.2em;color: black;border-radius: 0.25em;background-color: #f0f8ff;}#sk-container-id-4 input.sk-toggleable__control:checked~div.sk-toggleable__content {max-height: 200px;max-width: 100%;overflow: auto;}#sk-container-id-4 input.sk-toggleable__control:checked~label.sk-toggleable__label-arrow:before {content: \"▾\";}#sk-container-id-4 div.sk-estimator input.sk-toggleable__control:checked~label.sk-toggleable__label {background-color: #d4ebff;}#sk-container-id-4 div.sk-label input.sk-toggleable__control:checked~label.sk-toggleable__label {background-color: #d4ebff;}#sk-container-id-4 input.sk-hidden--visually {border: 0;clip: rect(1px 1px 1px 1px);clip: rect(1px, 1px, 1px, 1px);height: 1px;margin: -1px;overflow: hidden;padding: 0;position: absolute;width: 1px;}#sk-container-id-4 div.sk-estimator {font-family: monospace;background-color: #f0f8ff;border: 1px dotted black;border-radius: 0.25em;box-sizing: border-box;margin-bottom: 0.5em;}#sk-container-id-4 div.sk-estimator:hover {background-color: #d4ebff;}#sk-container-id-4 div.sk-parallel-item::after {content: \"\";width: 100%;border-bottom: 1px solid gray;flex-grow: 1;}#sk-container-id-4 div.sk-label:hover label.sk-toggleable__label {background-color: #d4ebff;}#sk-container-id-4 div.sk-serial::before {content: \"\";position: absolute;border-left: 1px solid gray;box-sizing: border-box;top: 0;bottom: 0;left: 50%;z-index: 0;}#sk-container-id-4 div.sk-serial {display: flex;flex-direction: column;align-items: center;background-color: white;padding-right: 0.2em;padding-left: 0.2em;position: relative;}#sk-container-id-4 div.sk-item {position: relative;z-index: 1;}#sk-container-id-4 div.sk-parallel {display: flex;align-items: stretch;justify-content: center;background-color: white;position: relative;}#sk-container-id-4 div.sk-item::before, #sk-container-id-4 div.sk-parallel-item::before {content: \"\";position: absolute;border-left: 1px solid gray;box-sizing: border-box;top: 0;bottom: 0;left: 50%;z-index: -1;}#sk-container-id-4 div.sk-parallel-item {display: flex;flex-direction: column;z-index: 1;position: relative;background-color: white;}#sk-container-id-4 div.sk-parallel-item:first-child::after {align-self: flex-end;width: 50%;}#sk-container-id-4 div.sk-parallel-item:last-child::after {align-self: flex-start;width: 50%;}#sk-container-id-4 div.sk-parallel-item:only-child::after {width: 0;}#sk-container-id-4 div.sk-dashed-wrapped {border: 1px dashed gray;margin: 0 0.4em 0.5em 0.4em;box-sizing: border-box;padding-bottom: 0.4em;background-color: white;}#sk-container-id-4 div.sk-label label {font-family: monospace;font-weight: bold;display: inline-block;line-height: 1.2em;}#sk-container-id-4 div.sk-label-container {text-align: center;}#sk-container-id-4 div.sk-container {/* jupyter's `normalize.less` sets `[hidden] { display: none; }` but bootstrap.min.css set `[hidden] { display: none !important; }` so we also need the `!important` here to be able to override the default hidden behavior on the sphinx rendered scikit-learn.org. See: https://github.com/scikit-learn/scikit-learn/issues/21755 */display: inline-block !important;position: relative;}#sk-container-id-4 div.sk-text-repr-fallback {display: none;}</style><div id=\"sk-container-id-4\" class=\"sk-top-container\"><div class=\"sk-text-repr-fallback\"><pre>LogisticRegression(C=8, random_state=1)</pre><b>In a Jupyter environment, please rerun this cell to show the HTML representation or trust the notebook. <br />On GitHub, the HTML representation is unable to render, please try loading this page with nbviewer.org.</b></div><div class=\"sk-container\" hidden><div class=\"sk-item\"><div class=\"sk-estimator sk-toggleable\"><input class=\"sk-toggleable__control sk-hidden--visually\" id=\"sk-estimator-id-4\" type=\"checkbox\" checked><label for=\"sk-estimator-id-4\" class=\"sk-toggleable__label sk-toggleable__label-arrow\">LogisticRegression</label><div class=\"sk-toggleable__content\"><pre>LogisticRegression(C=8, random_state=1)</pre></div></div></div></div></div>"
            ]
          },
          "metadata": {},
          "execution_count": 46
        }
      ]
    },
    {
      "cell_type": "code",
      "source": [
        "predictions_regression_setup = logistic_regression_setup.predict(X_setup_test) # Preictions for the test set\n",
        "predictions_regression_setup"
      ],
      "metadata": {
        "colab": {
          "base_uri": "https://localhost:8080/"
        },
        "id": "8CGKto-BqJb0",
        "outputId": "4ea897da-1b5b-4046-8355-1e3b26950cce"
      },
      "execution_count": null,
      "outputs": [
        {
          "output_type": "execute_result",
          "data": {
            "text/plain": [
              "array([0, 0, 0, 0, 0, 0, 0, 0, 0, 0, 0, 0, 0, 0, 0, 0, 0, 0, 0, 0, 0, 0,\n",
              "       0, 0, 0, 0, 0, 0, 0, 0, 0, 0, 0, 0, 0, 0, 0, 0, 0, 0, 0, 0, 0, 0,\n",
              "       0, 0, 0, 0, 0, 0, 0, 0, 0, 0, 0, 0, 0, 0, 0, 0, 0, 0, 0, 0, 0, 0,\n",
              "       0, 0, 0, 0, 0, 0, 0, 0, 0, 0, 0, 0, 0, 0, 0, 0, 0, 0, 0, 0, 0, 0,\n",
              "       0, 0, 0, 0, 0, 0, 0, 0, 0, 0, 0, 0, 0, 0, 0, 0, 0, 0, 0, 0, 0, 0,\n",
              "       0, 0, 0, 0, 0, 0, 0, 0, 0, 0, 0, 0, 0, 0, 0, 0, 0, 0, 0, 0, 0, 0,\n",
              "       0, 0, 0, 0, 0, 0, 0, 0, 0, 0, 0, 0, 0, 0, 0, 0, 0, 0, 0, 0, 0, 0,\n",
              "       0, 0, 0, 0, 0, 0, 0, 0, 0, 0, 0, 0, 0, 0, 0, 0, 0, 0, 0, 0, 0, 0,\n",
              "       0, 0, 0, 0, 0, 0, 0, 0, 0, 0, 0, 0, 0, 0, 0, 0, 0, 0, 0, 0, 0, 0,\n",
              "       0, 0])"
            ]
          },
          "metadata": {},
          "execution_count": 47
        }
      ]
    },
    {
      "cell_type": "code",
      "source": [
        "accuracy_score(Y_setup_test, predictions_regression_setup) # Accuracy score when comparing predictions to the test set "
      ],
      "metadata": {
        "colab": {
          "base_uri": "https://localhost:8080/"
        },
        "id": "wrmBHDPQqZWe",
        "outputId": "0e2e8e97-78ad-4c9c-b650-b711de58482c"
      },
      "execution_count": null,
      "outputs": [
        {
          "output_type": "execute_result",
          "data": {
            "text/plain": [
              "0.905"
            ]
          },
          "metadata": {},
          "execution_count": 48
        }
      ]
    },
    {
      "cell_type": "markdown",
      "source": [
        "###5.5 SVM"
      ],
      "metadata": {
        "id": "CSMHk4TzUBbV"
      }
    },
    {
      "cell_type": "code",
      "source": [
        "svm_setup = SVC(kernel='rbf', random_state=1, C=8) # Creating an SVM classifier\n",
        "svm_setup.fit(X_setup_training, Y_setup_training) # Training the classifier"
      ],
      "metadata": {
        "colab": {
          "base_uri": "https://localhost:8080/"
        },
        "id": "ydZs4UhQUEdS",
        "outputId": "3d5b021f-beda-4ed4-838f-2e7ac21f3f15"
      },
      "execution_count": null,
      "outputs": [
        {
          "output_type": "execute_result",
          "data": {
            "text/plain": [
              "SVC(C=8, random_state=1)"
            ],
            "text/html": [
              "<style>#sk-container-id-5 {color: black;background-color: white;}#sk-container-id-5 pre{padding: 0;}#sk-container-id-5 div.sk-toggleable {background-color: white;}#sk-container-id-5 label.sk-toggleable__label {cursor: pointer;display: block;width: 100%;margin-bottom: 0;padding: 0.3em;box-sizing: border-box;text-align: center;}#sk-container-id-5 label.sk-toggleable__label-arrow:before {content: \"▸\";float: left;margin-right: 0.25em;color: #696969;}#sk-container-id-5 label.sk-toggleable__label-arrow:hover:before {color: black;}#sk-container-id-5 div.sk-estimator:hover label.sk-toggleable__label-arrow:before {color: black;}#sk-container-id-5 div.sk-toggleable__content {max-height: 0;max-width: 0;overflow: hidden;text-align: left;background-color: #f0f8ff;}#sk-container-id-5 div.sk-toggleable__content pre {margin: 0.2em;color: black;border-radius: 0.25em;background-color: #f0f8ff;}#sk-container-id-5 input.sk-toggleable__control:checked~div.sk-toggleable__content {max-height: 200px;max-width: 100%;overflow: auto;}#sk-container-id-5 input.sk-toggleable__control:checked~label.sk-toggleable__label-arrow:before {content: \"▾\";}#sk-container-id-5 div.sk-estimator input.sk-toggleable__control:checked~label.sk-toggleable__label {background-color: #d4ebff;}#sk-container-id-5 div.sk-label input.sk-toggleable__control:checked~label.sk-toggleable__label {background-color: #d4ebff;}#sk-container-id-5 input.sk-hidden--visually {border: 0;clip: rect(1px 1px 1px 1px);clip: rect(1px, 1px, 1px, 1px);height: 1px;margin: -1px;overflow: hidden;padding: 0;position: absolute;width: 1px;}#sk-container-id-5 div.sk-estimator {font-family: monospace;background-color: #f0f8ff;border: 1px dotted black;border-radius: 0.25em;box-sizing: border-box;margin-bottom: 0.5em;}#sk-container-id-5 div.sk-estimator:hover {background-color: #d4ebff;}#sk-container-id-5 div.sk-parallel-item::after {content: \"\";width: 100%;border-bottom: 1px solid gray;flex-grow: 1;}#sk-container-id-5 div.sk-label:hover label.sk-toggleable__label {background-color: #d4ebff;}#sk-container-id-5 div.sk-serial::before {content: \"\";position: absolute;border-left: 1px solid gray;box-sizing: border-box;top: 0;bottom: 0;left: 50%;z-index: 0;}#sk-container-id-5 div.sk-serial {display: flex;flex-direction: column;align-items: center;background-color: white;padding-right: 0.2em;padding-left: 0.2em;position: relative;}#sk-container-id-5 div.sk-item {position: relative;z-index: 1;}#sk-container-id-5 div.sk-parallel {display: flex;align-items: stretch;justify-content: center;background-color: white;position: relative;}#sk-container-id-5 div.sk-item::before, #sk-container-id-5 div.sk-parallel-item::before {content: \"\";position: absolute;border-left: 1px solid gray;box-sizing: border-box;top: 0;bottom: 0;left: 50%;z-index: -1;}#sk-container-id-5 div.sk-parallel-item {display: flex;flex-direction: column;z-index: 1;position: relative;background-color: white;}#sk-container-id-5 div.sk-parallel-item:first-child::after {align-self: flex-end;width: 50%;}#sk-container-id-5 div.sk-parallel-item:last-child::after {align-self: flex-start;width: 50%;}#sk-container-id-5 div.sk-parallel-item:only-child::after {width: 0;}#sk-container-id-5 div.sk-dashed-wrapped {border: 1px dashed gray;margin: 0 0.4em 0.5em 0.4em;box-sizing: border-box;padding-bottom: 0.4em;background-color: white;}#sk-container-id-5 div.sk-label label {font-family: monospace;font-weight: bold;display: inline-block;line-height: 1.2em;}#sk-container-id-5 div.sk-label-container {text-align: center;}#sk-container-id-5 div.sk-container {/* jupyter's `normalize.less` sets `[hidden] { display: none; }` but bootstrap.min.css set `[hidden] { display: none !important; }` so we also need the `!important` here to be able to override the default hidden behavior on the sphinx rendered scikit-learn.org. See: https://github.com/scikit-learn/scikit-learn/issues/21755 */display: inline-block !important;position: relative;}#sk-container-id-5 div.sk-text-repr-fallback {display: none;}</style><div id=\"sk-container-id-5\" class=\"sk-top-container\"><div class=\"sk-text-repr-fallback\"><pre>SVC(C=8, random_state=1)</pre><b>In a Jupyter environment, please rerun this cell to show the HTML representation or trust the notebook. <br />On GitHub, the HTML representation is unable to render, please try loading this page with nbviewer.org.</b></div><div class=\"sk-container\" hidden><div class=\"sk-item\"><div class=\"sk-estimator sk-toggleable\"><input class=\"sk-toggleable__control sk-hidden--visually\" id=\"sk-estimator-id-5\" type=\"checkbox\" checked><label for=\"sk-estimator-id-5\" class=\"sk-toggleable__label sk-toggleable__label-arrow\">SVC</label><div class=\"sk-toggleable__content\"><pre>SVC(C=8, random_state=1)</pre></div></div></div></div></div>"
            ]
          },
          "metadata": {},
          "execution_count": 49
        }
      ]
    },
    {
      "cell_type": "code",
      "source": [
        "predictions_svm_setup = svm_setup.predict(X_setup_test) # Predictions for the test set\n",
        "predictions_svm_setup"
      ],
      "metadata": {
        "colab": {
          "base_uri": "https://localhost:8080/"
        },
        "id": "OhhbqWkCUQgg",
        "outputId": "5db2f4e8-c64d-4d7d-cbce-5b62ddda55d6"
      },
      "execution_count": null,
      "outputs": [
        {
          "output_type": "execute_result",
          "data": {
            "text/plain": [
              "array([0, 0, 0, 0, 0, 0, 0, 0, 0, 0, 0, 0, 0, 0, 0, 0, 0, 0, 0, 0, 0, 0,\n",
              "       0, 0, 0, 0, 0, 0, 0, 0, 0, 0, 0, 0, 0, 0, 0, 0, 0, 0, 0, 0, 0, 0,\n",
              "       0, 0, 0, 0, 0, 0, 0, 0, 0, 0, 0, 0, 0, 0, 0, 0, 0, 0, 0, 0, 0, 0,\n",
              "       0, 0, 0, 0, 0, 0, 0, 0, 0, 0, 0, 0, 0, 0, 0, 0, 0, 0, 0, 0, 0, 0,\n",
              "       0, 0, 0, 0, 0, 0, 0, 0, 0, 0, 0, 0, 0, 0, 0, 0, 0, 0, 0, 0, 0, 0,\n",
              "       0, 0, 0, 0, 0, 0, 0, 0, 0, 0, 0, 0, 0, 0, 0, 0, 0, 0, 0, 0, 0, 0,\n",
              "       0, 0, 0, 0, 0, 0, 0, 0, 0, 0, 0, 0, 0, 0, 0, 0, 0, 0, 0, 0, 0, 0,\n",
              "       0, 0, 0, 0, 0, 0, 0, 0, 0, 0, 0, 0, 0, 0, 0, 0, 0, 0, 0, 0, 0, 0,\n",
              "       0, 0, 0, 0, 0, 0, 0, 0, 0, 0, 0, 0, 0, 0, 0, 0, 0, 0, 0, 0, 0, 0,\n",
              "       0, 0])"
            ]
          },
          "metadata": {},
          "execution_count": 50
        }
      ]
    },
    {
      "cell_type": "code",
      "source": [
        "accuracy_score(Y_setup_test, predictions_svm_setup) # Accuracy score when comparing predictions to the test set "
      ],
      "metadata": {
        "colab": {
          "base_uri": "https://localhost:8080/"
        },
        "id": "3GqRmlu7UXs4",
        "outputId": "d93daaca-f0c8-496f-fb35-34a742db6fb6"
      },
      "execution_count": null,
      "outputs": [
        {
          "output_type": "execute_result",
          "data": {
            "text/plain": [
              "0.905"
            ]
          },
          "metadata": {},
          "execution_count": 51
        }
      ]
    },
    {
      "cell_type": "markdown",
      "source": [
        "##6. Conclusion"
      ],
      "metadata": {
        "id": "4o0aS6scWhdj"
      }
    },
    {
      "cell_type": "markdown",
      "source": [
        "- All five models tested (Naive Bayes, decision trees, KNN, logistic regression, SVM) revealed the same accuracy score, namely $90.5\\%$.\n",
        "- As noted in the answer to Question 1, the trivial model (i.e., predicting success in all cases) has accuracy $91.75\\%$, hence greater than $90.5\\%$.\n",
        "- We conclude that there is no reason to adopt any of the models tested so far. \n",
        "- We can say that ```Preset_1```, ```Preset_2``` do not seem to be good predictors of equimpent failure."
      ],
      "metadata": {
        "id": "OS6dxnkAWjER"
      }
    },
    {
      "cell_type": "markdown",
      "source": [
        "#Question 3"
      ],
      "metadata": {
        "id": "Vum7PjizM3f8"
      }
    },
    {
      "cell_type": "markdown",
      "source": [
        "We build a model to categorize equipment failure by root causes (```Temperature```, ```Pressure``` etc.)."
      ],
      "metadata": {
        "id": "u4h_cyd3arqu"
      }
    },
    {
      "cell_type": "markdown",
      "source": [
        "We proceed as follows:\n",
        "1. Setting attributes and class\n",
        "2. Encoding data\n",
        "3. Scaling values\n",
        "4. Splitting data\n",
        "5. Testing models\n",
        "6. Conclusion\n"
      ],
      "metadata": {
        "id": "tiOFdHA5arqv"
      }
    },
    {
      "cell_type": "markdown",
      "source": [
        "## 1. Setting attributes and class"
      ],
      "metadata": {
        "id": "oxKxIQ29-Itp"
      }
    },
    {
      "cell_type": "code",
      "source": [
        "df.columns"
      ],
      "metadata": {
        "colab": {
          "base_uri": "https://localhost:8080/"
        },
        "id": "8SuYw8je-aVe",
        "outputId": "03ec124c-66ba-448f-8852-64d8b8983710"
      },
      "execution_count": null,
      "outputs": [
        {
          "output_type": "execute_result",
          "data": {
            "text/plain": [
              "Index(['Cycle', 'Preset_1', 'Preset_2', 'Temperature', 'Pressure',\n",
              "       'VibrationX', 'VibrationY', 'VibrationZ', 'Frequency', 'Fail'],\n",
              "      dtype='object')"
            ]
          },
          "metadata": {},
          "execution_count": 52
        }
      ]
    },
    {
      "cell_type": "code",
      "source": [
        "X_root_causes = df.iloc[:,3:9].values # Setting Temperature, Pressure etc. as attributes\n",
        "X_root_causes"
      ],
      "metadata": {
        "colab": {
          "base_uri": "https://localhost:8080/"
        },
        "id": "0VBvbhrHYV5x",
        "outputId": "7e4ba40e-beda-4982-b6d1-ff7df8e1c175"
      },
      "execution_count": null,
      "outputs": [
        {
          "output_type": "execute_result",
          "data": {
            "text/plain": [
              "array([[ 44.23518586,  47.65725355,  46.44176923,  64.82032658,\n",
              "         66.45451956,  44.48324981],\n",
              "       [ 60.80723445,  63.17207577,  62.00595107,  80.71443106,\n",
              "         81.24640465,  60.22871479],\n",
              "       [ 79.02753565,  83.03218967,  82.64210959,  98.25438557,\n",
              "         98.78519594,  80.99347915],\n",
              "       ...,\n",
              "       [ 79.77729418, 110.53540532,  61.33499462, 149.57781062,\n",
              "        129.46384345,  70.85335258],\n",
              "       [ 79.36031359, 159.98544309,  61.76287875, 169.77383124,\n",
              "        130.21342597,  80.11353955],\n",
              "       [ 80.85401087, 110.54370112, 121.03222733, 131.71947327,\n",
              "         90.33115485,  71.26171696]])"
            ]
          },
          "metadata": {},
          "execution_count": 53
        }
      ]
    },
    {
      "cell_type": "code",
      "source": [
        "Y_root_causes = df.iloc[:,9].values # Setting Fail as class\n",
        "Y_root_causes"
      ],
      "metadata": {
        "colab": {
          "base_uri": "https://localhost:8080/"
        },
        "id": "-J_FC3b3ZppY",
        "outputId": "59b2d8e7-6393-4fe5-fa93-a5c19339f8a7"
      },
      "execution_count": null,
      "outputs": [
        {
          "output_type": "execute_result",
          "data": {
            "text/plain": [
              "array([False, False, False, False, False, False, False, False, False,\n",
              "       False, False, False,  True, False, False, False, False, False,\n",
              "       False, False, False, False, False, False, False, False, False,\n",
              "       False, False, False, False, False, False, False, False, False,\n",
              "       False, False, False, False, False, False, False, False, False,\n",
              "       False, False, False, False, False, False, False, False, False,\n",
              "       False, False, False, False, False, False, False, False, False,\n",
              "       False, False, False, False, False, False, False, False, False,\n",
              "       False, False, False, False, False, False, False, False, False,\n",
              "       False, False, False, False, False, False, False, False, False,\n",
              "       False, False, False, False, False, False, False, False, False,\n",
              "       False, False, False, False, False, False, False, False, False,\n",
              "       False, False, False, False, False, False, False, False, False,\n",
              "       False, False, False, False, False, False, False, False, False,\n",
              "       False, False, False, False, False, False, False, False, False,\n",
              "       False, False, False, False, False, False, False, False, False,\n",
              "       False, False, False, False, False, False, False, False, False,\n",
              "       False, False, False,  True,  True,  True, False, False, False,\n",
              "        True,  True,  True, False, False, False, False, False, False,\n",
              "       False, False, False, False, False, False, False, False, False,\n",
              "       False, False, False, False, False, False, False, False, False,\n",
              "       False, False, False, False, False, False, False, False, False,\n",
              "       False, False, False, False, False, False, False, False, False,\n",
              "       False, False, False, False, False, False, False, False, False,\n",
              "       False, False, False, False, False, False, False, False, False,\n",
              "       False, False, False, False, False, False, False, False, False,\n",
              "       False, False, False, False, False, False, False, False, False,\n",
              "       False, False, False, False, False, False, False, False, False,\n",
              "       False, False, False, False, False, False, False, False, False,\n",
              "       False,  True,  True,  True, False, False, False, False,  True,\n",
              "        True, False, False, False, False, False, False, False, False,\n",
              "       False, False, False, False, False, False, False, False, False,\n",
              "       False, False, False, False, False, False, False, False, False,\n",
              "       False, False, False, False, False, False, False, False, False,\n",
              "       False, False, False, False, False, False, False, False, False,\n",
              "       False, False, False, False, False, False, False, False, False,\n",
              "       False, False, False, False, False, False, False, False, False,\n",
              "       False, False, False, False, False, False, False, False, False,\n",
              "       False, False, False, False, False, False, False, False, False,\n",
              "       False, False, False, False, False, False, False, False, False,\n",
              "       False, False, False, False, False, False, False, False, False,\n",
              "       False, False, False, False, False, False, False, False, False,\n",
              "       False, False, False, False, False, False, False, False, False,\n",
              "       False, False, False, False, False, False, False, False, False,\n",
              "       False, False, False, False, False, False, False, False, False,\n",
              "       False, False, False, False, False, False, False, False, False,\n",
              "        True,  True,  True,  True,  True,  True,  True,  True,  True,\n",
              "        True,  True,  True,  True,  True,  True,  True,  True,  True,\n",
              "       False, False, False, False, False, False, False, False, False,\n",
              "       False, False, False, False, False, False, False, False, False,\n",
              "       False, False, False, False, False, False, False, False, False,\n",
              "       False, False, False, False, False, False, False, False, False,\n",
              "       False, False, False, False, False, False, False, False, False,\n",
              "       False, False, False, False, False, False, False, False, False,\n",
              "       False, False, False, False, False, False, False, False, False,\n",
              "       False, False, False, False, False, False, False, False, False,\n",
              "       False, False, False, False, False, False, False, False, False,\n",
              "       False, False, False, False, False, False, False, False, False,\n",
              "       False, False, False, False, False, False, False, False, False,\n",
              "       False, False, False, False, False, False,  True,  True,  True,\n",
              "        True,  True,  True,  True,  True,  True, False, False, False,\n",
              "        True,  True,  True,  True,  True, False, False, False, False,\n",
              "       False, False, False, False, False, False, False, False, False,\n",
              "       False, False, False, False, False, False, False, False, False,\n",
              "       False, False, False, False, False, False, False, False, False,\n",
              "       False, False, False, False, False, False, False, False, False,\n",
              "       False, False, False, False, False, False, False, False, False,\n",
              "       False, False, False, False, False, False, False, False, False,\n",
              "       False, False, False, False, False, False, False, False, False,\n",
              "       False, False, False, False, False, False, False, False, False,\n",
              "       False, False, False, False, False, False, False, False, False,\n",
              "       False, False, False, False, False, False, False, False, False,\n",
              "       False, False, False, False, False, False, False, False, False,\n",
              "       False, False, False, False, False, False, False, False, False,\n",
              "       False, False, False, False, False, False, False, False, False,\n",
              "       False, False, False, False, False, False, False, False, False,\n",
              "       False, False, False, False, False, False, False, False, False,\n",
              "       False, False, False, False, False, False,  True,  True,  True,\n",
              "        True,  True,  True,  True,  True,  True,  True,  True,  True,\n",
              "        True,  True, False, False, False, False, False, False, False,\n",
              "       False, False, False, False, False, False, False, False, False,\n",
              "       False, False, False, False, False, False, False, False, False,\n",
              "       False, False, False, False, False, False, False, False, False,\n",
              "       False, False, False, False, False, False, False, False, False,\n",
              "       False, False, False, False, False, False, False, False, False,\n",
              "       False, False, False, False, False, False, False, False, False,\n",
              "       False, False, False, False, False, False, False, False, False,\n",
              "       False, False, False, False, False, False, False, False, False,\n",
              "        True,  True,  True,  True,  True,  True,  True,  True])"
            ]
          },
          "metadata": {},
          "execution_count": 54
        }
      ]
    },
    {
      "cell_type": "markdown",
      "source": [
        "##2. Encoding data"
      ],
      "metadata": {
        "id": "dxSRmCDb-tnJ"
      }
    },
    {
      "cell_type": "markdown",
      "source": [
        "As in Question 2, for ```Fail``` we only need to convert boolean values into integers:"
      ],
      "metadata": {
        "id": "YURmMxye-3YX"
      }
    },
    {
      "cell_type": "code",
      "source": [
        "Y_root_causes = Y_root_causes.astype(int)"
      ],
      "metadata": {
        "id": "cnrliFmo-2TG"
      },
      "execution_count": null,
      "outputs": []
    },
    {
      "cell_type": "markdown",
      "source": [
        "##3. Scaling values"
      ],
      "metadata": {
        "id": "Q4lieumu_mZY"
      }
    },
    {
      "cell_type": "markdown",
      "source": [
        "We scale the attributes by using a standard scaler:"
      ],
      "metadata": {
        "id": "Ems4lK-FVYhx"
      }
    },
    {
      "cell_type": "code",
      "source": [
        "scaler_root_causes = StandardScaler()\n",
        "X_root_causes = scaler_root_causes.fit_transform(X_root_causes)"
      ],
      "metadata": {
        "id": "YVZ-X43Y_pmx"
      },
      "execution_count": null,
      "outputs": []
    },
    {
      "cell_type": "code",
      "source": [
        "X_root_causes"
      ],
      "metadata": {
        "colab": {
          "base_uri": "https://localhost:8080/"
        },
        "id": "dnfKyfIqAkXL",
        "outputId": "f3c37a2a-73fa-4db8-b9a0-80e6eb68a38b"
      },
      "execution_count": null,
      "outputs": [
        {
          "output_type": "execute_result",
          "data": {
            "text/plain": [
              "array([[-0.98072205, -0.96487779, -0.87851368, -0.2434819 , -0.19447481,\n",
              "        -0.81524053],\n",
              "       [-0.3313544 , -0.48722696, -0.37982324,  0.24228998,  0.33708714,\n",
              "        -0.27453988],\n",
              "       [ 0.38259923,  0.12420126,  0.28137792,  0.77836401,  0.96736206,\n",
              "         0.43852394],\n",
              "       ...,\n",
              "       [ 0.41197816,  0.97093568, -0.40132129,  2.34696303,  2.06983154,\n",
              "         0.09031111],\n",
              "       [ 0.39563898,  2.49334127, -0.38761149,  2.96421448,  2.09676857,\n",
              "         0.40830674],\n",
              "       [ 0.45416878,  0.97119108,  1.51143196,  1.80115826,  0.6635572 ,\n",
              "         0.10433437]])"
            ]
          },
          "metadata": {},
          "execution_count": 57
        }
      ]
    },
    {
      "cell_type": "markdown",
      "source": [
        "##4. Splitting data"
      ],
      "metadata": {
        "id": "q_yd91lGFVC9"
      }
    },
    {
      "cell_type": "markdown",
      "source": [
        "We split the database into training set and test set:"
      ],
      "metadata": {
        "id": "47hT8kwdcY4E"
      }
    },
    {
      "cell_type": "code",
      "source": [
        "X_root_causes_training, X_root_causes_test, Y_root_causes_training, Y_root_causes_test = train_test_split(X_root_causes, \n",
        "                                                                                                          Y_root_causes, \n",
        "                                                                                                          test_size = 0.25,\n",
        "                                                                                                          random_state=0)"
      ],
      "metadata": {
        "id": "HO7yUhkutPjY"
      },
      "execution_count": null,
      "outputs": []
    },
    {
      "cell_type": "markdown",
      "source": [
        "##5. Testing models"
      ],
      "metadata": {
        "id": "zpWFsgCGc_Eu"
      }
    },
    {
      "cell_type": "markdown",
      "source": [
        "###5.1 Naive Bayes "
      ],
      "metadata": {
        "id": "YMhrBoCjE-O3"
      }
    },
    {
      "cell_type": "code",
      "source": [
        "naive_Bayes_root_causes = GaussianNB() # Creating a Naive Bayes classifier\n",
        "naive_Bayes_root_causes.fit(X_root_causes_training, Y_root_causes_training) # Training the classifier"
      ],
      "metadata": {
        "colab": {
          "base_uri": "https://localhost:8080/"
        },
        "id": "9wYtRl_etgQd",
        "outputId": "40671f45-81d6-431d-eb5a-77ef2a4c0d0e"
      },
      "execution_count": null,
      "outputs": [
        {
          "output_type": "execute_result",
          "data": {
            "text/plain": [
              "GaussianNB()"
            ],
            "text/html": [
              "<style>#sk-container-id-6 {color: black;background-color: white;}#sk-container-id-6 pre{padding: 0;}#sk-container-id-6 div.sk-toggleable {background-color: white;}#sk-container-id-6 label.sk-toggleable__label {cursor: pointer;display: block;width: 100%;margin-bottom: 0;padding: 0.3em;box-sizing: border-box;text-align: center;}#sk-container-id-6 label.sk-toggleable__label-arrow:before {content: \"▸\";float: left;margin-right: 0.25em;color: #696969;}#sk-container-id-6 label.sk-toggleable__label-arrow:hover:before {color: black;}#sk-container-id-6 div.sk-estimator:hover label.sk-toggleable__label-arrow:before {color: black;}#sk-container-id-6 div.sk-toggleable__content {max-height: 0;max-width: 0;overflow: hidden;text-align: left;background-color: #f0f8ff;}#sk-container-id-6 div.sk-toggleable__content pre {margin: 0.2em;color: black;border-radius: 0.25em;background-color: #f0f8ff;}#sk-container-id-6 input.sk-toggleable__control:checked~div.sk-toggleable__content {max-height: 200px;max-width: 100%;overflow: auto;}#sk-container-id-6 input.sk-toggleable__control:checked~label.sk-toggleable__label-arrow:before {content: \"▾\";}#sk-container-id-6 div.sk-estimator input.sk-toggleable__control:checked~label.sk-toggleable__label {background-color: #d4ebff;}#sk-container-id-6 div.sk-label input.sk-toggleable__control:checked~label.sk-toggleable__label {background-color: #d4ebff;}#sk-container-id-6 input.sk-hidden--visually {border: 0;clip: rect(1px 1px 1px 1px);clip: rect(1px, 1px, 1px, 1px);height: 1px;margin: -1px;overflow: hidden;padding: 0;position: absolute;width: 1px;}#sk-container-id-6 div.sk-estimator {font-family: monospace;background-color: #f0f8ff;border: 1px dotted black;border-radius: 0.25em;box-sizing: border-box;margin-bottom: 0.5em;}#sk-container-id-6 div.sk-estimator:hover {background-color: #d4ebff;}#sk-container-id-6 div.sk-parallel-item::after {content: \"\";width: 100%;border-bottom: 1px solid gray;flex-grow: 1;}#sk-container-id-6 div.sk-label:hover label.sk-toggleable__label {background-color: #d4ebff;}#sk-container-id-6 div.sk-serial::before {content: \"\";position: absolute;border-left: 1px solid gray;box-sizing: border-box;top: 0;bottom: 0;left: 50%;z-index: 0;}#sk-container-id-6 div.sk-serial {display: flex;flex-direction: column;align-items: center;background-color: white;padding-right: 0.2em;padding-left: 0.2em;position: relative;}#sk-container-id-6 div.sk-item {position: relative;z-index: 1;}#sk-container-id-6 div.sk-parallel {display: flex;align-items: stretch;justify-content: center;background-color: white;position: relative;}#sk-container-id-6 div.sk-item::before, #sk-container-id-6 div.sk-parallel-item::before {content: \"\";position: absolute;border-left: 1px solid gray;box-sizing: border-box;top: 0;bottom: 0;left: 50%;z-index: -1;}#sk-container-id-6 div.sk-parallel-item {display: flex;flex-direction: column;z-index: 1;position: relative;background-color: white;}#sk-container-id-6 div.sk-parallel-item:first-child::after {align-self: flex-end;width: 50%;}#sk-container-id-6 div.sk-parallel-item:last-child::after {align-self: flex-start;width: 50%;}#sk-container-id-6 div.sk-parallel-item:only-child::after {width: 0;}#sk-container-id-6 div.sk-dashed-wrapped {border: 1px dashed gray;margin: 0 0.4em 0.5em 0.4em;box-sizing: border-box;padding-bottom: 0.4em;background-color: white;}#sk-container-id-6 div.sk-label label {font-family: monospace;font-weight: bold;display: inline-block;line-height: 1.2em;}#sk-container-id-6 div.sk-label-container {text-align: center;}#sk-container-id-6 div.sk-container {/* jupyter's `normalize.less` sets `[hidden] { display: none; }` but bootstrap.min.css set `[hidden] { display: none !important; }` so we also need the `!important` here to be able to override the default hidden behavior on the sphinx rendered scikit-learn.org. See: https://github.com/scikit-learn/scikit-learn/issues/21755 */display: inline-block !important;position: relative;}#sk-container-id-6 div.sk-text-repr-fallback {display: none;}</style><div id=\"sk-container-id-6\" class=\"sk-top-container\"><div class=\"sk-text-repr-fallback\"><pre>GaussianNB()</pre><b>In a Jupyter environment, please rerun this cell to show the HTML representation or trust the notebook. <br />On GitHub, the HTML representation is unable to render, please try loading this page with nbviewer.org.</b></div><div class=\"sk-container\" hidden><div class=\"sk-item\"><div class=\"sk-estimator sk-toggleable\"><input class=\"sk-toggleable__control sk-hidden--visually\" id=\"sk-estimator-id-6\" type=\"checkbox\" checked><label for=\"sk-estimator-id-6\" class=\"sk-toggleable__label sk-toggleable__label-arrow\">GaussianNB</label><div class=\"sk-toggleable__content\"><pre>GaussianNB()</pre></div></div></div></div></div>"
            ]
          },
          "metadata": {},
          "execution_count": 59
        }
      ]
    },
    {
      "cell_type": "code",
      "source": [
        "predictions_naive_Bayes_root_causes = naive_Bayes_root_causes.predict(X_root_causes_test) # Predictions for the test set\n",
        "predictions_naive_Bayes_root_causes"
      ],
      "metadata": {
        "colab": {
          "base_uri": "https://localhost:8080/"
        },
        "id": "tibDgscJtv7P",
        "outputId": "c9e2c91d-6193-422c-936b-826e1839e282"
      },
      "execution_count": null,
      "outputs": [
        {
          "output_type": "execute_result",
          "data": {
            "text/plain": [
              "array([0, 0, 0, 0, 0, 0, 0, 0, 0, 0, 0, 0, 0, 1, 0, 0, 0, 0, 1, 0, 0, 0,\n",
              "       0, 0, 1, 0, 1, 0, 0, 0, 0, 0, 0, 0, 1, 0, 0, 0, 0, 0, 0, 1, 0, 0,\n",
              "       0, 0, 0, 0, 0, 0, 0, 0, 0, 0, 0, 0, 1, 0, 0, 0, 1, 1, 0, 0, 0, 0,\n",
              "       0, 0, 0, 0, 0, 1, 0, 0, 0, 0, 0, 0, 0, 1, 0, 0, 0, 1, 0, 0, 0, 0,\n",
              "       0, 0, 0, 0, 0, 0, 0, 1, 0, 0, 0, 0, 0, 1, 0, 0, 0, 0, 0, 0, 1, 0,\n",
              "       1, 0, 0, 0, 0, 0, 0, 0, 0, 0, 0, 0, 0, 1, 0, 0, 0, 0, 0, 1, 0, 0,\n",
              "       0, 1, 1, 0, 1, 0, 1, 0, 0, 0, 0, 0, 0, 1, 0, 1, 0, 0, 0, 0, 0, 0,\n",
              "       0, 0, 0, 0, 0, 0, 0, 0, 0, 0, 0, 0, 0, 0, 0, 0, 0, 0, 1, 0, 0, 1,\n",
              "       1, 0, 0, 0, 0, 0, 0, 0, 0, 1, 0, 0, 0, 0, 0, 0, 1, 0, 0, 0, 1, 0,\n",
              "       0, 0])"
            ]
          },
          "metadata": {},
          "execution_count": 60
        }
      ]
    },
    {
      "cell_type": "code",
      "source": [
        "accuracy_score(Y_root_causes_test, predictions_naive_Bayes_root_causes) # Accuracy score when comparing predictions to the test set "
      ],
      "metadata": {
        "colab": {
          "base_uri": "https://localhost:8080/"
        },
        "id": "OjcYPrvot9at",
        "outputId": "dbf5a2b1-4b99-4730-9421-942169771a60"
      },
      "execution_count": null,
      "outputs": [
        {
          "output_type": "execute_result",
          "data": {
            "text/plain": [
              "0.925"
            ]
          },
          "metadata": {},
          "execution_count": 61
        }
      ]
    },
    {
      "cell_type": "markdown",
      "source": [
        "###5.2 Decision Tree"
      ],
      "metadata": {
        "id": "URqirN_KLboO"
      }
    },
    {
      "cell_type": "code",
      "source": [
        "decision_tree_root_causes = DecisionTreeClassifier(criterion='entropy',\n",
        "                                             random_state=0) # Creating decision tree classifier"
      ],
      "metadata": {
        "id": "_GEW-m5Wu0qJ"
      },
      "execution_count": null,
      "outputs": []
    },
    {
      "cell_type": "code",
      "source": [
        "decision_tree_root_causes.fit(X_root_causes_training, Y_root_causes_training) # Training the classifier"
      ],
      "metadata": {
        "colab": {
          "base_uri": "https://localhost:8080/"
        },
        "id": "CaC-xga6u7qS",
        "outputId": "003e72d3-9f91-42c1-af78-c987f7f7444a"
      },
      "execution_count": null,
      "outputs": [
        {
          "output_type": "execute_result",
          "data": {
            "text/plain": [
              "DecisionTreeClassifier(criterion='entropy', random_state=0)"
            ],
            "text/html": [
              "<style>#sk-container-id-7 {color: black;background-color: white;}#sk-container-id-7 pre{padding: 0;}#sk-container-id-7 div.sk-toggleable {background-color: white;}#sk-container-id-7 label.sk-toggleable__label {cursor: pointer;display: block;width: 100%;margin-bottom: 0;padding: 0.3em;box-sizing: border-box;text-align: center;}#sk-container-id-7 label.sk-toggleable__label-arrow:before {content: \"▸\";float: left;margin-right: 0.25em;color: #696969;}#sk-container-id-7 label.sk-toggleable__label-arrow:hover:before {color: black;}#sk-container-id-7 div.sk-estimator:hover label.sk-toggleable__label-arrow:before {color: black;}#sk-container-id-7 div.sk-toggleable__content {max-height: 0;max-width: 0;overflow: hidden;text-align: left;background-color: #f0f8ff;}#sk-container-id-7 div.sk-toggleable__content pre {margin: 0.2em;color: black;border-radius: 0.25em;background-color: #f0f8ff;}#sk-container-id-7 input.sk-toggleable__control:checked~div.sk-toggleable__content {max-height: 200px;max-width: 100%;overflow: auto;}#sk-container-id-7 input.sk-toggleable__control:checked~label.sk-toggleable__label-arrow:before {content: \"▾\";}#sk-container-id-7 div.sk-estimator input.sk-toggleable__control:checked~label.sk-toggleable__label {background-color: #d4ebff;}#sk-container-id-7 div.sk-label input.sk-toggleable__control:checked~label.sk-toggleable__label {background-color: #d4ebff;}#sk-container-id-7 input.sk-hidden--visually {border: 0;clip: rect(1px 1px 1px 1px);clip: rect(1px, 1px, 1px, 1px);height: 1px;margin: -1px;overflow: hidden;padding: 0;position: absolute;width: 1px;}#sk-container-id-7 div.sk-estimator {font-family: monospace;background-color: #f0f8ff;border: 1px dotted black;border-radius: 0.25em;box-sizing: border-box;margin-bottom: 0.5em;}#sk-container-id-7 div.sk-estimator:hover {background-color: #d4ebff;}#sk-container-id-7 div.sk-parallel-item::after {content: \"\";width: 100%;border-bottom: 1px solid gray;flex-grow: 1;}#sk-container-id-7 div.sk-label:hover label.sk-toggleable__label {background-color: #d4ebff;}#sk-container-id-7 div.sk-serial::before {content: \"\";position: absolute;border-left: 1px solid gray;box-sizing: border-box;top: 0;bottom: 0;left: 50%;z-index: 0;}#sk-container-id-7 div.sk-serial {display: flex;flex-direction: column;align-items: center;background-color: white;padding-right: 0.2em;padding-left: 0.2em;position: relative;}#sk-container-id-7 div.sk-item {position: relative;z-index: 1;}#sk-container-id-7 div.sk-parallel {display: flex;align-items: stretch;justify-content: center;background-color: white;position: relative;}#sk-container-id-7 div.sk-item::before, #sk-container-id-7 div.sk-parallel-item::before {content: \"\";position: absolute;border-left: 1px solid gray;box-sizing: border-box;top: 0;bottom: 0;left: 50%;z-index: -1;}#sk-container-id-7 div.sk-parallel-item {display: flex;flex-direction: column;z-index: 1;position: relative;background-color: white;}#sk-container-id-7 div.sk-parallel-item:first-child::after {align-self: flex-end;width: 50%;}#sk-container-id-7 div.sk-parallel-item:last-child::after {align-self: flex-start;width: 50%;}#sk-container-id-7 div.sk-parallel-item:only-child::after {width: 0;}#sk-container-id-7 div.sk-dashed-wrapped {border: 1px dashed gray;margin: 0 0.4em 0.5em 0.4em;box-sizing: border-box;padding-bottom: 0.4em;background-color: white;}#sk-container-id-7 div.sk-label label {font-family: monospace;font-weight: bold;display: inline-block;line-height: 1.2em;}#sk-container-id-7 div.sk-label-container {text-align: center;}#sk-container-id-7 div.sk-container {/* jupyter's `normalize.less` sets `[hidden] { display: none; }` but bootstrap.min.css set `[hidden] { display: none !important; }` so we also need the `!important` here to be able to override the default hidden behavior on the sphinx rendered scikit-learn.org. See: https://github.com/scikit-learn/scikit-learn/issues/21755 */display: inline-block !important;position: relative;}#sk-container-id-7 div.sk-text-repr-fallback {display: none;}</style><div id=\"sk-container-id-7\" class=\"sk-top-container\"><div class=\"sk-text-repr-fallback\"><pre>DecisionTreeClassifier(criterion=&#x27;entropy&#x27;, random_state=0)</pre><b>In a Jupyter environment, please rerun this cell to show the HTML representation or trust the notebook. <br />On GitHub, the HTML representation is unable to render, please try loading this page with nbviewer.org.</b></div><div class=\"sk-container\" hidden><div class=\"sk-item\"><div class=\"sk-estimator sk-toggleable\"><input class=\"sk-toggleable__control sk-hidden--visually\" id=\"sk-estimator-id-7\" type=\"checkbox\" checked><label for=\"sk-estimator-id-7\" class=\"sk-toggleable__label sk-toggleable__label-arrow\">DecisionTreeClassifier</label><div class=\"sk-toggleable__content\"><pre>DecisionTreeClassifier(criterion=&#x27;entropy&#x27;, random_state=0)</pre></div></div></div></div></div>"
            ]
          },
          "metadata": {},
          "execution_count": 63
        }
      ]
    },
    {
      "cell_type": "code",
      "source": [
        "predictions_decision_tree_root_causes = decision_tree_root_causes.predict(X_root_causes_test) # Predictions for the test set"
      ],
      "metadata": {
        "id": "XVtSvFcuvI8Q"
      },
      "execution_count": null,
      "outputs": []
    },
    {
      "cell_type": "code",
      "source": [
        "accuracy_score(Y_root_causes_test, predictions_decision_tree_root_causes) # Accuracy score when comparing predictions to the test set "
      ],
      "metadata": {
        "colab": {
          "base_uri": "https://localhost:8080/"
        },
        "id": "FA8BYhKMvYIK",
        "outputId": "1a900887-0e25-4227-fb6b-928891be7d73"
      },
      "execution_count": null,
      "outputs": [
        {
          "output_type": "execute_result",
          "data": {
            "text/plain": [
              "0.915"
            ]
          },
          "metadata": {},
          "execution_count": 65
        }
      ]
    },
    {
      "cell_type": "markdown",
      "source": [
        "###5.3 KNN"
      ],
      "metadata": {
        "id": "l34zeJgTnAUB"
      }
    },
    {
      "cell_type": "code",
      "source": [
        "knn_root_causes = KNeighborsClassifier(n_neighbors=5, metric='minkowski', p=2) # Creating a KNN classifier"
      ],
      "metadata": {
        "id": "C7CjUmqFxFp5"
      },
      "execution_count": null,
      "outputs": []
    },
    {
      "cell_type": "code",
      "source": [
        "knn_root_causes.fit(X_root_causes_training, Y_root_causes_training) # Training the classifier"
      ],
      "metadata": {
        "colab": {
          "base_uri": "https://localhost:8080/"
        },
        "id": "1w2vbU3GwaIE",
        "outputId": "c23d32a2-9c2c-4ce8-9fc0-dfee5e7eccd1"
      },
      "execution_count": null,
      "outputs": [
        {
          "output_type": "execute_result",
          "data": {
            "text/plain": [
              "KNeighborsClassifier()"
            ],
            "text/html": [
              "<style>#sk-container-id-8 {color: black;background-color: white;}#sk-container-id-8 pre{padding: 0;}#sk-container-id-8 div.sk-toggleable {background-color: white;}#sk-container-id-8 label.sk-toggleable__label {cursor: pointer;display: block;width: 100%;margin-bottom: 0;padding: 0.3em;box-sizing: border-box;text-align: center;}#sk-container-id-8 label.sk-toggleable__label-arrow:before {content: \"▸\";float: left;margin-right: 0.25em;color: #696969;}#sk-container-id-8 label.sk-toggleable__label-arrow:hover:before {color: black;}#sk-container-id-8 div.sk-estimator:hover label.sk-toggleable__label-arrow:before {color: black;}#sk-container-id-8 div.sk-toggleable__content {max-height: 0;max-width: 0;overflow: hidden;text-align: left;background-color: #f0f8ff;}#sk-container-id-8 div.sk-toggleable__content pre {margin: 0.2em;color: black;border-radius: 0.25em;background-color: #f0f8ff;}#sk-container-id-8 input.sk-toggleable__control:checked~div.sk-toggleable__content {max-height: 200px;max-width: 100%;overflow: auto;}#sk-container-id-8 input.sk-toggleable__control:checked~label.sk-toggleable__label-arrow:before {content: \"▾\";}#sk-container-id-8 div.sk-estimator input.sk-toggleable__control:checked~label.sk-toggleable__label {background-color: #d4ebff;}#sk-container-id-8 div.sk-label input.sk-toggleable__control:checked~label.sk-toggleable__label {background-color: #d4ebff;}#sk-container-id-8 input.sk-hidden--visually {border: 0;clip: rect(1px 1px 1px 1px);clip: rect(1px, 1px, 1px, 1px);height: 1px;margin: -1px;overflow: hidden;padding: 0;position: absolute;width: 1px;}#sk-container-id-8 div.sk-estimator {font-family: monospace;background-color: #f0f8ff;border: 1px dotted black;border-radius: 0.25em;box-sizing: border-box;margin-bottom: 0.5em;}#sk-container-id-8 div.sk-estimator:hover {background-color: #d4ebff;}#sk-container-id-8 div.sk-parallel-item::after {content: \"\";width: 100%;border-bottom: 1px solid gray;flex-grow: 1;}#sk-container-id-8 div.sk-label:hover label.sk-toggleable__label {background-color: #d4ebff;}#sk-container-id-8 div.sk-serial::before {content: \"\";position: absolute;border-left: 1px solid gray;box-sizing: border-box;top: 0;bottom: 0;left: 50%;z-index: 0;}#sk-container-id-8 div.sk-serial {display: flex;flex-direction: column;align-items: center;background-color: white;padding-right: 0.2em;padding-left: 0.2em;position: relative;}#sk-container-id-8 div.sk-item {position: relative;z-index: 1;}#sk-container-id-8 div.sk-parallel {display: flex;align-items: stretch;justify-content: center;background-color: white;position: relative;}#sk-container-id-8 div.sk-item::before, #sk-container-id-8 div.sk-parallel-item::before {content: \"\";position: absolute;border-left: 1px solid gray;box-sizing: border-box;top: 0;bottom: 0;left: 50%;z-index: -1;}#sk-container-id-8 div.sk-parallel-item {display: flex;flex-direction: column;z-index: 1;position: relative;background-color: white;}#sk-container-id-8 div.sk-parallel-item:first-child::after {align-self: flex-end;width: 50%;}#sk-container-id-8 div.sk-parallel-item:last-child::after {align-self: flex-start;width: 50%;}#sk-container-id-8 div.sk-parallel-item:only-child::after {width: 0;}#sk-container-id-8 div.sk-dashed-wrapped {border: 1px dashed gray;margin: 0 0.4em 0.5em 0.4em;box-sizing: border-box;padding-bottom: 0.4em;background-color: white;}#sk-container-id-8 div.sk-label label {font-family: monospace;font-weight: bold;display: inline-block;line-height: 1.2em;}#sk-container-id-8 div.sk-label-container {text-align: center;}#sk-container-id-8 div.sk-container {/* jupyter's `normalize.less` sets `[hidden] { display: none; }` but bootstrap.min.css set `[hidden] { display: none !important; }` so we also need the `!important` here to be able to override the default hidden behavior on the sphinx rendered scikit-learn.org. See: https://github.com/scikit-learn/scikit-learn/issues/21755 */display: inline-block !important;position: relative;}#sk-container-id-8 div.sk-text-repr-fallback {display: none;}</style><div id=\"sk-container-id-8\" class=\"sk-top-container\"><div class=\"sk-text-repr-fallback\"><pre>KNeighborsClassifier()</pre><b>In a Jupyter environment, please rerun this cell to show the HTML representation or trust the notebook. <br />On GitHub, the HTML representation is unable to render, please try loading this page with nbviewer.org.</b></div><div class=\"sk-container\" hidden><div class=\"sk-item\"><div class=\"sk-estimator sk-toggleable\"><input class=\"sk-toggleable__control sk-hidden--visually\" id=\"sk-estimator-id-8\" type=\"checkbox\" checked><label for=\"sk-estimator-id-8\" class=\"sk-toggleable__label sk-toggleable__label-arrow\">KNeighborsClassifier</label><div class=\"sk-toggleable__content\"><pre>KNeighborsClassifier()</pre></div></div></div></div></div>"
            ]
          },
          "metadata": {},
          "execution_count": 67
        }
      ]
    },
    {
      "cell_type": "code",
      "source": [
        "predictions_knn_root_causes = knn_root_causes.predict(X_root_causes_test) # Predictions for the test set\n",
        "predictions_knn_root_causes"
      ],
      "metadata": {
        "colab": {
          "base_uri": "https://localhost:8080/"
        },
        "id": "u9Vsa5aSwhk4",
        "outputId": "19522bec-ff6f-4c6c-f439-c1f36f90dec2"
      },
      "execution_count": null,
      "outputs": [
        {
          "output_type": "execute_result",
          "data": {
            "text/plain": [
              "array([0, 0, 0, 0, 0, 0, 0, 0, 0, 0, 0, 0, 0, 1, 0, 0, 0, 0, 0, 0, 0, 0,\n",
              "       0, 0, 0, 0, 0, 0, 0, 0, 0, 0, 0, 0, 0, 0, 0, 0, 0, 0, 0, 1, 0, 0,\n",
              "       0, 0, 0, 0, 0, 0, 0, 0, 0, 0, 0, 0, 0, 0, 0, 0, 0, 1, 0, 0, 0, 0,\n",
              "       0, 0, 0, 0, 0, 0, 0, 0, 0, 0, 0, 0, 0, 1, 0, 0, 0, 0, 0, 0, 0, 0,\n",
              "       0, 0, 0, 0, 0, 0, 0, 0, 0, 0, 0, 0, 0, 1, 0, 0, 0, 0, 0, 0, 0, 0,\n",
              "       1, 0, 0, 0, 0, 0, 0, 0, 0, 0, 0, 0, 0, 0, 0, 0, 0, 0, 0, 0, 0, 0,\n",
              "       0, 1, 1, 0, 1, 0, 0, 0, 0, 0, 0, 0, 0, 1, 0, 0, 0, 0, 0, 0, 0, 0,\n",
              "       0, 0, 0, 0, 0, 0, 0, 0, 0, 0, 0, 0, 0, 0, 0, 0, 0, 0, 0, 0, 0, 1,\n",
              "       0, 0, 0, 0, 0, 0, 0, 0, 0, 0, 0, 0, 0, 0, 0, 0, 0, 0, 0, 0, 0, 0,\n",
              "       0, 0])"
            ]
          },
          "metadata": {},
          "execution_count": 68
        }
      ]
    },
    {
      "cell_type": "code",
      "source": [
        "accuracy_score(Y_root_causes_test, predictions_knn_root_causes) # Accuracy score when comparing predictions to the test set "
      ],
      "metadata": {
        "colab": {
          "base_uri": "https://localhost:8080/"
        },
        "id": "0WpbC0hawoaj",
        "outputId": "b5e15b0c-4876-439d-a1c0-6857c0c4f95b"
      },
      "execution_count": null,
      "outputs": [
        {
          "output_type": "execute_result",
          "data": {
            "text/plain": [
              "0.93"
            ]
          },
          "metadata": {},
          "execution_count": 69
        }
      ]
    },
    {
      "cell_type": "markdown",
      "source": [
        "###5.4 Logistic regression"
      ],
      "metadata": {
        "id": "jpN4tXE9oiUm"
      }
    },
    {
      "cell_type": "code",
      "source": [
        "logistic_regression_root_causes = LogisticRegression(random_state=1, C=8) # Creating a logistic regression classifier\n",
        "logistic_regression_root_causes.fit(X_root_causes_training, Y_root_causes_training) # Training the classifier"
      ],
      "metadata": {
        "colab": {
          "base_uri": "https://localhost:8080/"
        },
        "id": "FFiF5J_5xbPK",
        "outputId": "71c2b91c-05a4-4eac-a85c-39cf63879f61"
      },
      "execution_count": null,
      "outputs": [
        {
          "output_type": "execute_result",
          "data": {
            "text/plain": [
              "LogisticRegression(C=8, random_state=1)"
            ],
            "text/html": [
              "<style>#sk-container-id-9 {color: black;background-color: white;}#sk-container-id-9 pre{padding: 0;}#sk-container-id-9 div.sk-toggleable {background-color: white;}#sk-container-id-9 label.sk-toggleable__label {cursor: pointer;display: block;width: 100%;margin-bottom: 0;padding: 0.3em;box-sizing: border-box;text-align: center;}#sk-container-id-9 label.sk-toggleable__label-arrow:before {content: \"▸\";float: left;margin-right: 0.25em;color: #696969;}#sk-container-id-9 label.sk-toggleable__label-arrow:hover:before {color: black;}#sk-container-id-9 div.sk-estimator:hover label.sk-toggleable__label-arrow:before {color: black;}#sk-container-id-9 div.sk-toggleable__content {max-height: 0;max-width: 0;overflow: hidden;text-align: left;background-color: #f0f8ff;}#sk-container-id-9 div.sk-toggleable__content pre {margin: 0.2em;color: black;border-radius: 0.25em;background-color: #f0f8ff;}#sk-container-id-9 input.sk-toggleable__control:checked~div.sk-toggleable__content {max-height: 200px;max-width: 100%;overflow: auto;}#sk-container-id-9 input.sk-toggleable__control:checked~label.sk-toggleable__label-arrow:before {content: \"▾\";}#sk-container-id-9 div.sk-estimator input.sk-toggleable__control:checked~label.sk-toggleable__label {background-color: #d4ebff;}#sk-container-id-9 div.sk-label input.sk-toggleable__control:checked~label.sk-toggleable__label {background-color: #d4ebff;}#sk-container-id-9 input.sk-hidden--visually {border: 0;clip: rect(1px 1px 1px 1px);clip: rect(1px, 1px, 1px, 1px);height: 1px;margin: -1px;overflow: hidden;padding: 0;position: absolute;width: 1px;}#sk-container-id-9 div.sk-estimator {font-family: monospace;background-color: #f0f8ff;border: 1px dotted black;border-radius: 0.25em;box-sizing: border-box;margin-bottom: 0.5em;}#sk-container-id-9 div.sk-estimator:hover {background-color: #d4ebff;}#sk-container-id-9 div.sk-parallel-item::after {content: \"\";width: 100%;border-bottom: 1px solid gray;flex-grow: 1;}#sk-container-id-9 div.sk-label:hover label.sk-toggleable__label {background-color: #d4ebff;}#sk-container-id-9 div.sk-serial::before {content: \"\";position: absolute;border-left: 1px solid gray;box-sizing: border-box;top: 0;bottom: 0;left: 50%;z-index: 0;}#sk-container-id-9 div.sk-serial {display: flex;flex-direction: column;align-items: center;background-color: white;padding-right: 0.2em;padding-left: 0.2em;position: relative;}#sk-container-id-9 div.sk-item {position: relative;z-index: 1;}#sk-container-id-9 div.sk-parallel {display: flex;align-items: stretch;justify-content: center;background-color: white;position: relative;}#sk-container-id-9 div.sk-item::before, #sk-container-id-9 div.sk-parallel-item::before {content: \"\";position: absolute;border-left: 1px solid gray;box-sizing: border-box;top: 0;bottom: 0;left: 50%;z-index: -1;}#sk-container-id-9 div.sk-parallel-item {display: flex;flex-direction: column;z-index: 1;position: relative;background-color: white;}#sk-container-id-9 div.sk-parallel-item:first-child::after {align-self: flex-end;width: 50%;}#sk-container-id-9 div.sk-parallel-item:last-child::after {align-self: flex-start;width: 50%;}#sk-container-id-9 div.sk-parallel-item:only-child::after {width: 0;}#sk-container-id-9 div.sk-dashed-wrapped {border: 1px dashed gray;margin: 0 0.4em 0.5em 0.4em;box-sizing: border-box;padding-bottom: 0.4em;background-color: white;}#sk-container-id-9 div.sk-label label {font-family: monospace;font-weight: bold;display: inline-block;line-height: 1.2em;}#sk-container-id-9 div.sk-label-container {text-align: center;}#sk-container-id-9 div.sk-container {/* jupyter's `normalize.less` sets `[hidden] { display: none; }` but bootstrap.min.css set `[hidden] { display: none !important; }` so we also need the `!important` here to be able to override the default hidden behavior on the sphinx rendered scikit-learn.org. See: https://github.com/scikit-learn/scikit-learn/issues/21755 */display: inline-block !important;position: relative;}#sk-container-id-9 div.sk-text-repr-fallback {display: none;}</style><div id=\"sk-container-id-9\" class=\"sk-top-container\"><div class=\"sk-text-repr-fallback\"><pre>LogisticRegression(C=8, random_state=1)</pre><b>In a Jupyter environment, please rerun this cell to show the HTML representation or trust the notebook. <br />On GitHub, the HTML representation is unable to render, please try loading this page with nbviewer.org.</b></div><div class=\"sk-container\" hidden><div class=\"sk-item\"><div class=\"sk-estimator sk-toggleable\"><input class=\"sk-toggleable__control sk-hidden--visually\" id=\"sk-estimator-id-9\" type=\"checkbox\" checked><label for=\"sk-estimator-id-9\" class=\"sk-toggleable__label sk-toggleable__label-arrow\">LogisticRegression</label><div class=\"sk-toggleable__content\"><pre>LogisticRegression(C=8, random_state=1)</pre></div></div></div></div></div>"
            ]
          },
          "metadata": {},
          "execution_count": 70
        }
      ]
    },
    {
      "cell_type": "code",
      "source": [
        "predictions_regression_root_causes = logistic_regression_root_causes.predict(X_root_causes_test) # Predictions for the test set\n",
        "predictions_regression_root_causes"
      ],
      "metadata": {
        "colab": {
          "base_uri": "https://localhost:8080/"
        },
        "id": "0a7xN6bHxmJm",
        "outputId": "32394cf5-99b0-4275-f926-6cb8507903b2"
      },
      "execution_count": null,
      "outputs": [
        {
          "output_type": "execute_result",
          "data": {
            "text/plain": [
              "array([0, 0, 0, 0, 0, 0, 0, 0, 0, 0, 0, 0, 0, 0, 0, 0, 0, 0, 1, 0, 0, 0,\n",
              "       0, 0, 0, 0, 0, 0, 0, 0, 0, 0, 0, 0, 0, 0, 0, 0, 0, 0, 0, 1, 0, 0,\n",
              "       0, 0, 0, 0, 0, 0, 0, 0, 0, 0, 0, 0, 0, 0, 0, 0, 0, 1, 0, 0, 0, 0,\n",
              "       0, 0, 0, 0, 0, 0, 0, 0, 0, 0, 0, 0, 0, 0, 0, 0, 0, 0, 0, 0, 0, 0,\n",
              "       0, 0, 0, 0, 0, 0, 0, 1, 0, 0, 0, 0, 0, 0, 0, 0, 0, 0, 0, 0, 0, 0,\n",
              "       1, 0, 0, 0, 0, 0, 0, 0, 0, 0, 0, 0, 0, 1, 0, 0, 0, 0, 0, 0, 0, 0,\n",
              "       0, 1, 1, 0, 0, 0, 0, 0, 0, 0, 0, 0, 0, 1, 0, 1, 0, 0, 0, 0, 0, 0,\n",
              "       0, 0, 0, 0, 0, 0, 0, 0, 0, 0, 0, 0, 0, 0, 0, 0, 0, 0, 0, 0, 0, 1,\n",
              "       0, 0, 0, 0, 0, 0, 0, 0, 0, 1, 0, 0, 0, 0, 0, 0, 1, 0, 0, 0, 0, 0,\n",
              "       0, 0])"
            ]
          },
          "metadata": {},
          "execution_count": 71
        }
      ]
    },
    {
      "cell_type": "code",
      "source": [
        "accuracy_score(Y_root_causes_test, predictions_regression_root_causes) # Accuracy score when comparing predictions to the test set "
      ],
      "metadata": {
        "colab": {
          "base_uri": "https://localhost:8080/"
        },
        "id": "vrb5hYn8xzRa",
        "outputId": "d6201c14-f669-455b-d649-4fe0a54743b5"
      },
      "execution_count": null,
      "outputs": [
        {
          "output_type": "execute_result",
          "data": {
            "text/plain": [
              "0.94"
            ]
          },
          "metadata": {},
          "execution_count": 72
        }
      ]
    },
    {
      "cell_type": "markdown",
      "source": [
        "###5.5 SVM"
      ],
      "metadata": {
        "id": "z8l19eEFZ_UM"
      }
    },
    {
      "cell_type": "code",
      "source": [
        "svm_root_causes = SVC(kernel='rbf', random_state=1, C=8) # Creating an SVM classifier\n",
        "svm_root_causes.fit(X_root_causes_training, Y_root_causes_training) # Training the classifier"
      ],
      "metadata": {
        "colab": {
          "base_uri": "https://localhost:8080/"
        },
        "id": "1RKJ3juiaA8k",
        "outputId": "a0277b11-516a-4ca5-b829-1be7bccb2de6"
      },
      "execution_count": null,
      "outputs": [
        {
          "output_type": "execute_result",
          "data": {
            "text/plain": [
              "SVC(C=8, random_state=1)"
            ],
            "text/html": [
              "<style>#sk-container-id-10 {color: black;background-color: white;}#sk-container-id-10 pre{padding: 0;}#sk-container-id-10 div.sk-toggleable {background-color: white;}#sk-container-id-10 label.sk-toggleable__label {cursor: pointer;display: block;width: 100%;margin-bottom: 0;padding: 0.3em;box-sizing: border-box;text-align: center;}#sk-container-id-10 label.sk-toggleable__label-arrow:before {content: \"▸\";float: left;margin-right: 0.25em;color: #696969;}#sk-container-id-10 label.sk-toggleable__label-arrow:hover:before {color: black;}#sk-container-id-10 div.sk-estimator:hover label.sk-toggleable__label-arrow:before {color: black;}#sk-container-id-10 div.sk-toggleable__content {max-height: 0;max-width: 0;overflow: hidden;text-align: left;background-color: #f0f8ff;}#sk-container-id-10 div.sk-toggleable__content pre {margin: 0.2em;color: black;border-radius: 0.25em;background-color: #f0f8ff;}#sk-container-id-10 input.sk-toggleable__control:checked~div.sk-toggleable__content {max-height: 200px;max-width: 100%;overflow: auto;}#sk-container-id-10 input.sk-toggleable__control:checked~label.sk-toggleable__label-arrow:before {content: \"▾\";}#sk-container-id-10 div.sk-estimator input.sk-toggleable__control:checked~label.sk-toggleable__label {background-color: #d4ebff;}#sk-container-id-10 div.sk-label input.sk-toggleable__control:checked~label.sk-toggleable__label {background-color: #d4ebff;}#sk-container-id-10 input.sk-hidden--visually {border: 0;clip: rect(1px 1px 1px 1px);clip: rect(1px, 1px, 1px, 1px);height: 1px;margin: -1px;overflow: hidden;padding: 0;position: absolute;width: 1px;}#sk-container-id-10 div.sk-estimator {font-family: monospace;background-color: #f0f8ff;border: 1px dotted black;border-radius: 0.25em;box-sizing: border-box;margin-bottom: 0.5em;}#sk-container-id-10 div.sk-estimator:hover {background-color: #d4ebff;}#sk-container-id-10 div.sk-parallel-item::after {content: \"\";width: 100%;border-bottom: 1px solid gray;flex-grow: 1;}#sk-container-id-10 div.sk-label:hover label.sk-toggleable__label {background-color: #d4ebff;}#sk-container-id-10 div.sk-serial::before {content: \"\";position: absolute;border-left: 1px solid gray;box-sizing: border-box;top: 0;bottom: 0;left: 50%;z-index: 0;}#sk-container-id-10 div.sk-serial {display: flex;flex-direction: column;align-items: center;background-color: white;padding-right: 0.2em;padding-left: 0.2em;position: relative;}#sk-container-id-10 div.sk-item {position: relative;z-index: 1;}#sk-container-id-10 div.sk-parallel {display: flex;align-items: stretch;justify-content: center;background-color: white;position: relative;}#sk-container-id-10 div.sk-item::before, #sk-container-id-10 div.sk-parallel-item::before {content: \"\";position: absolute;border-left: 1px solid gray;box-sizing: border-box;top: 0;bottom: 0;left: 50%;z-index: -1;}#sk-container-id-10 div.sk-parallel-item {display: flex;flex-direction: column;z-index: 1;position: relative;background-color: white;}#sk-container-id-10 div.sk-parallel-item:first-child::after {align-self: flex-end;width: 50%;}#sk-container-id-10 div.sk-parallel-item:last-child::after {align-self: flex-start;width: 50%;}#sk-container-id-10 div.sk-parallel-item:only-child::after {width: 0;}#sk-container-id-10 div.sk-dashed-wrapped {border: 1px dashed gray;margin: 0 0.4em 0.5em 0.4em;box-sizing: border-box;padding-bottom: 0.4em;background-color: white;}#sk-container-id-10 div.sk-label label {font-family: monospace;font-weight: bold;display: inline-block;line-height: 1.2em;}#sk-container-id-10 div.sk-label-container {text-align: center;}#sk-container-id-10 div.sk-container {/* jupyter's `normalize.less` sets `[hidden] { display: none; }` but bootstrap.min.css set `[hidden] { display: none !important; }` so we also need the `!important` here to be able to override the default hidden behavior on the sphinx rendered scikit-learn.org. See: https://github.com/scikit-learn/scikit-learn/issues/21755 */display: inline-block !important;position: relative;}#sk-container-id-10 div.sk-text-repr-fallback {display: none;}</style><div id=\"sk-container-id-10\" class=\"sk-top-container\"><div class=\"sk-text-repr-fallback\"><pre>SVC(C=8, random_state=1)</pre><b>In a Jupyter environment, please rerun this cell to show the HTML representation or trust the notebook. <br />On GitHub, the HTML representation is unable to render, please try loading this page with nbviewer.org.</b></div><div class=\"sk-container\" hidden><div class=\"sk-item\"><div class=\"sk-estimator sk-toggleable\"><input class=\"sk-toggleable__control sk-hidden--visually\" id=\"sk-estimator-id-10\" type=\"checkbox\" checked><label for=\"sk-estimator-id-10\" class=\"sk-toggleable__label sk-toggleable__label-arrow\">SVC</label><div class=\"sk-toggleable__content\"><pre>SVC(C=8, random_state=1)</pre></div></div></div></div></div>"
            ]
          },
          "metadata": {},
          "execution_count": 73
        }
      ]
    },
    {
      "cell_type": "code",
      "source": [
        "predictions_svm_root_causes = svm_root_causes.predict(X_root_causes_test) # Predictions for the test set"
      ],
      "metadata": {
        "id": "bxAk64Qha4Bk"
      },
      "execution_count": null,
      "outputs": []
    },
    {
      "cell_type": "code",
      "source": [
        "accuracy_score(Y_root_causes_test, predictions_svm_root_causes) # Accuracy score when comparing predictions to the test set "
      ],
      "metadata": {
        "colab": {
          "base_uri": "https://localhost:8080/"
        },
        "id": "40sRBxjPbDiJ",
        "outputId": "ea259558-ee4a-47d7-adbc-54940297a599"
      },
      "execution_count": null,
      "outputs": [
        {
          "output_type": "execute_result",
          "data": {
            "text/plain": [
              "0.955"
            ]
          },
          "metadata": {},
          "execution_count": 75
        }
      ]
    },
    {
      "cell_type": "markdown",
      "source": [
        "##6. Conclusion"
      ],
      "metadata": {
        "id": "pBCPstDqgPPW"
      }
    },
    {
      "cell_type": "markdown",
      "source": [
        "- As noted in the answer to Question 1, we must find a model with more than $91.75\\%$ accuracy in order to surpass the trivial model (which predicts no failure in all cases).\n",
        "- Among the five tested models using root causes as predictors, the only one with accuracy smaller than $91.75\\%$ was the decision tree model ($91.5\\%$ accuracy).\n",
        "- The other four tested models were, in decreasing order of accuracy:\n",
        " * SVM: $95.5\\%$\n",
        " * Logistic regression: $94\\%$\n",
        " * KNN: $93\\%$  \n",
        " * Naive Bayes: $92.5\\%$\n",
        "- We conclude that the root cause variables can be good predictors for equipment failure.\n"
      ],
      "metadata": {
        "id": "5hShx-dRggI-"
      }
    },
    {
      "cell_type": "markdown",
      "source": [
        "#Question 4"
      ],
      "metadata": {
        "id": "xsn0W2ZxC_vC"
      }
    },
    {
      "cell_type": "markdown",
      "source": [
        "We create a model to predict equipment failure based on the models we have tested so far. "
      ],
      "metadata": {
        "id": "uDs9foK0zTxl"
      }
    },
    {
      "cell_type": "markdown",
      "source": [
        "__Initial remarks:__\n",
        "- As discussed in Question 2, the models using setup variables as predictors turned out to be insufficient.\n",
        "- For this reason we will _not_ use ```Preset_1```, ```Preset_2``` as predictors in our model.\n",
        "- Instead we combine the models (using root cause variables) with high enough accuracy (i.e. greater than $91.75\\%$) from Question 3, namely, SVM, logistic regression, KNN and Naive Bayes.\n",
        "- This combination consists of a weightet average, where the weights are the accuracy score of each model."
      ],
      "metadata": {
        "id": "w0_vFlJ8zllS"
      }
    },
    {
      "cell_type": "markdown",
      "source": [
        "__Wheighted average__: We explain how the wheighted average strategy works. \n",
        "\n",
        "Let the accuracy scores of the models (in our case, SVM, logostic regression, KNN and Naive Bayes) be given by $a_1, a_2,..., a_n$. \n",
        "\n",
        "Suppose we want to predict equipment falure for a given cycle. Let $P_1, P_2,... P_n$ be the predictions of the respective models (each $P_i$ is either $0$ or $1$). Their weighted average is given by:\n",
        "\n",
        "$$\\text{WA}=\\frac{a_1P_1+a_2 P_2+...+a_n P_n}{a_1+a_2+...+a_n}\\in [0,1]$$\n",
        "\n",
        "If WA is strictly greater than $0.5$, we define our prediction as $1$, otherwise as $0$."
      ],
      "metadata": {
        "id": "ZnRtEihqPYql"
      }
    },
    {
      "cell_type": "markdown",
      "source": [
        "We first collect the accuracy score of each model (SVM, logistic regression, KNN, Naive Bayes):"
      ],
      "metadata": {
        "id": "qGVFfxD7WmrB"
      }
    },
    {
      "cell_type": "code",
      "source": [
        "# Accuracy scores of all models\n",
        "\n",
        "a_svm = accuracy_score(Y_root_causes_test, svm_root_causes.predict(X_root_causes_test))\n",
        "a_log = accuracy_score(Y_root_causes_test, logistic_regression_root_causes.predict(X_root_causes_test))\n",
        "a_knn = accuracy_score(Y_root_causes_test, knn_root_causes.predict(X_root_causes_test))\n",
        "a_nb = accuracy_score(Y_root_causes_test, naive_Bayes_root_causes.predict(X_root_causes_test))"
      ],
      "metadata": {
        "id": "k5yWTtkVWCCZ"
      },
      "execution_count": null,
      "outputs": []
    },
    {
      "cell_type": "markdown",
      "source": [
        "Next we define the function ```predict```, which receives a 2D array containing root cause variables and returns either $1$ or $0$ using the wheighted average prediction strategy."
      ],
      "metadata": {
        "id": "t0ZuzSvJT2p2"
      }
    },
    {
      "cell_type": "code",
      "source": [
        "def predict(entries):\n",
        "  predictions = []\n",
        "\n",
        "  for entry in entries:\n",
        "\n",
        "    # Collect the predictions of each model\n",
        "    P_svm = svm_root_causes.predict(entry.reshape(1,-1))[0] \n",
        "    P_log = logistic_regression_root_causes.predict(entry.reshape(1,-1))[0]\n",
        "    P_knn = knn_root_causes.predict(entry.reshape(1,-1))[0]\n",
        "    P_nb = naive_Bayes_root_causes.predict(entry.reshape(1,-1))[0]\n",
        "\n",
        "    # Compute the wheighed average. \n",
        "    wheighted_average = (a_svm * P_svm + a_log * P_log + a_knn * P_knn + a_nb * P_nb)/(a_svm + a_log + a_knn + a_knn)\n",
        "\n",
        "    if wheighted_average > 0.5: \n",
        "      predictions.append(1)\n",
        "    else:\n",
        "      predictions.append(0)\n",
        "  \n",
        "  # Return the predictions in array format\n",
        "  return np.array(predictions)\n"
      ],
      "metadata": {
        "id": "0-JabKLGLvLD"
      },
      "execution_count": null,
      "outputs": []
    },
    {
      "cell_type": "markdown",
      "source": [
        "We now make predictions using the training set and compute the accuracy by comparing with the test set:"
      ],
      "metadata": {
        "id": "smCbkmcUUwXP"
      }
    },
    {
      "cell_type": "code",
      "source": [
        "predictions = predict(X_root_causes_test)"
      ],
      "metadata": {
        "id": "1M6ZfS7oNrk5"
      },
      "execution_count": null,
      "outputs": []
    },
    {
      "cell_type": "code",
      "source": [
        "accuracy_score(Y_root_causes_test, predictions)"
      ],
      "metadata": {
        "colab": {
          "base_uri": "https://localhost:8080/"
        },
        "id": "sHp0iUKAKv0n",
        "outputId": "74fd597c-6f8d-4690-c5ee-24d9e39c1f78"
      },
      "execution_count": null,
      "outputs": [
        {
          "output_type": "execute_result",
          "data": {
            "text/plain": [
              "0.96"
            ]
          },
          "metadata": {},
          "execution_count": 79
        }
      ]
    },
    {
      "cell_type": "markdown",
      "source": [
        "__Remark:__ The accuracy score is now higher than those of the previous models (whose higher accuracy was $95.5\\%$ for SVM)."
      ],
      "metadata": {
        "id": "5fP0WxigVKBC"
      }
    },
    {
      "cell_type": "markdown",
      "source": [
        "We now analyze the confusion matrix and the classification report of our model:"
      ],
      "metadata": {
        "id": "4nrajTVsYSSk"
      }
    },
    {
      "cell_type": "code",
      "source": [
        "confusion_matrix(Y_root_causes_test, predictions)"
      ],
      "metadata": {
        "id": "6umcDoZxIZnh",
        "colab": {
          "base_uri": "https://localhost:8080/"
        },
        "outputId": "fc9ba055-ab78-4b3d-b928-999233363c81"
      },
      "execution_count": null,
      "outputs": [
        {
          "output_type": "execute_result",
          "data": {
            "text/plain": [
              "array([[178,   3],\n",
              "       [  5,  14]])"
            ]
          },
          "metadata": {},
          "execution_count": 80
        }
      ]
    },
    {
      "cell_type": "code",
      "source": [
        "print(classification_report(Y_root_causes_test, predictions))"
      ],
      "metadata": {
        "colab": {
          "base_uri": "https://localhost:8080/"
        },
        "id": "D9uPpMEFIusb",
        "outputId": "1bd0b5eb-9a92-4b3b-906e-db89a49e829b"
      },
      "execution_count": null,
      "outputs": [
        {
          "output_type": "stream",
          "name": "stdout",
          "text": [
            "              precision    recall  f1-score   support\n",
            "\n",
            "           0       0.97      0.98      0.98       181\n",
            "           1       0.82      0.74      0.78        19\n",
            "\n",
            "    accuracy                           0.96       200\n",
            "   macro avg       0.90      0.86      0.88       200\n",
            "weighted avg       0.96      0.96      0.96       200\n",
            "\n"
          ]
        }
      ]
    },
    {
      "cell_type": "markdown",
      "source": [
        "__Final remarks:__ \n",
        "- If our main goal is to detect failures, we should observe that the most relevant measures for us are the precision ($82\\%$) and the recall ($74\\%$) associated to the detection of failures.\n",
        "- The fact that precision is larger than recall suggests that our model does not detect much of the failures, but is often right when it predicts one.  "
      ],
      "metadata": {
        "id": "l-ioMRsTaaso"
      }
    },
    {
      "cell_type": "markdown",
      "source": [
        "#Question 5"
      ],
      "metadata": {
        "id": "ZFPVr1HrXVsw"
      }
    },
    {
      "cell_type": "markdown",
      "source": [
        "- We measure the importance of the setup variables (```Preset_1```, ```Preset_2```) and the root cause variables (```Temperature```, ```Pressure``` etc.) in predicting equipment failure.\n",
        "- We do this by computing the covariance of each predictor variable and the variable ```Fail```.\n",
        "- The higher the covariance of a predictor variable and ```Fail``` (in absolute value), the higher we consider its importance."
      ],
      "metadata": {
        "id": "6MDfTZJS4vv1"
      }
    },
    {
      "cell_type": "markdown",
      "source": [
        "We define the dataframe ```df_variable_importance```, which is a copy of the initial dataframe ```df``` without the Cycle column (as ```Cycle``` is not regarded as a predictor):"
      ],
      "metadata": {
        "id": "BPa_ukr56uW5"
      }
    },
    {
      "cell_type": "code",
      "source": [
        "df_variable_importance = df.copy().drop(columns=['Cycle'])"
      ],
      "metadata": {
        "id": "a_3Z2NMCXaS_"
      },
      "execution_count": null,
      "outputs": []
    },
    {
      "cell_type": "markdown",
      "source": [
        "We convert the boolean values in the Fail column, so that all values in ```df_variable_importance``` become numerical:"
      ],
      "metadata": {
        "id": "hYXHIvoL74Re"
      }
    },
    {
      "cell_type": "code",
      "source": [
        "df_variable_importance['Fail'] = df_variable_importance['Fail'].astype(int)"
      ],
      "metadata": {
        "id": "-yR9kl5BnpeZ"
      },
      "execution_count": null,
      "outputs": []
    },
    {
      "cell_type": "markdown",
      "source": [
        "We scale the values of the dataframe using ```StandardScaler()```:"
      ],
      "metadata": {
        "id": "bOntU8Db8IwW"
      }
    },
    {
      "cell_type": "code",
      "source": [
        "stdsc = StandardScaler() \n",
        "df_variable_importance = stdsc.fit_transform(df_variable_importance)"
      ],
      "metadata": {
        "id": "sW2ajG6CqjUQ"
      },
      "execution_count": null,
      "outputs": []
    },
    {
      "cell_type": "markdown",
      "source": [
        "We plot the heatmap of the covariance matrix:"
      ],
      "metadata": {
        "id": "9apU0oJL8jXf"
      }
    },
    {
      "cell_type": "code",
      "source": [
        "cols = ['Preset_1', 'Preset_2', 'Temperature', 'Pressure', \n",
        "        'VibrationX', 'VibrationY', 'VibrationZ', 'Frequency', 'Fail'] # Predictors\n",
        "\n",
        "covariance_matrix = np.cov(df_variable_importance.T)\n",
        "\n",
        "plt.figure(figsize=(10,10)) # Figure scale\n",
        "sns.set(font_scale=1.5) # Font scale\n",
        "\n",
        "hm = sns.heatmap(covariance_matrix, # Setting the heatmap\n",
        "                 cbar=True,\n",
        "                 annot=True,\n",
        "                 square=True,\n",
        "                 fmt='.2f',\n",
        "                 annot_kws={'size': 12},\n",
        "                 cmap='coolwarm',                 \n",
        "                 yticklabels=cols,\n",
        "                 xticklabels=cols)\n",
        "\n",
        "plt.title('Covariance matrix', size = 18) # Title\n",
        "\n",
        "plt.tight_layout()\n",
        "plt.show()"
      ],
      "metadata": {
        "colab": {
          "base_uri": "https://localhost:8080/"
        },
        "id": "iiBEtxRKoEUW",
        "outputId": "0bfc7be4-7e26-44b8-cd13-e5669a8598e3"
      },
      "execution_count": null,
      "outputs": [
        {
          "output_type": "display_data",
          "data": {
            "text/plain": [
              "<Figure size 720x720 with 2 Axes>"
            ],
            "image/png": "[encoded data removed]"
          },
          "metadata": {
            "needs_background": "light"
          }
        }
      ]
    },
    {
      "cell_type": "markdown",
      "source": [
        "__Remarks__: \n",
        "- The covariance of each setup variable (```Preset_1```, ```Preset_2```) and ```Fail``` is at most $0.05$ in absolute value.\n",
        "- The covariance of each root cause variable (```Temerature```, ```Pressure``` etc.) and ```Fail``` ranges from $0.25$ to $0.46$ in absolute value.\n",
        "- We conclude that _the root cause variables are more significant than the setup variables_ in predicting equipment failure.\n",
        "- The importance of root cause variables is in the following order (high to low): ```VibrationY```, ```VibrationZ```, ```Pressure```, ```Frequency```, ```Temperature```, ```VibrationX```."
      ],
      "metadata": {
        "id": "dTJcoDgUqH_N"
      }
    },
    {
      "cell_type": "markdown",
      "source": [
        "#Final analysis"
      ],
      "metadata": {
        "id": "Bq4gBLGyXopl"
      }
    },
    {
      "cell_type": "markdown",
      "source": [
        "__Summary:__\n",
        "\n",
        "- We had the task of predicting equipment failure based on the equipment setup configuration and on physical parameters measured by sensors.\n",
        "- Our setup variables are ```Preset_1``` and ```Preset_2``` and our root cause variables are  ```Temperature```, ```Pressure```, ```VibrationX```, ```VibrationY```, ```VibrationZ``` and ```Frequency```.\n",
        "- In analyzing variable imortance, ```Preset_1```, ```Preset_2``` did not seem to be important as predictors of failure.\n",
        "- Indeed, the models none of models tested for setup variables were satisfactory.\n",
        "- On the other hand, the root cause variables showed to be more relevant in our analysis of variable importance.\n",
        "- Indeed, four out of five classical models we tested seemed promissing in predicting failure.\n",
        "- When combined, these four good models formed a new one, which showed to be more accurate than each of the four individually. \n",
        "- When analyzing the statistical measures (precision and recall), we have concluded that our final model is considerably reliable when it predicts a failure.\n",
        "\n",
        "__Final remarks:__\n",
        "- For simplicity, some observations we have made during data exploration were not contemplated in our final model.\n",
        "- For example, the fact that failures tend to occur in isolated sets of consecutive cycles.\n",
        "- This suggests that if failure occured in previous cycles, the present cycle has a greater chance of presenting failure. This could be explored in a further, more sofisticated model.\n",
        "- Another example is the fact that the configuration (Preset_1,Preset_2)=(3,4) seemed to be special in preventing failures. This hypothesis could be tested when dealing with a larger dataset. \n",
        "- The observation that ```Temperature``` and ```Frequency``` have smaller relative variation in the dataset could also be further investigated and possibly used as a criterion for feature selection."
      ],
      "metadata": {
        "id": "NLS99FZCXuFr"
      }
    }
  ]
}